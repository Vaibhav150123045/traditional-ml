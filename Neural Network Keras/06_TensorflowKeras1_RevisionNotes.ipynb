{
  "nbformat": 4,
  "nbformat_minor": 0,
  "metadata": {
    "colab": {
      "provenance": [],
      "toc_visible": true
    },
    "kernelspec": {
      "name": "python3",
      "display_name": "Python 3"
    },
    "language_info": {
      "name": "python"
    }
  },
  "cells": [
    {
      "cell_type": "code",
      "execution_count": null,
      "metadata": {
        "id": "uffFbG-dpdww"
      },
      "outputs": [],
      "source": []
    },
    {
      "cell_type": "markdown",
      "metadata": {
        "id": "LohQ1aS_eMSF"
      },
      "source": [
        "## Outline\n",
        "\n",
        "\n",
        "\n",
        "\n",
        "\n",
        "\n",
        "\n",
        "\n",
        "\n"
      ]
    },
    {
      "cell_type": "markdown",
      "metadata": {
        "id": "gj2yqJOF07Y0"
      },
      "source": [
        "- Business-case introduction - Healthyfi.me\n",
        "- Basic EDA\n",
        "- Tensorflow documentation overview\n",
        "- tf.keras overview\n",
        "- Keras Sequential API\n",
        "- Dense Layer\n",
        "  1.   Input shape\n",
        "  2.   Activation function\n",
        "  \n",
        "  3.   Custom layer name\n",
        "  \n",
        "- Methods for sequential model\n",
        "  - model.add\n",
        "  - model.weights\n",
        "  - model.summary\n",
        "  - Parameter Initialisation\n",
        "- Model Compilation\n",
        "  1.   Loss\n",
        "  \n",
        "  2.   Optimiser\n",
        "  3.   Metrics\n",
        "  \n",
        "- Model Training\n",
        "  1. X_train, y_train\n",
        "  2. epochs\n",
        "  3. batch_size\n",
        "  4. validation_split\n",
        "  5. validation_data\n",
        "- history\n",
        "  1. verbose\n",
        "  2. history object attributes\n",
        "  3. Loss and Accuracy Curve\n"
      ]
    },
    {
      "cell_type": "markdown",
      "metadata": {
        "id": "kP7ec0pUeg3s"
      },
      "source": [
        "## Business-use case"
      ]
    },
    {
      "cell_type": "markdown",
      "metadata": {
        "id": "Fz5_CzwK7cHS"
      },
      "source": [
        "\n",
        "#### You are a Data Scientist working for Healthyfi.me\n",
        "\n",
        "Healthyfi.me has labelled it's customers based on the highest intensity of work they could perform - A, B, C and D\n",
        "\n",
        "#### Task: Given a new customer, help Healthyfi.me in recommending  customised workout plans by predicting customer's class\n",
        "\n",
        "\n"
      ]
    },
    {
      "cell_type": "markdown",
      "metadata": {
        "id": "ktg37f6t0USV"
      },
      "source": [
        "## Data Acquisition"
      ]
    },
    {
      "cell_type": "code",
      "execution_count": null,
      "metadata": {
        "id": "jl6MWHBU6f8T"
      },
      "outputs": [],
      "source": [
        "import pandas as pd\n",
        "import numpy as np\n",
        "import matplotlib.pyplot as plt\n",
        "import seaborn as sns\n",
        "import sklearn"
      ]
    },
    {
      "cell_type": "markdown",
      "metadata": {
        "id": "J4DJtTjsdsJR"
      },
      "source": [
        "- Lets first download the HealthyfiMe dataset."
      ]
    },
    {
      "cell_type": "code",
      "execution_count": null,
      "metadata": {
        "colab": {
          "base_uri": "https://localhost:8080/"
        },
        "id": "ZwnFG6dv65q6",
        "outputId": "0e27d246-a9c9-42e6-c84f-2ef95fbaf40d"
      },
      "outputs": [
        {
          "name": "stdout",
          "output_type": "stream",
          "text": [
            "--2023-07-14 03:03:23--  https://drive.google.com/uc?export=download&id=1GVhrh2rH6hUunV4Tf7lQoSFsqov9aPjU\n",
            "Resolving drive.google.com (drive.google.com)... 142.251.163.102, 142.251.163.138, 142.251.163.100, ...\n",
            "Connecting to drive.google.com (drive.google.com)|142.251.163.102|:443... connected.\n",
            "HTTP request sent, awaiting response... 303 See Other\n",
            "Location: https://doc-0s-50-docs.googleusercontent.com/docs/securesc/ha0ro937gcuc7l7deffksulhg5h7mbp1/t80ssr8fu0p79ev54vg2jnoov5gu6vi4/1689303750000/01388099838663554274/*/1GVhrh2rH6hUunV4Tf7lQoSFsqov9aPjU?e=download&uuid=c7de543f-e6c0-47d8-b758-ad8763adb4da [following]\n",
            "Warning: wildcards not supported in HTTP.\n",
            "--2023-07-14 03:03:24--  https://doc-0s-50-docs.googleusercontent.com/docs/securesc/ha0ro937gcuc7l7deffksulhg5h7mbp1/t80ssr8fu0p79ev54vg2jnoov5gu6vi4/1689303750000/01388099838663554274/*/1GVhrh2rH6hUunV4Tf7lQoSFsqov9aPjU?e=download&uuid=c7de543f-e6c0-47d8-b758-ad8763adb4da\n",
            "Resolving doc-0s-50-docs.googleusercontent.com (doc-0s-50-docs.googleusercontent.com)... 142.251.16.132, 2607:f8b0:4004:c17::84\n",
            "Connecting to doc-0s-50-docs.googleusercontent.com (doc-0s-50-docs.googleusercontent.com)|142.251.16.132|:443... connected.\n",
            "HTTP request sent, awaiting response... 200 OK\n",
            "Length: 761835 (744K) [text/csv]\n",
            "Saving to: ‘healthyfime.csv’\n",
            "\n",
            "healthyfime.csv     100%[===================>] 743.98K  --.-KB/s    in 0.04s   \n",
            "\n",
            "2023-07-14 03:03:24 (17.9 MB/s) - ‘healthyfime.csv’ saved [761835/761835]\n",
            "\n"
          ]
        }
      ],
      "source": [
        "!wget \"https://drive.google.com/uc?export=download&id=1GVhrh2rH6hUunV4Tf7lQoSFsqov9aPjU\" -O healthyfime.csv"
      ]
    },
    {
      "cell_type": "markdown",
      "metadata": {
        "id": "5sCMjedLT75t"
      },
      "source": [
        "**Data Description:**\n",
        "\n",
        "\n",
        "| Id | Features | Description |\n",
        "| :-- | :--| :--|\n",
        "|01| **age** | age of the customer|\n",
        "|02| **gender** | gender of the customer (M/F)|\n",
        "|03|**height_cm**|height of the customer in cm|\n",
        "|04|**weight_kg**|weight of the customer in kg|\n",
        "|05|**body_fat_%**| % of fat in customer's body|\n",
        "|06|**diastolic**|diastolic blood pressure, measures the pressure in your arteries when your heart rests between beats|\n",
        "|07|**systolic**|systolic blood pressure, measures the pressure in your arteries when your heart beats|\n",
        "|08|**gripForce**|strength of customer's grip|\n",
        "|09|**sit and bend forward_cm**|to measure flexibility of customer|\n",
        "|10|**sit-ups counts**|count of sit-ups customer can perform|\n",
        "|11|**broad jump_cm**|It is the max jump customer can perform in cm|\n",
        "|12|**class**|Category of customer based on the intensity of workout|"
      ]
    },
    {
      "cell_type": "code",
      "execution_count": null,
      "metadata": {
        "colab": {
          "base_uri": "https://localhost:8080/",
          "height": 285
        },
        "id": "8hw_Qcgq6gGH",
        "outputId": "e3598c42-7e44-4083-b7b3-920873bb856c"
      },
      "outputs": [
        {
          "data": {
            "text/html": [
              "\n",
              "\n",
              "  <div id=\"df-4196e354-c92a-4f9c-a404-5405ea86f5d8\">\n",
              "    <div class=\"colab-df-container\">\n",
              "      <div>\n",
              "<style scoped>\n",
              "    .dataframe tbody tr th:only-of-type {\n",
              "        vertical-align: middle;\n",
              "    }\n",
              "\n",
              "    .dataframe tbody tr th {\n",
              "        vertical-align: top;\n",
              "    }\n",
              "\n",
              "    .dataframe thead th {\n",
              "        text-align: right;\n",
              "    }\n",
              "</style>\n",
              "<table border=\"1\" class=\"dataframe\">\n",
              "  <thead>\n",
              "    <tr style=\"text-align: right;\">\n",
              "      <th></th>\n",
              "      <th>age</th>\n",
              "      <th>gender</th>\n",
              "      <th>height_cm</th>\n",
              "      <th>weight_kg</th>\n",
              "      <th>body fat_%</th>\n",
              "      <th>diastolic</th>\n",
              "      <th>systolic</th>\n",
              "      <th>gripForce</th>\n",
              "      <th>sit and bend forward_cm</th>\n",
              "      <th>sit-ups counts</th>\n",
              "      <th>broad jump_cm</th>\n",
              "      <th>class</th>\n",
              "    </tr>\n",
              "  </thead>\n",
              "  <tbody>\n",
              "    <tr>\n",
              "      <th>0</th>\n",
              "      <td>27.0</td>\n",
              "      <td>M</td>\n",
              "      <td>172.3</td>\n",
              "      <td>75.24</td>\n",
              "      <td>21.3</td>\n",
              "      <td>80.0</td>\n",
              "      <td>130.0</td>\n",
              "      <td>54.9</td>\n",
              "      <td>18.4</td>\n",
              "      <td>60.0</td>\n",
              "      <td>217.0</td>\n",
              "      <td>C</td>\n",
              "    </tr>\n",
              "    <tr>\n",
              "      <th>1</th>\n",
              "      <td>25.0</td>\n",
              "      <td>M</td>\n",
              "      <td>165.0</td>\n",
              "      <td>55.80</td>\n",
              "      <td>15.7</td>\n",
              "      <td>77.0</td>\n",
              "      <td>126.0</td>\n",
              "      <td>36.4</td>\n",
              "      <td>16.3</td>\n",
              "      <td>53.0</td>\n",
              "      <td>229.0</td>\n",
              "      <td>A</td>\n",
              "    </tr>\n",
              "    <tr>\n",
              "      <th>2</th>\n",
              "      <td>31.0</td>\n",
              "      <td>M</td>\n",
              "      <td>179.6</td>\n",
              "      <td>78.00</td>\n",
              "      <td>20.1</td>\n",
              "      <td>92.0</td>\n",
              "      <td>152.0</td>\n",
              "      <td>44.8</td>\n",
              "      <td>12.0</td>\n",
              "      <td>49.0</td>\n",
              "      <td>181.0</td>\n",
              "      <td>C</td>\n",
              "    </tr>\n",
              "    <tr>\n",
              "      <th>3</th>\n",
              "      <td>32.0</td>\n",
              "      <td>M</td>\n",
              "      <td>174.5</td>\n",
              "      <td>71.10</td>\n",
              "      <td>18.4</td>\n",
              "      <td>76.0</td>\n",
              "      <td>147.0</td>\n",
              "      <td>41.4</td>\n",
              "      <td>15.2</td>\n",
              "      <td>53.0</td>\n",
              "      <td>219.0</td>\n",
              "      <td>B</td>\n",
              "    </tr>\n",
              "    <tr>\n",
              "      <th>4</th>\n",
              "      <td>28.0</td>\n",
              "      <td>M</td>\n",
              "      <td>173.8</td>\n",
              "      <td>67.70</td>\n",
              "      <td>17.1</td>\n",
              "      <td>70.0</td>\n",
              "      <td>127.0</td>\n",
              "      <td>43.5</td>\n",
              "      <td>27.1</td>\n",
              "      <td>45.0</td>\n",
              "      <td>217.0</td>\n",
              "      <td>B</td>\n",
              "    </tr>\n",
              "  </tbody>\n",
              "</table>\n",
              "</div>\n",
              "      <button class=\"colab-df-convert\" onclick=\"convertToInteractive('df-4196e354-c92a-4f9c-a404-5405ea86f5d8')\"\n",
              "              title=\"Convert this dataframe to an interactive table.\"\n",
              "              style=\"display:none;\">\n",
              "\n",
              "  <svg xmlns=\"http://www.w3.org/2000/svg\" height=\"24px\"viewBox=\"0 0 24 24\"\n",
              "       width=\"24px\">\n",
              "    <path d=\"M0 0h24v24H0V0z\" fill=\"none\"/>\n",
              "    <path d=\"M18.56 5.44l.94 2.06.94-2.06 2.06-.94-2.06-.94-.94-2.06-.94 2.06-2.06.94zm-11 1L8.5 8.5l.94-2.06 2.06-.94-2.06-.94L8.5 2.5l-.94 2.06-2.06.94zm10 10l.94 2.06.94-2.06 2.06-.94-2.06-.94-.94-2.06-.94 2.06-2.06.94z\"/><path d=\"M17.41 7.96l-1.37-1.37c-.4-.4-.92-.59-1.43-.59-.52 0-1.04.2-1.43.59L10.3 9.45l-7.72 7.72c-.78.78-.78 2.05 0 2.83L4 21.41c.39.39.9.59 1.41.59.51 0 1.02-.2 1.41-.59l7.78-7.78 2.81-2.81c.8-.78.8-2.07 0-2.86zM5.41 20L4 18.59l7.72-7.72 1.47 1.35L5.41 20z\"/>\n",
              "  </svg>\n",
              "      </button>\n",
              "\n",
              "\n",
              "\n",
              "    <div id=\"df-bcc04262-aea6-452a-bf89-b865e717c7de\">\n",
              "      <button class=\"colab-df-quickchart\" onclick=\"quickchart('df-bcc04262-aea6-452a-bf89-b865e717c7de')\"\n",
              "              title=\"Suggest charts.\"\n",
              "              style=\"display:none;\">\n",
              "\n",
              "<svg xmlns=\"http://www.w3.org/2000/svg\" height=\"24px\"viewBox=\"0 0 24 24\"\n",
              "     width=\"24px\">\n",
              "    <g>\n",
              "        <path d=\"M19 3H5c-1.1 0-2 .9-2 2v14c0 1.1.9 2 2 2h14c1.1 0 2-.9 2-2V5c0-1.1-.9-2-2-2zM9 17H7v-7h2v7zm4 0h-2V7h2v10zm4 0h-2v-4h2v4z\"/>\n",
              "    </g>\n",
              "</svg>\n",
              "      </button>\n",
              "    </div>\n",
              "\n",
              "<style>\n",
              "  .colab-df-quickchart {\n",
              "    background-color: #E8F0FE;\n",
              "    border: none;\n",
              "    border-radius: 50%;\n",
              "    cursor: pointer;\n",
              "    display: none;\n",
              "    fill: #1967D2;\n",
              "    height: 32px;\n",
              "    padding: 0 0 0 0;\n",
              "    width: 32px;\n",
              "  }\n",
              "\n",
              "  .colab-df-quickchart:hover {\n",
              "    background-color: #E2EBFA;\n",
              "    box-shadow: 0px 1px 2px rgba(60, 64, 67, 0.3), 0px 1px 3px 1px rgba(60, 64, 67, 0.15);\n",
              "    fill: #174EA6;\n",
              "  }\n",
              "\n",
              "  [theme=dark] .colab-df-quickchart {\n",
              "    background-color: #3B4455;\n",
              "    fill: #D2E3FC;\n",
              "  }\n",
              "\n",
              "  [theme=dark] .colab-df-quickchart:hover {\n",
              "    background-color: #434B5C;\n",
              "    box-shadow: 0px 1px 3px 1px rgba(0, 0, 0, 0.15);\n",
              "    filter: drop-shadow(0px 1px 2px rgba(0, 0, 0, 0.3));\n",
              "    fill: #FFFFFF;\n",
              "  }\n",
              "</style>\n",
              "\n",
              "    <script>\n",
              "      async function quickchart(key) {\n",
              "        const containerElement = document.querySelector('#' + key);\n",
              "        const charts = await google.colab.kernel.invokeFunction(\n",
              "            'suggestCharts', [key], {});\n",
              "      }\n",
              "    </script>\n",
              "\n",
              "      <script>\n",
              "\n",
              "function displayQuickchartButton(domScope) {\n",
              "  let quickchartButtonEl =\n",
              "    domScope.querySelector('#df-bcc04262-aea6-452a-bf89-b865e717c7de button.colab-df-quickchart');\n",
              "  quickchartButtonEl.style.display =\n",
              "    google.colab.kernel.accessAllowed ? 'block' : 'none';\n",
              "}\n",
              "\n",
              "        displayQuickchartButton(document);\n",
              "      </script>\n",
              "      <style>\n",
              "    .colab-df-container {\n",
              "      display:flex;\n",
              "      flex-wrap:wrap;\n",
              "      gap: 12px;\n",
              "    }\n",
              "\n",
              "    .colab-df-convert {\n",
              "      background-color: #E8F0FE;\n",
              "      border: none;\n",
              "      border-radius: 50%;\n",
              "      cursor: pointer;\n",
              "      display: none;\n",
              "      fill: #1967D2;\n",
              "      height: 32px;\n",
              "      padding: 0 0 0 0;\n",
              "      width: 32px;\n",
              "    }\n",
              "\n",
              "    .colab-df-convert:hover {\n",
              "      background-color: #E2EBFA;\n",
              "      box-shadow: 0px 1px 2px rgba(60, 64, 67, 0.3), 0px 1px 3px 1px rgba(60, 64, 67, 0.15);\n",
              "      fill: #174EA6;\n",
              "    }\n",
              "\n",
              "    [theme=dark] .colab-df-convert {\n",
              "      background-color: #3B4455;\n",
              "      fill: #D2E3FC;\n",
              "    }\n",
              "\n",
              "    [theme=dark] .colab-df-convert:hover {\n",
              "      background-color: #434B5C;\n",
              "      box-shadow: 0px 1px 3px 1px rgba(0, 0, 0, 0.15);\n",
              "      filter: drop-shadow(0px 1px 2px rgba(0, 0, 0, 0.3));\n",
              "      fill: #FFFFFF;\n",
              "    }\n",
              "  </style>\n",
              "\n",
              "      <script>\n",
              "        const buttonEl =\n",
              "          document.querySelector('#df-4196e354-c92a-4f9c-a404-5405ea86f5d8 button.colab-df-convert');\n",
              "        buttonEl.style.display =\n",
              "          google.colab.kernel.accessAllowed ? 'block' : 'none';\n",
              "\n",
              "        async function convertToInteractive(key) {\n",
              "          const element = document.querySelector('#df-4196e354-c92a-4f9c-a404-5405ea86f5d8');\n",
              "          const dataTable =\n",
              "            await google.colab.kernel.invokeFunction('convertToInteractive',\n",
              "                                                     [key], {});\n",
              "          if (!dataTable) return;\n",
              "\n",
              "          const docLinkHtml = 'Like what you see? Visit the ' +\n",
              "            '<a target=\"_blank\" href=https://colab.research.google.com/notebooks/data_table.ipynb>data table notebook</a>'\n",
              "            + ' to learn more about interactive tables.';\n",
              "          element.innerHTML = '';\n",
              "          dataTable['output_type'] = 'display_data';\n",
              "          await google.colab.output.renderOutput(dataTable, element);\n",
              "          const docLink = document.createElement('div');\n",
              "          docLink.innerHTML = docLinkHtml;\n",
              "          element.appendChild(docLink);\n",
              "        }\n",
              "      </script>\n",
              "    </div>\n",
              "  </div>\n"
            ],
            "text/plain": [
              "    age gender  height_cm  weight_kg  body fat_%  diastolic  systolic  \\\n",
              "0  27.0      M      172.3      75.24        21.3       80.0     130.0   \n",
              "1  25.0      M      165.0      55.80        15.7       77.0     126.0   \n",
              "2  31.0      M      179.6      78.00        20.1       92.0     152.0   \n",
              "3  32.0      M      174.5      71.10        18.4       76.0     147.0   \n",
              "4  28.0      M      173.8      67.70        17.1       70.0     127.0   \n",
              "\n",
              "   gripForce  sit and bend forward_cm  sit-ups counts  broad jump_cm class  \n",
              "0       54.9                     18.4            60.0          217.0     C  \n",
              "1       36.4                     16.3            53.0          229.0     A  \n",
              "2       44.8                     12.0            49.0          181.0     C  \n",
              "3       41.4                     15.2            53.0          219.0     B  \n",
              "4       43.5                     27.1            45.0          217.0     B  "
            ]
          },
          "execution_count": 3,
          "metadata": {},
          "output_type": "execute_result"
        }
      ],
      "source": [
        "df = pd.read_csv(\"healthyfime.csv\")\n",
        "df.head()"
      ]
    },
    {
      "cell_type": "markdown",
      "metadata": {
        "id": "zGKh7tjdk6zM"
      },
      "source": [
        "**From the above snippet of data, we can have the following observations:**\n",
        "- Data has an age column which is definitely required because we need to know what the person's age is in order to predict the class of highest intensity of workout.\n",
        "- Data has features like 'gender', 'height', 'weight', 'diastolic', etc which we need to know before predicting the workout intensity because think about it we can not predict high intensity workout for a candidate with high blood pressure.\n",
        "- And in the end there is a class variable where the intensity of workout is encoded to A, B, C and D"
      ]
    },
    {
      "cell_type": "code",
      "execution_count": null,
      "metadata": {
        "colab": {
          "base_uri": "https://localhost:8080/"
        },
        "id": "JO1EFNet80P5",
        "outputId": "bd4e7c76-6487-4008-eae9-455f213b4c66"
      },
      "outputs": [
        {
          "name": "stdout",
          "output_type": "stream",
          "text": [
            "<class 'pandas.core.frame.DataFrame'>\n",
            "RangeIndex: 13393 entries, 0 to 13392\n",
            "Data columns (total 12 columns):\n",
            " #   Column                   Non-Null Count  Dtype  \n",
            "---  ------                   --------------  -----  \n",
            " 0   age                      13393 non-null  float64\n",
            " 1   gender                   13393 non-null  object \n",
            " 2   height_cm                13393 non-null  float64\n",
            " 3   weight_kg                13393 non-null  float64\n",
            " 4   body fat_%               13393 non-null  float64\n",
            " 5   diastolic                13393 non-null  float64\n",
            " 6   systolic                 13393 non-null  float64\n",
            " 7   gripForce                13393 non-null  float64\n",
            " 8   sit and bend forward_cm  13393 non-null  float64\n",
            " 9   sit-ups counts           13393 non-null  float64\n",
            " 10  broad jump_cm            13393 non-null  float64\n",
            " 11  class                    13393 non-null  object \n",
            "dtypes: float64(10), object(2)\n",
            "memory usage: 1.2+ MB\n"
          ]
        }
      ],
      "source": [
        "df.info()"
      ]
    },
    {
      "cell_type": "markdown",
      "metadata": {
        "id": "vkIqeIH2phH7"
      },
      "source": [
        "####Quiz-1\n",
        "```\n",
        "Which observation from the info() of the dataset is correct?\n",
        "a. There are null values in the dataset.\n",
        "b. All features consist of numerical values.\n",
        "c. Some features consist of non-numerical values.\n",
        "```\n",
        "Answer: c"
      ]
    },
    {
      "cell_type": "markdown",
      "metadata": {
        "id": "MK1l4xiwBG6Z"
      },
      "source": [
        "## EDA\n",
        "\n"
      ]
    },
    {
      "cell_type": "markdown",
      "metadata": {
        "id": "S3g8y-3ABRl3"
      },
      "source": [
        "- Gender has two levels, and class have 4 levels.\n",
        "- We can easily convert `Gender` to 0/1 labels.\n",
        "- Since `class` variable is ordinal, we can also replace it with 0, 1, 2, 3. - Can easily use NN."
      ]
    },
    {
      "cell_type": "code",
      "execution_count": null,
      "metadata": {
        "colab": {
          "base_uri": "https://localhost:8080/",
          "height": 285
        },
        "id": "xpHoXbHM80Ym",
        "outputId": "0e14f626-e5e6-4ecc-b5da-6b667c4334f7"
      },
      "outputs": [
        {
          "data": {
            "text/html": [
              "\n",
              "\n",
              "  <div id=\"df-600d02b8-b80b-4477-8757-174d24edf952\">\n",
              "    <div class=\"colab-df-container\">\n",
              "      <div>\n",
              "<style scoped>\n",
              "    .dataframe tbody tr th:only-of-type {\n",
              "        vertical-align: middle;\n",
              "    }\n",
              "\n",
              "    .dataframe tbody tr th {\n",
              "        vertical-align: top;\n",
              "    }\n",
              "\n",
              "    .dataframe thead th {\n",
              "        text-align: right;\n",
              "    }\n",
              "</style>\n",
              "<table border=\"1\" class=\"dataframe\">\n",
              "  <thead>\n",
              "    <tr style=\"text-align: right;\">\n",
              "      <th></th>\n",
              "      <th>age</th>\n",
              "      <th>gender</th>\n",
              "      <th>height_cm</th>\n",
              "      <th>weight_kg</th>\n",
              "      <th>body fat_%</th>\n",
              "      <th>diastolic</th>\n",
              "      <th>systolic</th>\n",
              "      <th>gripForce</th>\n",
              "      <th>sit and bend forward_cm</th>\n",
              "      <th>sit-ups counts</th>\n",
              "      <th>broad jump_cm</th>\n",
              "      <th>class</th>\n",
              "    </tr>\n",
              "  </thead>\n",
              "  <tbody>\n",
              "    <tr>\n",
              "      <th>0</th>\n",
              "      <td>27.0</td>\n",
              "      <td>0</td>\n",
              "      <td>172.3</td>\n",
              "      <td>75.24</td>\n",
              "      <td>21.3</td>\n",
              "      <td>80.0</td>\n",
              "      <td>130.0</td>\n",
              "      <td>54.9</td>\n",
              "      <td>18.4</td>\n",
              "      <td>60.0</td>\n",
              "      <td>217.0</td>\n",
              "      <td>C</td>\n",
              "    </tr>\n",
              "    <tr>\n",
              "      <th>1</th>\n",
              "      <td>25.0</td>\n",
              "      <td>0</td>\n",
              "      <td>165.0</td>\n",
              "      <td>55.80</td>\n",
              "      <td>15.7</td>\n",
              "      <td>77.0</td>\n",
              "      <td>126.0</td>\n",
              "      <td>36.4</td>\n",
              "      <td>16.3</td>\n",
              "      <td>53.0</td>\n",
              "      <td>229.0</td>\n",
              "      <td>A</td>\n",
              "    </tr>\n",
              "    <tr>\n",
              "      <th>2</th>\n",
              "      <td>31.0</td>\n",
              "      <td>0</td>\n",
              "      <td>179.6</td>\n",
              "      <td>78.00</td>\n",
              "      <td>20.1</td>\n",
              "      <td>92.0</td>\n",
              "      <td>152.0</td>\n",
              "      <td>44.8</td>\n",
              "      <td>12.0</td>\n",
              "      <td>49.0</td>\n",
              "      <td>181.0</td>\n",
              "      <td>C</td>\n",
              "    </tr>\n",
              "    <tr>\n",
              "      <th>3</th>\n",
              "      <td>32.0</td>\n",
              "      <td>0</td>\n",
              "      <td>174.5</td>\n",
              "      <td>71.10</td>\n",
              "      <td>18.4</td>\n",
              "      <td>76.0</td>\n",
              "      <td>147.0</td>\n",
              "      <td>41.4</td>\n",
              "      <td>15.2</td>\n",
              "      <td>53.0</td>\n",
              "      <td>219.0</td>\n",
              "      <td>B</td>\n",
              "    </tr>\n",
              "    <tr>\n",
              "      <th>4</th>\n",
              "      <td>28.0</td>\n",
              "      <td>0</td>\n",
              "      <td>173.8</td>\n",
              "      <td>67.70</td>\n",
              "      <td>17.1</td>\n",
              "      <td>70.0</td>\n",
              "      <td>127.0</td>\n",
              "      <td>43.5</td>\n",
              "      <td>27.1</td>\n",
              "      <td>45.0</td>\n",
              "      <td>217.0</td>\n",
              "      <td>B</td>\n",
              "    </tr>\n",
              "  </tbody>\n",
              "</table>\n",
              "</div>\n",
              "      <button class=\"colab-df-convert\" onclick=\"convertToInteractive('df-600d02b8-b80b-4477-8757-174d24edf952')\"\n",
              "              title=\"Convert this dataframe to an interactive table.\"\n",
              "              style=\"display:none;\">\n",
              "\n",
              "  <svg xmlns=\"http://www.w3.org/2000/svg\" height=\"24px\"viewBox=\"0 0 24 24\"\n",
              "       width=\"24px\">\n",
              "    <path d=\"M0 0h24v24H0V0z\" fill=\"none\"/>\n",
              "    <path d=\"M18.56 5.44l.94 2.06.94-2.06 2.06-.94-2.06-.94-.94-2.06-.94 2.06-2.06.94zm-11 1L8.5 8.5l.94-2.06 2.06-.94-2.06-.94L8.5 2.5l-.94 2.06-2.06.94zm10 10l.94 2.06.94-2.06 2.06-.94-2.06-.94-.94-2.06-.94 2.06-2.06.94z\"/><path d=\"M17.41 7.96l-1.37-1.37c-.4-.4-.92-.59-1.43-.59-.52 0-1.04.2-1.43.59L10.3 9.45l-7.72 7.72c-.78.78-.78 2.05 0 2.83L4 21.41c.39.39.9.59 1.41.59.51 0 1.02-.2 1.41-.59l7.78-7.78 2.81-2.81c.8-.78.8-2.07 0-2.86zM5.41 20L4 18.59l7.72-7.72 1.47 1.35L5.41 20z\"/>\n",
              "  </svg>\n",
              "      </button>\n",
              "\n",
              "\n",
              "\n",
              "    <div id=\"df-ca25e7c1-3d9b-401e-bfc0-c34c5695640b\">\n",
              "      <button class=\"colab-df-quickchart\" onclick=\"quickchart('df-ca25e7c1-3d9b-401e-bfc0-c34c5695640b')\"\n",
              "              title=\"Suggest charts.\"\n",
              "              style=\"display:none;\">\n",
              "\n",
              "<svg xmlns=\"http://www.w3.org/2000/svg\" height=\"24px\"viewBox=\"0 0 24 24\"\n",
              "     width=\"24px\">\n",
              "    <g>\n",
              "        <path d=\"M19 3H5c-1.1 0-2 .9-2 2v14c0 1.1.9 2 2 2h14c1.1 0 2-.9 2-2V5c0-1.1-.9-2-2-2zM9 17H7v-7h2v7zm4 0h-2V7h2v10zm4 0h-2v-4h2v4z\"/>\n",
              "    </g>\n",
              "</svg>\n",
              "      </button>\n",
              "    </div>\n",
              "\n",
              "<style>\n",
              "  .colab-df-quickchart {\n",
              "    background-color: #E8F0FE;\n",
              "    border: none;\n",
              "    border-radius: 50%;\n",
              "    cursor: pointer;\n",
              "    display: none;\n",
              "    fill: #1967D2;\n",
              "    height: 32px;\n",
              "    padding: 0 0 0 0;\n",
              "    width: 32px;\n",
              "  }\n",
              "\n",
              "  .colab-df-quickchart:hover {\n",
              "    background-color: #E2EBFA;\n",
              "    box-shadow: 0px 1px 2px rgba(60, 64, 67, 0.3), 0px 1px 3px 1px rgba(60, 64, 67, 0.15);\n",
              "    fill: #174EA6;\n",
              "  }\n",
              "\n",
              "  [theme=dark] .colab-df-quickchart {\n",
              "    background-color: #3B4455;\n",
              "    fill: #D2E3FC;\n",
              "  }\n",
              "\n",
              "  [theme=dark] .colab-df-quickchart:hover {\n",
              "    background-color: #434B5C;\n",
              "    box-shadow: 0px 1px 3px 1px rgba(0, 0, 0, 0.15);\n",
              "    filter: drop-shadow(0px 1px 2px rgba(0, 0, 0, 0.3));\n",
              "    fill: #FFFFFF;\n",
              "  }\n",
              "</style>\n",
              "\n",
              "    <script>\n",
              "      async function quickchart(key) {\n",
              "        const containerElement = document.querySelector('#' + key);\n",
              "        const charts = await google.colab.kernel.invokeFunction(\n",
              "            'suggestCharts', [key], {});\n",
              "      }\n",
              "    </script>\n",
              "\n",
              "      <script>\n",
              "\n",
              "function displayQuickchartButton(domScope) {\n",
              "  let quickchartButtonEl =\n",
              "    domScope.querySelector('#df-ca25e7c1-3d9b-401e-bfc0-c34c5695640b button.colab-df-quickchart');\n",
              "  quickchartButtonEl.style.display =\n",
              "    google.colab.kernel.accessAllowed ? 'block' : 'none';\n",
              "}\n",
              "\n",
              "        displayQuickchartButton(document);\n",
              "      </script>\n",
              "      <style>\n",
              "    .colab-df-container {\n",
              "      display:flex;\n",
              "      flex-wrap:wrap;\n",
              "      gap: 12px;\n",
              "    }\n",
              "\n",
              "    .colab-df-convert {\n",
              "      background-color: #E8F0FE;\n",
              "      border: none;\n",
              "      border-radius: 50%;\n",
              "      cursor: pointer;\n",
              "      display: none;\n",
              "      fill: #1967D2;\n",
              "      height: 32px;\n",
              "      padding: 0 0 0 0;\n",
              "      width: 32px;\n",
              "    }\n",
              "\n",
              "    .colab-df-convert:hover {\n",
              "      background-color: #E2EBFA;\n",
              "      box-shadow: 0px 1px 2px rgba(60, 64, 67, 0.3), 0px 1px 3px 1px rgba(60, 64, 67, 0.15);\n",
              "      fill: #174EA6;\n",
              "    }\n",
              "\n",
              "    [theme=dark] .colab-df-convert {\n",
              "      background-color: #3B4455;\n",
              "      fill: #D2E3FC;\n",
              "    }\n",
              "\n",
              "    [theme=dark] .colab-df-convert:hover {\n",
              "      background-color: #434B5C;\n",
              "      box-shadow: 0px 1px 3px 1px rgba(0, 0, 0, 0.15);\n",
              "      filter: drop-shadow(0px 1px 2px rgba(0, 0, 0, 0.3));\n",
              "      fill: #FFFFFF;\n",
              "    }\n",
              "  </style>\n",
              "\n",
              "      <script>\n",
              "        const buttonEl =\n",
              "          document.querySelector('#df-600d02b8-b80b-4477-8757-174d24edf952 button.colab-df-convert');\n",
              "        buttonEl.style.display =\n",
              "          google.colab.kernel.accessAllowed ? 'block' : 'none';\n",
              "\n",
              "        async function convertToInteractive(key) {\n",
              "          const element = document.querySelector('#df-600d02b8-b80b-4477-8757-174d24edf952');\n",
              "          const dataTable =\n",
              "            await google.colab.kernel.invokeFunction('convertToInteractive',\n",
              "                                                     [key], {});\n",
              "          if (!dataTable) return;\n",
              "\n",
              "          const docLinkHtml = 'Like what you see? Visit the ' +\n",
              "            '<a target=\"_blank\" href=https://colab.research.google.com/notebooks/data_table.ipynb>data table notebook</a>'\n",
              "            + ' to learn more about interactive tables.';\n",
              "          element.innerHTML = '';\n",
              "          dataTable['output_type'] = 'display_data';\n",
              "          await google.colab.output.renderOutput(dataTable, element);\n",
              "          const docLink = document.createElement('div');\n",
              "          docLink.innerHTML = docLinkHtml;\n",
              "          element.appendChild(docLink);\n",
              "        }\n",
              "      </script>\n",
              "    </div>\n",
              "  </div>\n"
            ],
            "text/plain": [
              "    age  gender  height_cm  weight_kg  body fat_%  diastolic  systolic  \\\n",
              "0  27.0       0      172.3      75.24        21.3       80.0     130.0   \n",
              "1  25.0       0      165.0      55.80        15.7       77.0     126.0   \n",
              "2  31.0       0      179.6      78.00        20.1       92.0     152.0   \n",
              "3  32.0       0      174.5      71.10        18.4       76.0     147.0   \n",
              "4  28.0       0      173.8      67.70        17.1       70.0     127.0   \n",
              "\n",
              "   gripForce  sit and bend forward_cm  sit-ups counts  broad jump_cm class  \n",
              "0       54.9                     18.4            60.0          217.0     C  \n",
              "1       36.4                     16.3            53.0          229.0     A  \n",
              "2       44.8                     12.0            49.0          181.0     C  \n",
              "3       41.4                     15.2            53.0          219.0     B  \n",
              "4       43.5                     27.1            45.0          217.0     B  "
            ]
          },
          "execution_count": 6,
          "metadata": {},
          "output_type": "execute_result"
        }
      ],
      "source": [
        "df.replace({\"M\":0, \"F\":1} , inplace = True)\n",
        "df.head()"
      ]
    },
    {
      "cell_type": "markdown",
      "metadata": {
        "id": "SE9m7w4QBr4i"
      },
      "source": [
        "We can also change the name of the classes to numbers, will be easier for us to look at correlations"
      ]
    },
    {
      "cell_type": "code",
      "execution_count": null,
      "metadata": {
        "colab": {
          "base_uri": "https://localhost:8080/",
          "height": 302
        },
        "id": "IPQhwG8WCoqW",
        "outputId": "251592fa-3434-4d3a-94eb-fd2a12f47777"
      },
      "outputs": [
        {
          "name": "stdout",
          "output_type": "stream",
          "text": [
            "{'D': 0, 'C': 1, 'B': 2, 'A': 3}\n"
          ]
        },
        {
          "data": {
            "text/html": [
              "\n",
              "\n",
              "  <div id=\"df-1bd14549-8800-4034-8462-436973eb78f2\">\n",
              "    <div class=\"colab-df-container\">\n",
              "      <div>\n",
              "<style scoped>\n",
              "    .dataframe tbody tr th:only-of-type {\n",
              "        vertical-align: middle;\n",
              "    }\n",
              "\n",
              "    .dataframe tbody tr th {\n",
              "        vertical-align: top;\n",
              "    }\n",
              "\n",
              "    .dataframe thead th {\n",
              "        text-align: right;\n",
              "    }\n",
              "</style>\n",
              "<table border=\"1\" class=\"dataframe\">\n",
              "  <thead>\n",
              "    <tr style=\"text-align: right;\">\n",
              "      <th></th>\n",
              "      <th>age</th>\n",
              "      <th>gender</th>\n",
              "      <th>height_cm</th>\n",
              "      <th>weight_kg</th>\n",
              "      <th>body fat_%</th>\n",
              "      <th>diastolic</th>\n",
              "      <th>systolic</th>\n",
              "      <th>gripForce</th>\n",
              "      <th>sit and bend forward_cm</th>\n",
              "      <th>sit-ups counts</th>\n",
              "      <th>broad jump_cm</th>\n",
              "      <th>class</th>\n",
              "    </tr>\n",
              "  </thead>\n",
              "  <tbody>\n",
              "    <tr>\n",
              "      <th>0</th>\n",
              "      <td>27.0</td>\n",
              "      <td>0</td>\n",
              "      <td>172.3</td>\n",
              "      <td>75.24</td>\n",
              "      <td>21.3</td>\n",
              "      <td>80.0</td>\n",
              "      <td>130.0</td>\n",
              "      <td>54.9</td>\n",
              "      <td>18.4</td>\n",
              "      <td>60.0</td>\n",
              "      <td>217.0</td>\n",
              "      <td>1</td>\n",
              "    </tr>\n",
              "    <tr>\n",
              "      <th>1</th>\n",
              "      <td>25.0</td>\n",
              "      <td>0</td>\n",
              "      <td>165.0</td>\n",
              "      <td>55.80</td>\n",
              "      <td>15.7</td>\n",
              "      <td>77.0</td>\n",
              "      <td>126.0</td>\n",
              "      <td>36.4</td>\n",
              "      <td>16.3</td>\n",
              "      <td>53.0</td>\n",
              "      <td>229.0</td>\n",
              "      <td>3</td>\n",
              "    </tr>\n",
              "    <tr>\n",
              "      <th>2</th>\n",
              "      <td>31.0</td>\n",
              "      <td>0</td>\n",
              "      <td>179.6</td>\n",
              "      <td>78.00</td>\n",
              "      <td>20.1</td>\n",
              "      <td>92.0</td>\n",
              "      <td>152.0</td>\n",
              "      <td>44.8</td>\n",
              "      <td>12.0</td>\n",
              "      <td>49.0</td>\n",
              "      <td>181.0</td>\n",
              "      <td>1</td>\n",
              "    </tr>\n",
              "    <tr>\n",
              "      <th>3</th>\n",
              "      <td>32.0</td>\n",
              "      <td>0</td>\n",
              "      <td>174.5</td>\n",
              "      <td>71.10</td>\n",
              "      <td>18.4</td>\n",
              "      <td>76.0</td>\n",
              "      <td>147.0</td>\n",
              "      <td>41.4</td>\n",
              "      <td>15.2</td>\n",
              "      <td>53.0</td>\n",
              "      <td>219.0</td>\n",
              "      <td>2</td>\n",
              "    </tr>\n",
              "    <tr>\n",
              "      <th>4</th>\n",
              "      <td>28.0</td>\n",
              "      <td>0</td>\n",
              "      <td>173.8</td>\n",
              "      <td>67.70</td>\n",
              "      <td>17.1</td>\n",
              "      <td>70.0</td>\n",
              "      <td>127.0</td>\n",
              "      <td>43.5</td>\n",
              "      <td>27.1</td>\n",
              "      <td>45.0</td>\n",
              "      <td>217.0</td>\n",
              "      <td>2</td>\n",
              "    </tr>\n",
              "  </tbody>\n",
              "</table>\n",
              "</div>\n",
              "      <button class=\"colab-df-convert\" onclick=\"convertToInteractive('df-1bd14549-8800-4034-8462-436973eb78f2')\"\n",
              "              title=\"Convert this dataframe to an interactive table.\"\n",
              "              style=\"display:none;\">\n",
              "\n",
              "  <svg xmlns=\"http://www.w3.org/2000/svg\" height=\"24px\"viewBox=\"0 0 24 24\"\n",
              "       width=\"24px\">\n",
              "    <path d=\"M0 0h24v24H0V0z\" fill=\"none\"/>\n",
              "    <path d=\"M18.56 5.44l.94 2.06.94-2.06 2.06-.94-2.06-.94-.94-2.06-.94 2.06-2.06.94zm-11 1L8.5 8.5l.94-2.06 2.06-.94-2.06-.94L8.5 2.5l-.94 2.06-2.06.94zm10 10l.94 2.06.94-2.06 2.06-.94-2.06-.94-.94-2.06-.94 2.06-2.06.94z\"/><path d=\"M17.41 7.96l-1.37-1.37c-.4-.4-.92-.59-1.43-.59-.52 0-1.04.2-1.43.59L10.3 9.45l-7.72 7.72c-.78.78-.78 2.05 0 2.83L4 21.41c.39.39.9.59 1.41.59.51 0 1.02-.2 1.41-.59l7.78-7.78 2.81-2.81c.8-.78.8-2.07 0-2.86zM5.41 20L4 18.59l7.72-7.72 1.47 1.35L5.41 20z\"/>\n",
              "  </svg>\n",
              "      </button>\n",
              "\n",
              "\n",
              "\n",
              "    <div id=\"df-fa7c77dd-102a-4d55-8f28-db30e6c18e08\">\n",
              "      <button class=\"colab-df-quickchart\" onclick=\"quickchart('df-fa7c77dd-102a-4d55-8f28-db30e6c18e08')\"\n",
              "              title=\"Suggest charts.\"\n",
              "              style=\"display:none;\">\n",
              "\n",
              "<svg xmlns=\"http://www.w3.org/2000/svg\" height=\"24px\"viewBox=\"0 0 24 24\"\n",
              "     width=\"24px\">\n",
              "    <g>\n",
              "        <path d=\"M19 3H5c-1.1 0-2 .9-2 2v14c0 1.1.9 2 2 2h14c1.1 0 2-.9 2-2V5c0-1.1-.9-2-2-2zM9 17H7v-7h2v7zm4 0h-2V7h2v10zm4 0h-2v-4h2v4z\"/>\n",
              "    </g>\n",
              "</svg>\n",
              "      </button>\n",
              "    </div>\n",
              "\n",
              "<style>\n",
              "  .colab-df-quickchart {\n",
              "    background-color: #E8F0FE;\n",
              "    border: none;\n",
              "    border-radius: 50%;\n",
              "    cursor: pointer;\n",
              "    display: none;\n",
              "    fill: #1967D2;\n",
              "    height: 32px;\n",
              "    padding: 0 0 0 0;\n",
              "    width: 32px;\n",
              "  }\n",
              "\n",
              "  .colab-df-quickchart:hover {\n",
              "    background-color: #E2EBFA;\n",
              "    box-shadow: 0px 1px 2px rgba(60, 64, 67, 0.3), 0px 1px 3px 1px rgba(60, 64, 67, 0.15);\n",
              "    fill: #174EA6;\n",
              "  }\n",
              "\n",
              "  [theme=dark] .colab-df-quickchart {\n",
              "    background-color: #3B4455;\n",
              "    fill: #D2E3FC;\n",
              "  }\n",
              "\n",
              "  [theme=dark] .colab-df-quickchart:hover {\n",
              "    background-color: #434B5C;\n",
              "    box-shadow: 0px 1px 3px 1px rgba(0, 0, 0, 0.15);\n",
              "    filter: drop-shadow(0px 1px 2px rgba(0, 0, 0, 0.3));\n",
              "    fill: #FFFFFF;\n",
              "  }\n",
              "</style>\n",
              "\n",
              "    <script>\n",
              "      async function quickchart(key) {\n",
              "        const containerElement = document.querySelector('#' + key);\n",
              "        const charts = await google.colab.kernel.invokeFunction(\n",
              "            'suggestCharts', [key], {});\n",
              "      }\n",
              "    </script>\n",
              "\n",
              "      <script>\n",
              "\n",
              "function displayQuickchartButton(domScope) {\n",
              "  let quickchartButtonEl =\n",
              "    domScope.querySelector('#df-fa7c77dd-102a-4d55-8f28-db30e6c18e08 button.colab-df-quickchart');\n",
              "  quickchartButtonEl.style.display =\n",
              "    google.colab.kernel.accessAllowed ? 'block' : 'none';\n",
              "}\n",
              "\n",
              "        displayQuickchartButton(document);\n",
              "      </script>\n",
              "      <style>\n",
              "    .colab-df-container {\n",
              "      display:flex;\n",
              "      flex-wrap:wrap;\n",
              "      gap: 12px;\n",
              "    }\n",
              "\n",
              "    .colab-df-convert {\n",
              "      background-color: #E8F0FE;\n",
              "      border: none;\n",
              "      border-radius: 50%;\n",
              "      cursor: pointer;\n",
              "      display: none;\n",
              "      fill: #1967D2;\n",
              "      height: 32px;\n",
              "      padding: 0 0 0 0;\n",
              "      width: 32px;\n",
              "    }\n",
              "\n",
              "    .colab-df-convert:hover {\n",
              "      background-color: #E2EBFA;\n",
              "      box-shadow: 0px 1px 2px rgba(60, 64, 67, 0.3), 0px 1px 3px 1px rgba(60, 64, 67, 0.15);\n",
              "      fill: #174EA6;\n",
              "    }\n",
              "\n",
              "    [theme=dark] .colab-df-convert {\n",
              "      background-color: #3B4455;\n",
              "      fill: #D2E3FC;\n",
              "    }\n",
              "\n",
              "    [theme=dark] .colab-df-convert:hover {\n",
              "      background-color: #434B5C;\n",
              "      box-shadow: 0px 1px 3px 1px rgba(0, 0, 0, 0.15);\n",
              "      filter: drop-shadow(0px 1px 2px rgba(0, 0, 0, 0.3));\n",
              "      fill: #FFFFFF;\n",
              "    }\n",
              "  </style>\n",
              "\n",
              "      <script>\n",
              "        const buttonEl =\n",
              "          document.querySelector('#df-1bd14549-8800-4034-8462-436973eb78f2 button.colab-df-convert');\n",
              "        buttonEl.style.display =\n",
              "          google.colab.kernel.accessAllowed ? 'block' : 'none';\n",
              "\n",
              "        async function convertToInteractive(key) {\n",
              "          const element = document.querySelector('#df-1bd14549-8800-4034-8462-436973eb78f2');\n",
              "          const dataTable =\n",
              "            await google.colab.kernel.invokeFunction('convertToInteractive',\n",
              "                                                     [key], {});\n",
              "          if (!dataTable) return;\n",
              "\n",
              "          const docLinkHtml = 'Like what you see? Visit the ' +\n",
              "            '<a target=\"_blank\" href=https://colab.research.google.com/notebooks/data_table.ipynb>data table notebook</a>'\n",
              "            + ' to learn more about interactive tables.';\n",
              "          element.innerHTML = '';\n",
              "          dataTable['output_type'] = 'display_data';\n",
              "          await google.colab.output.renderOutput(dataTable, element);\n",
              "          const docLink = document.createElement('div');\n",
              "          docLink.innerHTML = docLinkHtml;\n",
              "          element.appendChild(docLink);\n",
              "        }\n",
              "      </script>\n",
              "    </div>\n",
              "  </div>\n"
            ],
            "text/plain": [
              "    age  gender  height_cm  weight_kg  body fat_%  diastolic  systolic  \\\n",
              "0  27.0       0      172.3      75.24        21.3       80.0     130.0   \n",
              "1  25.0       0      165.0      55.80        15.7       77.0     126.0   \n",
              "2  31.0       0      179.6      78.00        20.1       92.0     152.0   \n",
              "3  32.0       0      174.5      71.10        18.4       76.0     147.0   \n",
              "4  28.0       0      173.8      67.70        17.1       70.0     127.0   \n",
              "\n",
              "   gripForce  sit and bend forward_cm  sit-ups counts  broad jump_cm  class  \n",
              "0       54.9                     18.4            60.0          217.0      1  \n",
              "1       36.4                     16.3            53.0          229.0      3  \n",
              "2       44.8                     12.0            49.0          181.0      1  \n",
              "3       41.4                     15.2            53.0          219.0      2  \n",
              "4       43.5                     27.1            45.0          217.0      2  "
            ]
          },
          "execution_count": 7,
          "metadata": {},
          "output_type": "execute_result"
        }
      ],
      "source": [
        "classes = list(df['class'].unique())\n",
        "mapping_dict = { ch : i for i, ch in enumerate(sorted(classes, reverse=True)) }\n",
        "print (mapping_dict)\n",
        "df['class'].replace(mapping_dict , inplace = True)\n",
        "df.head()"
      ]
    },
    {
      "cell_type": "markdown",
      "metadata": {
        "id": "zuWjeQxnG_vr"
      },
      "source": [
        "- We are firstly mapping all the strings to integers in a reversed manner i.e. D is mapped to 0 and A is mapped to 3.\n",
        "- Then we are replacing all the values in the `class` feature using replace() function and the dictionary we got from the mapping step."
      ]
    },
    {
      "cell_type": "markdown",
      "metadata": {
        "id": "3lbVsbtgEhUN"
      },
      "source": [
        "Lets check if there are linear relations across the data"
      ]
    },
    {
      "cell_type": "code",
      "execution_count": null,
      "metadata": {
        "colab": {
          "base_uri": "https://localhost:8080/",
          "height": 690
        },
        "id": "JM9ofMRLCzSP",
        "outputId": "de827175-1d68-43bb-9728-29b9eaab025f"
      },
      "outputs": [
        {
          "data": {
            "text/plain": [
              "<Axes: >"
            ]
          },
          "execution_count": 8,
          "metadata": {},
          "output_type": "execute_result"
        },
        {
          "data": {
            "image/png": "[encoded data removed]",
            "text/plain": [
              "<Figure size 1200x800 with 2 Axes>"
            ]
          },
          "metadata": {},
          "output_type": "display_data"
        }
      ],
      "source": [
        "plt.figure(figsize=(12,8))\n",
        "sns.heatmap(df.corr(), annot = True)"
      ]
    },
    {
      "cell_type": "markdown",
      "metadata": {
        "id": "HLSOusuQDbSr"
      },
      "source": [
        "There are no strong linear relationships with `class` variables, which means, there is non-linear relation between `class` and the other variables."
      ]
    },
    {
      "cell_type": "markdown",
      "metadata": {
        "id": "3wAfNpwcUJyU"
      },
      "source": [
        "We need to have an understanding of the range and distributions of all the variables. Which plot do you think will be hepful here?\n",
        "\n",
        "\n",
        "Boxplot"
      ]
    },
    {
      "cell_type": "code",
      "execution_count": null,
      "metadata": {
        "colab": {
          "base_uri": "https://localhost:8080/",
          "height": 447
        },
        "id": "z2V1Bee-L-WI",
        "outputId": "7a54250d-7245-477e-c052-468893ed387a"
      },
      "outputs": [
        {
          "data": {
            "text/plain": [
              "<Axes: >"
            ]
          },
          "execution_count": 9,
          "metadata": {},
          "output_type": "execute_result"
        },
        {
          "data": {
            "image/png": "[encoded data removed]",
            "text/plain": [
              "<Figure size 640x480 with 1 Axes>"
            ]
          },
          "metadata": {},
          "output_type": "display_data"
        }
      ],
      "source": [
        "df.boxplot(rot = 0, vert=False)"
      ]
    },
    {
      "cell_type": "markdown",
      "metadata": {
        "id": "JKx1vINbSQ0z"
      },
      "source": [
        "The distribution and range of all the features is quite different."
      ]
    },
    {
      "cell_type": "markdown",
      "metadata": {
        "id": "BeZbcshJUMIF"
      },
      "source": [
        "Let's have the independent and dependent variables separated into X and y."
      ]
    },
    {
      "cell_type": "code",
      "execution_count": null,
      "metadata": {
        "colab": {
          "base_uri": "https://localhost:8080/"
        },
        "id": "s0u1ZekUIch4",
        "outputId": "275f6273-8b34-48a9-b17e-2a609125e2e8"
      },
      "outputs": [
        {
          "name": "stdout",
          "output_type": "stream",
          "text": [
            "(13393, 11) (13393,)\n"
          ]
        }
      ],
      "source": [
        "X, y = df.iloc[:, :-1], df.iloc[:, -1]\n",
        "print(X.shape, y.shape)"
      ]
    },
    {
      "cell_type": "markdown",
      "metadata": {
        "id": "i-JwsRPtVg9_"
      },
      "source": [
        "Now we need to split the data for training and validation"
      ]
    },
    {
      "cell_type": "code",
      "execution_count": null,
      "metadata": {
        "colab": {
          "base_uri": "https://localhost:8080/"
        },
        "id": "zijp9a4-Vg9_",
        "outputId": "b525c95e-e9cb-4e07-a458-c6415f08f70b"
      },
      "outputs": [
        {
          "name": "stdout",
          "output_type": "stream",
          "text": [
            "Train :  (10847, 11) (10847,)\n",
            "Valid :  (1206, 11) (1206,)\n",
            "Test  :  (1340, 11) (1340,)\n"
          ]
        }
      ],
      "source": [
        "from sklearn.model_selection import train_test_split\n",
        "\n",
        "X_dev, X_test, y_dev, y_test = train_test_split(X, y, test_size=0.1, random_state=42)\n",
        "X_train, X_val, y_train, y_val = train_test_split(X_dev, y_dev, test_size=0.1, random_state=42)\n",
        "\n",
        "print('Train : ', X_train.shape, y_train.shape)\n",
        "print('Valid : ', X_val.shape, y_val.shape)\n",
        "print('Test  : ', X_test.shape, y_test.shape)"
      ]
    },
    {
      "cell_type": "markdown",
      "metadata": {
        "id": "-cQBDs7qVg-A"
      },
      "source": [
        "We have firstly splitted the dataset into dev and test data and then the dev data is further splitted into train and validation data."
      ]
    },
    {
      "cell_type": "markdown",
      "metadata": {
        "id": "hqtru-aBVg-A"
      },
      "source": [
        "Now that our data is prepared to be used for training, lets build the model using Tensorflow"
      ]
    },
    {
      "cell_type": "markdown",
      "metadata": {
        "id": "4TQNFJ-eVg-A"
      },
      "source": [
        "Generally when features are normalized, neural network training is often more efficient\n"
      ]
    },
    {
      "cell_type": "code",
      "execution_count": null,
      "metadata": {
        "id": "djYgUefpSK-I"
      },
      "outputs": [],
      "source": [
        "from sklearn.preprocessing import StandardScaler\n",
        "scaler = StandardScaler()\n",
        "\n",
        "X_train = scaler.fit_transform(X_train,y_train)\n",
        "X_val = scaler.transform(X_val)\n",
        "X_test = scaler.transform(X_test)"
      ]
    },
    {
      "cell_type": "code",
      "execution_count": null,
      "metadata": {
        "colab": {
          "base_uri": "https://localhost:8080/",
          "height": 447
        },
        "id": "kEao2IPSVg-A",
        "outputId": "c763d3c5-83c6-4d5a-c411-733efddb14a2"
      },
      "outputs": [
        {
          "data": {
            "text/plain": [
              "<Axes: >"
            ]
          },
          "execution_count": 13,
          "metadata": {},
          "output_type": "execute_result"
        },
        {
          "data": {
            "image/png": "[encoded data removed]",
            "text/plain": [
              "<Figure size 640x480 with 1 Axes>"
            ]
          },
          "metadata": {},
          "output_type": "display_data"
        }
      ],
      "source": [
        "pd.DataFrame(X_train,columns=df.columns[:-1]).boxplot(rot = 0, vert=False)"
      ]
    },
    {
      "cell_type": "markdown",
      "metadata": {
        "id": "-lZ7a_bUe5Ss"
      },
      "source": [
        "Now that our data is prepared to be used for training, lets build the model using Tensorflow"
      ]
    },
    {
      "cell_type": "markdown",
      "metadata": {
        "id": "50mQzvyLe8w7"
      },
      "source": [
        "Before, we get started, let's explore Tensorflow website a bit\n",
        "-- --"
      ]
    },
    {
      "cell_type": "markdown",
      "metadata": {
        "id": "Rliq4VOX1UBY"
      },
      "source": [
        "\n",
        "\n",
        "## Tensorflow"
      ]
    },
    {
      "cell_type": "markdown",
      "metadata": {
        "id": "TO-TEVTU1bb2"
      },
      "source": [
        "\n",
        "- We will start-off directly with importing and checking it version."
      ]
    },
    {
      "cell_type": "code",
      "execution_count": null,
      "metadata": {
        "colab": {
          "base_uri": "https://localhost:8080/",
          "height": 35
        },
        "id": "dB7GXYsn105j",
        "outputId": "883f42fb-9c90-46af-a19a-e09a317f1482"
      },
      "outputs": [
        {
          "data": {
            "application/vnd.google.colaboratory.intrinsic+json": {
              "type": "string"
            },
            "text/plain": [
              "'2.12.0'"
            ]
          },
          "execution_count": 14,
          "metadata": {},
          "output_type": "execute_result"
        }
      ],
      "source": [
        "import tensorflow as tf\n",
        "tf.__version__"
      ]
    },
    {
      "cell_type": "markdown",
      "metadata": {
        "id": "JxyTzWzn2ct3"
      },
      "source": [
        "- In TensorFlow 2, Keras has become the default high-level API for - TensorFlow.\n",
        "- Because of Keras'es ability to write very simple code\n",
        "- The complete keras API is now wrapped up as part of the TensorFlow installation and has become seamlessly integrated with TensorFlow.\n",
        "- **You don't need to seperately install Keras now**.\n",
        "- Even though it's the high-level API for TensorFlow, we'll be able to do most, if not all, of your model development using keras.\n",
        "- If you want to do more complex stuff like designing your own activation function or any research work, you can do it using Tensorflow-2"
      ]
    },
    {
      "cell_type": "markdown",
      "metadata": {
        "id": "9UH2kvi-3R5i"
      },
      "source": [
        "\n",
        "## Tensorflow documentation\n",
        "\n"
      ]
    },
    {
      "cell_type": "markdown",
      "metadata": {
        "id": "Is81SuyL1Qa8"
      },
      "source": [
        "- To browse the TensorFlow documentation, just head to www.tensorflow.org and go to the API documentation at the top.\n",
        "- Lets look at the latest stable release 2.7v.\n",
        "- We can look through all of the modules that are within the library by going to the [API](https://www.tensorflow.org/api_docs/python/tf) section - you'll see there's quite a few here.\n",
        "- On further scrolling, you will find Classes, functions and data types supported by tensorflow.\n",
        "- In the left, you will find all these modules listed in alphabetical order.\n"
      ]
    },
    {
      "cell_type": "markdown",
      "metadata": {
        "id": "bBa7ihO2rbC0"
      },
      "source": [
        "<center><img src=\"https://d2beiqkhq929f0.cloudfront.net/public_assets/assets/000/045/168/original/0.png?1693461387\" width=\"700\"></center>\n",
        "\n",
        "\n"
      ]
    },
    {
      "cell_type": "markdown",
      "metadata": {
        "id": "Fcef4dhEs_dm"
      },
      "source": [
        "<center><img src=\"https://d2beiqkhq929f0.cloudfront.net/public_assets/assets/000/045/169/original/0.png?1693461421\" width=\"700\"></center>\n",
        "\n"
      ]
    },
    {
      "cell_type": "markdown",
      "metadata": {
        "id": "s0-NdmcNuiZ8"
      },
      "source": [
        "<center><img src=\"https://d2beiqkhq929f0.cloudfront.net/public_assets/assets/000/045/170/original/0.png?1693461453\" width=\"700\"></center>"
      ]
    },
    {
      "cell_type": "markdown",
      "metadata": {
        "id": "yHAEUGtfradJ"
      },
      "source": [
        "\n",
        "There are two modules which we will start using right away.\n",
        "\n",
        "### tf.keras Module\n",
        "\n",
        "The first one is `tf.keras`, click on the module to see whats inside, or you can use the `dir()` function to get the list of contents as well."
      ]
    },
    {
      "cell_type": "code",
      "execution_count": null,
      "metadata": {
        "colab": {
          "base_uri": "https://localhost:8080/"
        },
        "id": "N45cWsTN3ZCt",
        "outputId": "241b5d6a-4ff1-4eac-efdc-5047df16417e"
      },
      "outputs": [
        {
          "data": {
            "text/plain": [
              "['Input',\n",
              " 'Model',\n",
              " 'Sequential',\n",
              " '__builtins__',\n",
              " '__cached__',\n",
              " '__doc__',\n",
              " '__file__',\n",
              " '__internal__',\n",
              " '__loader__',\n",
              " '__name__',\n",
              " '__package__',\n",
              " '__path__',\n",
              " '__spec__',\n",
              " '__version__',\n",
              " '_sys',\n",
              " 'activations',\n",
              " 'applications',\n",
              " 'backend',\n",
              " 'callbacks',\n",
              " 'constraints',\n",
              " 'datasets',\n",
              " 'dtensor',\n",
              " 'estimator',\n",
              " 'experimental',\n",
              " 'export',\n",
              " 'initializers',\n",
              " 'layers',\n",
              " 'losses',\n",
              " 'metrics',\n",
              " 'mixed_precision',\n",
              " 'models',\n",
              " 'optimizers',\n",
              " 'preprocessing',\n",
              " 'regularizers',\n",
              " 'saving',\n",
              " 'utils',\n",
              " 'wrappers']"
            ]
          },
          "execution_count": 15,
          "metadata": {},
          "output_type": "execute_result"
        }
      ],
      "source": [
        "dir(tf.keras)"
      ]
    },
    {
      "cell_type": "markdown",
      "metadata": {
        "id": "y2-6x1t-6aYX"
      },
      "source": [
        "- As we can see, there are some classes like Input, Model and Sequential which we will dicuss in the class.\n",
        "- There are submodules like layers, losses and activations.\n",
        "\n",
        "#### But what is keras? and How is it different from tensorflow?\n",
        "\n",
        "- Its a library providing high-level neural networks APIs developed with the specific goal of making it easy to build and use giant deep learning models.\n",
        "- Note: Keras merely provides high-level APIs for deep learning, the underlying code responsible for actual execution of algorithms (mostly written in C/C++) is provided by a \"backend\".\n",
        "- It can support other backends as well besides tensorflow, eg: Theano - more at www.keras.io\n",
        "- But when you install tensorflow2, you get it packaged as the part of the library.\n",
        "-Also, it is Open Source code – Large community support\n",
        "\n",
        "Lets look at one of them, the better way of course is to browse through the documentation\n",
        "\n",
        "Note: You may go through [this](https://keras.io/why_keras/) article which explains why one should choose Keras"
      ]
    },
    {
      "cell_type": "markdown",
      "metadata": {
        "id": "30fTQOY3aohd"
      },
      "source": [
        "<center><img src=\"https://d2beiqkhq929f0.cloudfront.net/public_assets/assets/000/045/172/original/0.png?1693461598\" width=\"700\"></center>"
      ]
    },
    {
      "cell_type": "markdown",
      "metadata": {
        "id": "9fyXnT7Lu2l1"
      },
      "source": [
        "Let's look at the various activation functions available inside keras"
      ]
    },
    {
      "cell_type": "code",
      "execution_count": null,
      "metadata": {
        "colab": {
          "background_save": true,
          "base_uri": "https://localhost:8080/"
        },
        "id": "uOTRQYqa6rsk",
        "outputId": "6ddce341-1121-48e6-9d74-9700ba1fce1a"
      },
      "outputs": [
        {
          "data": {
            "text/plain": [
              "['__builtins__',\n",
              " '__cached__',\n",
              " '__doc__',\n",
              " '__file__',\n",
              " '__loader__',\n",
              " '__name__',\n",
              " '__package__',\n",
              " '__path__',\n",
              " '__spec__',\n",
              " '_sys',\n",
              " 'deserialize',\n",
              " 'elu',\n",
              " 'exponential',\n",
              " 'gelu',\n",
              " 'get',\n",
              " 'hard_sigmoid',\n",
              " 'linear',\n",
              " 'relu',\n",
              " 'selu',\n",
              " 'serialize',\n",
              " 'sigmoid',\n",
              " 'softmax',\n",
              " 'softplus',\n",
              " 'softsign',\n",
              " 'swish',\n",
              " 'tanh']"
            ]
          },
          "execution_count": 16,
          "metadata": {},
          "output_type": "execute_result"
        }
      ],
      "source": [
        "dir(tf.keras.activations)"
      ]
    },
    {
      "cell_type": "markdown",
      "metadata": {
        "id": "T1I-UkIv7dSd"
      },
      "source": [
        "### tf.data\n",
        "\n",
        "- Other interesting module that we will use in further classes is `tf.data`\n",
        "- We'll be looking at this further on in the course when we get to talking about **data pipelines**\n",
        "- There, we will define our custom classes to load and pass different types of dataset like rows, images, text to NN as mini-batches"
      ]
    },
    {
      "cell_type": "code",
      "execution_count": null,
      "metadata": {
        "colab": {
          "base_uri": "https://localhost:8080/"
        },
        "id": "dHUXpvD070La",
        "outputId": "c0aa322f-1b30-4f96-999f-625b31eb76c9"
      },
      "outputs": [
        {
          "data": {
            "text/plain": [
              "['AUTOTUNE',\n",
              " 'Dataset',\n",
              " 'DatasetSpec',\n",
              " 'FixedLengthRecordDataset',\n",
              " 'INFINITE_CARDINALITY',\n",
              " 'Iterator',\n",
              " 'IteratorSpec',\n",
              " 'Options',\n",
              " 'TFRecordDataset',\n",
              " 'TextLineDataset',\n",
              " 'ThreadingOptions',\n",
              " 'UNKNOWN_CARDINALITY',\n",
              " '__builtins__',\n",
              " '__cached__',\n",
              " '__doc__',\n",
              " '__file__',\n",
              " '__loader__',\n",
              " '__name__',\n",
              " '__package__',\n",
              " '__path__',\n",
              " '__spec__',\n",
              " '_sys',\n",
              " 'experimental']"
            ]
          },
          "execution_count": 16,
          "metadata": {},
          "output_type": "execute_result"
        }
      ],
      "source": [
        "dir(tf.data)"
      ]
    },
    {
      "cell_type": "markdown",
      "metadata": {
        "id": "sEs02YqefDtE"
      },
      "source": [
        "We can write code in keras using two ways:\n",
        "- Sequential API\n",
        "- Functional API\n",
        "\n",
        "But for this lecture, we will talk about the most used keras Sequential API which will help us in most of the Deep NN that we will study in this course."
      ]
    },
    {
      "cell_type": "markdown",
      "metadata": {
        "id": "1zQJbFjk8bDx"
      },
      "source": [
        "-- --\n",
        "\n",
        "## Keras Sequential API\n"
      ]
    },
    {
      "cell_type": "markdown",
      "metadata": {
        "id": "2Mxl2jk11qF6"
      },
      "source": [
        "- We will use the keras's Sequential API to build our first model, train it as well as make predictions from it.\n",
        "- Along the way you'll see how you can select different optimizers (like SGD) to train a neural network.\n",
        "- And using different loss functions (MSE, CCE), depending on the task.\n",
        "- We will also see and how to keep track of any number of metrics during the training.\n",
        "\n",
        "By the end lecture, you'll learn everything to design, build, train and make predictions from NN models in using tf.keras module.\n",
        "\n",
        "First look at the imports\n",
        "\n",
        "- We import the Sequential class from `tensorflow.keras.models` in which we will \"sequentially\" position the layers of the NN.\n",
        "- We will also import `Dense` layer from `tensorflow.keras.layers`\n",
        "- A Dense layer helps us define one layer of a Feedforward NN.\n",
        "- In a dense layer, each neuron in the layer is connected to all the neurons from the previous layer thus called dense\n"
      ]
    },
    {
      "cell_type": "markdown",
      "metadata": {
        "id": "5qsMue_eK8xR"
      },
      "source": [
        "<img src=\"https://d2beiqkhq929f0.cloudfront.net/public_assets/assets/000/045/175/original/0.png?1693461927\" width=\"700\">"
      ]
    },
    {
      "cell_type": "code",
      "execution_count": null,
      "metadata": {
        "id": "yHREsyyk8mSd"
      },
      "outputs": [],
      "source": [
        "from tensorflow.keras.models import Sequential\n",
        "from tensorflow.keras.layers import Dense"
      ]
    },
    {
      "cell_type": "markdown",
      "metadata": {
        "id": "WRI-zibWBnYA"
      },
      "source": [
        "- We will now create an instance (or object) of the Sequential class and call it `model`.\n",
        "- Its same as creating an instance as we did using some sklearn's model class, just that, now we will now define the model as well.\n",
        "- Sequential model will take a list of layers as an argument.\n",
        "\n",
        "Lets define a feed forward network with a single hidden layer."
      ]
    },
    {
      "cell_type": "code",
      "execution_count": null,
      "metadata": {
        "colab": {
          "background_save": true
        },
        "id": "q7Ksi_hQHnOO"
      },
      "outputs": [],
      "source": [
        "model = Sequential([\n",
        "                    Dense(64, activation=\"relu\"), #hidden dense layer with 64 neuron units\n",
        "                    Dense(4, activation=\"softmax\") #output layer with 4 units and softmax activation\n",
        "])"
      ]
    },
    {
      "cell_type": "markdown",
      "metadata": {
        "id": "kjqsBr7UIatR"
      },
      "source": [
        "- The activation argument is optional, and if you don't pass it, it will be a linear (or no) activation\n",
        "\n",
        "#### Question: Why do we need activation function?\n",
        "- It provides non linearity to problems.\n",
        "\n",
        "#### Question: Give an example of a case when we wouldn't like to pass an activation?\n",
        "\n",
        "- Output layer of regression model\n",
        "\n",
        "#### Question: If we want to find out if there is a method to check the weights of model, how will you find that method?\n",
        "\n",
        "Use dir(model)\n",
        "\n",
        "- From dir(model) we can find out about the weights() method for sequential models."
      ]
    },
    {
      "cell_type": "markdown",
      "metadata": {
        "id": "1Z94oE3y0ONS"
      },
      "source": [
        "#### Lets check the model weights"
      ]
    },
    {
      "cell_type": "code",
      "execution_count": null,
      "metadata": {
        "colab": {
          "background_save": true
        },
        "id": "H2v148kiU9fH"
      },
      "outputs": [],
      "source": [
        "#model.weights # should give some error"
      ]
    },
    {
      "cell_type": "markdown",
      "metadata": {
        "id": "OuZHBh2EU-dS"
      },
      "source": [
        "Looks like the model hasn't created the weights yet.\n",
        "\n",
        "#### Passing input shape\n",
        "\n",
        "- Notice that we haven't told the model about the input size yet, and thus, tensorflow doesn't have any information to create W and b yet.\n",
        "- Optionally, we can pass the input size right away as well in the first layer."
      ]
    },
    {
      "cell_type": "code",
      "execution_count": null,
      "metadata": {
        "id": "pE7FXesPIien"
      },
      "outputs": [],
      "source": [
        "model = Sequential([\n",
        "                    Dense(64, activation=\"relu\", input_shape=(11,)),\n",
        "                    Dense(4, activation=\"softmax\")\n",
        "])"
      ]
    },
    {
      "cell_type": "markdown",
      "metadata": {
        "id": "1MYrzI9kH3Fg"
      },
      "source": [
        "####Question: Why didn't we define the input shape in the second dense layer?\n",
        "The layers in the sequential model interact with each other therefore we don't need to define the input shape for all the layers."
      ]
    },
    {
      "cell_type": "markdown",
      "metadata": {
        "id": "BtvaWXK3KSiY"
      },
      "source": [
        "- Here we are saying that one training example will be a 11-dimensional feature vector - (11, )\n",
        "- For each of the feature vector from the input, there will be output of 64-dimensional feature vector - (64, )\n",
        "- Incase of a dense layer Y = X.W + b, where X has all the features as columns.\n",
        "- The output of first layer will have dimension (m, 64), where m is the number of input data samples.\n",
        "\n",
        "\n"
      ]
    },
    {
      "cell_type": "code",
      "execution_count": null,
      "metadata": {
        "colab": {
          "background_save": true,
          "base_uri": "https://localhost:8080/"
        },
        "id": "EnE-YpjIVSf-",
        "outputId": "4c7c4fa6-915b-418d-b238-1ea56bfd50d9"
      },
      "outputs": [
        {
          "data": {
            "text/plain": [
              "list"
            ]
          },
          "execution_count": 22,
          "metadata": {},
          "output_type": "execute_result"
        }
      ],
      "source": [
        "type(model.weights)"
      ]
    },
    {
      "cell_type": "code",
      "execution_count": null,
      "metadata": {
        "colab": {
          "background_save": true,
          "base_uri": "https://localhost:8080/"
        },
        "id": "bx9Mq-xOVivj",
        "outputId": "8147da88-a0d6-44a9-aff4-91ed0c5f7056"
      },
      "outputs": [
        {
          "name": "stdout",
          "output_type": "stream",
          "text": [
            "(11, 64)\n",
            "(64,)\n",
            "(64, 4)\n",
            "(4,)\n"
          ]
        }
      ],
      "source": [
        "for param in model.weights:\n",
        "  print(param.shape)"
      ]
    },
    {
      "cell_type": "markdown",
      "metadata": {
        "id": "_ExAJ-uu2qII"
      },
      "source": [
        "The diagram below shows how the model's outputs look like for each layer.\n",
        "- For the first layer, if an observation of dimension 1x11 is passed then an output of dimension 1x64 will be generated. Similarly it will be done for m observations.\n",
        "-For the second layer when an input of dimension (1,64) is passed then an output of dimension 1x4 will be generated. Similarly it will be done for m observations.\n",
        "\n",
        "\n",
        "\n"
      ]
    },
    {
      "cell_type": "markdown",
      "source": [
        "<img src=\"https://d2beiqkhq929f0.cloudfront.net/public_assets/assets/000/045/180/original/IMG_113F8405AD0A-1.jpeg?1693462213\" width=\"700\">"
      ],
      "metadata": {
        "id": "kxbWNxb5efjQ"
      }
    },
    {
      "cell_type": "markdown",
      "metadata": {
        "id": "DV6WSsI9VTP3"
      },
      "source": [
        "Lets look at another way to define the same model\n",
        "\n",
        "#### model.add()\n",
        "\n",
        "- Instead of passing the list of layers as an argument while creating a model instance, we can use the `add` method."
      ]
    },
    {
      "cell_type": "code",
      "execution_count": null,
      "metadata": {
        "colab": {
          "background_save": true
        },
        "id": "NRnWCBdaKaNY"
      },
      "outputs": [],
      "source": [
        "model = Sequential()\n",
        "model.add(Dense(64, activation=\"relu\", input_shape=(11,)))\n",
        "model.add(Dense(4, activation=\"softmax\"))"
      ]
    },
    {
      "cell_type": "markdown",
      "metadata": {
        "id": "DoS_uGY3LCCE"
      },
      "source": [
        "#### Question: Which method (list of layers or .add) to choose?\n",
        "\n",
        "- It really depends on the user.\n",
        "- If the model depends on a condition or may add some X number of similar layers in the loop, we might use `model.add`\n",
        "- We can then check the condition using `if` and add the layer to the model later using `add`"
      ]
    },
    {
      "cell_type": "markdown",
      "metadata": {
        "id": "yZBg2JSmLfqS"
      },
      "source": [
        "### Optional Exercise: What if the input had been a multi-dimensional data?"
      ]
    },
    {
      "cell_type": "code",
      "execution_count": null,
      "metadata": {
        "colab": {
          "background_save": true
        },
        "id": "sVECQZJ-LFRp"
      },
      "outputs": [],
      "source": [
        "from tensorflow.keras.models import Sequential\n",
        "from tensorflow.keras.layers import Dense, Flatten\n",
        "\n",
        "model_2D = Sequential([\n",
        "                    Flatten(input_shape=(28, 28)), # flatten the data to make it (784,) to be based further\n",
        "                    Dense(64, activation=\"relu\"),\n",
        "                    Dense(4, activation=\"softmax\")\n",
        "])"
      ]
    },
    {
      "cell_type": "markdown",
      "metadata": {
        "id": "2U6y7YedsR4e"
      },
      "source": [
        "Note: We can also directly pass multi-dimensional input directly for which we will study different types of networks like convolution neural network in later modules."
      ]
    },
    {
      "cell_type": "markdown",
      "metadata": {
        "id": "fodrOxWjNjCV"
      },
      "source": [
        "#### Quiz-3\n",
        "```\n",
        "Which of the following is valid model definition?\n",
        "\n",
        "1. `Sequential([Dense(activation='relu'), Dense(activation='softmax')])`\n",
        "2. `Sequential(Flatten(), Dense(16, activation=‘sigmoid’))`\n",
        "3. `Sequential([Flatten(), Dense(32)])`\n",
        "4. `Sequential([Flatten(64), Dense(32, activation='relu')])`\n",
        "```\n",
        "Correct answer (3)"
      ]
    },
    {
      "cell_type": "markdown",
      "metadata": {
        "id": "JHkTnXy6XvTd"
      },
      "source": [
        "### Model summary\n",
        "\n",
        "- There is another short way to check dimensions and parameters of each layer\n",
        "- we can do it using the printing model summary"
      ]
    },
    {
      "cell_type": "code",
      "execution_count": null,
      "metadata": {
        "colab": {
          "base_uri": "https://localhost:8080/"
        },
        "id": "tam82iFFXw_t",
        "outputId": "d2160ab3-490f-4fd1-ae7a-dad035d56de8"
      },
      "outputs": [
        {
          "name": "stdout",
          "output_type": "stream",
          "text": [
            "Model: \"sequential\"\n",
            "_________________________________________________________________\n",
            " Layer (type)                Output Shape              Param #   \n",
            "=================================================================\n",
            " dense (Dense)               (None, 64)                768       \n",
            "                                                                 \n",
            " dense_1 (Dense)             (None, 4)                 260       \n",
            "                                                                 \n",
            "=================================================================\n",
            "Total params: 1,028\n",
            "Trainable params: 1,028\n",
            "Non-trainable params: 0\n",
            "_________________________________________________________________\n"
          ]
        }
      ],
      "source": [
        "model.summary()"
      ]
    },
    {
      "cell_type": "markdown",
      "metadata": {
        "id": "ujP0uFjpbuSn"
      },
      "source": [
        "***Question:*** How are number of parameters computed in the above summary?\n",
        "\n",
        "***Answer:***\n",
        "- Input is of shape 11* (Batch Size) which is densely connected to 64 Neurons. So parameters are computed as $(11*64) \\ weights + 64 \\ for \\ biases = 768$.\n",
        "\n",
        "Similarly,\n",
        "- For second:  $4*64 + 4 = 260$\n"
      ]
    },
    {
      "cell_type": "markdown",
      "metadata": {
        "id": "3OhUQ5hCKH_y"
      },
      "source": [
        "#### Question: What does None represent in the above model's `Output Shape`?\n",
        "\n",
        "None makes the model capable of handling the multiple points.\n",
        "- In the image we saw above where we were calculating the dimensions, we have calculated the dimensions for a single example.\n",
        "- But in an ideal scenario there will be multiple points. And we haven't defined the number of points while defining the model, therefore the model is keeping it 'None' for handling the multiple number of passed observations."
      ]
    },
    {
      "cell_type": "markdown",
      "metadata": {
        "id": "gx_ogSA1YBkJ"
      },
      "source": [
        "### Giving custom names to the layers\n",
        "\n",
        "- As you can see in the model summary, keras has provided the names by itself.\n",
        "- At times, we might want to give custom names to the layer as well"
      ]
    },
    {
      "cell_type": "code",
      "execution_count": null,
      "metadata": {
        "id": "bpf0z-YwYGXO"
      },
      "outputs": [],
      "source": [
        "model = Sequential([\n",
        "                    Dense(64, activation=\"relu\", input_shape=(11,), name=\"hidden_1\"),\n",
        "                    Dense(4, activation=\"softmax\", name=\"output\")\n",
        "])"
      ]
    },
    {
      "cell_type": "code",
      "execution_count": null,
      "metadata": {
        "colab": {
          "base_uri": "https://localhost:8080/"
        },
        "id": "Mg6IthflYaDr",
        "outputId": "964f1c2e-4fcd-4260-f8e6-f0593829ca5e"
      },
      "outputs": [
        {
          "name": "stdout",
          "output_type": "stream",
          "text": [
            "Model: \"sequential_2\"\n",
            "_________________________________________________________________\n",
            " Layer (type)                Output Shape              Param #   \n",
            "=================================================================\n",
            " hidden_1 (Dense)            (None, 64)                768       \n",
            "                                                                 \n",
            " output (Dense)              (None, 4)                 260       \n",
            "                                                                 \n",
            "=================================================================\n",
            "Total params: 1,028\n",
            "Trainable params: 1,028\n",
            "Non-trainable params: 0\n",
            "_________________________________________________________________\n"
          ]
        }
      ],
      "source": [
        "model.summary()"
      ]
    },
    {
      "cell_type": "markdown",
      "metadata": {
        "id": "LYsLvQhZJB0I"
      },
      "source": [
        "- We can also plot the model as a graph\n",
        "- And save it as a png file"
      ]
    },
    {
      "cell_type": "code",
      "execution_count": null,
      "metadata": {
        "colab": {
          "base_uri": "https://localhost:8080/",
          "height": 312
        },
        "id": "cm5Hzao5JAJp",
        "outputId": "9d0a181f-74d8-4bcb-ff69-f6339651548a"
      },
      "outputs": [
        {
          "data": {
            "image/png": "[encoded data removed]",
            "text/plain": [
              "<IPython.core.display.Image object>"
            ]
          },
          "execution_count": 25,
          "metadata": {},
          "output_type": "execute_result"
        }
      ],
      "source": [
        "from tensorflow.keras.utils import plot_model\n",
        "\n",
        "plot_model(model,\n",
        "    to_file='model.png',\n",
        "    show_shapes=True, show_layer_names=True)"
      ]
    },
    {
      "cell_type": "markdown",
      "metadata": {
        "id": "KxJTHZEf_d5J"
      },
      "source": [
        "From the plot we can see that the first layer is the input layer and then the input and output shapes of each of layers `hidden_1` and `output` are given."
      ]
    },
    {
      "cell_type": "markdown",
      "metadata": {
        "id": "hFO39MOaaF9p"
      },
      "source": [
        "### Weights and Bias Initializer\n",
        "\n",
        "- When we worked on NN from scratch, we intialised W with `np.random.rand` and b with `np.zeros`.\n",
        "- We also learnt about various weight  initialization techniques\n",
        "  - Glorot Normal\n",
        "  \n",
        "   $w^k_{ij} \\sim N(0,\\sigma_{ij})$, where $\\sigma_{ij} = \\frac{2}{fanin+fanout}$\n",
        "\n",
        "  - Glorot Uniform\n",
        "  \n",
        "    $w^k_{ij} \\sim Uniform\\bigg[ \\frac{-\\sqrt{6}}{\\sqrt{fanin+fanout}}, \\frac{\\sqrt{6}}{\\sqrt{fanin+fanout}}\\bigg]$\n",
        "  - He Normal\n",
        "    \n",
        "    $N(0,\\sigma)$, where $\\sigma = \\frac{2}{fanin}$\n",
        "\n",
        "  - He uniform\n",
        "  \n",
        "   $Uniform\\bigg[ \\frac{-\\sqrt{6}}{\\sqrt{fanin}}, \\frac{\\sqrt{6}}{\\sqrt{fanin}}\\bigg]$\n",
        "\n",
        "- Now let see how keras implements them.\n",
        "- The end results of the classification and regression gets affected by the initialization of the weights and biases.\n",
        "- For now, we will just look at some methods of weights and bias initialization.\n",
        "\n",
        "\n"
      ]
    },
    {
      "cell_type": "markdown",
      "metadata": {
        "id": "b0sWfPZnc1b5"
      },
      "source": [
        "In Keras, in `Dense` layer,\n",
        "1. the biases are set to zero (`zeros`) by default\n",
        "2. the weights are set according to `glorot_uniform`, the Glorot uniform initialiser.\n",
        "\n",
        "\n",
        "For example:\n",
        "-  $$c = \\frac{\\sqrt{6}}{\\sqrt{11+64}} = 0.28$$\n",
        "\n",
        "for the first hidden layer of model as $fanin$ (input) is 11 and $fanout$(output) is 64\n",
        "\n",
        "\n",
        "Note:\n",
        "\n",
        "- There are several researches proposing different ways of randomly initialising the weights of the layers.\n",
        "- But **`glorot_uniform` has been the most widely used** one in most of the Deep Learning frameworks today.\n"
      ]
    },
    {
      "cell_type": "markdown",
      "metadata": {
        "id": "lih5J2dmeU-r"
      },
      "source": [
        "#### What if I want to initialise my own weights and bias? May be for my own research?\n",
        "\n",
        "- Each layer has optional arguments `kernel_initialiser` and `bias_initialiser` to set the weights and biases respectively."
      ]
    },
    {
      "cell_type": "code",
      "execution_count": null,
      "metadata": {
        "colab": {
          "background_save": true
        },
        "id": "P3oQ5iEmeYLx"
      },
      "outputs": [],
      "source": [
        "model_X = Sequential([\n",
        "                    Dense(64, activation=\"relu\", input_shape=(11,), name=\"hidden_1\", kernel_initializer='random_uniform', bias_initializer=\"zeros\"),\n",
        "                    Dense(4, activation=\"softmax\", name=\"output\", kernel_initializer='he_uniform', bias_initializer='ones')\n",
        "])"
      ]
    },
    {
      "cell_type": "markdown",
      "metadata": {
        "id": "3NxGu9bve6xO"
      },
      "source": [
        "We can totally go from scratch as well (only if we need to) using keras.initialiser submodule"
      ]
    },
    {
      "cell_type": "code",
      "execution_count": null,
      "metadata": {
        "colab": {
          "background_save": true,
          "base_uri": "https://localhost:8080/"
        },
        "id": "T2P5q3bUe_yW",
        "outputId": "e7aaea13-7d06-4c73-cad1-5a8fb45f62cd"
      },
      "outputs": [
        {
          "data": {
            "text/plain": [
              "<keras.layers.core.dense.Dense at 0x7f73df5999a0>"
            ]
          },
          "execution_count": 31,
          "metadata": {},
          "output_type": "execute_result"
        }
      ],
      "source": [
        "Dense(64, kernel_initializer=tf.keras.initializers.RandomNormal(mean=0.0, stddev=0.05),\n",
        "          bias_initializer=tf.keras.initializers.Constant(value=0.4),\n",
        "          activation='relu')"
      ]
    },
    {
      "cell_type": "markdown",
      "metadata": {
        "id": "Upjv_UHXHOdl"
      },
      "source": [
        "- Let's try to retrieve the layers of the model."
      ]
    },
    {
      "cell_type": "code",
      "execution_count": null,
      "metadata": {
        "colab": {
          "background_save": true,
          "base_uri": "https://localhost:8080/"
        },
        "id": "H-M2XRt3HNvP",
        "outputId": "5d5807d2-7276-4b51-d931-f8d8cd3367cf"
      },
      "outputs": [
        {
          "data": {
            "text/plain": [
              "[<keras.layers.core.dense.Dense at 0x7f73e342ce50>,\n",
              " <keras.layers.core.dense.Dense at 0x7f73e342ce20>]"
            ]
          },
          "execution_count": 32,
          "metadata": {},
          "output_type": "execute_result"
        }
      ],
      "source": [
        "model.layers"
      ]
    },
    {
      "cell_type": "markdown",
      "metadata": {
        "id": "zVYRHUaSgkOE"
      },
      "source": [
        "- Lets look at how are they initialised, we can check how the weights distribution (optional)."
      ]
    },
    {
      "cell_type": "code",
      "execution_count": null,
      "metadata": {
        "colab": {
          "base_uri": "https://localhost:8080/",
          "height": 468
        },
        "id": "4KeUsdpUfUOJ",
        "outputId": "dd043312-d30a-436a-c011-8e4bcd098c1a"
      },
      "outputs": [
        {
          "data": {
            "image/png": "[encoded data removed]",
            "text/plain": [
              "<Figure size 500x500 with 4 Axes>"
            ]
          },
          "metadata": {},
          "output_type": "display_data"
        }
      ],
      "source": [
        "# Plot histograms of weight and bias values\n",
        "import matplotlib.pyplot as plt\n",
        "fig, axes = plt.subplots(2, 2, figsize=(5,5))\n",
        "fig.subplots_adjust(hspace=0.5, wspace=0.5)\n",
        "# get the weights from the layers\n",
        "weight_layers = [layer for layer in model.layers]\n",
        "for i, layer in enumerate(weight_layers):\n",
        "    for j in [0, 1]:\n",
        "        axes[i, j].hist(layer.weights[j].numpy().flatten(), align='left')\n",
        "        axes[i, j].set_title(layer.weights[j].name)"
      ]
    },
    {
      "cell_type": "markdown",
      "metadata": {
        "id": "mGmenn51IA7E"
      },
      "source": [
        "- layers() method consist of a list of layers.\n",
        "- In the code, we are firstly getting all the weights and biases of the layers using `layer.weights[0/1]`, then converting them to a numpy array and then flattening all the arrays to just get an array of initialized weights and biases.\n",
        "- From the above plots it can be observed that all the biases are intialized to zero by default.\n",
        "-- --"
      ]
    },
    {
      "cell_type": "markdown",
      "metadata": {
        "id": "BHpO0tE2hfpj"
      },
      "source": [
        "## Compile - loss and optimizer\n",
        "\n"
      ]
    },
    {
      "cell_type": "markdown",
      "metadata": {
        "id": "NRFiQb5ESMxv"
      },
      "source": [
        "Until now, we have defined the model architecture.\n",
        "\n",
        "After defining the model, we have to compile the model.\n",
        "\n",
        "#### Question: What do you think, which specific information we should pass to model while compiling ?\n",
        "1. Loss function - To measures the model performance as it trains\n",
        "2. Optimizer (like Gradient Descent) - To performs the gradient update\n",
        "\n",
        "We do this by using two arguments of the compile method `optimizer` and `loss`.\n",
        "\n",
        "Lets take an example of a binary classification task here"
      ]
    },
    {
      "cell_type": "code",
      "execution_count": null,
      "metadata": {
        "id": "QxjCLmPRhhKr"
      },
      "outputs": [],
      "source": [
        "model_2C = Sequential([\n",
        "          Dense(64, activation=\"relu\", input_shape=(11,)),\n",
        "          Dense(1, activation=\"sigmoid\")])\n",
        "\n",
        "# new piece of code\n",
        "model_2C.compile(\n",
        "    optimizer = \"adam\", # stochastic gradient descent, adam, rmsprop, adadelts\n",
        "    loss = \"binary_crossentropy\", # sigmoid loss, # mean_squared_error, categorical_crossentropy, sparse_categorical_crossentropy, binary_crossentropy\n",
        "    metrics = [\"accuracy\"])"
      ]
    },
    {
      "cell_type": "markdown",
      "metadata": {
        "id": "UB6T27xrkjbk"
      },
      "source": [
        "- There are multiple options for optimisers, loss and metrics which we will discuss in detail later\n",
        "\n",
        "- All these strings which we have passed as argument i.e. `sgd`, `binary_crossentropy` and `accuracy` are reference to some default objects defined in keras. They are called to string identifiers.\n",
        "- We can also directly instantiate these custom objects here with the classes defined in keras submodules for example `opt = keras.optimizers.Adam(learning_rate=0.01)`\n",
        "- We can even pass customized loss and optimizer functions in keras models.\n"
      ]
    },
    {
      "cell_type": "markdown",
      "metadata": {
        "id": "Ww3cErPeOxHr"
      },
      "source": [
        "#### Lets change the learning rate by initialising  a custom object"
      ]
    },
    {
      "cell_type": "code",
      "execution_count": null,
      "metadata": {
        "id": "mv5xHwttOupA"
      },
      "outputs": [],
      "source": [
        "model.compile(\n",
        "    optimizer = tf.keras.optimizers.Adam(learning_rate=0.01),\n",
        "    loss = tf.keras.losses.SparseCategoricalCrossentropy(),\n",
        ")"
      ]
    },
    {
      "cell_type": "markdown",
      "metadata": {
        "id": "Xo4b5E8uNgnr"
      },
      "source": [
        "Optionally, we can define a list of metrics which we might want to track during the training, like accuracy"
      ]
    },
    {
      "cell_type": "code",
      "execution_count": null,
      "metadata": {
        "colab": {
          "background_save": true
        },
        "id": "zEe74sfmkVLm"
      },
      "outputs": [],
      "source": [
        "model = Sequential([\n",
        "                    Dense(16, activation=\"relu\", input_shape=(11,), name=\"hidden_1\"),\n",
        "                    Dense(8, activation=\"relu\", name=\"hidden_2\"),\n",
        "                    Dense(4, activation=\"softmax\", name=\"output\")\n",
        "])\n",
        "\n",
        "model.compile(\n",
        "    optimizer = tf.keras.optimizers.Adam(learning_rate=0.001),\n",
        "    loss = tf.keras.losses.SparseCategoricalCrossentropy(),\n",
        "    metrics=[\"accuracy\"]\n",
        ")"
      ]
    },
    {
      "cell_type": "markdown",
      "metadata": {
        "id": "3f6lkxGCSJSF"
      },
      "source": [
        "Other available string identifiers to pass in `loss` parameter."
      ]
    },
    {
      "cell_type": "markdown",
      "metadata": {
        "id": "h6xvprsIMyci"
      },
      "source": [
        "#### How sparse categorical crossentropy different from categorical cross-entropy?\n",
        "\n",
        "1. Use `categorical_crossentropy` if target vector is one hot-encoded - [1,0,0,0], [0, 1, 0, 0], [0, 0, 1, 0], [0, 0, 0, 1]\n",
        "2. Use `sparse_categorical_crossentropy` if target vector is ordinal integer values - 0, 1, 2, 3"
      ]
    },
    {
      "cell_type": "markdown",
      "metadata": {
        "id": "bKQKRXbeD-IX"
      },
      "source": [
        "- We can use these objects when we need to change their arguments like a using different learning rate.\n",
        "- We can change the cut-off from 0.5-0.7 or anything using this.\n",
        "- These metrics will be calculated and saved after each epoch (one pass of whole data to update the model).\n",
        "\n",
        "#### But what exactly is an epoch?\n",
        "- When data is too big, data is passed in small batches instead of one big batch due to memory constraints. Each pass of mini-batch is called an iteration.\n",
        "- Each pass of whole datasets is called an Epoch.\n",
        "\n",
        "- One epoch means that each sample in the training dataset has had an opportunity to update the internal model parameters.\n",
        "\n",
        "\n",
        "Lets finally check if the loss and optimisers for the model are set. We can use the model attributes for getting these."
      ]
    },
    {
      "cell_type": "code",
      "execution_count": null,
      "metadata": {
        "colab": {
          "base_uri": "https://localhost:8080/"
        },
        "id": "DwHgLvV7ILWI",
        "outputId": "cc381e2d-5506-418d-f04c-cbe8ac1a8944"
      },
      "outputs": [
        {
          "data": {
            "text/plain": [
              "<keras.losses.SparseCategoricalCrossentropy at 0x7c9b0c5e6290>"
            ]
          },
          "execution_count": 30,
          "metadata": {},
          "output_type": "execute_result"
        }
      ],
      "source": [
        "model.loss"
      ]
    },
    {
      "cell_type": "code",
      "execution_count": null,
      "metadata": {
        "colab": {
          "base_uri": "https://localhost:8080/"
        },
        "id": "516KwbKrIPQG",
        "outputId": "d1bb0e52-f927-4e3e-a7f7-26a59162931a"
      },
      "outputs": [
        {
          "data": {
            "text/plain": [
              "<keras.optimizers.adam.Adam at 0x7c9b0c856b00>"
            ]
          },
          "execution_count": 31,
          "metadata": {},
          "output_type": "execute_result"
        }
      ],
      "source": [
        "model.optimizer"
      ]
    },
    {
      "cell_type": "markdown",
      "metadata": {
        "id": "kyUDCOaAIFZa"
      },
      "source": [
        "-- --\n",
        "## Training the model using `fit` method"
      ]
    },
    {
      "cell_type": "markdown",
      "metadata": {
        "id": "hOoDOdutUzgS"
      },
      "source": [
        "Training the model would mean updating the weights using the optimizer and loss functions on the dataset."
      ]
    },
    {
      "cell_type": "markdown",
      "metadata": {
        "id": "X5IyWQ2ldgNr"
      },
      "source": [
        "\n",
        "\n",
        "`model.fit(X_train, y_train)`\n",
        "\n",
        "X_train = (num_samples, num_features)\n",
        "\n",
        "y_train = (num_samples, num_classes) or y_train = (num_samples, )\n",
        "\n",
        "Lets look at some other arguments of model.fit method\n",
        "\n",
        "### Set the epochs\n",
        "\n",
        "You might want to train the model for more than 1 epochs.\n",
        "\n",
        "`model.fit(X_train, y_train, epochs=500)`\n",
        "\n",
        "### Set the batch size\n",
        "\n",
        "- Another option is to set the batch size, the default is 16.\n",
        "- Usually, the batch size used are of the form $2^x$ - 4, 8, 16, 32, 64\n",
        "- And we try to take as big of a bach size as GPU memory can manage.\n",
        "- Setting up batch_size=16 means that 16 training samples are passed in single iteration.\n",
        "- Num_iterations in an epoch = num_samples/batch_size\n",
        "\n",
        "There are some other sophisticated arguments of `model.fit `which we will dicuss later as we progress.\n",
        "\n",
        "\n"
      ]
    },
    {
      "cell_type": "markdown",
      "metadata": {
        "id": "Q6WgrmipMlhh"
      },
      "source": [
        "Lets train our model! <br>\n",
        "\n",
        "Here we have mentioned `validation_split = 0.1`, <br>\n",
        "which means 10% of our training data will be used for validation  "
      ]
    },
    {
      "cell_type": "markdown",
      "metadata": {
        "id": "vrtOdGbVropC"
      },
      "source": [
        "- Seed in ML means intilization state of a pseudo random number generator.\n",
        "- After setting the same seed whenever random() function is called we will get a specific way of generating numbers.\n",
        "- If you use the same seed you will get exactly the same pattern of numbers during weights initializations, which will be helpful for us as if all of us run the code we will get the same output."
      ]
    },
    {
      "cell_type": "code",
      "execution_count": null,
      "metadata": {
        "id": "Q3ItFOhirnU7"
      },
      "outputs": [],
      "source": [
        "def seed_everything(seed = 42):\n",
        "    np.random.seed(seed)\n",
        "    tf.random.set_seed(seed)\n",
        "\n",
        "\n",
        "seed_everything()"
      ]
    },
    {
      "cell_type": "markdown",
      "metadata": {
        "id": "JUtq1sgdpa1K"
      },
      "source": [
        "Let's train for few epochs first and see what happens"
      ]
    },
    {
      "cell_type": "code",
      "execution_count": null,
      "metadata": {
        "colab": {
          "base_uri": "https://localhost:8080/"
        },
        "id": "Zz7GDb06MEVn",
        "outputId": "a5771db8-b371-4350-a0ce-5d9dd21aa7f5"
      },
      "outputs": [
        {
          "name": "stdout",
          "output_type": "stream",
          "text": [
            "Epoch 1/10\n",
            "39/39 [==============================] - 1s 5ms/step - loss: 0.9932 - val_loss: 0.8742\n",
            "Epoch 2/10\n",
            "39/39 [==============================] - 0s 2ms/step - loss: 0.8390 - val_loss: 0.8051\n",
            "Epoch 3/10\n",
            "39/39 [==============================] - 0s 2ms/step - loss: 0.7845 - val_loss: 0.7715\n",
            "Epoch 4/10\n",
            "39/39 [==============================] - 0s 2ms/step - loss: 0.7478 - val_loss: 0.7360\n",
            "Epoch 5/10\n",
            "39/39 [==============================] - 0s 3ms/step - loss: 0.7218 - val_loss: 0.7207\n",
            "Epoch 6/10\n",
            "39/39 [==============================] - 0s 2ms/step - loss: 0.7033 - val_loss: 0.7067\n",
            "Epoch 7/10\n",
            "39/39 [==============================] - 0s 2ms/step - loss: 0.6920 - val_loss: 0.7108\n",
            "Epoch 8/10\n",
            "39/39 [==============================] - 0s 2ms/step - loss: 0.6808 - val_loss: 0.6975\n",
            "Epoch 9/10\n",
            "39/39 [==============================] - 0s 2ms/step - loss: 0.6765 - val_loss: 0.6825\n",
            "Epoch 10/10\n",
            "39/39 [==============================] - 0s 2ms/step - loss: 0.6659 - val_loss: 0.6663\n",
            "CPU times: user 1.29 s, sys: 63 ms, total: 1.36 s\n",
            "Wall time: 1.58 s\n"
          ]
        },
        {
          "data": {
            "text/plain": [
              "<keras.callbacks.History at 0x7c9b0c4c24a0>"
            ]
          },
          "execution_count": 33,
          "metadata": {},
          "output_type": "execute_result"
        }
      ],
      "source": [
        "%%time\n",
        "model.fit(X_train, y_train, epochs=10, batch_size=256, validation_split=0.1, verbose=1)\n",
        "\n",
        "## no of iterations: ( 10847 (training size) - 1084.7 (validation split) )/(256) == 39"
      ]
    },
    {
      "cell_type": "markdown",
      "metadata": {
        "id": "YKST3Fu1oirc"
      },
      "source": [
        "**Observe**\n",
        "- Here we trained our model for 10 epochs\n",
        "- `model.fit` is printing all the metrics like accuracy, loss, validation loss, validation accuracy etc.\n",
        "\n",
        "#### Question: How can we use all this information and use it for analyising training process ?\n",
        "- For this let's check what this `model.fit` is returning"
      ]
    },
    {
      "cell_type": "markdown",
      "metadata": {
        "id": "_uNOjeAlnjU7"
      },
      "source": [
        "### History\n",
        "\n",
        "- `model.fit` returns a history object which contains the record of progress NN training.\n",
        "- History object contains records of loss and metrics values for each epoch.\n",
        "- History object is an example of something called \"callback\" (will study it later).\n",
        "\n",
        "### Compiling and training the model\n",
        "- Until now, we  have seen how to build a NN model, compile it with relevant loss function, optimizer and metrics to track while training.\n",
        "- We also saw how we can train the model using the fit method for certain number of epochs and with certain batch_size."
      ]
    },
    {
      "cell_type": "markdown",
      "metadata": {
        "id": "2fGRC8sQquu3"
      },
      "source": [
        "Let's train model for 500 epochs and store training process inside a variable called **history**"
      ]
    },
    {
      "cell_type": "code",
      "execution_count": null,
      "metadata": {
        "colab": {
          "base_uri": "https://localhost:8080/"
        },
        "id": "a6YUv_x6p4_Z",
        "outputId": "d82e82b7-1ac0-43e9-e8cc-699c856fac32"
      },
      "outputs": [
        {
          "name": "stdout",
          "output_type": "stream",
          "text": [
            "Epoch 1/500\n",
            "39/39 [==============================] - 0s 4ms/step - loss: 0.9415 - accuracy: 0.5891 - val_loss: 0.9321 - val_accuracy: 0.5871\n",
            "Epoch 2/500\n",
            "39/39 [==============================] - 0s 3ms/step - loss: 0.9252 - accuracy: 0.5983 - val_loss: 0.9170 - val_accuracy: 0.5972\n",
            "Epoch 3/500\n",
            "39/39 [==============================] - 0s 3ms/step - loss: 0.9107 - accuracy: 0.6103 - val_loss: 0.9044 - val_accuracy: 0.6111\n",
            "Epoch 4/500\n",
            "39/39 [==============================] - 0s 3ms/step - loss: 0.8975 - accuracy: 0.6162 - val_loss: 0.8920 - val_accuracy: 0.6157\n",
            "Epoch 5/500\n",
            "39/39 [==============================] - 0s 3ms/step - loss: 0.8852 - accuracy: 0.6177 - val_loss: 0.8813 - val_accuracy: 0.6147\n",
            "Epoch 6/500\n",
            "39/39 [==============================] - 0s 3ms/step - loss: 0.8739 - accuracy: 0.6173 - val_loss: 0.8710 - val_accuracy: 0.6175\n",
            "Epoch 7/500\n",
            "39/39 [==============================] - 0s 3ms/step - loss: 0.8627 - accuracy: 0.6257 - val_loss: 0.8636 - val_accuracy: 0.6184\n",
            "Epoch 8/500\n",
            "39/39 [==============================] - 0s 3ms/step - loss: 0.8531 - accuracy: 0.6288 - val_loss: 0.8560 - val_accuracy: 0.6258\n",
            "Epoch 9/500\n",
            "39/39 [==============================] - 0s 3ms/step - loss: 0.8440 - accuracy: 0.6331 - val_loss: 0.8475 - val_accuracy: 0.6276\n",
            "Epoch 10/500\n",
            "39/39 [==============================] - 0s 3ms/step - loss: 0.8356 - accuracy: 0.6365 - val_loss: 0.8420 - val_accuracy: 0.6387\n",
            "Epoch 11/500\n",
            "39/39 [==============================] - 0s 3ms/step - loss: 0.8278 - accuracy: 0.6397 - val_loss: 0.8340 - val_accuracy: 0.6406\n",
            "Epoch 12/500\n",
            "39/39 [==============================] - 0s 3ms/step - loss: 0.8210 - accuracy: 0.6424 - val_loss: 0.8276 - val_accuracy: 0.6359\n",
            "Epoch 13/500\n",
            "39/39 [==============================] - 0s 3ms/step - loss: 0.8141 - accuracy: 0.6467 - val_loss: 0.8230 - val_accuracy: 0.6433\n",
            "Epoch 14/500\n",
            "39/39 [==============================] - 0s 3ms/step - loss: 0.8071 - accuracy: 0.6501 - val_loss: 0.8155 - val_accuracy: 0.6535\n",
            "Epoch 15/500\n",
            "39/39 [==============================] - 0s 3ms/step - loss: 0.8009 - accuracy: 0.6528 - val_loss: 0.8093 - val_accuracy: 0.6442\n",
            "Epoch 16/500\n",
            "39/39 [==============================] - 0s 2ms/step - loss: 0.7943 - accuracy: 0.6589 - val_loss: 0.8044 - val_accuracy: 0.6525\n",
            "Epoch 17/500\n",
            "39/39 [==============================] - 0s 3ms/step - loss: 0.7875 - accuracy: 0.6624 - val_loss: 0.7949 - val_accuracy: 0.6516\n",
            "Epoch 18/500\n",
            "39/39 [==============================] - 0s 3ms/step - loss: 0.7802 - accuracy: 0.6646 - val_loss: 0.7882 - val_accuracy: 0.6599\n",
            "Epoch 19/500\n",
            "39/39 [==============================] - 0s 3ms/step - loss: 0.7730 - accuracy: 0.6693 - val_loss: 0.7817 - val_accuracy: 0.6590\n",
            "Epoch 20/500\n",
            "39/39 [==============================] - 0s 3ms/step - loss: 0.7652 - accuracy: 0.6755 - val_loss: 0.7724 - val_accuracy: 0.6673\n",
            "Epoch 21/500\n",
            "39/39 [==============================] - 0s 3ms/step - loss: 0.7582 - accuracy: 0.6803 - val_loss: 0.7670 - val_accuracy: 0.6765\n",
            "Epoch 22/500\n",
            "39/39 [==============================] - 0s 3ms/step - loss: 0.7519 - accuracy: 0.6827 - val_loss: 0.7597 - val_accuracy: 0.6811\n",
            "Epoch 23/500\n",
            "39/39 [==============================] - 0s 3ms/step - loss: 0.7449 - accuracy: 0.6856 - val_loss: 0.7531 - val_accuracy: 0.6866\n",
            "Epoch 24/500\n",
            "39/39 [==============================] - 0s 3ms/step - loss: 0.7393 - accuracy: 0.6865 - val_loss: 0.7497 - val_accuracy: 0.6885\n",
            "Epoch 25/500\n",
            "39/39 [==============================] - 0s 3ms/step - loss: 0.7339 - accuracy: 0.6907 - val_loss: 0.7418 - val_accuracy: 0.7051\n",
            "Epoch 26/500\n",
            "39/39 [==============================] - 0s 3ms/step - loss: 0.7291 - accuracy: 0.6951 - val_loss: 0.7358 - val_accuracy: 0.7060\n",
            "Epoch 27/500\n",
            "39/39 [==============================] - 0s 3ms/step - loss: 0.7247 - accuracy: 0.6985 - val_loss: 0.7320 - val_accuracy: 0.7088\n",
            "Epoch 28/500\n",
            "39/39 [==============================] - 0s 3ms/step - loss: 0.7200 - accuracy: 0.7010 - val_loss: 0.7280 - val_accuracy: 0.7088\n",
            "Epoch 29/500\n",
            "39/39 [==============================] - 0s 3ms/step - loss: 0.7164 - accuracy: 0.7020 - val_loss: 0.7252 - val_accuracy: 0.7143\n",
            "Epoch 30/500\n",
            "39/39 [==============================] - 0s 3ms/step - loss: 0.7125 - accuracy: 0.7037 - val_loss: 0.7204 - val_accuracy: 0.7189\n",
            "Epoch 31/500\n",
            "39/39 [==============================] - 0s 3ms/step - loss: 0.7085 - accuracy: 0.7059 - val_loss: 0.7189 - val_accuracy: 0.7106\n",
            "Epoch 32/500\n",
            "39/39 [==============================] - 0s 3ms/step - loss: 0.7052 - accuracy: 0.7091 - val_loss: 0.7141 - val_accuracy: 0.7152\n",
            "Epoch 33/500\n",
            "39/39 [==============================] - 0s 3ms/step - loss: 0.7016 - accuracy: 0.7121 - val_loss: 0.7102 - val_accuracy: 0.7171\n",
            "Epoch 34/500\n",
            "39/39 [==============================] - 0s 3ms/step - loss: 0.6981 - accuracy: 0.7146 - val_loss: 0.7066 - val_accuracy: 0.7217\n",
            "Epoch 35/500\n",
            "39/39 [==============================] - 0s 3ms/step - loss: 0.6946 - accuracy: 0.7159 - val_loss: 0.7054 - val_accuracy: 0.7189\n",
            "Epoch 36/500\n",
            "39/39 [==============================] - 0s 3ms/step - loss: 0.6918 - accuracy: 0.7155 - val_loss: 0.7032 - val_accuracy: 0.7161\n",
            "Epoch 37/500\n",
            "39/39 [==============================] - 0s 3ms/step - loss: 0.6886 - accuracy: 0.7169 - val_loss: 0.6987 - val_accuracy: 0.7180\n",
            "Epoch 38/500\n",
            "39/39 [==============================] - 0s 3ms/step - loss: 0.6862 - accuracy: 0.7173 - val_loss: 0.6960 - val_accuracy: 0.7189\n",
            "Epoch 39/500\n",
            "39/39 [==============================] - 0s 3ms/step - loss: 0.6831 - accuracy: 0.7192 - val_loss: 0.6935 - val_accuracy: 0.7207\n",
            "Epoch 40/500\n",
            "39/39 [==============================] - 0s 3ms/step - loss: 0.6810 - accuracy: 0.7205 - val_loss: 0.6923 - val_accuracy: 0.7198\n",
            "Epoch 41/500\n",
            "39/39 [==============================] - 0s 3ms/step - loss: 0.6785 - accuracy: 0.7202 - val_loss: 0.6885 - val_accuracy: 0.7207\n",
            "Epoch 42/500\n",
            "39/39 [==============================] - 0s 3ms/step - loss: 0.6760 - accuracy: 0.7238 - val_loss: 0.6892 - val_accuracy: 0.7281\n",
            "Epoch 43/500\n",
            "39/39 [==============================] - 0s 3ms/step - loss: 0.6740 - accuracy: 0.7237 - val_loss: 0.6870 - val_accuracy: 0.7235\n",
            "Epoch 44/500\n",
            "39/39 [==============================] - 0s 3ms/step - loss: 0.6717 - accuracy: 0.7253 - val_loss: 0.6838 - val_accuracy: 0.7253\n",
            "Epoch 45/500\n",
            "39/39 [==============================] - 0s 3ms/step - loss: 0.6697 - accuracy: 0.7250 - val_loss: 0.6843 - val_accuracy: 0.7300\n",
            "Epoch 46/500\n",
            "39/39 [==============================] - 0s 3ms/step - loss: 0.6676 - accuracy: 0.7283 - val_loss: 0.6825 - val_accuracy: 0.7263\n",
            "Epoch 47/500\n",
            "39/39 [==============================] - 0s 3ms/step - loss: 0.6669 - accuracy: 0.7257 - val_loss: 0.6784 - val_accuracy: 0.7318\n",
            "Epoch 48/500\n",
            "39/39 [==============================] - 0s 3ms/step - loss: 0.6647 - accuracy: 0.7291 - val_loss: 0.6788 - val_accuracy: 0.7290\n",
            "Epoch 49/500\n",
            "39/39 [==============================] - 0s 3ms/step - loss: 0.6626 - accuracy: 0.7287 - val_loss: 0.6777 - val_accuracy: 0.7300\n",
            "Epoch 50/500\n",
            "39/39 [==============================] - 0s 3ms/step - loss: 0.6608 - accuracy: 0.7296 - val_loss: 0.6740 - val_accuracy: 0.7318\n",
            "Epoch 51/500\n",
            "39/39 [==============================] - 0s 3ms/step - loss: 0.6597 - accuracy: 0.7305 - val_loss: 0.6768 - val_accuracy: 0.7336\n",
            "Epoch 52/500\n",
            "39/39 [==============================] - 0s 3ms/step - loss: 0.6581 - accuracy: 0.7295 - val_loss: 0.6777 - val_accuracy: 0.7281\n",
            "Epoch 53/500\n",
            "39/39 [==============================] - 0s 3ms/step - loss: 0.6572 - accuracy: 0.7309 - val_loss: 0.6714 - val_accuracy: 0.7382\n",
            "Epoch 54/500\n",
            "39/39 [==============================] - 0s 3ms/step - loss: 0.6557 - accuracy: 0.7317 - val_loss: 0.6737 - val_accuracy: 0.7346\n",
            "Epoch 55/500\n",
            "39/39 [==============================] - 0s 3ms/step - loss: 0.6537 - accuracy: 0.7323 - val_loss: 0.6701 - val_accuracy: 0.7355\n",
            "Epoch 56/500\n",
            "39/39 [==============================] - 0s 3ms/step - loss: 0.6522 - accuracy: 0.7309 - val_loss: 0.6709 - val_accuracy: 0.7355\n",
            "Epoch 57/500\n",
            "39/39 [==============================] - 0s 3ms/step - loss: 0.6519 - accuracy: 0.7306 - val_loss: 0.6705 - val_accuracy: 0.7318\n",
            "Epoch 58/500\n",
            "39/39 [==============================] - 0s 3ms/step - loss: 0.6513 - accuracy: 0.7350 - val_loss: 0.6694 - val_accuracy: 0.7346\n",
            "Epoch 59/500\n",
            "39/39 [==============================] - 0s 3ms/step - loss: 0.6501 - accuracy: 0.7337 - val_loss: 0.6670 - val_accuracy: 0.7419\n",
            "Epoch 60/500\n",
            "39/39 [==============================] - 0s 3ms/step - loss: 0.6483 - accuracy: 0.7336 - val_loss: 0.6667 - val_accuracy: 0.7419\n",
            "Epoch 61/500\n",
            "39/39 [==============================] - 0s 3ms/step - loss: 0.6472 - accuracy: 0.7359 - val_loss: 0.6650 - val_accuracy: 0.7410\n",
            "Epoch 62/500\n",
            "39/39 [==============================] - 0s 3ms/step - loss: 0.6468 - accuracy: 0.7360 - val_loss: 0.6682 - val_accuracy: 0.7419\n",
            "Epoch 63/500\n",
            "39/39 [==============================] - 0s 3ms/step - loss: 0.6465 - accuracy: 0.7346 - val_loss: 0.6645 - val_accuracy: 0.7438\n",
            "Epoch 64/500\n",
            "39/39 [==============================] - 0s 3ms/step - loss: 0.6449 - accuracy: 0.7372 - val_loss: 0.6641 - val_accuracy: 0.7456\n",
            "Epoch 65/500\n",
            "39/39 [==============================] - 0s 3ms/step - loss: 0.6436 - accuracy: 0.7353 - val_loss: 0.6607 - val_accuracy: 0.7456\n",
            "Epoch 66/500\n",
            "39/39 [==============================] - 0s 3ms/step - loss: 0.6429 - accuracy: 0.7341 - val_loss: 0.6611 - val_accuracy: 0.7401\n",
            "Epoch 67/500\n",
            "39/39 [==============================] - 0s 3ms/step - loss: 0.6419 - accuracy: 0.7369 - val_loss: 0.6631 - val_accuracy: 0.7382\n",
            "Epoch 68/500\n",
            "39/39 [==============================] - 0s 3ms/step - loss: 0.6413 - accuracy: 0.7353 - val_loss: 0.6620 - val_accuracy: 0.7447\n",
            "Epoch 69/500\n",
            "39/39 [==============================] - 0s 3ms/step - loss: 0.6421 - accuracy: 0.7368 - val_loss: 0.6601 - val_accuracy: 0.7447\n",
            "Epoch 70/500\n",
            "39/39 [==============================] - 0s 3ms/step - loss: 0.6408 - accuracy: 0.7392 - val_loss: 0.6602 - val_accuracy: 0.7438\n",
            "Epoch 71/500\n",
            "39/39 [==============================] - 0s 3ms/step - loss: 0.6391 - accuracy: 0.7362 - val_loss: 0.6613 - val_accuracy: 0.7438\n",
            "Epoch 72/500\n",
            "39/39 [==============================] - 0s 3ms/step - loss: 0.6389 - accuracy: 0.7364 - val_loss: 0.6582 - val_accuracy: 0.7484\n",
            "Epoch 73/500\n",
            "39/39 [==============================] - 0s 3ms/step - loss: 0.6380 - accuracy: 0.7392 - val_loss: 0.6594 - val_accuracy: 0.7438\n",
            "Epoch 74/500\n",
            "39/39 [==============================] - 0s 3ms/step - loss: 0.6380 - accuracy: 0.7362 - val_loss: 0.6563 - val_accuracy: 0.7502\n",
            "Epoch 75/500\n",
            "39/39 [==============================] - 0s 3ms/step - loss: 0.6366 - accuracy: 0.7398 - val_loss: 0.6551 - val_accuracy: 0.7493\n",
            "Epoch 76/500\n",
            "39/39 [==============================] - 0s 3ms/step - loss: 0.6352 - accuracy: 0.7404 - val_loss: 0.6593 - val_accuracy: 0.7364\n",
            "Epoch 77/500\n",
            "39/39 [==============================] - 0s 3ms/step - loss: 0.6353 - accuracy: 0.7403 - val_loss: 0.6578 - val_accuracy: 0.7512\n",
            "Epoch 78/500\n",
            "39/39 [==============================] - 0s 3ms/step - loss: 0.6346 - accuracy: 0.7399 - val_loss: 0.6563 - val_accuracy: 0.7447\n",
            "Epoch 79/500\n",
            "39/39 [==============================] - 0s 3ms/step - loss: 0.6346 - accuracy: 0.7390 - val_loss: 0.6556 - val_accuracy: 0.7475\n",
            "Epoch 80/500\n",
            "39/39 [==============================] - 0s 3ms/step - loss: 0.6332 - accuracy: 0.7394 - val_loss: 0.6536 - val_accuracy: 0.7512\n",
            "Epoch 81/500\n",
            "39/39 [==============================] - 0s 3ms/step - loss: 0.6336 - accuracy: 0.7409 - val_loss: 0.6524 - val_accuracy: 0.7548\n",
            "Epoch 82/500\n",
            "39/39 [==============================] - 0s 3ms/step - loss: 0.6328 - accuracy: 0.7396 - val_loss: 0.6544 - val_accuracy: 0.7484\n",
            "Epoch 83/500\n",
            "39/39 [==============================] - 0s 3ms/step - loss: 0.6326 - accuracy: 0.7404 - val_loss: 0.6528 - val_accuracy: 0.7539\n",
            "Epoch 84/500\n",
            "39/39 [==============================] - 0s 3ms/step - loss: 0.6312 - accuracy: 0.7408 - val_loss: 0.6493 - val_accuracy: 0.7465\n",
            "Epoch 85/500\n",
            "39/39 [==============================] - 0s 3ms/step - loss: 0.6306 - accuracy: 0.7413 - val_loss: 0.6530 - val_accuracy: 0.7539\n",
            "Epoch 86/500\n",
            "39/39 [==============================] - 0s 3ms/step - loss: 0.6296 - accuracy: 0.7400 - val_loss: 0.6523 - val_accuracy: 0.7484\n",
            "Epoch 87/500\n",
            "39/39 [==============================] - 0s 3ms/step - loss: 0.6293 - accuracy: 0.7414 - val_loss: 0.6511 - val_accuracy: 0.7521\n",
            "Epoch 88/500\n",
            "39/39 [==============================] - 0s 3ms/step - loss: 0.6295 - accuracy: 0.7398 - val_loss: 0.6510 - val_accuracy: 0.7502\n",
            "Epoch 89/500\n",
            "39/39 [==============================] - 0s 3ms/step - loss: 0.6297 - accuracy: 0.7399 - val_loss: 0.6534 - val_accuracy: 0.7521\n",
            "Epoch 90/500\n",
            "39/39 [==============================] - 0s 3ms/step - loss: 0.6287 - accuracy: 0.7424 - val_loss: 0.6513 - val_accuracy: 0.7484\n",
            "Epoch 91/500\n",
            "39/39 [==============================] - 0s 3ms/step - loss: 0.6274 - accuracy: 0.7407 - val_loss: 0.6520 - val_accuracy: 0.7465\n",
            "Epoch 92/500\n",
            "39/39 [==============================] - 0s 3ms/step - loss: 0.6277 - accuracy: 0.7408 - val_loss: 0.6512 - val_accuracy: 0.7493\n",
            "Epoch 93/500\n",
            "39/39 [==============================] - 0s 3ms/step - loss: 0.6268 - accuracy: 0.7427 - val_loss: 0.6505 - val_accuracy: 0.7530\n",
            "Epoch 94/500\n",
            "39/39 [==============================] - 0s 3ms/step - loss: 0.6266 - accuracy: 0.7423 - val_loss: 0.6475 - val_accuracy: 0.7521\n",
            "Epoch 95/500\n",
            "39/39 [==============================] - 0s 3ms/step - loss: 0.6260 - accuracy: 0.7430 - val_loss: 0.6481 - val_accuracy: 0.7558\n",
            "Epoch 96/500\n",
            "39/39 [==============================] - 0s 3ms/step - loss: 0.6249 - accuracy: 0.7411 - val_loss: 0.6472 - val_accuracy: 0.7521\n",
            "Epoch 97/500\n",
            "39/39 [==============================] - 0s 3ms/step - loss: 0.6252 - accuracy: 0.7418 - val_loss: 0.6474 - val_accuracy: 0.7539\n",
            "Epoch 98/500\n",
            "39/39 [==============================] - 0s 3ms/step - loss: 0.6245 - accuracy: 0.7433 - val_loss: 0.6481 - val_accuracy: 0.7521\n",
            "Epoch 99/500\n",
            "39/39 [==============================] - 0s 3ms/step - loss: 0.6241 - accuracy: 0.7411 - val_loss: 0.6465 - val_accuracy: 0.7539\n",
            "Epoch 100/500\n",
            "39/39 [==============================] - 0s 3ms/step - loss: 0.6235 - accuracy: 0.7426 - val_loss: 0.6452 - val_accuracy: 0.7567\n",
            "Epoch 101/500\n",
            "39/39 [==============================] - 0s 3ms/step - loss: 0.6239 - accuracy: 0.7406 - val_loss: 0.6451 - val_accuracy: 0.7539\n",
            "Epoch 102/500\n",
            "39/39 [==============================] - 0s 3ms/step - loss: 0.6234 - accuracy: 0.7415 - val_loss: 0.6470 - val_accuracy: 0.7521\n",
            "Epoch 103/500\n",
            "39/39 [==============================] - 0s 3ms/step - loss: 0.6232 - accuracy: 0.7442 - val_loss: 0.6463 - val_accuracy: 0.7539\n",
            "Epoch 104/500\n",
            "39/39 [==============================] - 0s 4ms/step - loss: 0.6225 - accuracy: 0.7426 - val_loss: 0.6423 - val_accuracy: 0.7558\n",
            "Epoch 105/500\n",
            "39/39 [==============================] - 0s 3ms/step - loss: 0.6218 - accuracy: 0.7439 - val_loss: 0.6471 - val_accuracy: 0.7521\n",
            "Epoch 106/500\n",
            "39/39 [==============================] - 0s 3ms/step - loss: 0.6214 - accuracy: 0.7430 - val_loss: 0.6423 - val_accuracy: 0.7567\n",
            "Epoch 107/500\n",
            "39/39 [==============================] - 0s 4ms/step - loss: 0.6212 - accuracy: 0.7430 - val_loss: 0.6452 - val_accuracy: 0.7604\n",
            "Epoch 108/500\n",
            "39/39 [==============================] - 0s 3ms/step - loss: 0.6217 - accuracy: 0.7422 - val_loss: 0.6430 - val_accuracy: 0.7585\n",
            "Epoch 109/500\n",
            "39/39 [==============================] - 0s 4ms/step - loss: 0.6209 - accuracy: 0.7442 - val_loss: 0.6402 - val_accuracy: 0.7576\n",
            "Epoch 110/500\n",
            "39/39 [==============================] - 0s 4ms/step - loss: 0.6201 - accuracy: 0.7451 - val_loss: 0.6433 - val_accuracy: 0.7558\n",
            "Epoch 111/500\n",
            "39/39 [==============================] - 0s 5ms/step - loss: 0.6202 - accuracy: 0.7443 - val_loss: 0.6434 - val_accuracy: 0.7521\n",
            "Epoch 112/500\n",
            "39/39 [==============================] - 0s 5ms/step - loss: 0.6196 - accuracy: 0.7439 - val_loss: 0.6391 - val_accuracy: 0.7604\n",
            "Epoch 113/500\n",
            "39/39 [==============================] - 0s 4ms/step - loss: 0.6194 - accuracy: 0.7453 - val_loss: 0.6441 - val_accuracy: 0.7576\n",
            "Epoch 114/500\n",
            "39/39 [==============================] - 0s 5ms/step - loss: 0.6192 - accuracy: 0.7455 - val_loss: 0.6420 - val_accuracy: 0.7548\n",
            "Epoch 115/500\n",
            "39/39 [==============================] - 0s 5ms/step - loss: 0.6188 - accuracy: 0.7425 - val_loss: 0.6405 - val_accuracy: 0.7585\n",
            "Epoch 116/500\n",
            "39/39 [==============================] - 0s 4ms/step - loss: 0.6184 - accuracy: 0.7443 - val_loss: 0.6433 - val_accuracy: 0.7521\n",
            "Epoch 117/500\n",
            "39/39 [==============================] - 0s 5ms/step - loss: 0.6183 - accuracy: 0.7449 - val_loss: 0.6405 - val_accuracy: 0.7512\n",
            "Epoch 118/500\n",
            "39/39 [==============================] - 0s 4ms/step - loss: 0.6190 - accuracy: 0.7425 - val_loss: 0.6404 - val_accuracy: 0.7585\n",
            "Epoch 119/500\n",
            "39/39 [==============================] - 0s 5ms/step - loss: 0.6172 - accuracy: 0.7431 - val_loss: 0.6402 - val_accuracy: 0.7558\n",
            "Epoch 120/500\n",
            "39/39 [==============================] - 0s 5ms/step - loss: 0.6166 - accuracy: 0.7454 - val_loss: 0.6398 - val_accuracy: 0.7548\n",
            "Epoch 121/500\n",
            "39/39 [==============================] - 0s 4ms/step - loss: 0.6168 - accuracy: 0.7453 - val_loss: 0.6361 - val_accuracy: 0.7604\n",
            "Epoch 122/500\n",
            "39/39 [==============================] - 0s 4ms/step - loss: 0.6173 - accuracy: 0.7449 - val_loss: 0.6402 - val_accuracy: 0.7585\n",
            "Epoch 123/500\n",
            "39/39 [==============================] - 0s 5ms/step - loss: 0.6161 - accuracy: 0.7452 - val_loss: 0.6384 - val_accuracy: 0.7567\n",
            "Epoch 124/500\n",
            "39/39 [==============================] - 0s 3ms/step - loss: 0.6168 - accuracy: 0.7455 - val_loss: 0.6426 - val_accuracy: 0.7521\n",
            "Epoch 125/500\n",
            "39/39 [==============================] - 0s 3ms/step - loss: 0.6161 - accuracy: 0.7441 - val_loss: 0.6406 - val_accuracy: 0.7530\n",
            "Epoch 126/500\n",
            "39/39 [==============================] - 0s 3ms/step - loss: 0.6156 - accuracy: 0.7457 - val_loss: 0.6387 - val_accuracy: 0.7548\n",
            "Epoch 127/500\n",
            "39/39 [==============================] - 0s 3ms/step - loss: 0.6150 - accuracy: 0.7462 - val_loss: 0.6382 - val_accuracy: 0.7558\n",
            "Epoch 128/500\n",
            "39/39 [==============================] - 0s 3ms/step - loss: 0.6151 - accuracy: 0.7452 - val_loss: 0.6381 - val_accuracy: 0.7576\n",
            "Epoch 129/500\n",
            "39/39 [==============================] - 0s 3ms/step - loss: 0.6151 - accuracy: 0.7467 - val_loss: 0.6387 - val_accuracy: 0.7558\n",
            "Epoch 130/500\n",
            "39/39 [==============================] - 0s 2ms/step - loss: 0.6150 - accuracy: 0.7473 - val_loss: 0.6421 - val_accuracy: 0.7502\n",
            "Epoch 131/500\n",
            "39/39 [==============================] - 0s 3ms/step - loss: 0.6146 - accuracy: 0.7438 - val_loss: 0.6382 - val_accuracy: 0.7622\n",
            "Epoch 132/500\n",
            "39/39 [==============================] - 0s 3ms/step - loss: 0.6145 - accuracy: 0.7466 - val_loss: 0.6360 - val_accuracy: 0.7576\n",
            "Epoch 133/500\n",
            "39/39 [==============================] - 0s 3ms/step - loss: 0.6137 - accuracy: 0.7455 - val_loss: 0.6368 - val_accuracy: 0.7594\n",
            "Epoch 134/500\n",
            "39/39 [==============================] - 0s 3ms/step - loss: 0.6136 - accuracy: 0.7465 - val_loss: 0.6371 - val_accuracy: 0.7567\n",
            "Epoch 135/500\n",
            "39/39 [==============================] - 0s 3ms/step - loss: 0.6133 - accuracy: 0.7463 - val_loss: 0.6358 - val_accuracy: 0.7567\n",
            "Epoch 136/500\n",
            "39/39 [==============================] - 0s 3ms/step - loss: 0.6133 - accuracy: 0.7463 - val_loss: 0.6365 - val_accuracy: 0.7604\n",
            "Epoch 137/500\n",
            "39/39 [==============================] - 0s 3ms/step - loss: 0.6134 - accuracy: 0.7453 - val_loss: 0.6396 - val_accuracy: 0.7502\n",
            "Epoch 138/500\n",
            "39/39 [==============================] - 0s 3ms/step - loss: 0.6127 - accuracy: 0.7468 - val_loss: 0.6382 - val_accuracy: 0.7567\n",
            "Epoch 139/500\n",
            "39/39 [==============================] - 0s 3ms/step - loss: 0.6124 - accuracy: 0.7470 - val_loss: 0.6349 - val_accuracy: 0.7594\n",
            "Epoch 140/500\n",
            "39/39 [==============================] - 0s 3ms/step - loss: 0.6118 - accuracy: 0.7467 - val_loss: 0.6356 - val_accuracy: 0.7585\n",
            "Epoch 141/500\n",
            "39/39 [==============================] - 0s 3ms/step - loss: 0.6122 - accuracy: 0.7479 - val_loss: 0.6371 - val_accuracy: 0.7548\n",
            "Epoch 142/500\n",
            "39/39 [==============================] - 0s 3ms/step - loss: 0.6120 - accuracy: 0.7469 - val_loss: 0.6325 - val_accuracy: 0.7613\n",
            "Epoch 143/500\n",
            "39/39 [==============================] - 0s 3ms/step - loss: 0.6128 - accuracy: 0.7456 - val_loss: 0.6349 - val_accuracy: 0.7567\n",
            "Epoch 144/500\n",
            "39/39 [==============================] - 0s 3ms/step - loss: 0.6110 - accuracy: 0.7487 - val_loss: 0.6335 - val_accuracy: 0.7585\n",
            "Epoch 145/500\n",
            "39/39 [==============================] - 0s 3ms/step - loss: 0.6115 - accuracy: 0.7475 - val_loss: 0.6325 - val_accuracy: 0.7558\n",
            "Epoch 146/500\n",
            "39/39 [==============================] - 0s 3ms/step - loss: 0.6108 - accuracy: 0.7457 - val_loss: 0.6319 - val_accuracy: 0.7594\n",
            "Epoch 147/500\n",
            "39/39 [==============================] - 0s 3ms/step - loss: 0.6109 - accuracy: 0.7470 - val_loss: 0.6315 - val_accuracy: 0.7613\n",
            "Epoch 148/500\n",
            "39/39 [==============================] - 0s 3ms/step - loss: 0.6101 - accuracy: 0.7464 - val_loss: 0.6358 - val_accuracy: 0.7502\n",
            "Epoch 149/500\n",
            "39/39 [==============================] - 0s 3ms/step - loss: 0.6106 - accuracy: 0.7455 - val_loss: 0.6357 - val_accuracy: 0.7539\n",
            "Epoch 150/500\n",
            "39/39 [==============================] - 0s 3ms/step - loss: 0.6100 - accuracy: 0.7482 - val_loss: 0.6331 - val_accuracy: 0.7613\n",
            "Epoch 151/500\n",
            "39/39 [==============================] - 0s 3ms/step - loss: 0.6097 - accuracy: 0.7475 - val_loss: 0.6306 - val_accuracy: 0.7622\n",
            "Epoch 152/500\n",
            "39/39 [==============================] - 0s 3ms/step - loss: 0.6094 - accuracy: 0.7477 - val_loss: 0.6313 - val_accuracy: 0.7631\n",
            "Epoch 153/500\n",
            "39/39 [==============================] - 0s 3ms/step - loss: 0.6096 - accuracy: 0.7481 - val_loss: 0.6315 - val_accuracy: 0.7622\n",
            "Epoch 154/500\n",
            "39/39 [==============================] - 0s 3ms/step - loss: 0.6088 - accuracy: 0.7476 - val_loss: 0.6365 - val_accuracy: 0.7539\n",
            "Epoch 155/500\n",
            "39/39 [==============================] - 0s 3ms/step - loss: 0.6089 - accuracy: 0.7474 - val_loss: 0.6348 - val_accuracy: 0.7512\n",
            "Epoch 156/500\n",
            "39/39 [==============================] - 0s 4ms/step - loss: 0.6091 - accuracy: 0.7480 - val_loss: 0.6335 - val_accuracy: 0.7539\n",
            "Epoch 157/500\n",
            "39/39 [==============================] - 0s 8ms/step - loss: 0.6089 - accuracy: 0.7479 - val_loss: 0.6315 - val_accuracy: 0.7613\n",
            "Epoch 158/500\n",
            "39/39 [==============================] - 0s 5ms/step - loss: 0.6082 - accuracy: 0.7467 - val_loss: 0.6342 - val_accuracy: 0.7502\n",
            "Epoch 159/500\n",
            "39/39 [==============================] - 0s 4ms/step - loss: 0.6081 - accuracy: 0.7475 - val_loss: 0.6329 - val_accuracy: 0.7558\n",
            "Epoch 160/500\n",
            "39/39 [==============================] - 0s 6ms/step - loss: 0.6079 - accuracy: 0.7491 - val_loss: 0.6317 - val_accuracy: 0.7576\n",
            "Epoch 161/500\n",
            "39/39 [==============================] - 0s 5ms/step - loss: 0.6078 - accuracy: 0.7464 - val_loss: 0.6320 - val_accuracy: 0.7576\n",
            "Epoch 162/500\n",
            "39/39 [==============================] - 0s 5ms/step - loss: 0.6080 - accuracy: 0.7488 - val_loss: 0.6330 - val_accuracy: 0.7548\n",
            "Epoch 163/500\n",
            "39/39 [==============================] - 0s 7ms/step - loss: 0.6075 - accuracy: 0.7496 - val_loss: 0.6344 - val_accuracy: 0.7521\n",
            "Epoch 164/500\n",
            "39/39 [==============================] - 0s 8ms/step - loss: 0.6080 - accuracy: 0.7476 - val_loss: 0.6403 - val_accuracy: 0.7512\n",
            "Epoch 165/500\n",
            "39/39 [==============================] - 0s 6ms/step - loss: 0.6069 - accuracy: 0.7484 - val_loss: 0.6292 - val_accuracy: 0.7594\n",
            "Epoch 166/500\n",
            "39/39 [==============================] - 0s 6ms/step - loss: 0.6062 - accuracy: 0.7478 - val_loss: 0.6313 - val_accuracy: 0.7530\n",
            "Epoch 167/500\n",
            "39/39 [==============================] - 0s 5ms/step - loss: 0.6066 - accuracy: 0.7482 - val_loss: 0.6314 - val_accuracy: 0.7604\n",
            "Epoch 168/500\n",
            "39/39 [==============================] - 0s 11ms/step - loss: 0.6065 - accuracy: 0.7478 - val_loss: 0.6302 - val_accuracy: 0.7585\n",
            "Epoch 169/500\n",
            "39/39 [==============================] - 0s 5ms/step - loss: 0.6063 - accuracy: 0.7482 - val_loss: 0.6298 - val_accuracy: 0.7613\n",
            "Epoch 170/500\n",
            "39/39 [==============================] - 0s 8ms/step - loss: 0.6072 - accuracy: 0.7463 - val_loss: 0.6296 - val_accuracy: 0.7594\n",
            "Epoch 171/500\n",
            "39/39 [==============================] - 0s 6ms/step - loss: 0.6066 - accuracy: 0.7479 - val_loss: 0.6309 - val_accuracy: 0.7548\n",
            "Epoch 172/500\n",
            "39/39 [==============================] - 0s 5ms/step - loss: 0.6060 - accuracy: 0.7483 - val_loss: 0.6289 - val_accuracy: 0.7548\n",
            "Epoch 173/500\n",
            "39/39 [==============================] - 0s 6ms/step - loss: 0.6059 - accuracy: 0.7470 - val_loss: 0.6311 - val_accuracy: 0.7576\n",
            "Epoch 174/500\n",
            "39/39 [==============================] - 0s 5ms/step - loss: 0.6053 - accuracy: 0.7509 - val_loss: 0.6303 - val_accuracy: 0.7594\n",
            "Epoch 175/500\n",
            "39/39 [==============================] - 0s 6ms/step - loss: 0.6052 - accuracy: 0.7475 - val_loss: 0.6337 - val_accuracy: 0.7539\n",
            "Epoch 176/500\n",
            "39/39 [==============================] - 0s 5ms/step - loss: 0.6059 - accuracy: 0.7468 - val_loss: 0.6288 - val_accuracy: 0.7558\n",
            "Epoch 177/500\n",
            "39/39 [==============================] - 0s 6ms/step - loss: 0.6056 - accuracy: 0.7489 - val_loss: 0.6292 - val_accuracy: 0.7613\n",
            "Epoch 178/500\n",
            "39/39 [==============================] - 0s 7ms/step - loss: 0.6047 - accuracy: 0.7497 - val_loss: 0.6337 - val_accuracy: 0.7539\n",
            "Epoch 179/500\n",
            "39/39 [==============================] - 0s 5ms/step - loss: 0.6047 - accuracy: 0.7492 - val_loss: 0.6309 - val_accuracy: 0.7539\n",
            "Epoch 180/500\n",
            "39/39 [==============================] - 0s 4ms/step - loss: 0.6050 - accuracy: 0.7478 - val_loss: 0.6286 - val_accuracy: 0.7594\n",
            "Epoch 181/500\n",
            "39/39 [==============================] - 0s 5ms/step - loss: 0.6044 - accuracy: 0.7462 - val_loss: 0.6288 - val_accuracy: 0.7521\n",
            "Epoch 182/500\n",
            "39/39 [==============================] - 0s 7ms/step - loss: 0.6054 - accuracy: 0.7513 - val_loss: 0.6307 - val_accuracy: 0.7548\n",
            "Epoch 183/500\n",
            "39/39 [==============================] - 0s 6ms/step - loss: 0.6039 - accuracy: 0.7495 - val_loss: 0.6279 - val_accuracy: 0.7631\n",
            "Epoch 184/500\n",
            "39/39 [==============================] - 0s 5ms/step - loss: 0.6047 - accuracy: 0.7484 - val_loss: 0.6316 - val_accuracy: 0.7631\n",
            "Epoch 185/500\n",
            "39/39 [==============================] - 0s 7ms/step - loss: 0.6036 - accuracy: 0.7486 - val_loss: 0.6303 - val_accuracy: 0.7576\n",
            "Epoch 186/500\n",
            "39/39 [==============================] - 0s 6ms/step - loss: 0.6039 - accuracy: 0.7512 - val_loss: 0.6289 - val_accuracy: 0.7585\n",
            "Epoch 187/500\n",
            "39/39 [==============================] - 0s 7ms/step - loss: 0.6043 - accuracy: 0.7491 - val_loss: 0.6288 - val_accuracy: 0.7585\n",
            "Epoch 188/500\n",
            "39/39 [==============================] - 0s 7ms/step - loss: 0.6037 - accuracy: 0.7507 - val_loss: 0.6317 - val_accuracy: 0.7576\n",
            "Epoch 189/500\n",
            "39/39 [==============================] - 0s 13ms/step - loss: 0.6038 - accuracy: 0.7510 - val_loss: 0.6289 - val_accuracy: 0.7650\n",
            "Epoch 190/500\n",
            "39/39 [==============================] - 0s 5ms/step - loss: 0.6038 - accuracy: 0.7489 - val_loss: 0.6313 - val_accuracy: 0.7576\n",
            "Epoch 191/500\n",
            "39/39 [==============================] - 0s 5ms/step - loss: 0.6024 - accuracy: 0.7498 - val_loss: 0.6291 - val_accuracy: 0.7631\n",
            "Epoch 192/500\n",
            "39/39 [==============================] - 0s 7ms/step - loss: 0.6031 - accuracy: 0.7491 - val_loss: 0.6288 - val_accuracy: 0.7604\n",
            "Epoch 193/500\n",
            "39/39 [==============================] - 0s 5ms/step - loss: 0.6037 - accuracy: 0.7490 - val_loss: 0.6279 - val_accuracy: 0.7576\n",
            "Epoch 194/500\n",
            "39/39 [==============================] - 0s 5ms/step - loss: 0.6028 - accuracy: 0.7489 - val_loss: 0.6267 - val_accuracy: 0.7604\n",
            "Epoch 195/500\n",
            "39/39 [==============================] - 0s 5ms/step - loss: 0.6025 - accuracy: 0.7494 - val_loss: 0.6300 - val_accuracy: 0.7576\n",
            "Epoch 196/500\n",
            "39/39 [==============================] - 0s 7ms/step - loss: 0.6021 - accuracy: 0.7495 - val_loss: 0.6277 - val_accuracy: 0.7585\n",
            "Epoch 197/500\n",
            "39/39 [==============================] - 0s 7ms/step - loss: 0.6020 - accuracy: 0.7495 - val_loss: 0.6285 - val_accuracy: 0.7604\n",
            "Epoch 198/500\n",
            "39/39 [==============================] - 0s 5ms/step - loss: 0.6019 - accuracy: 0.7512 - val_loss: 0.6290 - val_accuracy: 0.7613\n",
            "Epoch 199/500\n",
            "39/39 [==============================] - 0s 4ms/step - loss: 0.6021 - accuracy: 0.7498 - val_loss: 0.6249 - val_accuracy: 0.7604\n",
            "Epoch 200/500\n",
            "39/39 [==============================] - 0s 6ms/step - loss: 0.6020 - accuracy: 0.7506 - val_loss: 0.6262 - val_accuracy: 0.7622\n",
            "Epoch 201/500\n",
            "39/39 [==============================] - 0s 5ms/step - loss: 0.6014 - accuracy: 0.7505 - val_loss: 0.6257 - val_accuracy: 0.7622\n",
            "Epoch 202/500\n",
            "39/39 [==============================] - 0s 5ms/step - loss: 0.6016 - accuracy: 0.7504 - val_loss: 0.6310 - val_accuracy: 0.7631\n",
            "Epoch 203/500\n",
            "39/39 [==============================] - 0s 5ms/step - loss: 0.6015 - accuracy: 0.7509 - val_loss: 0.6270 - val_accuracy: 0.7594\n",
            "Epoch 204/500\n",
            "39/39 [==============================] - 0s 5ms/step - loss: 0.6012 - accuracy: 0.7510 - val_loss: 0.6268 - val_accuracy: 0.7604\n",
            "Epoch 205/500\n",
            "39/39 [==============================] - 0s 5ms/step - loss: 0.6014 - accuracy: 0.7517 - val_loss: 0.6258 - val_accuracy: 0.7594\n",
            "Epoch 206/500\n",
            "39/39 [==============================] - 0s 6ms/step - loss: 0.6005 - accuracy: 0.7513 - val_loss: 0.6297 - val_accuracy: 0.7604\n",
            "Epoch 207/500\n",
            "39/39 [==============================] - 0s 5ms/step - loss: 0.6006 - accuracy: 0.7492 - val_loss: 0.6281 - val_accuracy: 0.7631\n",
            "Epoch 208/500\n",
            "39/39 [==============================] - 0s 5ms/step - loss: 0.6004 - accuracy: 0.7496 - val_loss: 0.6274 - val_accuracy: 0.7622\n",
            "Epoch 209/500\n",
            "39/39 [==============================] - 0s 4ms/step - loss: 0.6001 - accuracy: 0.7519 - val_loss: 0.6260 - val_accuracy: 0.7622\n",
            "Epoch 210/500\n",
            "39/39 [==============================] - 0s 6ms/step - loss: 0.6004 - accuracy: 0.7509 - val_loss: 0.6242 - val_accuracy: 0.7585\n",
            "Epoch 211/500\n",
            "39/39 [==============================] - 0s 6ms/step - loss: 0.6007 - accuracy: 0.7513 - val_loss: 0.6275 - val_accuracy: 0.7650\n",
            "Epoch 212/500\n",
            "39/39 [==============================] - 0s 5ms/step - loss: 0.6004 - accuracy: 0.7498 - val_loss: 0.6275 - val_accuracy: 0.7613\n",
            "Epoch 213/500\n",
            "39/39 [==============================] - 0s 5ms/step - loss: 0.5997 - accuracy: 0.7511 - val_loss: 0.6282 - val_accuracy: 0.7594\n",
            "Epoch 214/500\n",
            "39/39 [==============================] - 0s 5ms/step - loss: 0.6001 - accuracy: 0.7517 - val_loss: 0.6290 - val_accuracy: 0.7613\n",
            "Epoch 215/500\n",
            "39/39 [==============================] - 0s 7ms/step - loss: 0.6000 - accuracy: 0.7491 - val_loss: 0.6259 - val_accuracy: 0.7631\n",
            "Epoch 216/500\n",
            "39/39 [==============================] - 0s 9ms/step - loss: 0.6005 - accuracy: 0.7503 - val_loss: 0.6283 - val_accuracy: 0.7622\n",
            "Epoch 217/500\n",
            "39/39 [==============================] - 0s 7ms/step - loss: 0.5997 - accuracy: 0.7505 - val_loss: 0.6296 - val_accuracy: 0.7594\n",
            "Epoch 218/500\n",
            "39/39 [==============================] - 0s 8ms/step - loss: 0.5996 - accuracy: 0.7530 - val_loss: 0.6259 - val_accuracy: 0.7604\n",
            "Epoch 219/500\n",
            "39/39 [==============================] - 0s 8ms/step - loss: 0.5991 - accuracy: 0.7505 - val_loss: 0.6296 - val_accuracy: 0.7576\n",
            "Epoch 220/500\n",
            "39/39 [==============================] - 0s 6ms/step - loss: 0.6003 - accuracy: 0.7505 - val_loss: 0.6304 - val_accuracy: 0.7659\n",
            "Epoch 221/500\n",
            "39/39 [==============================] - 0s 10ms/step - loss: 0.5993 - accuracy: 0.7502 - val_loss: 0.6268 - val_accuracy: 0.7604\n",
            "Epoch 222/500\n",
            "39/39 [==============================] - 0s 7ms/step - loss: 0.5990 - accuracy: 0.7503 - val_loss: 0.6265 - val_accuracy: 0.7631\n",
            "Epoch 223/500\n",
            "39/39 [==============================] - 0s 6ms/step - loss: 0.5983 - accuracy: 0.7506 - val_loss: 0.6253 - val_accuracy: 0.7594\n",
            "Epoch 224/500\n",
            "39/39 [==============================] - 0s 5ms/step - loss: 0.5987 - accuracy: 0.7512 - val_loss: 0.6307 - val_accuracy: 0.7576\n",
            "Epoch 225/500\n",
            "39/39 [==============================] - 0s 7ms/step - loss: 0.5988 - accuracy: 0.7507 - val_loss: 0.6268 - val_accuracy: 0.7631\n",
            "Epoch 226/500\n",
            "39/39 [==============================] - 0s 7ms/step - loss: 0.5981 - accuracy: 0.7514 - val_loss: 0.6239 - val_accuracy: 0.7613\n",
            "Epoch 227/500\n",
            "39/39 [==============================] - 0s 7ms/step - loss: 0.5983 - accuracy: 0.7506 - val_loss: 0.6280 - val_accuracy: 0.7641\n",
            "Epoch 228/500\n",
            "39/39 [==============================] - 0s 7ms/step - loss: 0.5984 - accuracy: 0.7515 - val_loss: 0.6262 - val_accuracy: 0.7604\n",
            "Epoch 229/500\n",
            "39/39 [==============================] - 0s 7ms/step - loss: 0.5985 - accuracy: 0.7511 - val_loss: 0.6257 - val_accuracy: 0.7594\n",
            "Epoch 230/500\n",
            "39/39 [==============================] - 0s 7ms/step - loss: 0.5980 - accuracy: 0.7519 - val_loss: 0.6266 - val_accuracy: 0.7622\n",
            "Epoch 231/500\n",
            "39/39 [==============================] - 0s 8ms/step - loss: 0.5979 - accuracy: 0.7507 - val_loss: 0.6262 - val_accuracy: 0.7622\n",
            "Epoch 232/500\n",
            "39/39 [==============================] - 0s 7ms/step - loss: 0.5975 - accuracy: 0.7519 - val_loss: 0.6266 - val_accuracy: 0.7604\n",
            "Epoch 233/500\n",
            "39/39 [==============================] - 0s 5ms/step - loss: 0.5976 - accuracy: 0.7512 - val_loss: 0.6263 - val_accuracy: 0.7622\n",
            "Epoch 234/500\n",
            "39/39 [==============================] - 0s 4ms/step - loss: 0.5974 - accuracy: 0.7518 - val_loss: 0.6324 - val_accuracy: 0.7558\n",
            "Epoch 235/500\n",
            "39/39 [==============================] - 0s 5ms/step - loss: 0.5980 - accuracy: 0.7507 - val_loss: 0.6251 - val_accuracy: 0.7613\n",
            "Epoch 236/500\n",
            "39/39 [==============================] - 0s 5ms/step - loss: 0.5978 - accuracy: 0.7509 - val_loss: 0.6247 - val_accuracy: 0.7567\n",
            "Epoch 237/500\n",
            "39/39 [==============================] - 0s 5ms/step - loss: 0.5976 - accuracy: 0.7507 - val_loss: 0.6234 - val_accuracy: 0.7631\n",
            "Epoch 238/500\n",
            "39/39 [==============================] - 0s 5ms/step - loss: 0.5974 - accuracy: 0.7507 - val_loss: 0.6302 - val_accuracy: 0.7594\n",
            "Epoch 239/500\n",
            "39/39 [==============================] - 0s 5ms/step - loss: 0.5971 - accuracy: 0.7521 - val_loss: 0.6242 - val_accuracy: 0.7604\n",
            "Epoch 240/500\n",
            "39/39 [==============================] - 0s 9ms/step - loss: 0.5977 - accuracy: 0.7497 - val_loss: 0.6266 - val_accuracy: 0.7622\n",
            "Epoch 241/500\n",
            "39/39 [==============================] - 0s 6ms/step - loss: 0.5971 - accuracy: 0.7524 - val_loss: 0.6276 - val_accuracy: 0.7585\n",
            "Epoch 242/500\n",
            "39/39 [==============================] - 0s 5ms/step - loss: 0.5973 - accuracy: 0.7518 - val_loss: 0.6254 - val_accuracy: 0.7594\n",
            "Epoch 243/500\n",
            "39/39 [==============================] - 0s 8ms/step - loss: 0.5974 - accuracy: 0.7516 - val_loss: 0.6275 - val_accuracy: 0.7604\n",
            "Epoch 244/500\n",
            "39/39 [==============================] - 0s 9ms/step - loss: 0.5972 - accuracy: 0.7513 - val_loss: 0.6231 - val_accuracy: 0.7622\n",
            "Epoch 245/500\n",
            "39/39 [==============================] - 0s 7ms/step - loss: 0.5974 - accuracy: 0.7522 - val_loss: 0.6242 - val_accuracy: 0.7604\n",
            "Epoch 246/500\n",
            "39/39 [==============================] - 0s 6ms/step - loss: 0.5969 - accuracy: 0.7520 - val_loss: 0.6246 - val_accuracy: 0.7613\n",
            "Epoch 247/500\n",
            "39/39 [==============================] - 0s 6ms/step - loss: 0.5969 - accuracy: 0.7519 - val_loss: 0.6249 - val_accuracy: 0.7622\n",
            "Epoch 248/500\n",
            "39/39 [==============================] - 0s 8ms/step - loss: 0.5966 - accuracy: 0.7521 - val_loss: 0.6263 - val_accuracy: 0.7631\n",
            "Epoch 249/500\n",
            "39/39 [==============================] - 0s 6ms/step - loss: 0.5970 - accuracy: 0.7495 - val_loss: 0.6244 - val_accuracy: 0.7576\n",
            "Epoch 250/500\n",
            "39/39 [==============================] - 0s 5ms/step - loss: 0.5962 - accuracy: 0.7535 - val_loss: 0.6298 - val_accuracy: 0.7548\n",
            "Epoch 251/500\n",
            "39/39 [==============================] - 0s 5ms/step - loss: 0.5961 - accuracy: 0.7521 - val_loss: 0.6233 - val_accuracy: 0.7585\n",
            "Epoch 252/500\n",
            "39/39 [==============================] - 0s 6ms/step - loss: 0.5961 - accuracy: 0.7514 - val_loss: 0.6294 - val_accuracy: 0.7613\n",
            "Epoch 253/500\n",
            "39/39 [==============================] - 0s 5ms/step - loss: 0.5970 - accuracy: 0.7517 - val_loss: 0.6243 - val_accuracy: 0.7585\n",
            "Epoch 254/500\n",
            "39/39 [==============================] - 0s 7ms/step - loss: 0.5957 - accuracy: 0.7507 - val_loss: 0.6271 - val_accuracy: 0.7594\n",
            "Epoch 255/500\n",
            "39/39 [==============================] - 0s 5ms/step - loss: 0.5962 - accuracy: 0.7531 - val_loss: 0.6246 - val_accuracy: 0.7594\n",
            "Epoch 256/500\n",
            "39/39 [==============================] - 0s 5ms/step - loss: 0.5957 - accuracy: 0.7522 - val_loss: 0.6255 - val_accuracy: 0.7558\n",
            "Epoch 257/500\n",
            "39/39 [==============================] - 0s 6ms/step - loss: 0.5962 - accuracy: 0.7516 - val_loss: 0.6246 - val_accuracy: 0.7594\n",
            "Epoch 258/500\n",
            "39/39 [==============================] - 0s 6ms/step - loss: 0.5954 - accuracy: 0.7537 - val_loss: 0.6285 - val_accuracy: 0.7530\n",
            "Epoch 259/500\n",
            "39/39 [==============================] - 0s 7ms/step - loss: 0.5955 - accuracy: 0.7517 - val_loss: 0.6246 - val_accuracy: 0.7594\n",
            "Epoch 260/500\n",
            "39/39 [==============================] - 0s 7ms/step - loss: 0.5955 - accuracy: 0.7514 - val_loss: 0.6234 - val_accuracy: 0.7594\n",
            "Epoch 261/500\n",
            "39/39 [==============================] - 0s 9ms/step - loss: 0.5948 - accuracy: 0.7509 - val_loss: 0.6240 - val_accuracy: 0.7604\n",
            "Epoch 262/500\n",
            "39/39 [==============================] - 1s 17ms/step - loss: 0.5946 - accuracy: 0.7522 - val_loss: 0.6250 - val_accuracy: 0.7576\n",
            "Epoch 263/500\n",
            "39/39 [==============================] - 0s 9ms/step - loss: 0.5957 - accuracy: 0.7517 - val_loss: 0.6285 - val_accuracy: 0.7594\n",
            "Epoch 264/500\n",
            "39/39 [==============================] - 0s 4ms/step - loss: 0.5951 - accuracy: 0.7522 - val_loss: 0.6206 - val_accuracy: 0.7604\n",
            "Epoch 265/500\n",
            "39/39 [==============================] - 0s 4ms/step - loss: 0.5959 - accuracy: 0.7515 - val_loss: 0.6227 - val_accuracy: 0.7613\n",
            "Epoch 266/500\n",
            "39/39 [==============================] - 0s 3ms/step - loss: 0.5948 - accuracy: 0.7522 - val_loss: 0.6241 - val_accuracy: 0.7576\n",
            "Epoch 267/500\n",
            "39/39 [==============================] - 0s 3ms/step - loss: 0.5949 - accuracy: 0.7532 - val_loss: 0.6233 - val_accuracy: 0.7576\n",
            "Epoch 268/500\n",
            "39/39 [==============================] - 0s 3ms/step - loss: 0.5947 - accuracy: 0.7536 - val_loss: 0.6261 - val_accuracy: 0.7576\n",
            "Epoch 269/500\n",
            "39/39 [==============================] - 0s 3ms/step - loss: 0.5949 - accuracy: 0.7525 - val_loss: 0.6289 - val_accuracy: 0.7604\n",
            "Epoch 270/500\n",
            "39/39 [==============================] - 0s 3ms/step - loss: 0.5944 - accuracy: 0.7525 - val_loss: 0.6225 - val_accuracy: 0.7585\n",
            "Epoch 271/500\n",
            "39/39 [==============================] - 0s 3ms/step - loss: 0.5947 - accuracy: 0.7522 - val_loss: 0.6211 - val_accuracy: 0.7548\n",
            "Epoch 272/500\n",
            "39/39 [==============================] - 0s 3ms/step - loss: 0.5946 - accuracy: 0.7534 - val_loss: 0.6252 - val_accuracy: 0.7613\n",
            "Epoch 273/500\n",
            "39/39 [==============================] - 0s 3ms/step - loss: 0.5953 - accuracy: 0.7528 - val_loss: 0.6281 - val_accuracy: 0.7530\n",
            "Epoch 274/500\n",
            "39/39 [==============================] - 0s 3ms/step - loss: 0.5945 - accuracy: 0.7524 - val_loss: 0.6262 - val_accuracy: 0.7558\n",
            "Epoch 275/500\n",
            "39/39 [==============================] - 0s 3ms/step - loss: 0.5942 - accuracy: 0.7519 - val_loss: 0.6246 - val_accuracy: 0.7576\n",
            "Epoch 276/500\n",
            "39/39 [==============================] - 0s 3ms/step - loss: 0.5947 - accuracy: 0.7535 - val_loss: 0.6245 - val_accuracy: 0.7558\n",
            "Epoch 277/500\n",
            "39/39 [==============================] - 0s 3ms/step - loss: 0.5939 - accuracy: 0.7513 - val_loss: 0.6284 - val_accuracy: 0.7548\n",
            "Epoch 278/500\n",
            "39/39 [==============================] - 0s 3ms/step - loss: 0.5941 - accuracy: 0.7527 - val_loss: 0.6262 - val_accuracy: 0.7512\n",
            "Epoch 279/500\n",
            "39/39 [==============================] - 0s 3ms/step - loss: 0.5940 - accuracy: 0.7524 - val_loss: 0.6247 - val_accuracy: 0.7558\n",
            "Epoch 280/500\n",
            "39/39 [==============================] - 0s 3ms/step - loss: 0.5935 - accuracy: 0.7526 - val_loss: 0.6244 - val_accuracy: 0.7567\n",
            "Epoch 281/500\n",
            "39/39 [==============================] - 0s 4ms/step - loss: 0.5937 - accuracy: 0.7519 - val_loss: 0.6265 - val_accuracy: 0.7521\n",
            "Epoch 282/500\n",
            "39/39 [==============================] - 0s 3ms/step - loss: 0.5943 - accuracy: 0.7528 - val_loss: 0.6246 - val_accuracy: 0.7585\n",
            "Epoch 283/500\n",
            "39/39 [==============================] - 0s 3ms/step - loss: 0.5942 - accuracy: 0.7536 - val_loss: 0.6252 - val_accuracy: 0.7558\n",
            "Epoch 284/500\n",
            "39/39 [==============================] - 0s 3ms/step - loss: 0.5943 - accuracy: 0.7523 - val_loss: 0.6251 - val_accuracy: 0.7576\n",
            "Epoch 285/500\n",
            "39/39 [==============================] - 0s 3ms/step - loss: 0.5937 - accuracy: 0.7528 - val_loss: 0.6245 - val_accuracy: 0.7594\n",
            "Epoch 286/500\n",
            "39/39 [==============================] - 0s 3ms/step - loss: 0.5934 - accuracy: 0.7539 - val_loss: 0.6261 - val_accuracy: 0.7558\n",
            "Epoch 287/500\n",
            "39/39 [==============================] - 0s 3ms/step - loss: 0.5938 - accuracy: 0.7524 - val_loss: 0.6235 - val_accuracy: 0.7558\n",
            "Epoch 288/500\n",
            "39/39 [==============================] - 0s 3ms/step - loss: 0.5941 - accuracy: 0.7524 - val_loss: 0.6237 - val_accuracy: 0.7548\n",
            "Epoch 289/500\n",
            "39/39 [==============================] - 0s 3ms/step - loss: 0.5936 - accuracy: 0.7522 - val_loss: 0.6233 - val_accuracy: 0.7530\n",
            "Epoch 290/500\n",
            "39/39 [==============================] - 0s 3ms/step - loss: 0.5940 - accuracy: 0.7511 - val_loss: 0.6206 - val_accuracy: 0.7594\n",
            "Epoch 291/500\n",
            "39/39 [==============================] - 0s 3ms/step - loss: 0.5932 - accuracy: 0.7521 - val_loss: 0.6250 - val_accuracy: 0.7548\n",
            "Epoch 292/500\n",
            "39/39 [==============================] - 0s 4ms/step - loss: 0.5934 - accuracy: 0.7538 - val_loss: 0.6250 - val_accuracy: 0.7585\n",
            "Epoch 293/500\n",
            "39/39 [==============================] - 0s 3ms/step - loss: 0.5936 - accuracy: 0.7519 - val_loss: 0.6240 - val_accuracy: 0.7613\n",
            "Epoch 294/500\n",
            "39/39 [==============================] - 0s 3ms/step - loss: 0.5934 - accuracy: 0.7533 - val_loss: 0.6271 - val_accuracy: 0.7521\n",
            "Epoch 295/500\n",
            "39/39 [==============================] - 0s 3ms/step - loss: 0.5934 - accuracy: 0.7509 - val_loss: 0.6235 - val_accuracy: 0.7539\n",
            "Epoch 296/500\n",
            "39/39 [==============================] - 0s 3ms/step - loss: 0.5932 - accuracy: 0.7533 - val_loss: 0.6245 - val_accuracy: 0.7539\n",
            "Epoch 297/500\n",
            "39/39 [==============================] - 0s 3ms/step - loss: 0.5934 - accuracy: 0.7516 - val_loss: 0.6232 - val_accuracy: 0.7548\n",
            "Epoch 298/500\n",
            "39/39 [==============================] - 0s 3ms/step - loss: 0.5927 - accuracy: 0.7529 - val_loss: 0.6245 - val_accuracy: 0.7530\n",
            "Epoch 299/500\n",
            "39/39 [==============================] - 0s 3ms/step - loss: 0.5926 - accuracy: 0.7526 - val_loss: 0.6235 - val_accuracy: 0.7548\n",
            "Epoch 300/500\n",
            "39/39 [==============================] - 0s 3ms/step - loss: 0.5924 - accuracy: 0.7528 - val_loss: 0.6233 - val_accuracy: 0.7512\n",
            "Epoch 301/500\n",
            "39/39 [==============================] - 0s 3ms/step - loss: 0.5930 - accuracy: 0.7522 - val_loss: 0.6221 - val_accuracy: 0.7558\n",
            "Epoch 302/500\n",
            "39/39 [==============================] - 0s 3ms/step - loss: 0.5925 - accuracy: 0.7530 - val_loss: 0.6231 - val_accuracy: 0.7576\n",
            "Epoch 303/500\n",
            "39/39 [==============================] - 0s 3ms/step - loss: 0.5929 - accuracy: 0.7539 - val_loss: 0.6214 - val_accuracy: 0.7539\n",
            "Epoch 304/500\n",
            "39/39 [==============================] - 0s 3ms/step - loss: 0.5926 - accuracy: 0.7517 - val_loss: 0.6248 - val_accuracy: 0.7567\n",
            "Epoch 305/500\n",
            "39/39 [==============================] - 0s 4ms/step - loss: 0.5923 - accuracy: 0.7520 - val_loss: 0.6240 - val_accuracy: 0.7558\n",
            "Epoch 306/500\n",
            "39/39 [==============================] - 0s 3ms/step - loss: 0.5928 - accuracy: 0.7531 - val_loss: 0.6280 - val_accuracy: 0.7558\n",
            "Epoch 307/500\n",
            "39/39 [==============================] - 0s 3ms/step - loss: 0.5931 - accuracy: 0.7520 - val_loss: 0.6268 - val_accuracy: 0.7585\n",
            "Epoch 308/500\n",
            "39/39 [==============================] - 0s 3ms/step - loss: 0.5927 - accuracy: 0.7523 - val_loss: 0.6284 - val_accuracy: 0.7548\n",
            "Epoch 309/500\n",
            "39/39 [==============================] - 0s 3ms/step - loss: 0.5918 - accuracy: 0.7530 - val_loss: 0.6246 - val_accuracy: 0.7585\n",
            "Epoch 310/500\n",
            "39/39 [==============================] - 0s 3ms/step - loss: 0.5923 - accuracy: 0.7532 - val_loss: 0.6259 - val_accuracy: 0.7539\n",
            "Epoch 311/500\n",
            "39/39 [==============================] - 0s 3ms/step - loss: 0.5921 - accuracy: 0.7534 - val_loss: 0.6247 - val_accuracy: 0.7521\n",
            "Epoch 312/500\n",
            "39/39 [==============================] - 0s 3ms/step - loss: 0.5925 - accuracy: 0.7530 - val_loss: 0.6248 - val_accuracy: 0.7539\n",
            "Epoch 313/500\n",
            "39/39 [==============================] - 0s 3ms/step - loss: 0.5929 - accuracy: 0.7535 - val_loss: 0.6244 - val_accuracy: 0.7530\n",
            "Epoch 314/500\n",
            "39/39 [==============================] - 0s 3ms/step - loss: 0.5919 - accuracy: 0.7536 - val_loss: 0.6260 - val_accuracy: 0.7530\n",
            "Epoch 315/500\n",
            "39/39 [==============================] - 0s 3ms/step - loss: 0.5917 - accuracy: 0.7530 - val_loss: 0.6237 - val_accuracy: 0.7539\n",
            "Epoch 316/500\n",
            "39/39 [==============================] - 0s 3ms/step - loss: 0.5921 - accuracy: 0.7537 - val_loss: 0.6226 - val_accuracy: 0.7558\n",
            "Epoch 317/500\n",
            "39/39 [==============================] - 0s 3ms/step - loss: 0.5915 - accuracy: 0.7530 - val_loss: 0.6251 - val_accuracy: 0.7567\n",
            "Epoch 318/500\n",
            "39/39 [==============================] - 0s 3ms/step - loss: 0.5916 - accuracy: 0.7512 - val_loss: 0.6223 - val_accuracy: 0.7576\n",
            "Epoch 319/500\n",
            "39/39 [==============================] - 0s 3ms/step - loss: 0.5916 - accuracy: 0.7516 - val_loss: 0.6237 - val_accuracy: 0.7558\n",
            "Epoch 320/500\n",
            "39/39 [==============================] - 0s 3ms/step - loss: 0.5923 - accuracy: 0.7522 - val_loss: 0.6255 - val_accuracy: 0.7558\n",
            "Epoch 321/500\n",
            "39/39 [==============================] - 0s 3ms/step - loss: 0.5915 - accuracy: 0.7529 - val_loss: 0.6273 - val_accuracy: 0.7567\n",
            "Epoch 322/500\n",
            "39/39 [==============================] - 0s 3ms/step - loss: 0.5921 - accuracy: 0.7522 - val_loss: 0.6233 - val_accuracy: 0.7548\n",
            "Epoch 323/500\n",
            "39/39 [==============================] - 0s 3ms/step - loss: 0.5910 - accuracy: 0.7530 - val_loss: 0.6242 - val_accuracy: 0.7567\n",
            "Epoch 324/500\n",
            "39/39 [==============================] - 0s 3ms/step - loss: 0.5913 - accuracy: 0.7525 - val_loss: 0.6222 - val_accuracy: 0.7548\n",
            "Epoch 325/500\n",
            "39/39 [==============================] - 0s 3ms/step - loss: 0.5910 - accuracy: 0.7536 - val_loss: 0.6235 - val_accuracy: 0.7585\n",
            "Epoch 326/500\n",
            "39/39 [==============================] - 0s 3ms/step - loss: 0.5907 - accuracy: 0.7540 - val_loss: 0.6216 - val_accuracy: 0.7548\n",
            "Epoch 327/500\n",
            "39/39 [==============================] - 0s 3ms/step - loss: 0.5914 - accuracy: 0.7527 - val_loss: 0.6216 - val_accuracy: 0.7548\n",
            "Epoch 328/500\n",
            "39/39 [==============================] - 0s 3ms/step - loss: 0.5910 - accuracy: 0.7532 - val_loss: 0.6272 - val_accuracy: 0.7622\n",
            "Epoch 329/500\n",
            "39/39 [==============================] - 0s 3ms/step - loss: 0.5914 - accuracy: 0.7535 - val_loss: 0.6220 - val_accuracy: 0.7558\n",
            "Epoch 330/500\n",
            "39/39 [==============================] - 0s 3ms/step - loss: 0.5913 - accuracy: 0.7521 - val_loss: 0.6223 - val_accuracy: 0.7558\n",
            "Epoch 331/500\n",
            "39/39 [==============================] - 0s 3ms/step - loss: 0.5911 - accuracy: 0.7541 - val_loss: 0.6221 - val_accuracy: 0.7585\n",
            "Epoch 332/500\n",
            "39/39 [==============================] - 0s 3ms/step - loss: 0.5924 - accuracy: 0.7533 - val_loss: 0.6232 - val_accuracy: 0.7604\n",
            "Epoch 333/500\n",
            "39/39 [==============================] - 0s 3ms/step - loss: 0.5906 - accuracy: 0.7522 - val_loss: 0.6253 - val_accuracy: 0.7576\n",
            "Epoch 334/500\n",
            "39/39 [==============================] - 0s 3ms/step - loss: 0.5913 - accuracy: 0.7524 - val_loss: 0.6236 - val_accuracy: 0.7585\n",
            "Epoch 335/500\n",
            "39/39 [==============================] - 0s 3ms/step - loss: 0.5910 - accuracy: 0.7528 - val_loss: 0.6236 - val_accuracy: 0.7567\n",
            "Epoch 336/500\n",
            "39/39 [==============================] - 0s 3ms/step - loss: 0.5909 - accuracy: 0.7537 - val_loss: 0.6250 - val_accuracy: 0.7576\n",
            "Epoch 337/500\n",
            "39/39 [==============================] - 0s 3ms/step - loss: 0.5910 - accuracy: 0.7528 - val_loss: 0.6238 - val_accuracy: 0.7548\n",
            "Epoch 338/500\n",
            "39/39 [==============================] - 0s 3ms/step - loss: 0.5905 - accuracy: 0.7534 - val_loss: 0.6235 - val_accuracy: 0.7548\n",
            "Epoch 339/500\n",
            "39/39 [==============================] - 0s 3ms/step - loss: 0.5909 - accuracy: 0.7533 - val_loss: 0.6256 - val_accuracy: 0.7594\n",
            "Epoch 340/500\n",
            "39/39 [==============================] - 0s 3ms/step - loss: 0.5905 - accuracy: 0.7524 - val_loss: 0.6257 - val_accuracy: 0.7548\n",
            "Epoch 341/500\n",
            "39/39 [==============================] - 0s 3ms/step - loss: 0.5900 - accuracy: 0.7532 - val_loss: 0.6252 - val_accuracy: 0.7539\n",
            "Epoch 342/500\n",
            "39/39 [==============================] - 0s 3ms/step - loss: 0.5902 - accuracy: 0.7535 - val_loss: 0.6206 - val_accuracy: 0.7539\n",
            "Epoch 343/500\n",
            "39/39 [==============================] - 0s 3ms/step - loss: 0.5909 - accuracy: 0.7528 - val_loss: 0.6249 - val_accuracy: 0.7604\n",
            "Epoch 344/500\n",
            "39/39 [==============================] - 0s 3ms/step - loss: 0.5898 - accuracy: 0.7513 - val_loss: 0.6221 - val_accuracy: 0.7594\n",
            "Epoch 345/500\n",
            "39/39 [==============================] - 0s 3ms/step - loss: 0.5905 - accuracy: 0.7521 - val_loss: 0.6221 - val_accuracy: 0.7576\n",
            "Epoch 346/500\n",
            "39/39 [==============================] - 0s 3ms/step - loss: 0.5900 - accuracy: 0.7518 - val_loss: 0.6231 - val_accuracy: 0.7576\n",
            "Epoch 347/500\n",
            "39/39 [==============================] - 0s 3ms/step - loss: 0.5898 - accuracy: 0.7529 - val_loss: 0.6215 - val_accuracy: 0.7585\n",
            "Epoch 348/500\n",
            "39/39 [==============================] - 0s 3ms/step - loss: 0.5894 - accuracy: 0.7517 - val_loss: 0.6253 - val_accuracy: 0.7585\n",
            "Epoch 349/500\n",
            "39/39 [==============================] - 0s 3ms/step - loss: 0.5905 - accuracy: 0.7517 - val_loss: 0.6222 - val_accuracy: 0.7594\n",
            "Epoch 350/500\n",
            "39/39 [==============================] - 0s 3ms/step - loss: 0.5895 - accuracy: 0.7531 - val_loss: 0.6203 - val_accuracy: 0.7576\n",
            "Epoch 351/500\n",
            "39/39 [==============================] - 0s 3ms/step - loss: 0.5900 - accuracy: 0.7531 - val_loss: 0.6219 - val_accuracy: 0.7604\n",
            "Epoch 352/500\n",
            "39/39 [==============================] - 0s 3ms/step - loss: 0.5890 - accuracy: 0.7549 - val_loss: 0.6229 - val_accuracy: 0.7594\n",
            "Epoch 353/500\n",
            "39/39 [==============================] - 0s 3ms/step - loss: 0.5895 - accuracy: 0.7517 - val_loss: 0.6208 - val_accuracy: 0.7558\n",
            "Epoch 354/500\n",
            "39/39 [==============================] - 0s 3ms/step - loss: 0.5903 - accuracy: 0.7529 - val_loss: 0.6226 - val_accuracy: 0.7622\n",
            "Epoch 355/500\n",
            "39/39 [==============================] - 0s 3ms/step - loss: 0.5906 - accuracy: 0.7517 - val_loss: 0.6205 - val_accuracy: 0.7604\n",
            "Epoch 356/500\n",
            "39/39 [==============================] - 0s 3ms/step - loss: 0.5898 - accuracy: 0.7546 - val_loss: 0.6234 - val_accuracy: 0.7567\n",
            "Epoch 357/500\n",
            "39/39 [==============================] - 0s 3ms/step - loss: 0.5899 - accuracy: 0.7533 - val_loss: 0.6228 - val_accuracy: 0.7594\n",
            "Epoch 358/500\n",
            "39/39 [==============================] - 0s 3ms/step - loss: 0.5889 - accuracy: 0.7539 - val_loss: 0.6225 - val_accuracy: 0.7585\n",
            "Epoch 359/500\n",
            "39/39 [==============================] - 0s 4ms/step - loss: 0.5892 - accuracy: 0.7546 - val_loss: 0.6237 - val_accuracy: 0.7585\n",
            "Epoch 360/500\n",
            "39/39 [==============================] - 0s 3ms/step - loss: 0.5890 - accuracy: 0.7549 - val_loss: 0.6214 - val_accuracy: 0.7585\n",
            "Epoch 361/500\n",
            "39/39 [==============================] - 0s 3ms/step - loss: 0.5893 - accuracy: 0.7538 - val_loss: 0.6221 - val_accuracy: 0.7622\n",
            "Epoch 362/500\n",
            "39/39 [==============================] - 0s 3ms/step - loss: 0.5893 - accuracy: 0.7545 - val_loss: 0.6206 - val_accuracy: 0.7576\n",
            "Epoch 363/500\n",
            "39/39 [==============================] - 0s 3ms/step - loss: 0.5891 - accuracy: 0.7551 - val_loss: 0.6222 - val_accuracy: 0.7604\n",
            "Epoch 364/500\n",
            "39/39 [==============================] - 0s 3ms/step - loss: 0.5888 - accuracy: 0.7541 - val_loss: 0.6284 - val_accuracy: 0.7558\n",
            "Epoch 365/500\n",
            "39/39 [==============================] - 0s 3ms/step - loss: 0.5888 - accuracy: 0.7543 - val_loss: 0.6236 - val_accuracy: 0.7576\n",
            "Epoch 366/500\n",
            "39/39 [==============================] - 0s 3ms/step - loss: 0.5887 - accuracy: 0.7547 - val_loss: 0.6186 - val_accuracy: 0.7613\n",
            "Epoch 367/500\n",
            "39/39 [==============================] - 0s 3ms/step - loss: 0.5891 - accuracy: 0.7521 - val_loss: 0.6233 - val_accuracy: 0.7604\n",
            "Epoch 368/500\n",
            "39/39 [==============================] - 0s 3ms/step - loss: 0.5889 - accuracy: 0.7526 - val_loss: 0.6227 - val_accuracy: 0.7576\n",
            "Epoch 369/500\n",
            "39/39 [==============================] - 0s 3ms/step - loss: 0.5882 - accuracy: 0.7538 - val_loss: 0.6203 - val_accuracy: 0.7594\n",
            "Epoch 370/500\n",
            "39/39 [==============================] - 0s 3ms/step - loss: 0.5885 - accuracy: 0.7531 - val_loss: 0.6243 - val_accuracy: 0.7594\n",
            "Epoch 371/500\n",
            "39/39 [==============================] - 0s 3ms/step - loss: 0.5888 - accuracy: 0.7525 - val_loss: 0.6218 - val_accuracy: 0.7585\n",
            "Epoch 372/500\n",
            "39/39 [==============================] - 0s 3ms/step - loss: 0.5884 - accuracy: 0.7549 - val_loss: 0.6231 - val_accuracy: 0.7622\n",
            "Epoch 373/500\n",
            "39/39 [==============================] - 0s 3ms/step - loss: 0.5880 - accuracy: 0.7547 - val_loss: 0.6215 - val_accuracy: 0.7594\n",
            "Epoch 374/500\n",
            "39/39 [==============================] - 0s 3ms/step - loss: 0.5885 - accuracy: 0.7531 - val_loss: 0.6228 - val_accuracy: 0.7585\n",
            "Epoch 375/500\n",
            "39/39 [==============================] - 0s 3ms/step - loss: 0.5883 - accuracy: 0.7530 - val_loss: 0.6204 - val_accuracy: 0.7558\n",
            "Epoch 376/500\n",
            "39/39 [==============================] - 0s 3ms/step - loss: 0.5886 - accuracy: 0.7534 - val_loss: 0.6252 - val_accuracy: 0.7567\n",
            "Epoch 377/500\n",
            "39/39 [==============================] - 0s 3ms/step - loss: 0.5880 - accuracy: 0.7546 - val_loss: 0.6243 - val_accuracy: 0.7594\n",
            "Epoch 378/500\n",
            "39/39 [==============================] - 0s 3ms/step - loss: 0.5880 - accuracy: 0.7568 - val_loss: 0.6247 - val_accuracy: 0.7622\n",
            "Epoch 379/500\n",
            "39/39 [==============================] - 0s 3ms/step - loss: 0.5879 - accuracy: 0.7559 - val_loss: 0.6227 - val_accuracy: 0.7622\n",
            "Epoch 380/500\n",
            "39/39 [==============================] - 0s 3ms/step - loss: 0.5888 - accuracy: 0.7552 - val_loss: 0.6174 - val_accuracy: 0.7576\n",
            "Epoch 381/500\n",
            "39/39 [==============================] - 0s 3ms/step - loss: 0.5877 - accuracy: 0.7554 - val_loss: 0.6206 - val_accuracy: 0.7650\n",
            "Epoch 382/500\n",
            "39/39 [==============================] - 0s 3ms/step - loss: 0.5872 - accuracy: 0.7556 - val_loss: 0.6196 - val_accuracy: 0.7613\n",
            "Epoch 383/500\n",
            "39/39 [==============================] - 0s 3ms/step - loss: 0.5879 - accuracy: 0.7535 - val_loss: 0.6212 - val_accuracy: 0.7631\n",
            "Epoch 384/500\n",
            "39/39 [==============================] - 0s 3ms/step - loss: 0.5873 - accuracy: 0.7535 - val_loss: 0.6203 - val_accuracy: 0.7567\n",
            "Epoch 385/500\n",
            "39/39 [==============================] - 0s 3ms/step - loss: 0.5878 - accuracy: 0.7555 - val_loss: 0.6196 - val_accuracy: 0.7613\n",
            "Epoch 386/500\n",
            "39/39 [==============================] - 0s 3ms/step - loss: 0.5873 - accuracy: 0.7530 - val_loss: 0.6246 - val_accuracy: 0.7576\n",
            "Epoch 387/500\n",
            "39/39 [==============================] - 0s 3ms/step - loss: 0.5876 - accuracy: 0.7531 - val_loss: 0.6248 - val_accuracy: 0.7576\n",
            "Epoch 388/500\n",
            "39/39 [==============================] - 0s 3ms/step - loss: 0.5873 - accuracy: 0.7549 - val_loss: 0.6193 - val_accuracy: 0.7576\n",
            "Epoch 389/500\n",
            "39/39 [==============================] - 0s 3ms/step - loss: 0.5889 - accuracy: 0.7536 - val_loss: 0.6285 - val_accuracy: 0.7548\n",
            "Epoch 390/500\n",
            "39/39 [==============================] - 0s 3ms/step - loss: 0.5882 - accuracy: 0.7540 - val_loss: 0.6229 - val_accuracy: 0.7594\n",
            "Epoch 391/500\n",
            "39/39 [==============================] - 0s 3ms/step - loss: 0.5877 - accuracy: 0.7555 - val_loss: 0.6245 - val_accuracy: 0.7594\n",
            "Epoch 392/500\n",
            "39/39 [==============================] - 0s 3ms/step - loss: 0.5869 - accuracy: 0.7553 - val_loss: 0.6215 - val_accuracy: 0.7622\n",
            "Epoch 393/500\n",
            "39/39 [==============================] - 0s 3ms/step - loss: 0.5877 - accuracy: 0.7554 - val_loss: 0.6212 - val_accuracy: 0.7604\n",
            "Epoch 394/500\n",
            "39/39 [==============================] - 0s 3ms/step - loss: 0.5873 - accuracy: 0.7539 - val_loss: 0.6273 - val_accuracy: 0.7567\n",
            "Epoch 395/500\n",
            "39/39 [==============================] - 0s 3ms/step - loss: 0.5887 - accuracy: 0.7531 - val_loss: 0.6200 - val_accuracy: 0.7613\n",
            "Epoch 396/500\n",
            "39/39 [==============================] - 0s 3ms/step - loss: 0.5868 - accuracy: 0.7530 - val_loss: 0.6199 - val_accuracy: 0.7622\n",
            "Epoch 397/500\n",
            "39/39 [==============================] - 0s 3ms/step - loss: 0.5877 - accuracy: 0.7537 - val_loss: 0.6216 - val_accuracy: 0.7622\n",
            "Epoch 398/500\n",
            "39/39 [==============================] - 0s 3ms/step - loss: 0.5867 - accuracy: 0.7535 - val_loss: 0.6208 - val_accuracy: 0.7594\n",
            "Epoch 399/500\n",
            "39/39 [==============================] - 0s 3ms/step - loss: 0.5875 - accuracy: 0.7553 - val_loss: 0.6201 - val_accuracy: 0.7622\n",
            "Epoch 400/500\n",
            "39/39 [==============================] - 0s 3ms/step - loss: 0.5863 - accuracy: 0.7555 - val_loss: 0.6198 - val_accuracy: 0.7622\n",
            "Epoch 401/500\n",
            "39/39 [==============================] - 0s 3ms/step - loss: 0.5872 - accuracy: 0.7547 - val_loss: 0.6212 - val_accuracy: 0.7594\n",
            "Epoch 402/500\n",
            "39/39 [==============================] - 0s 3ms/step - loss: 0.5864 - accuracy: 0.7553 - val_loss: 0.6210 - val_accuracy: 0.7576\n",
            "Epoch 403/500\n",
            "39/39 [==============================] - 0s 4ms/step - loss: 0.5865 - accuracy: 0.7540 - val_loss: 0.6175 - val_accuracy: 0.7594\n",
            "Epoch 404/500\n",
            "39/39 [==============================] - 0s 3ms/step - loss: 0.5868 - accuracy: 0.7532 - val_loss: 0.6227 - val_accuracy: 0.7604\n",
            "Epoch 405/500\n",
            "39/39 [==============================] - 0s 3ms/step - loss: 0.5878 - accuracy: 0.7541 - val_loss: 0.6185 - val_accuracy: 0.7594\n",
            "Epoch 406/500\n",
            "39/39 [==============================] - 0s 3ms/step - loss: 0.5868 - accuracy: 0.7539 - val_loss: 0.6191 - val_accuracy: 0.7558\n",
            "Epoch 407/500\n",
            "39/39 [==============================] - 0s 3ms/step - loss: 0.5864 - accuracy: 0.7550 - val_loss: 0.6179 - val_accuracy: 0.7604\n",
            "Epoch 408/500\n",
            "39/39 [==============================] - 0s 3ms/step - loss: 0.5868 - accuracy: 0.7541 - val_loss: 0.6194 - val_accuracy: 0.7613\n",
            "Epoch 409/500\n",
            "39/39 [==============================] - 0s 3ms/step - loss: 0.5870 - accuracy: 0.7559 - val_loss: 0.6208 - val_accuracy: 0.7604\n",
            "Epoch 410/500\n",
            "39/39 [==============================] - 0s 3ms/step - loss: 0.5861 - accuracy: 0.7545 - val_loss: 0.6203 - val_accuracy: 0.7613\n",
            "Epoch 411/500\n",
            "39/39 [==============================] - 0s 3ms/step - loss: 0.5863 - accuracy: 0.7555 - val_loss: 0.6190 - val_accuracy: 0.7613\n",
            "Epoch 412/500\n",
            "39/39 [==============================] - 0s 3ms/step - loss: 0.5864 - accuracy: 0.7553 - val_loss: 0.6276 - val_accuracy: 0.7585\n",
            "Epoch 413/500\n",
            "39/39 [==============================] - 0s 3ms/step - loss: 0.5863 - accuracy: 0.7539 - val_loss: 0.6258 - val_accuracy: 0.7558\n",
            "Epoch 414/500\n",
            "39/39 [==============================] - 0s 3ms/step - loss: 0.5859 - accuracy: 0.7554 - val_loss: 0.6222 - val_accuracy: 0.7585\n",
            "Epoch 415/500\n",
            "39/39 [==============================] - 0s 3ms/step - loss: 0.5860 - accuracy: 0.7554 - val_loss: 0.6238 - val_accuracy: 0.7604\n",
            "Epoch 416/500\n",
            "39/39 [==============================] - 0s 3ms/step - loss: 0.5866 - accuracy: 0.7545 - val_loss: 0.6264 - val_accuracy: 0.7558\n",
            "Epoch 417/500\n",
            "39/39 [==============================] - 0s 3ms/step - loss: 0.5856 - accuracy: 0.7532 - val_loss: 0.6197 - val_accuracy: 0.7613\n",
            "Epoch 418/500\n",
            "39/39 [==============================] - 0s 3ms/step - loss: 0.5862 - accuracy: 0.7538 - val_loss: 0.6203 - val_accuracy: 0.7558\n",
            "Epoch 419/500\n",
            "39/39 [==============================] - 0s 4ms/step - loss: 0.5865 - accuracy: 0.7557 - val_loss: 0.6250 - val_accuracy: 0.7631\n",
            "Epoch 420/500\n",
            "39/39 [==============================] - 0s 3ms/step - loss: 0.5862 - accuracy: 0.7552 - val_loss: 0.6188 - val_accuracy: 0.7567\n",
            "Epoch 421/500\n",
            "39/39 [==============================] - 0s 3ms/step - loss: 0.5860 - accuracy: 0.7550 - val_loss: 0.6215 - val_accuracy: 0.7548\n",
            "Epoch 422/500\n",
            "39/39 [==============================] - 0s 3ms/step - loss: 0.5867 - accuracy: 0.7550 - val_loss: 0.6202 - val_accuracy: 0.7558\n",
            "Epoch 423/500\n",
            "39/39 [==============================] - 0s 3ms/step - loss: 0.5859 - accuracy: 0.7558 - val_loss: 0.6230 - val_accuracy: 0.7585\n",
            "Epoch 424/500\n",
            "39/39 [==============================] - 0s 3ms/step - loss: 0.5857 - accuracy: 0.7550 - val_loss: 0.6214 - val_accuracy: 0.7558\n",
            "Epoch 425/500\n",
            "39/39 [==============================] - 0s 3ms/step - loss: 0.5860 - accuracy: 0.7543 - val_loss: 0.6178 - val_accuracy: 0.7576\n",
            "Epoch 426/500\n",
            "39/39 [==============================] - 0s 3ms/step - loss: 0.5860 - accuracy: 0.7556 - val_loss: 0.6218 - val_accuracy: 0.7604\n",
            "Epoch 427/500\n",
            "39/39 [==============================] - 0s 3ms/step - loss: 0.5859 - accuracy: 0.7553 - val_loss: 0.6169 - val_accuracy: 0.7576\n",
            "Epoch 428/500\n",
            "39/39 [==============================] - 0s 3ms/step - loss: 0.5862 - accuracy: 0.7527 - val_loss: 0.6189 - val_accuracy: 0.7567\n",
            "Epoch 429/500\n",
            "39/39 [==============================] - 0s 3ms/step - loss: 0.5853 - accuracy: 0.7544 - val_loss: 0.6221 - val_accuracy: 0.7576\n",
            "Epoch 430/500\n",
            "39/39 [==============================] - 0s 3ms/step - loss: 0.5859 - accuracy: 0.7543 - val_loss: 0.6218 - val_accuracy: 0.7576\n",
            "Epoch 431/500\n",
            "39/39 [==============================] - 0s 3ms/step - loss: 0.5854 - accuracy: 0.7555 - val_loss: 0.6198 - val_accuracy: 0.7567\n",
            "Epoch 432/500\n",
            "39/39 [==============================] - 0s 3ms/step - loss: 0.5853 - accuracy: 0.7566 - val_loss: 0.6216 - val_accuracy: 0.7604\n",
            "Epoch 433/500\n",
            "39/39 [==============================] - 0s 3ms/step - loss: 0.5851 - accuracy: 0.7561 - val_loss: 0.6194 - val_accuracy: 0.7594\n",
            "Epoch 434/500\n",
            "39/39 [==============================] - 0s 3ms/step - loss: 0.5851 - accuracy: 0.7544 - val_loss: 0.6201 - val_accuracy: 0.7558\n",
            "Epoch 435/500\n",
            "39/39 [==============================] - 0s 3ms/step - loss: 0.5852 - accuracy: 0.7556 - val_loss: 0.6217 - val_accuracy: 0.7567\n",
            "Epoch 436/500\n",
            "39/39 [==============================] - 0s 3ms/step - loss: 0.5848 - accuracy: 0.7555 - val_loss: 0.6196 - val_accuracy: 0.7604\n",
            "Epoch 437/500\n",
            "39/39 [==============================] - 0s 3ms/step - loss: 0.5851 - accuracy: 0.7543 - val_loss: 0.6213 - val_accuracy: 0.7567\n",
            "Epoch 438/500\n",
            "39/39 [==============================] - 0s 3ms/step - loss: 0.5851 - accuracy: 0.7556 - val_loss: 0.6201 - val_accuracy: 0.7567\n",
            "Epoch 439/500\n",
            "39/39 [==============================] - 0s 3ms/step - loss: 0.5857 - accuracy: 0.7547 - val_loss: 0.6182 - val_accuracy: 0.7604\n",
            "Epoch 440/500\n",
            "39/39 [==============================] - 0s 3ms/step - loss: 0.5844 - accuracy: 0.7561 - val_loss: 0.6206 - val_accuracy: 0.7622\n",
            "Epoch 441/500\n",
            "39/39 [==============================] - 0s 3ms/step - loss: 0.5846 - accuracy: 0.7552 - val_loss: 0.6194 - val_accuracy: 0.7622\n",
            "Epoch 442/500\n",
            "39/39 [==============================] - 0s 3ms/step - loss: 0.5849 - accuracy: 0.7556 - val_loss: 0.6192 - val_accuracy: 0.7558\n",
            "Epoch 443/500\n",
            "39/39 [==============================] - 0s 4ms/step - loss: 0.5853 - accuracy: 0.7550 - val_loss: 0.6202 - val_accuracy: 0.7622\n",
            "Epoch 444/500\n",
            "39/39 [==============================] - 0s 3ms/step - loss: 0.5847 - accuracy: 0.7553 - val_loss: 0.6200 - val_accuracy: 0.7558\n",
            "Epoch 445/500\n",
            "39/39 [==============================] - 0s 3ms/step - loss: 0.5850 - accuracy: 0.7554 - val_loss: 0.6215 - val_accuracy: 0.7576\n",
            "Epoch 446/500\n",
            "39/39 [==============================] - 0s 3ms/step - loss: 0.5847 - accuracy: 0.7558 - val_loss: 0.6194 - val_accuracy: 0.7604\n",
            "Epoch 447/500\n",
            "39/39 [==============================] - 0s 3ms/step - loss: 0.5842 - accuracy: 0.7548 - val_loss: 0.6192 - val_accuracy: 0.7594\n",
            "Epoch 448/500\n",
            "39/39 [==============================] - 0s 3ms/step - loss: 0.5846 - accuracy: 0.7565 - val_loss: 0.6204 - val_accuracy: 0.7594\n",
            "Epoch 449/500\n",
            "39/39 [==============================] - 0s 3ms/step - loss: 0.5847 - accuracy: 0.7565 - val_loss: 0.6215 - val_accuracy: 0.7613\n",
            "Epoch 450/500\n",
            "39/39 [==============================] - 0s 3ms/step - loss: 0.5842 - accuracy: 0.7560 - val_loss: 0.6178 - val_accuracy: 0.7594\n",
            "Epoch 451/500\n",
            "39/39 [==============================] - 0s 3ms/step - loss: 0.5846 - accuracy: 0.7554 - val_loss: 0.6190 - val_accuracy: 0.7594\n",
            "Epoch 452/500\n",
            "39/39 [==============================] - 0s 3ms/step - loss: 0.5841 - accuracy: 0.7555 - val_loss: 0.6186 - val_accuracy: 0.7548\n",
            "Epoch 453/500\n",
            "39/39 [==============================] - 0s 3ms/step - loss: 0.5850 - accuracy: 0.7550 - val_loss: 0.6182 - val_accuracy: 0.7594\n",
            "Epoch 454/500\n",
            "39/39 [==============================] - 0s 3ms/step - loss: 0.5840 - accuracy: 0.7575 - val_loss: 0.6202 - val_accuracy: 0.7558\n",
            "Epoch 455/500\n",
            "39/39 [==============================] - 0s 3ms/step - loss: 0.5847 - accuracy: 0.7553 - val_loss: 0.6203 - val_accuracy: 0.7613\n",
            "Epoch 456/500\n",
            "39/39 [==============================] - 0s 3ms/step - loss: 0.5839 - accuracy: 0.7549 - val_loss: 0.6196 - val_accuracy: 0.7585\n",
            "Epoch 457/500\n",
            "39/39 [==============================] - 0s 3ms/step - loss: 0.5843 - accuracy: 0.7565 - val_loss: 0.6183 - val_accuracy: 0.7567\n",
            "Epoch 458/500\n",
            "39/39 [==============================] - 0s 3ms/step - loss: 0.5847 - accuracy: 0.7545 - val_loss: 0.6186 - val_accuracy: 0.7650\n",
            "Epoch 459/500\n",
            "39/39 [==============================] - 0s 3ms/step - loss: 0.5854 - accuracy: 0.7549 - val_loss: 0.6187 - val_accuracy: 0.7641\n",
            "Epoch 460/500\n",
            "39/39 [==============================] - 0s 3ms/step - loss: 0.5841 - accuracy: 0.7572 - val_loss: 0.6196 - val_accuracy: 0.7604\n",
            "Epoch 461/500\n",
            "39/39 [==============================] - 0s 3ms/step - loss: 0.5834 - accuracy: 0.7561 - val_loss: 0.6163 - val_accuracy: 0.7613\n",
            "Epoch 462/500\n",
            "39/39 [==============================] - 0s 3ms/step - loss: 0.5842 - accuracy: 0.7554 - val_loss: 0.6215 - val_accuracy: 0.7604\n",
            "Epoch 463/500\n",
            "39/39 [==============================] - 0s 3ms/step - loss: 0.5845 - accuracy: 0.7554 - val_loss: 0.6163 - val_accuracy: 0.7594\n",
            "Epoch 464/500\n",
            "39/39 [==============================] - 0s 4ms/step - loss: 0.5839 - accuracy: 0.7534 - val_loss: 0.6199 - val_accuracy: 0.7585\n",
            "Epoch 465/500\n",
            "39/39 [==============================] - 0s 3ms/step - loss: 0.5835 - accuracy: 0.7568 - val_loss: 0.6180 - val_accuracy: 0.7548\n",
            "Epoch 466/500\n",
            "39/39 [==============================] - 0s 3ms/step - loss: 0.5832 - accuracy: 0.7564 - val_loss: 0.6187 - val_accuracy: 0.7622\n",
            "Epoch 467/500\n",
            "39/39 [==============================] - 0s 3ms/step - loss: 0.5841 - accuracy: 0.7559 - val_loss: 0.6173 - val_accuracy: 0.7539\n",
            "Epoch 468/500\n",
            "39/39 [==============================] - 0s 3ms/step - loss: 0.5836 - accuracy: 0.7566 - val_loss: 0.6231 - val_accuracy: 0.7585\n",
            "Epoch 469/500\n",
            "39/39 [==============================] - 0s 3ms/step - loss: 0.5834 - accuracy: 0.7539 - val_loss: 0.6204 - val_accuracy: 0.7594\n",
            "Epoch 470/500\n",
            "39/39 [==============================] - 0s 3ms/step - loss: 0.5838 - accuracy: 0.7555 - val_loss: 0.6173 - val_accuracy: 0.7576\n",
            "Epoch 471/500\n",
            "39/39 [==============================] - 0s 3ms/step - loss: 0.5837 - accuracy: 0.7567 - val_loss: 0.6193 - val_accuracy: 0.7530\n",
            "Epoch 472/500\n",
            "39/39 [==============================] - 0s 3ms/step - loss: 0.5831 - accuracy: 0.7561 - val_loss: 0.6156 - val_accuracy: 0.7594\n",
            "Epoch 473/500\n",
            "39/39 [==============================] - 0s 3ms/step - loss: 0.5831 - accuracy: 0.7554 - val_loss: 0.6178 - val_accuracy: 0.7594\n",
            "Epoch 474/500\n",
            "39/39 [==============================] - 0s 3ms/step - loss: 0.5829 - accuracy: 0.7560 - val_loss: 0.6172 - val_accuracy: 0.7585\n",
            "Epoch 475/500\n",
            "39/39 [==============================] - 0s 3ms/step - loss: 0.5838 - accuracy: 0.7550 - val_loss: 0.6192 - val_accuracy: 0.7613\n",
            "Epoch 476/500\n",
            "39/39 [==============================] - 0s 3ms/step - loss: 0.5830 - accuracy: 0.7550 - val_loss: 0.6192 - val_accuracy: 0.7622\n",
            "Epoch 477/500\n",
            "39/39 [==============================] - 0s 3ms/step - loss: 0.5832 - accuracy: 0.7569 - val_loss: 0.6156 - val_accuracy: 0.7604\n",
            "Epoch 478/500\n",
            "39/39 [==============================] - 0s 3ms/step - loss: 0.5827 - accuracy: 0.7557 - val_loss: 0.6205 - val_accuracy: 0.7585\n",
            "Epoch 479/500\n",
            "39/39 [==============================] - 0s 3ms/step - loss: 0.5839 - accuracy: 0.7562 - val_loss: 0.6221 - val_accuracy: 0.7604\n",
            "Epoch 480/500\n",
            "39/39 [==============================] - 0s 3ms/step - loss: 0.5833 - accuracy: 0.7528 - val_loss: 0.6144 - val_accuracy: 0.7604\n",
            "Epoch 481/500\n",
            "39/39 [==============================] - 0s 3ms/step - loss: 0.5832 - accuracy: 0.7547 - val_loss: 0.6173 - val_accuracy: 0.7631\n",
            "Epoch 482/500\n",
            "39/39 [==============================] - 0s 3ms/step - loss: 0.5828 - accuracy: 0.7548 - val_loss: 0.6165 - val_accuracy: 0.7594\n",
            "Epoch 483/500\n",
            "39/39 [==============================] - 0s 3ms/step - loss: 0.5833 - accuracy: 0.7555 - val_loss: 0.6169 - val_accuracy: 0.7641\n",
            "Epoch 484/500\n",
            "39/39 [==============================] - 0s 3ms/step - loss: 0.5829 - accuracy: 0.7555 - val_loss: 0.6193 - val_accuracy: 0.7613\n",
            "Epoch 485/500\n",
            "39/39 [==============================] - 0s 3ms/step - loss: 0.5835 - accuracy: 0.7567 - val_loss: 0.6217 - val_accuracy: 0.7530\n",
            "Epoch 486/500\n",
            "39/39 [==============================] - 0s 3ms/step - loss: 0.5829 - accuracy: 0.7558 - val_loss: 0.6184 - val_accuracy: 0.7631\n",
            "Epoch 487/500\n",
            "39/39 [==============================] - 0s 3ms/step - loss: 0.5826 - accuracy: 0.7561 - val_loss: 0.6178 - val_accuracy: 0.7585\n",
            "Epoch 488/500\n",
            "39/39 [==============================] - 0s 3ms/step - loss: 0.5820 - accuracy: 0.7569 - val_loss: 0.6186 - val_accuracy: 0.7604\n",
            "Epoch 489/500\n",
            "39/39 [==============================] - 0s 3ms/step - loss: 0.5824 - accuracy: 0.7539 - val_loss: 0.6193 - val_accuracy: 0.7631\n",
            "Epoch 490/500\n",
            "39/39 [==============================] - 0s 3ms/step - loss: 0.5826 - accuracy: 0.7569 - val_loss: 0.6173 - val_accuracy: 0.7613\n",
            "Epoch 491/500\n",
            "39/39 [==============================] - 0s 3ms/step - loss: 0.5824 - accuracy: 0.7567 - val_loss: 0.6163 - val_accuracy: 0.7613\n",
            "Epoch 492/500\n",
            "39/39 [==============================] - 0s 3ms/step - loss: 0.5834 - accuracy: 0.7570 - val_loss: 0.6206 - val_accuracy: 0.7576\n",
            "Epoch 493/500\n",
            "39/39 [==============================] - 0s 3ms/step - loss: 0.5818 - accuracy: 0.7559 - val_loss: 0.6141 - val_accuracy: 0.7604\n",
            "Epoch 494/500\n",
            "39/39 [==============================] - 0s 3ms/step - loss: 0.5822 - accuracy: 0.7573 - val_loss: 0.6126 - val_accuracy: 0.7613\n",
            "Epoch 495/500\n",
            "39/39 [==============================] - 0s 3ms/step - loss: 0.5826 - accuracy: 0.7551 - val_loss: 0.6154 - val_accuracy: 0.7631\n",
            "Epoch 496/500\n",
            "39/39 [==============================] - 0s 3ms/step - loss: 0.5816 - accuracy: 0.7573 - val_loss: 0.6130 - val_accuracy: 0.7594\n",
            "Epoch 497/500\n",
            "39/39 [==============================] - 0s 3ms/step - loss: 0.5830 - accuracy: 0.7559 - val_loss: 0.6142 - val_accuracy: 0.7585\n",
            "Epoch 498/500\n",
            "39/39 [==============================] - 0s 3ms/step - loss: 0.5821 - accuracy: 0.7546 - val_loss: 0.6174 - val_accuracy: 0.7548\n",
            "Epoch 499/500\n",
            "39/39 [==============================] - 0s 3ms/step - loss: 0.5814 - accuracy: 0.7548 - val_loss: 0.6167 - val_accuracy: 0.7604\n",
            "Epoch 500/500\n",
            "39/39 [==============================] - 0s 3ms/step - loss: 0.5817 - accuracy: 0.7562 - val_loss: 0.6161 - val_accuracy: 0.7604\n",
            "CPU times: user 1min 7s, sys: 2.93 s, total: 1min 10s\n",
            "Wall time: 1min 21s\n"
          ]
        }
      ],
      "source": [
        "%%time\n",
        "history = model.fit(X_train, y_train, epochs=500, batch_size=256, validation_split=0.1, verbose=1)\n",
        "\n",
        "## no of iterations: ( 10847 (training size) - 1084.7 (validation split) )/(256) == 39"
      ]
    },
    {
      "cell_type": "markdown",
      "metadata": {
        "id": "AIUS1h4DzqBH"
      },
      "source": [
        "- Lets try to plot histograms of model weights and baises to see if there is any difference after training\n",
        "- **[Q] What will be the distributions now? Still glorot_uniform ?**\n",
        "\n",
        "  - Weights now follow normal distribution\n",
        "  - Biases are not Zero now\n"
      ]
    },
    {
      "cell_type": "code",
      "execution_count": null,
      "metadata": {
        "colab": {
          "base_uri": "https://localhost:8080/",
          "height": 468
        },
        "id": "yF4_bEt4xtaz",
        "outputId": "14be8940-1468-4231-d17c-b37146a2ce0e"
      },
      "outputs": [
        {
          "data": {
            "image/png": "[encoded data removed]",
            "text/plain": [
              "<Figure size 500x500 with 6 Axes>"
            ]
          },
          "metadata": {},
          "output_type": "display_data"
        }
      ],
      "source": [
        "# Plot histograms of weight and bias values after training\n",
        "import matplotlib.pyplot as plt\n",
        "fig, axes = plt.subplots(3, 2, figsize=(5,5))\n",
        "fig.subplots_adjust(hspace=0.5, wspace=0.5)\n",
        "\n",
        "# get the weights from the layers\n",
        "weight_layers = [layer for layer in model.layers]\n",
        "\n",
        "for i, layer in enumerate(weight_layers):\n",
        "    for j in [0, 1]:\n",
        "        axes[i, j].hist(layer.weights[j].numpy().flatten(), align='left')\n",
        "        axes[i, j].set_title(layer.weights[j].name)"
      ]
    },
    {
      "cell_type": "markdown",
      "metadata": {
        "id": "Oy1QVdrxUMF3"
      },
      "source": [
        "***Question:*** Is one iteration / step is one forward and then one back propagation?\n",
        "\n",
        "***Answer:***\n",
        "- Yes, that is correct."
      ]
    },
    {
      "cell_type": "markdown",
      "metadata": {
        "id": "XeY6I1TKOCJJ"
      },
      "source": [
        "### `validation_data`\n",
        "\n",
        "- We can also explicitly use a validation set (which was earlier created while splitting the data) using `validation_data` argument in `fit` method.\n",
        "- But, we will have to re-initialise the model after defining with `validation_data`, else, the model will start getting trained from its current stage.\n",
        "- Ideally, we should have written this code as a function, so that we don't have to write model definition again and again\n"
      ]
    },
    {
      "cell_type": "code",
      "execution_count": null,
      "metadata": {
        "id": "4NPlMivc5IKS"
      },
      "outputs": [],
      "source": [
        "def create_model():\n",
        "    model = Sequential([\n",
        "                    Dense(32, activation=\"relu\", input_shape=(11,), name=\"hidden_1\"),\n",
        "                    Dense(16, activation=\"relu\", name=\"hidden_2\"),\n",
        "                    Dense(4, activation=\"softmax\", name=\"output\")])\n",
        "    model.compile(\n",
        "    optimizer = tf.keras.optimizers.Adam(learning_rate=0.001),\n",
        "    loss = tf.keras.losses.SparseCategoricalCrossentropy(),\n",
        "    metrics=[\"accuracy\"])\n",
        "    return model\n",
        "\n",
        "model = create_model()"
      ]
    },
    {
      "cell_type": "markdown",
      "metadata": {
        "id": "G1zIDkkC5kcQ"
      },
      "source": [
        "Also, this time, lets change the `verbose=0` to make the training process silent. This will prevent the printing of loss and other metrics for each epoch."
      ]
    },
    {
      "cell_type": "code",
      "execution_count": null,
      "metadata": {
        "id": "YPWU-dqvPHWB"
      },
      "outputs": [],
      "source": [
        "history = model.fit(X_train, y_train, validation_data = (X_val, y_val),  epochs=500, batch_size=512, verbose=0)"
      ]
    },
    {
      "cell_type": "markdown",
      "metadata": {
        "id": "xKXIzpFJbRLo"
      },
      "source": [
        "Lets look at the history object dictionary. It's an alternative to dir().\n",
        "`__dict__` attribute can be used to retrieve all the keys associated with the object on which it is called."
      ]
    },
    {
      "cell_type": "code",
      "execution_count": null,
      "metadata": {
        "colab": {
          "base_uri": "https://localhost:8080/"
        },
        "id": "LHWz807HbQAf",
        "outputId": "d44315bb-c823-4592-e968-83707a4f7f16"
      },
      "outputs": [
        {
          "data": {
            "text/plain": [
              "dict_keys(['validation_data', 'model', '_chief_worker_only', '_supports_tf_logs', 'history', 'params', 'epoch'])"
            ]
          },
          "execution_count": 38,
          "metadata": {},
          "output_type": "execute_result"
        }
      ],
      "source": [
        "history.__dict__.keys()"
      ]
    },
    {
      "cell_type": "markdown",
      "metadata": {
        "id": "xWsJqRqBdN9P"
      },
      "source": [
        "We can see that history object's dictionary has another dictionary with key \"history\" inside it"
      ]
    },
    {
      "cell_type": "markdown",
      "metadata": {
        "id": "_yVJqnXBb6aF"
      },
      "source": [
        "We can also call the `history` method of the above object as it is available in keys associated with the `model.fit()`."
      ]
    },
    {
      "cell_type": "code",
      "execution_count": null,
      "metadata": {
        "colab": {
          "base_uri": "https://localhost:8080/"
        },
        "id": "f5ilqmon1rV0",
        "outputId": "94218532-1dae-419b-aedc-1edca0e931b8"
      },
      "outputs": [
        {
          "data": {
            "text/plain": [
              "dict_keys(['loss', 'accuracy', 'val_loss', 'val_accuracy'])"
            ]
          },
          "execution_count": 46,
          "metadata": {},
          "output_type": "execute_result"
        }
      ],
      "source": [
        "history.history.keys()"
      ]
    },
    {
      "cell_type": "markdown",
      "metadata": {
        "id": "PytjNCrdeeow"
      },
      "source": [
        "model.fit() has saved all the loss and metrics values  for each epoch inside the `history` dictionary where all the values are stored in different lists."
      ]
    },
    {
      "cell_type": "code",
      "execution_count": null,
      "metadata": {
        "id": "PwFQg3plbxYn"
      },
      "outputs": [],
      "source": [
        "epochs = history.epoch\n",
        "loss = history.history[\"loss\"]\n",
        "accuracy = history.history[\"accuracy\"]\n",
        "val_loss = history.history[\"val_loss\"]\n",
        "val_accuracy = history.history[\"val_accuracy\"]"
      ]
    },
    {
      "cell_type": "markdown",
      "metadata": {
        "id": "hPM2Cxpo5x_6"
      },
      "source": [
        "Lets plot the loss and accuracy curves for both training and validation data"
      ]
    },
    {
      "cell_type": "code",
      "execution_count": null,
      "metadata": {
        "colab": {
          "base_uri": "https://localhost:8080/",
          "height": 545
        },
        "id": "zaFxxihgbCr0",
        "outputId": "1f44885d-14fd-4151-c09f-36512191f22b"
      },
      "outputs": [
        {
          "data": {
            "image/png": "[encoded data removed]",
            "text/plain": [
              "<Figure size 432x288 with 1 Axes>"
            ]
          },
          "metadata": {},
          "output_type": "display_data"
        },
        {
          "data": {
            "image/png": "[encoded data removed]",
            "text/plain": [
              "<Figure size 432x288 with 1 Axes>"
            ]
          },
          "metadata": {},
          "output_type": "display_data"
        }
      ],
      "source": [
        "plt.figure()\n",
        "plt.plot(epochs, loss, label=\"train\")\n",
        "plt.plot(epochs, val_loss, label=\"val\")\n",
        "plt.legend()\n",
        "plt.title(\"Loss VS Epochs\")\n",
        "plt.show()\n",
        "\n",
        "plt.figure()\n",
        "plt.plot(epochs, accuracy, label=\"train\")\n",
        "plt.plot(epochs, val_accuracy, label=\"validation\")\n",
        "plt.legend()\n",
        "plt.title(\"Accuracy VS Epochs\")\n",
        "plt.show()"
      ]
    },
    {
      "cell_type": "markdown",
      "metadata": {
        "id": "tLLg4n156A73"
      },
      "source": [
        "- We can see that both training and validation loss decrease with epochs.\n",
        "- After around 120 epochs, training loss still keeps on decreasing, but validation loss starts to increase.\n",
        "- This means, **the model starts overfitting the training dataset after 120 epochs**.\n",
        "- Params learnt after 120 epochs would be the one which are overfitting the training dataset.\n",
        "- Later, **we will see ways to save intermediate model parameters** - **early stopping**.\n",
        "- But for now, lets evaluate the model performance based on 500 epochs trained model only.\n",
        "-- --\n"
      ]
    }
  ]
}