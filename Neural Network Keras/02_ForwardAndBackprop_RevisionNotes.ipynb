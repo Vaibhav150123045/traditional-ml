{
  "nbformat": 4,
  "nbformat_minor": 0,
  "metadata": {
    "colab": {
      "provenance": []
    },
    "kernelspec": {
      "name": "python3",
      "display_name": "Python 3"
    },
    "language_info": {
      "name": "python"
    }
  },
  "cells": [
    {
      "cell_type": "markdown",
      "metadata": {
        "id": "R7KidcCe0Lvx"
      },
      "source": [
        "## Content"
      ]
    },
    {
      "cell_type": "markdown",
      "metadata": {
        "id": "61crXPwqxqM9"
      },
      "source": [
        "\n",
        "\n",
        "- **How to create a model that helps in multiclass classification**\n",
        "    - Notations\n",
        "\n",
        "- **Softmax classifier**\n",
        "\n",
        "- **Categorical Cross entropy**\n",
        "\n",
        "- **How to train a NN?**\n",
        "    - Forward Prop\n",
        "    - Backward Prop"
      ]
    },
    {
      "cell_type": "code",
      "source": [
        "from category_encoders import TargetEncoder"
      ],
      "metadata": {
        "id": "XRY3oc8bM-Zh",
        "colab": {
          "base_uri": "https://localhost:8080/",
          "height": 304
        },
        "outputId": "f64a96a7-3b63-47a7-f117-0532f821614e"
      },
      "execution_count": null,
      "outputs": [
        {
          "output_type": "error",
          "ename": "ModuleNotFoundError",
          "evalue": "ignored",
          "traceback": [
            "\u001b[0;31m---------------------------------------------------------------------------\u001b[0m",
            "\u001b[0;31mModuleNotFoundError\u001b[0m                       Traceback (most recent call last)",
            "\u001b[0;32m<ipython-input-1-14f4446f821e>\u001b[0m in \u001b[0;36m<cell line: 1>\u001b[0;34m()\u001b[0m\n\u001b[0;32m----> 1\u001b[0;31m \u001b[0;32mfrom\u001b[0m \u001b[0mcategory_encoders\u001b[0m \u001b[0;32mimport\u001b[0m \u001b[0mTargetEncoder\u001b[0m\u001b[0;34m\u001b[0m\u001b[0;34m\u001b[0m\u001b[0m\n\u001b[0m",
            "\u001b[0;31mModuleNotFoundError\u001b[0m: No module named 'category_encoders'",
            "",
            "\u001b[0;31m---------------------------------------------------------------------------\u001b[0;32m\nNOTE: If your import is failing due to a missing package, you can\nmanually install dependencies using either !pip or !apt.\n\nTo view examples of installing some common dependencies, click the\n\"Open Examples\" button below.\n\u001b[0;31m---------------------------------------------------------------------------\u001b[0m\n"
          ],
          "errorDetails": {
            "actions": [
              {
                "action": "open_url",
                "actionText": "Open Examples",
                "url": "/notebooks/snippets/importing_libraries.ipynb"
              }
            ]
          }
        }
      ]
    },
    {
      "cell_type": "markdown",
      "metadata": {
        "id": "BTFPIy3KzJxY"
      },
      "source": [
        "***"
      ]
    },
    {
      "cell_type": "markdown",
      "metadata": {
        "id": "2h55EujXBM6D"
      },
      "source": [
        "Lets start working towards our goals that we mentioned earlier\n",
        "\n",
        "## How to create a model that helps in our multi-class classification?"
      ]
    },
    {
      "cell_type": "markdown",
      "metadata": {
        "id": "AG0r1deM1ok0"
      },
      "source": [
        "Coming back to the problem at hand.\n",
        "\n",
        "> **Our data consists of 3 classes.**\n",
        "\n",
        "#### Question: Can we use simple logistic regression to classify 3 classes?\n",
        "\n",
        "No. We can only represent the simple Logitic Regression as a single-neuron model. i.e. predicting 2 classes.\n",
        "\n",
        "#### Question: How can we modify the existing network to account for multiclass classification ?\n",
        "\n",
        "Perhaps we can use multiple simple LogReg units (LRUs).\n",
        "\n"
      ]
    },
    {
      "cell_type": "markdown",
      "metadata": {
        "id": "Hi0c_FtnUaY4"
      },
      "source": [
        "So, instead of using single model,\n",
        "- we train multiple models"
      ]
    },
    {
      "cell_type": "markdown",
      "metadata": {
        "id": "YsH7nOPrU1sJ"
      },
      "source": [
        "<center><img src=\"https://d2beiqkhq929f0.cloudfront.net/public_assets/assets/000/044/718/original/33.png?1693146640\" width=\"800\"></center>\n",
        "\n",
        "\n",
        "\n"
      ]
    },
    {
      "cell_type": "markdown",
      "metadata": {
        "id": "3kEgoAHX32G8"
      },
      "source": [
        "\n",
        "\n",
        "### Can we do this using a single model ?\n",
        "\n",
        "Recall multi-class classification.\n",
        "- We calculated the probability that a given data point belongs to class A, B or C repectively.\n",
        "- Then, we returned the class with highest probability as the answer.\n",
        "\n",
        "\n"
      ]
    },
    {
      "cell_type": "markdown",
      "metadata": {
        "id": "5UtYJd20b0dO"
      },
      "source": [
        "**This gives us the intuition that perhaps, our output layer should have 3 outputs. One for each class.**\n",
        "\n",
        "So we can have a NN that looks like:-\n"
      ]
    },
    {
      "cell_type": "markdown",
      "metadata": {
        "id": "XArp3UMbdhgv"
      },
      "source": [
        "<center><img src=\"https://d2beiqkhq929f0.cloudfront.net/public_assets/assets/000/044/719/original/445.png?1693146720\" width=\"800\"></center>\n",
        "\n",
        "\n",
        "\n"
      ]
    },
    {
      "cell_type": "markdown",
      "metadata": {
        "id": "IPqkNWmJeoE6"
      },
      "source": [
        "Do notice that\n",
        "- we have same number of outputs (3 outputs)\n",
        "- and same number of connections\n",
        "\n",
        "\n",
        "The difference here is that\n",
        "- computation is happening together\n",
        "\n",
        "So, instead of having weight vector,\n",
        "- we'll have weight matrix multiplying with data matrix.\n",
        "\n",
        "We'll see it in code later."
      ]
    },
    {
      "cell_type": "markdown",
      "metadata": {
        "id": "x36XV69dUeiW"
      },
      "source": [
        "A model formed by utilising multiple neurons is called a **Neural Network (NN)**."
      ]
    },
    {
      "cell_type": "markdown",
      "metadata": {
        "id": "PkowDYSWnJJe"
      },
      "source": [
        "Let's learn some notation to make our life easy."
      ]
    },
    {
      "cell_type": "markdown",
      "metadata": {
        "id": "oMWsJqxbnRWf"
      },
      "source": [
        "### Notations\n",
        "\n"
      ]
    },
    {
      "cell_type": "markdown",
      "metadata": {
        "id": "aqQ4M0Y3nSq2"
      },
      "source": [
        "####  **Inputs**\n",
        " - We have two features for each datapoint: $x_{i1}$ and $x_{i2}$\n",
        "\n",
        "\n",
        "#### But we have m datapoints?\n",
        "\n",
        "#### Question: How did we represent m datapoints?\n",
        "\n",
        "Ans: As a matrix where each row represent a datapoint\n",
        "$\n",
        "\\begin{bmatrix}\n",
        "x_{11} & x_{12} \\\\\n",
        "x_{21} & x_{i2} \\\\\n",
        "...  & ...  \\\\\n",
        "x_{m1} & x_{m2}\n",
        "\\end{bmatrix}$\n",
        "\n"
      ]
    },
    {
      "cell_type": "markdown",
      "metadata": {
        "id": "HzKCBb2SnW1r"
      },
      "source": [
        "#### **Neuron**\n",
        "\n",
        "- Neuron is represented using $f_i$ where\n",
        "    - i refers to the neuron number\n",
        "\n",
        "For example: $f_1$ means 1st neuron"
      ]
    },
    {
      "cell_type": "markdown",
      "metadata": {
        "id": "4GsSHuFxCXwG"
      },
      "source": [
        "\n",
        "#### **Weights**\n",
        "\n",
        "- Weights are defined by notation: $w_{ij}$ where\n",
        "    - i is the source neuron\n",
        "    - j is the destination neuron\n",
        "\n",
        "Let's define the weight associated with input $x_{i1}$, going to neuron 2, $f_2$ (say) as: $w_{12}$\n",
        " - Similarly, we define other weights values as $w_{11}, w_{12}, w_{13}, w_{21}, w_{22}, w_{23}$\n",
        "\n",
        "\n"
      ]
    },
    {
      "cell_type": "markdown",
      "metadata": {
        "id": "nnAnu9ocpp-j"
      },
      "source": [
        "\n",
        "####  **Bias**\n",
        " - Each neuron will have a bias term associated with it ($b_i$): $b = \\begin{bmatrix}\n",
        "b_1 \\space\n",
        "b_2  \\space\n",
        "b_3\n",
        "\\end{bmatrix}$\n"
      ]
    },
    {
      "cell_type": "markdown",
      "metadata": {
        "id": "a6RiVfMwsuIH"
      },
      "source": [
        "\n",
        "#### **z value**\n",
        "$ $\n",
        "- z value represent the linear operation i.e additive multiplication of inputs with their respective weights\n",
        "    - $z_1 =w_{11}. x_{i1}  + w_{21}. x_{i2}$\n",
        "    - $z_2 =w_{12} .x_{i1}  + w_{22}.x_{i2}$\n",
        "    - $z_3 = w_{13} .x_{i1} + w_{23}.x_{i2}$\n",
        "  \n",
        "\n",
        "\n",
        "\n"
      ]
    },
    {
      "cell_type": "markdown",
      "metadata": {
        "id": "B4rnjMlOsvov"
      },
      "source": [
        "#### **Output**\n",
        " - Each neuron will apply it's activation function on the z values to outputs: $a^1_1, a^1_2, a^1_3$\n"
      ]
    },
    {
      "cell_type": "markdown",
      "metadata": {
        "id": "MgX3tkxTuPYY"
      },
      "source": [
        "<center><img src=\"https://d2beiqkhq929f0.cloudfront.net/public_assets/assets/000/044/721/original/44.png?1693146930\" width=\"800\"></center>\n",
        "\n",
        "\n",
        "\n",
        "\n",
        "\n",
        "\n",
        "\n",
        "\n"
      ]
    },
    {
      "cell_type": "markdown",
      "metadata": {
        "id": "tHDSMRYB4n4z"
      },
      "source": [
        "\n",
        "#### Q. What is the problem with this formulation?\n",
        "\n"
      ]
    },
    {
      "cell_type": "markdown",
      "metadata": {
        "id": "zElbHCbSqwxE"
      },
      "source": [
        "#### What if the model predicts >0.5 for more than one of the classes?\n",
        "\n"
      ]
    },
    {
      "cell_type": "markdown",
      "metadata": {
        "id": "VoUGvQe-qzek"
      },
      "source": [
        "<center><img src=\"https://d2beiqkhq929f0.cloudfront.net/public_assets/assets/000/044/722/original/44.png?1693147019\" width=\"800\"></center>\n"
      ]
    },
    {
      "cell_type": "markdown",
      "metadata": {
        "id": "o3Hm0FPPqy7D"
      },
      "source": [
        "- Model will predict the presence of multiple classes in the output - [1, 1, 0], [1, 1, 1], [1, 0, 1]\n",
        "\n",
        "#### But how can multiple outputs be 1 ?\n",
        "\n",
        "Recall that we are taking sigmoid of output\n",
        "- range of $σ ∈ [0,1]$\n",
        "- and we have sigmoid for each class.\n",
        "\n",
        "Hence, each probability can be > 0.5 and therefore multiple class labels can be 1.\n",
        "\n",
        "But, **We want these probabilities values to sum to 1, as the we had in Logistic Regression (p and 1-p)**."
      ]
    },
    {
      "cell_type": "markdown",
      "metadata": {
        "id": "mNj_ccUMH_O0"
      },
      "source": [
        "<hr style=\"border:1px solid gray\"> </hr>\n",
        "\n",
        "## Softmax classifier\n"
      ]
    },
    {
      "cell_type": "markdown",
      "metadata": {
        "id": "nejBoCbZrEV2"
      },
      "source": [
        "\n",
        "#### What constraint do we want on your output probabilities ?\n",
        "\n",
        "Consider three outputs - $z_{1}$, $z_{2}$, $z_{3}$\n",
        "\n",
        "- We want a function that should map $z_{1}$, $z_{2}$, $z_{3}$ to output such that\n",
        "    - sum of output probabilities = 1\n",
        "\n",
        "#### How can we map the outputs of three neurons in the last layer such that they sum upto 1?\n",
        "- One such function is a **softmax function**\n",
        "\n",
        "where\n",
        "$$p_i = \\frac {e^{z_i}} {\\sum^k_{i =0} e^{z_i}}$$\n",
        "\n",
        "Here, $p_i$ refers to the prob. of datapoint belonging to class i\n",
        "- The denominator here is the normalisation term, to make $p_{1}+ p_{2}+ p_{3}= 1$\n",
        "\n",
        "<br>\n",
        "\n",
        "So, softmax can be thought of as sigmoid-like function for multiclass setting."
      ]
    },
    {
      "cell_type": "markdown",
      "metadata": {
        "id": "fh9DWlFm1-6o"
      },
      "source": [
        "\n",
        "#### <font color ='red'>(Optional) </font> Question: But why not directly use $\\frac{z_i}{\\sum^k_{i=0} {z_i}}$? Why to raise the $z$ to power of exponential?\n",
        "\n",
        "**Intuitive reason** - Ensures that values are **non-negative**, and lie only between 0 and 1.\n",
        "- as the value of $z_i$ ranges from -∞ to ∞\n",
        "\n",
        "<br>\n",
        "\n",
        "Besides this, softmax function has some other desirable properties\n",
        "1. Nice diferentiable $\\frac{de^x}{dx} = e^x$\n",
        "2. The output probabilities can be interpreted as log likelihoods (log odds)\n",
        "\n",
        "Lets redraw the flow for an input data-point belonging to class C\n",
        "\n",
        "<img src=\"https://d2beiqkhq929f0.cloudfront.net/public_assets/assets/000/044/723/original/44.png?1693147171\" width=\"800\">\n",
        "\n",
        "\n",
        "If we were to just use normalized z values instead of exponential\n",
        "- the ratio of prob would be 1:3:6.\n",
        "\n",
        "- However, softmax pushes the probability of largest number closer to 1. Hence, the term soft-max\n",
        "\n",
        "\n",
        "\n",
        "So, we decide to keep **softmax** as the activation function in our NN."
      ]
    },
    {
      "cell_type": "markdown",
      "metadata": {
        "id": "BiRHK40JouWh"
      },
      "source": [
        "Softmax calculator: https://keisan.casio.com/exec/system/15168444286206"
      ]
    },
    {
      "cell_type": "markdown",
      "metadata": {
        "id": "C5qfsj0dEwin"
      },
      "source": [
        "---\n",
        "\n",
        "We know we can train a simple Logistic Reg model using SGD and all, but\n",
        "\n",
        "## How to train a NN?\n",
        "\n",
        "\n",
        "\n",
        "Lets first define some variables"
      ]
    },
    {
      "cell_type": "code",
      "execution_count": null,
      "metadata": {
        "id": "dMyAGfg2h4aP",
        "colab": {
          "base_uri": "https://localhost:8080/",
          "height": 522
        },
        "outputId": "678c603d-2b5e-4957-d2c3-83d5432015f1"
      },
      "outputs": [
        {
          "output_type": "stream",
          "name": "stdout",
          "text": [
            "Downloading...\n",
            "From: https://drive.google.com/uc?id=1dLOPwh01o3k8p_hK633ixhD1ehz6nNWk\n",
            "To: /content/spiral.csv\n",
            "\r  0% 0.00/12.9k [00:00<?, ?B/s]\r100% 12.9k/12.9k [00:00<00:00, 36.3MB/s]\n"
          ]
        },
        {
          "output_type": "execute_result",
          "data": {
            "text/plain": [
              "<matplotlib.collections.PathCollection at 0x79e56d1b1990>"
            ]
          },
          "metadata": {},
          "execution_count": 2
        },
        {
          "output_type": "display_data",
          "data": {
            "text/plain": [
              "<Figure size 640x480 with 1 Axes>"
            ],
            "image/png": "[encoded data removed]"
          },
          "metadata": {}
        }
      ],
      "source": [
        "import numpy as np\n",
        "import pandas as pd\n",
        "import matplotlib.pyplot as plt\n",
        "!gdown 1dLOPwh01o3k8p_hK633ixhD1ehz6nNWk\n",
        "df = pd.read_csv(\"/content/spiral.csv\")\n",
        "plt.scatter(df[\"x1\"],df[\"x2\"],c=df[\"y\"], s=40, cmap=plt.cm.Spectral)\n",
        "\n"
      ]
    },
    {
      "cell_type": "code",
      "source": [
        "df.head()"
      ],
      "metadata": {
        "colab": {
          "base_uri": "https://localhost:8080/",
          "height": 206
        },
        "id": "ndSa7jUmHo8m",
        "outputId": "48b6e693-3cc2-4c27-924e-4cc273a21e7f"
      },
      "execution_count": null,
      "outputs": [
        {
          "output_type": "execute_result",
          "data": {
            "text/plain": [
              "         x1        x2  y\n",
              "0  0.000000  0.000000  0\n",
              "1 -0.000650  0.010080  0\n",
              "2  0.009809  0.017661  0\n",
              "3  0.007487  0.029364  0\n",
              "4 -0.000027  0.040404  0"
            ],
            "text/html": [
              "\n",
              "\n",
              "  <div id=\"df-3b626e5a-1bef-402c-8df4-a6e8ea6fdf19\">\n",
              "    <div class=\"colab-df-container\">\n",
              "      <div>\n",
              "<style scoped>\n",
              "    .dataframe tbody tr th:only-of-type {\n",
              "        vertical-align: middle;\n",
              "    }\n",
              "\n",
              "    .dataframe tbody tr th {\n",
              "        vertical-align: top;\n",
              "    }\n",
              "\n",
              "    .dataframe thead th {\n",
              "        text-align: right;\n",
              "    }\n",
              "</style>\n",
              "<table border=\"1\" class=\"dataframe\">\n",
              "  <thead>\n",
              "    <tr style=\"text-align: right;\">\n",
              "      <th></th>\n",
              "      <th>x1</th>\n",
              "      <th>x2</th>\n",
              "      <th>y</th>\n",
              "    </tr>\n",
              "  </thead>\n",
              "  <tbody>\n",
              "    <tr>\n",
              "      <th>0</th>\n",
              "      <td>0.000000</td>\n",
              "      <td>0.000000</td>\n",
              "      <td>0</td>\n",
              "    </tr>\n",
              "    <tr>\n",
              "      <th>1</th>\n",
              "      <td>-0.000650</td>\n",
              "      <td>0.010080</td>\n",
              "      <td>0</td>\n",
              "    </tr>\n",
              "    <tr>\n",
              "      <th>2</th>\n",
              "      <td>0.009809</td>\n",
              "      <td>0.017661</td>\n",
              "      <td>0</td>\n",
              "    </tr>\n",
              "    <tr>\n",
              "      <th>3</th>\n",
              "      <td>0.007487</td>\n",
              "      <td>0.029364</td>\n",
              "      <td>0</td>\n",
              "    </tr>\n",
              "    <tr>\n",
              "      <th>4</th>\n",
              "      <td>-0.000027</td>\n",
              "      <td>0.040404</td>\n",
              "      <td>0</td>\n",
              "    </tr>\n",
              "  </tbody>\n",
              "</table>\n",
              "</div>\n",
              "      <button class=\"colab-df-convert\" onclick=\"convertToInteractive('df-3b626e5a-1bef-402c-8df4-a6e8ea6fdf19')\"\n",
              "              title=\"Convert this dataframe to an interactive table.\"\n",
              "              style=\"display:none;\">\n",
              "\n",
              "  <svg xmlns=\"http://www.w3.org/2000/svg\" height=\"24px\"viewBox=\"0 0 24 24\"\n",
              "       width=\"24px\">\n",
              "    <path d=\"M0 0h24v24H0V0z\" fill=\"none\"/>\n",
              "    <path d=\"M18.56 5.44l.94 2.06.94-2.06 2.06-.94-2.06-.94-.94-2.06-.94 2.06-2.06.94zm-11 1L8.5 8.5l.94-2.06 2.06-.94-2.06-.94L8.5 2.5l-.94 2.06-2.06.94zm10 10l.94 2.06.94-2.06 2.06-.94-2.06-.94-.94-2.06-.94 2.06-2.06.94z\"/><path d=\"M17.41 7.96l-1.37-1.37c-.4-.4-.92-.59-1.43-.59-.52 0-1.04.2-1.43.59L10.3 9.45l-7.72 7.72c-.78.78-.78 2.05 0 2.83L4 21.41c.39.39.9.59 1.41.59.51 0 1.02-.2 1.41-.59l7.78-7.78 2.81-2.81c.8-.78.8-2.07 0-2.86zM5.41 20L4 18.59l7.72-7.72 1.47 1.35L5.41 20z\"/>\n",
              "  </svg>\n",
              "      </button>\n",
              "\n",
              "\n",
              "\n",
              "    <div id=\"df-55e90591-5721-47d5-bc77-8bc7b115e931\">\n",
              "      <button class=\"colab-df-quickchart\" onclick=\"quickchart('df-55e90591-5721-47d5-bc77-8bc7b115e931')\"\n",
              "              title=\"Suggest charts.\"\n",
              "              style=\"display:none;\">\n",
              "\n",
              "<svg xmlns=\"http://www.w3.org/2000/svg\" height=\"24px\"viewBox=\"0 0 24 24\"\n",
              "     width=\"24px\">\n",
              "    <g>\n",
              "        <path d=\"M19 3H5c-1.1 0-2 .9-2 2v14c0 1.1.9 2 2 2h14c1.1 0 2-.9 2-2V5c0-1.1-.9-2-2-2zM9 17H7v-7h2v7zm4 0h-2V7h2v10zm4 0h-2v-4h2v4z\"/>\n",
              "    </g>\n",
              "</svg>\n",
              "      </button>\n",
              "    </div>\n",
              "\n",
              "<style>\n",
              "  .colab-df-quickchart {\n",
              "    background-color: #E8F0FE;\n",
              "    border: none;\n",
              "    border-radius: 50%;\n",
              "    cursor: pointer;\n",
              "    display: none;\n",
              "    fill: #1967D2;\n",
              "    height: 32px;\n",
              "    padding: 0 0 0 0;\n",
              "    width: 32px;\n",
              "  }\n",
              "\n",
              "  .colab-df-quickchart:hover {\n",
              "    background-color: #E2EBFA;\n",
              "    box-shadow: 0px 1px 2px rgba(60, 64, 67, 0.3), 0px 1px 3px 1px rgba(60, 64, 67, 0.15);\n",
              "    fill: #174EA6;\n",
              "  }\n",
              "\n",
              "  [theme=dark] .colab-df-quickchart {\n",
              "    background-color: #3B4455;\n",
              "    fill: #D2E3FC;\n",
              "  }\n",
              "\n",
              "  [theme=dark] .colab-df-quickchart:hover {\n",
              "    background-color: #434B5C;\n",
              "    box-shadow: 0px 1px 3px 1px rgba(0, 0, 0, 0.15);\n",
              "    filter: drop-shadow(0px 1px 2px rgba(0, 0, 0, 0.3));\n",
              "    fill: #FFFFFF;\n",
              "  }\n",
              "</style>\n",
              "\n",
              "    <script>\n",
              "      async function quickchart(key) {\n",
              "        const containerElement = document.querySelector('#' + key);\n",
              "        const charts = await google.colab.kernel.invokeFunction(\n",
              "            'suggestCharts', [key], {});\n",
              "      }\n",
              "    </script>\n",
              "\n",
              "      <script>\n",
              "\n",
              "function displayQuickchartButton(domScope) {\n",
              "  let quickchartButtonEl =\n",
              "    domScope.querySelector('#df-55e90591-5721-47d5-bc77-8bc7b115e931 button.colab-df-quickchart');\n",
              "  quickchartButtonEl.style.display =\n",
              "    google.colab.kernel.accessAllowed ? 'block' : 'none';\n",
              "}\n",
              "\n",
              "        displayQuickchartButton(document);\n",
              "      </script>\n",
              "      <style>\n",
              "    .colab-df-container {\n",
              "      display:flex;\n",
              "      flex-wrap:wrap;\n",
              "      gap: 12px;\n",
              "    }\n",
              "\n",
              "    .colab-df-convert {\n",
              "      background-color: #E8F0FE;\n",
              "      border: none;\n",
              "      border-radius: 50%;\n",
              "      cursor: pointer;\n",
              "      display: none;\n",
              "      fill: #1967D2;\n",
              "      height: 32px;\n",
              "      padding: 0 0 0 0;\n",
              "      width: 32px;\n",
              "    }\n",
              "\n",
              "    .colab-df-convert:hover {\n",
              "      background-color: #E2EBFA;\n",
              "      box-shadow: 0px 1px 2px rgba(60, 64, 67, 0.3), 0px 1px 3px 1px rgba(60, 64, 67, 0.15);\n",
              "      fill: #174EA6;\n",
              "    }\n",
              "\n",
              "    [theme=dark] .colab-df-convert {\n",
              "      background-color: #3B4455;\n",
              "      fill: #D2E3FC;\n",
              "    }\n",
              "\n",
              "    [theme=dark] .colab-df-convert:hover {\n",
              "      background-color: #434B5C;\n",
              "      box-shadow: 0px 1px 3px 1px rgba(0, 0, 0, 0.15);\n",
              "      filter: drop-shadow(0px 1px 2px rgba(0, 0, 0, 0.3));\n",
              "      fill: #FFFFFF;\n",
              "    }\n",
              "  </style>\n",
              "\n",
              "      <script>\n",
              "        const buttonEl =\n",
              "          document.querySelector('#df-3b626e5a-1bef-402c-8df4-a6e8ea6fdf19 button.colab-df-convert');\n",
              "        buttonEl.style.display =\n",
              "          google.colab.kernel.accessAllowed ? 'block' : 'none';\n",
              "\n",
              "        async function convertToInteractive(key) {\n",
              "          const element = document.querySelector('#df-3b626e5a-1bef-402c-8df4-a6e8ea6fdf19');\n",
              "          const dataTable =\n",
              "            await google.colab.kernel.invokeFunction('convertToInteractive',\n",
              "                                                     [key], {});\n",
              "          if (!dataTable) return;\n",
              "\n",
              "          const docLinkHtml = 'Like what you see? Visit the ' +\n",
              "            '<a target=\"_blank\" href=https://colab.research.google.com/notebooks/data_table.ipynb>data table notebook</a>'\n",
              "            + ' to learn more about interactive tables.';\n",
              "          element.innerHTML = '';\n",
              "          dataTable['output_type'] = 'display_data';\n",
              "          await google.colab.output.renderOutput(dataTable, element);\n",
              "          const docLink = document.createElement('div');\n",
              "          docLink.innerHTML = docLinkHtml;\n",
              "          element.appendChild(docLink);\n",
              "        }\n",
              "      </script>\n",
              "    </div>\n",
              "  </div>\n"
            ]
          },
          "metadata": {},
          "execution_count": 3
        }
      ]
    },
    {
      "cell_type": "code",
      "source": [
        "# Separating feature and label columns\n",
        "X = df.iloc[:, :-1].to_numpy()\n",
        "y = df.iloc[:, -1].to_numpy()"
      ],
      "metadata": {
        "id": "Nam4f18LtnyC"
      },
      "execution_count": null,
      "outputs": []
    },
    {
      "cell_type": "code",
      "execution_count": null,
      "metadata": {
        "id": "ry6jA2XAMx2X",
        "outputId": "c33ad182-66a9-41e8-b53f-bdf0110ab267",
        "colab": {
          "base_uri": "https://localhost:8080/"
        }
      },
      "outputs": [
        {
          "output_type": "stream",
          "name": "stdout",
          "text": [
            "2 3 300\n"
          ]
        }
      ],
      "source": [
        "d = X.shape[1] # 2 - dimensionality, number of features\n",
        "n = len(np.unique(y)) #3 - number of classes\n",
        "m = X.shape[0] # number of examples\n",
        "print(d, n, m)"
      ]
    },
    {
      "cell_type": "markdown",
      "metadata": {
        "id": "y6494vpurEV2"
      },
      "source": [
        "\n",
        "#### Question: How many coef parameters $W$ will this system (of three LR/neurons) will have?\n",
        "\n",
        "\n",
        "- We have 2 features $x_1$ and $x_2$ and which going into 3 LRs --> $d=2$\n",
        "- Notice that #LRUs/#neurons in last layer = number of classes --> $n = 3$\n",
        "- Thus, we will have\n",
        " - 2 $w$s for LR1, and\n",
        " - 2 $w$s for LR2, and\n",
        " - 2 $w$s for LR3,\n",
        "\n",
        "Therefore a total of: $6$\n",
        "\n"
      ]
    },
    {
      "cell_type": "code",
      "source": [],
      "metadata": {
        "id": "J4zChByiEdEN"
      },
      "execution_count": null,
      "outputs": []
    },
    {
      "cell_type": "markdown",
      "metadata": {
        "id": "j3nJ8iIS1OR8"
      },
      "source": [
        "<img src=\"https://d2beiqkhq929f0.cloudfront.net/public_assets/assets/000/044/726/original/134.png?1693147568\" width=\"300\">"
      ]
    },
    {
      "cell_type": "markdown",
      "metadata": {
        "id": "qbnQaNM51Nns"
      },
      "source": [
        "\n",
        "#### Question: What should be the shape of W?\n",
        "\n",
        "\n"
      ]
    },
    {
      "cell_type": "markdown",
      "metadata": {
        "id": "sb9TAUhmbu-s"
      },
      "source": [
        "Before deciding on the shape of W, let's take a look at the data matrix, and the output matrix.\n",
        "\n",
        "\n",
        "> **Data Matrix**\n",
        "\n",
        "We have a total of $m$ training examples. Each of which contains of $d=2$ features.\n",
        "\n",
        "So, we have a data matrix $X$, that has the shape: **m x d**\n",
        "\n",
        "<br>\n",
        "\n",
        "> **Output matrix**\n",
        "\n",
        "We know that we're getting 3 values as outputs: probabilities of the data point belonging to class A, B or C respectively.\n",
        "\n",
        "Let $n=3$.\n",
        "\n",
        "Therefore, we will get 3 output values for all $m$ examples.\n",
        "\n",
        "Hence, shape of output matrix is: **m x n**\n",
        "\n",
        "<br>\n",
        "\n",
        "> **Weight matrix**\n",
        "\n",
        "Hence, in order to get the output matrix, as a dot product of data and weight matrices, the shape of weight matrix has to be: **d x n**\n",
        "\n",
        "$w^1 = \\begin{bmatrix}\n",
        "w_{11} & w_{12} & w_{13}\\\\\n",
        "w_{21} & w_{22} & w_{23}\n",
        "\\end{bmatrix}_{dxn}$"
      ]
    },
    {
      "cell_type": "markdown",
      "metadata": {
        "id": "dzKsuxLA1Seq"
      },
      "source": [
        "<center><img src=\"https://d2beiqkhq929f0.cloudfront.net/public_assets/assets/000/044/727/original/44.png?1693147691\" width=\"800\"></center>\n",
        "\n"
      ]
    },
    {
      "cell_type": "markdown",
      "metadata": {
        "id": "Ie0tE0Szgcya"
      },
      "source": [
        "\n",
        "#### Question: How many bias parameters $b$ will this system (of three LR/neurons) have?\n",
        "\n",
        "- $n=3$ LRUs --> 1 bias term per LRU, thus $n$ bias terms.\n",
        "- The bias term has to be added to the dot product of $X.W$.\n",
        "- Therefore, the shape of bias matrix should also be: **m x n**\n",
        "\n",
        "However, the value of bias will not change for different data points.\n",
        "- The same bias values can be broadcasted for m examples.\n",
        "- Therefore, the shape of bias matrix becomes: **1 x n**\n"
      ]
    },
    {
      "cell_type": "markdown",
      "metadata": {
        "id": "YT4XZ7EQn47p"
      },
      "source": [
        "#### Vectorized Implementation\n",
        "\n"
      ]
    },
    {
      "cell_type": "markdown",
      "source": [
        "<center><img src=\"https://d2beiqkhq929f0.cloudfront.net/public_assets/assets/000/044/728/original/33.jpg?1693147756\" width=\"1000\"></center>"
      ],
      "metadata": {
        "id": "6ZTfC2oxVGdV"
      }
    },
    {
      "cell_type": "markdown",
      "metadata": {
        "id": "Mzr-cOeK87l3"
      },
      "source": [
        "  \n",
        "<hr style=\"border:1px solid gray\"> </hr>\n",
        "  \n",
        "### Lets train this Softmax Classifier using Gradient Descent\n",
        "\n",
        "Let's implement the process of training this model using the process we followed earlier\n",
        "\n",
        "\n",
        "1. Initialise parameters: `W` and `b` matrices\n",
        "2. Calculate the output using the hypothesis.\n",
        "3. Calculate the error `J`\n",
        "4. Repeat until `J` converges\n",
        " - update $w_i = w_i - lr* \\frac{\\partial J}{\\partial w_i}$\n",
        " - calculate the output using hypothesis and updated params\n",
        " - calculate the error `J`\n"
      ]
    },
    {
      "cell_type": "markdown",
      "metadata": {
        "id": "v7IK21isrEV3"
      },
      "source": [
        "**Step 1**\n",
        "\n",
        "#### Let's initialise the parameters"
      ]
    },
    {
      "cell_type": "code",
      "execution_count": null,
      "metadata": {
        "id": "TtRydh-2rEV4"
      },
      "outputs": [],
      "source": [
        "# initialize parameters randomly\n",
        "W = 0.01 * np.random.randn(d,n)\n",
        "b = np.zeros((1,n))"
      ]
    },
    {
      "cell_type": "markdown",
      "metadata": {
        "id": "JqzgYKbxrEV4"
      },
      "source": [
        "**Step 2**\n",
        "\n",
        "#### Forward propagation\n",
        "\n",
        "#### Now, lets calculate the output using the hypothesis\n",
        "\n",
        "We will break this is into three parts\n",
        "1. calculate `z` using $XW$\n",
        "2. Apply Softmax on `z`\n",
        " - Raising z to exponential $e^z$ => `exp_z`\n",
        " - Normalising"
      ]
    },
    {
      "cell_type": "markdown",
      "metadata": {
        "id": "VWtfhc4frEV4"
      },
      "source": [
        "Let's compute the z scores"
      ]
    },
    {
      "cell_type": "code",
      "execution_count": null,
      "metadata": {
        "id": "-Y_56F_wrEV5",
        "colab": {
          "base_uri": "https://localhost:8080/"
        },
        "outputId": "2b16ca55-753e-40e7-eff5-67d49c7b2de3"
      },
      "outputs": [
        {
          "output_type": "stream",
          "name": "stdout",
          "text": [
            "(300, 3)\n"
          ]
        }
      ],
      "source": [
        "# compute scores for a linear classifier\n",
        "z = np.dot(X, W) + b\n",
        "print(z.shape) # should be mXn = #examples X #output"
      ]
    },
    {
      "cell_type": "markdown",
      "metadata": {
        "id": "ASOSk_DtrEV5"
      },
      "source": [
        "Lets raise these scores to base $e$, and normalise them to get probabilities"
      ]
    },
    {
      "cell_type": "code",
      "execution_count": null,
      "metadata": {
        "id": "uWwFRrtcrEV5"
      },
      "outputs": [],
      "source": [
        "exp_z = np.exp(z)\n",
        "probs = exp_z / np.sum(exp_z, axis=1, keepdims=True) # explain why axis=1 we have to do all columns"
      ]
    },
    {
      "cell_type": "markdown",
      "metadata": {
        "id": "UuBTW3UjrEV6"
      },
      "source": [
        "Lets represent this process using a simple computation graph using the matrices.\n",
        "\n",
        "Here `s` represents softmax funtion\n",
        "\n"
      ]
    },
    {
      "cell_type": "markdown",
      "metadata": {
        "id": "1P0xW330YPDZ"
      },
      "source": [
        "<center><img src=\"https://d2beiqkhq929f0.cloudfront.net/public_assets/assets/000/044/732/original/34.jpg?1693148123\" width=\"600\"></center>\n",
        "\n",
        "\n"
      ]
    },
    {
      "cell_type": "markdown",
      "metadata": {
        "id": "6g1jhVFr8n_C"
      },
      "source": [
        "---\n",
        "\n",
        "## Categorical Cross entropy"
      ]
    },
    {
      "cell_type": "markdown",
      "metadata": {
        "id": "h3NG_UDv8tes"
      },
      "source": [
        "#### Question: What loss did we use for logistic regression ?\n",
        "\n",
        "Ans: Log loss\n",
        "\n",
        "$Log-loss$ = $y_i.log(ŷ_i) + (1 - y_i).log(1 - ŷ_i)$"
      ]
    },
    {
      "cell_type": "markdown",
      "metadata": {
        "id": "FwJIFERa98x6"
      },
      "source": [
        "#### Question: Can we use this log-loss for multi-class setting ?\n",
        "\n",
        "**No**. Logloss only deals with binary setting as $ŷ$ over there represent prob. of datapoint belonging to class 1.\n",
        "\n",
        "We need a loss that can cater to the multi class setting. Let's define a loss"
      ]
    },
    {
      "cell_type": "markdown",
      "metadata": {
        "id": "Na5fHu9M-N7s"
      },
      "source": [
        "Suppose we have a point $x_i$\n",
        "- it can belong to one of the k classes i.e. total number of classes are $k$\n",
        "- Let $P_{ij}$ be the probab. of it belonging to $j^{th}$ class where $∀ j: 1 → k$\n",
        "\n",
        "\n",
        "\n"
      ]
    },
    {
      "cell_type": "markdown",
      "metadata": {
        "id": "kRjgkSZaEJvW"
      },
      "source": [
        "#### How will $y_i$ be represented?\n",
        "\n",
        "$y_i$'s will be **one hot encoded.**\n",
        "\n",
        "For example: If $y_i$ = 2 i.e. it belong to class 2.\n",
        "- then only $y_{i2}$ = 1\n",
        "- rest will be 0\n",
        "\n",
        "i.e. [0, 1, 0]"
      ]
    },
    {
      "cell_type": "markdown",
      "metadata": {
        "id": "xuFNwF8KEKWK"
      },
      "source": [
        "**Cross Entropy ($CE_i$)** for $i^{th}$ datapoint will be:\n",
        "\n",
        ">$CE_i$ = $-∑^k_{j =1}y_{ij}log(P_{ij})$"
      ]
    },
    {
      "cell_type": "markdown",
      "metadata": {
        "id": "yIi_RfodFBxN"
      },
      "source": [
        "#### What happens to Cross entropy when k =2? (number of classes = 2)?\n"
      ]
    },
    {
      "cell_type": "markdown",
      "metadata": {
        "id": "uMcNJ6wYFeyp"
      },
      "source": [
        "When k =2 i.e. class 1 and class 2, CE becomes\n",
        "\n",
        "$CE_i$ = $- [y_{i1}log(P_{i1}) + y_{i2}log(P_{i2})]$\n",
        "\n",
        "where\n",
        "- $y_{i1}, y_{i2}$ are OHE target label\n",
        "- $P_{i1}, P_{i2}$ are the probab. of datapoint belonging to class 1 and class 2 resp.\n",
        "\n",
        "Suppose the datapoint belongs to class 1.\n",
        "- In that case,\n",
        "    - $y_{i1}$ = 1\n",
        "    - $y_{i2}$ = 0\n",
        "\n",
        "Hence, we can write\n",
        "- $P_{i2}$ as ($1 - P_{i1}$)\n",
        "- $y_{i2}$ as ($1 - y_{i1}$)\n",
        "\n",
        "So, we are basically extending log loss to multiclass setting"
      ]
    },
    {
      "cell_type": "markdown",
      "metadata": {
        "id": "8qRzQSheJ5TV"
      },
      "source": [
        "Do NOTE that,\n",
        "- Logloss is also known as **Binary Cross entropy**\n",
        "\n",
        "\n",
        "\n"
      ]
    },
    {
      "cell_type": "markdown",
      "metadata": {
        "id": "-eehIr3WKqy1"
      },
      "source": [
        "To summarize,\n",
        "- In binary setting\n",
        "    - we use Sigmoid for probability\n",
        "    - and Binary CE/logloss as loss function\n",
        "\n",
        "- In multiclass setting,\n",
        "    - we use softmax to compute class probabilities\n",
        "    - and Cross entropy as loss function"
      ]
    },
    {
      "cell_type": "markdown",
      "metadata": {
        "id": "VOEAUZUmNzgE"
      },
      "source": [
        "**Step 3:**\n",
        "#### Calculate the loss.\n",
        "- Let's calculate **cross-entropy error**\n",
        " - It simplifies to taking log of predicted probability for the actual class\n",
        " - Why? Because the other terms will become $y_i*log(\\hat{y}_i)$ terms will become zero on multiplying $y_i=0$\n",
        " - Lets calculate cross-entropy error for each sample, and call it `error`\n",
        " - The full loss is then the average of these log probabilities to compute the loss\n"
      ]
    },
    {
      "cell_type": "code",
      "execution_count": null,
      "metadata": {
        "id": "Gg9jClP9rEV7",
        "colab": {
          "base_uri": "https://localhost:8080/"
        },
        "outputId": "938578e9-84ea-4c35-c3e3-e18032611801"
      },
      "outputs": [
        {
          "output_type": "execute_result",
          "data": {
            "text/plain": [
              "1.0991263062358463"
            ]
          },
          "metadata": {},
          "execution_count": 9
        }
      ],
      "source": [
        "def loss(y, probs):\n",
        "    m = y.shape[0]    #dz = probs\n",
        "    error = -np.log(probs[range(m), y])\n",
        "    return np.sum(error)/m\n",
        "loss(y, probs)"
      ]
    },
    {
      "cell_type": "markdown",
      "metadata": {
        "id": "HFtvIbLn-pEt"
      },
      "source": [
        "<img src=\"https://d2beiqkhq929f0.cloudfront.net/public_assets/assets/000/044/733/original/11.png?1693148272\" width=\"800\">"
      ]
    },
    {
      "cell_type": "markdown",
      "metadata": {
        "id": "_AYDLffdTUr5"
      },
      "source": [
        "## Backward propogation"
      ]
    },
    {
      "cell_type": "markdown",
      "metadata": {
        "id": "TEOnsPn-bxOK"
      },
      "source": [
        "We had the following NN for our multiclass classification"
      ]
    },
    {
      "cell_type": "markdown",
      "metadata": {
        "id": "2tEB6rzyZTqG"
      },
      "source": [
        "<center><img src=\"https://d2beiqkhq929f0.cloudfront.net/public_assets/assets/000/044/734/original/11.png?1693148332\" width=\"800\"></center>"
      ]
    },
    {
      "cell_type": "markdown",
      "metadata": {
        "id": "OOgfYrQsZURy"
      },
      "source": [
        "Let's draw computational graph for this"
      ]
    },
    {
      "cell_type": "markdown",
      "metadata": {
        "id": "umfBGT3TTLtr"
      },
      "source": [
        "\n",
        "\n",
        "<center><img src=\"https://d2beiqkhq929f0.cloudfront.net/public_assets/assets/000/044/735/original/11.png?1693148371\" width=\"600\"></center>\n"
      ]
    },
    {
      "cell_type": "markdown",
      "metadata": {
        "id": "CiJYH46xP75-"
      },
      "source": [
        "\n",
        "\n",
        "\n",
        "#### Question: How did we decrease the loss in Logistic Regression?\n",
        "\n",
        "- We calculate partial derivative of J wrt each W and b.\n",
        "- And then we iteratively updated the params values of $W$ and $b$\n",
        "- What does the partial derivative explain inituitively? How does J change with a small change in any param?\n",
        "\n",
        "Problem: **We cannot directly calculate dW and db here**\n",
        "\n",
        "- But what we can see is the error J is directly dependent on `p`, so we can calculate $\\frac{\\partial J}{\\partial p_i}$ directly\n",
        "- Further, the `p` in-turn  depend on `z`, and `z` is of course dependent on `W` (and `b`).\n",
        "\n",
        "#### Lets break this down using chain rule  \n"
      ]
    },
    {
      "cell_type": "markdown",
      "metadata": {
        "id": "ci-NT0-ueRw7"
      },
      "source": [
        "\n",
        "\n",
        "<center><img src=\"https://d2beiqkhq929f0.cloudfront.net/public_assets/assets/000/044/737/original/11.png?1693148407\" width=\"800\"></center>\n",
        "\n"
      ]
    },
    {
      "cell_type": "markdown",
      "metadata": {
        "id": "oBAj5kyu7ht0"
      },
      "source": [
        "\n",
        "\n",
        "$$\\frac{\\partial J}{\\partial w} =  \\frac{\\partial J}{\\partial z} \\frac{\\partial z}{\\partial w}$$\n",
        "\n",
        "We can see from the picture that $\\frac{\\partial J}{\\partial z}$ can be calculated using\n",
        "\n",
        "$$\\frac{\\partial J}{\\partial w} =  \\frac{\\partial J}{\\partial p} \\frac{\\partial p}{\\partial z} \\frac{\\partial z}{\\partial w}$$\n",
        "\n",
        "- Since, J (cost function) is the final function we want to optimise, we would come across a lot of intermediate calculations like $\\frac{\\partial J}{\\partial <var>}$.\n",
        "- In Python, we will represent gradients of J, $\\frac{\\partial J}{\\partial w}$ as `dw`.\n",
        "- And the equation $\\frac{\\partial J}{\\partial w} =  \\frac{\\partial J}{\\partial z} \\frac{\\partial z}{\\partial w}$ can be represented as\n",
        "$$dw =  dz  \\frac{\\partial z}{\\partial w}$$\n",
        "\n",
        "Since, we are moving from right to left across the computational graph, we call this process backpropagation.\n",
        "\n",
        "<hr style=\"border:1px solid gray\"> </hr>"
      ]
    },
    {
      "cell_type": "markdown",
      "metadata": {
        "id": "Iz0K71j27ht0"
      },
      "source": [
        "### Let's calculate gradients using backpropagation\n",
        "\n",
        "- We previously calculated $\\frac{\\partial z}{\\partial w}$ in LR - since $z=w^Tx$, $\\frac{\\partial z}{\\partial w}=x$\n",
        "- Now, we need to calculate `dz`, $dz=\\frac{\\partial J}{\\partial p} \\frac{\\partial p}{\\partial z}$\n",
        "\n",
        "Turns out that the result for `dz` has a very neat and intuitive solution (won't get into derivation)\n",
        "\n",
        "$$dz = (p_k - I (i=k))$$\n",
        "\n",
        "- First, the second term is called an **Indicator Function**,\n",
        "    - where p_k  is the prob. of class K\n",
        "    - it is 1 when `i==k`, else 0.\n",
        "- Suppose `probs = [0.2, 0.3, 0.5]`, and that the correct class was the middle one  (0.3).\n",
        "- According to the formula, gradients would be `dz = [0.2, -0.7, 0.5]`\n",
        "- If we were saving ground truth, y,  as one-hot encoded vectors, we could have done this by just doing $p -y$\n",
        "\n",
        "We won't go into its derivation, but lets intuitively understand this\n",
        "\n",
        "<br>\n",
        "\n",
        "#### Why are we subtracting 1 only from the probability of true class?\n",
        "- The use of subtracting 1 from the true class is to make it derivative negative.\n",
        "- For the true class (middle), increasing its probability values will decrease the error (0.3 --> -0.7) - aligns with goal.\n",
        "- For other values, first and last, increase (or keeping it same) their probability values will increase the error - aligns with goal."
      ]
    },
    {
      "cell_type": "code",
      "execution_count": null,
      "metadata": {
        "id": "vpvBysnG7ht0"
      },
      "outputs": [],
      "source": [
        "dz = probs # dz = probabilities of class\n",
        "dz[range(m),y] -= 1  # subtracting 1 from class where i == j as dz = pi - I\n",
        "#dz = dz/m"
      ]
    },
    {
      "cell_type": "markdown",
      "metadata": {
        "id": "lE3TFTzT7ht0"
      },
      "source": [
        "$\\frac{\\partial z_i}{\\partial w_i}$ is something we calculated earlier as well in LR, it will be equal to X.\n",
        "\n",
        "Now, to calculate dW, we just need to multiply X with dz"
      ]
    },
    {
      "cell_type": "code",
      "execution_count": null,
      "metadata": {
        "id": "0ijpwZ3yTYC1",
        "colab": {
          "base_uri": "https://localhost:8080/"
        },
        "outputId": "cc5de9f1-51ca-446a-a6e9-28002121692d"
      },
      "outputs": [
        {
          "output_type": "execute_result",
          "data": {
            "text/plain": [
              "(300, 2)"
            ]
          },
          "metadata": {},
          "execution_count": 11
        }
      ],
      "source": [
        "X.shape # shape (m, d)"
      ]
    },
    {
      "cell_type": "code",
      "execution_count": null,
      "metadata": {
        "id": "cIlwEiGWTbJc",
        "colab": {
          "base_uri": "https://localhost:8080/"
        },
        "outputId": "32a7ce32-cfb7-4c01-8781-d3b1887761b1"
      },
      "outputs": [
        {
          "output_type": "execute_result",
          "data": {
            "text/plain": [
              "(300, 3)"
            ]
          },
          "metadata": {},
          "execution_count": 12
        }
      ],
      "source": [
        "# shape (m, n ) as we have m samples and each sample has 3 class probab.\n",
        "dz.shape"
      ]
    },
    {
      "cell_type": "code",
      "execution_count": null,
      "metadata": {
        "id": "jk_WYdWL7ht0",
        "colab": {
          "base_uri": "https://localhost:8080/"
        },
        "outputId": "ff3376d4-32f3-4c0c-ee59-21cba16e6a28"
      },
      "outputs": [
        {
          "output_type": "execute_result",
          "data": {
            "text/plain": [
              "(2, 3)"
            ]
          },
          "metadata": {},
          "execution_count": 13
        }
      ],
      "source": [
        "# dW = dZ . X\n",
        "\n",
        "dW = np.dot(X.T, dz) # check dimensions (2, 300) x (300 , 3) => (2, 3)\n",
        "dW.shape"
      ]
    },
    {
      "cell_type": "code",
      "execution_count": null,
      "metadata": {
        "id": "wwyolIARTu6p",
        "colab": {
          "base_uri": "https://localhost:8080/"
        },
        "outputId": "9ba4e2f0-33ab-49f8-f0de-06dbb0f36529"
      },
      "outputs": [
        {
          "output_type": "execute_result",
          "data": {
            "text/plain": [
              "(1, 3)"
            ]
          },
          "metadata": {},
          "execution_count": 14
        }
      ],
      "source": [
        "b.shape # shape (1, n)"
      ]
    },
    {
      "cell_type": "markdown",
      "metadata": {
        "id": "E8QfBTDiIlFr"
      },
      "source": [
        "We know that,\n",
        "\n",
        "$z = wx + b$\n",
        "\n",
        "So,\n",
        "\n",
        "- $\\frac{∂z}{∂b}$ = $\\frac{∂(wx + b)}{∂b}$ = 1\n",
        "\n",
        "- as wx will be treated as constant when calculating partial derivative w.r.t b\n",
        "\n",
        "\n",
        "Now,\n",
        "\n",
        "For calculating db,\n",
        "\n",
        "db = dz.$\\frac{∂Z}{∂b}$ = dz\n",
        "\n",
        "#### But why sum?\n",
        "\n",
        "Since we are performing GD and not SGD,\n",
        "- we'll take sum of average across all points\n",
        "- we already took the average of dz (dz = dz/m)\n",
        "\n",
        "Recall update equation of bias\n",
        "\n",
        "\n",
        "\n"
      ]
    },
    {
      "cell_type": "markdown",
      "metadata": {
        "id": "SIPYvH5XMq7u"
      },
      "source": [
        "<center><img src=\"https://d2beiqkhq929f0.cloudfront.net/public_assets/assets/000/044/767/original/00.png?1693207761\" width=\"800\"></center>\n",
        "\n",
        "\n"
      ]
    },
    {
      "cell_type": "code",
      "execution_count": null,
      "metadata": {
        "id": "tBNyMDF4Tqdz",
        "colab": {
          "base_uri": "https://localhost:8080/"
        },
        "outputId": "29d94cc9-c388-456a-d0c4-26ab404f3a3c"
      },
      "outputs": [
        {
          "output_type": "execute_result",
          "data": {
            "text/plain": [
              "(1, 3)"
            ]
          },
          "metadata": {},
          "execution_count": 15
        }
      ],
      "source": [
        "db = np.sum(dz, axis=0, keepdims=True)\n",
        "db.shape"
      ]
    },
    {
      "cell_type": "code",
      "execution_count": null,
      "metadata": {
        "id": "GRAiyPl97ht1"
      },
      "outputs": [],
      "source": [
        "def backprop(probs, y):\n",
        "    # we know that dz = pi - I\n",
        "    dz = probs # dz = pi\n",
        "    dz[range(m),y] -= 1 # subtacting 1 where i ==j i.e. class label matches\n",
        "    dz = dz/m # taking average as we have m points\n",
        "    dW = np.dot(X.T, dz)\n",
        "    db = np.sum(dz, axis=0, keepdims=True)\n",
        "    return dW, db"
      ]
    },
    {
      "cell_type": "markdown",
      "metadata": {
        "id": "5u5MHDezrEWB"
      },
      "source": [
        "Since, we are moving from right to left, to calculate the gradients, lets call it backproprogation"
      ]
    },
    {
      "cell_type": "markdown",
      "metadata": {
        "id": "Bb5OvKTo7ht1"
      },
      "source": [
        "#### Once, we have the gradients, we will update the parameters"
      ]
    },
    {
      "cell_type": "code",
      "execution_count": null,
      "metadata": {
        "id": "1u_c0r5Z7ht1"
      },
      "outputs": [],
      "source": [
        "lr = 0.1\n",
        "W += -lr * dW\n",
        "b += -lr * db"
      ]
    },
    {
      "cell_type": "markdown",
      "metadata": {
        "id": "xPfHt-LT7ht1"
      },
      "source": [
        "Lets put all this together in a class"
      ]
    },
    {
      "cell_type": "code",
      "execution_count": null,
      "metadata": {
        "id": "hFUX0j2f7ht1",
        "colab": {
          "base_uri": "https://localhost:8080/"
        },
        "outputId": "4f0f5e0a-c8e7-4c2f-c4d9-dfc283765e2b"
      },
      "outputs": [
        {
          "output_type": "stream",
          "name": "stdout",
          "text": [
            "iteration: 0, loss: 1.09335987764131\n",
            "iteration: 100, loss: 0.7447027769560648\n",
            "iteration: 200, loss: 0.7405307861276572\n",
            "iteration: 300, loss: 0.740216052233781\n",
            "iteration: 400, loss: 0.7401859774353328\n"
          ]
        }
      ],
      "source": [
        "max_iters = 500\n",
        "lr = 1\n",
        "\n",
        "d = X.shape[1]\n",
        "n = len(np.unique(y))\n",
        "m = X.shape[0]\n",
        "W = 0.01 * np.random.randn(d,n)\n",
        "b = np.zeros((1,n))\n",
        "loss_history = []\n",
        "\n",
        "for i in range(max_iters):\n",
        "    # evaluate the class probs\n",
        "    z = np.dot(X, W) + b\n",
        "    exp_z = np.exp(z)\n",
        "    probs = exp_z/np.sum(exp_z, axis=1, keepdims=True)\n",
        "\n",
        "    # compute the loss: average cross-entropy loss and regularization\n",
        "    error = -np.log(probs[range(m), y])\n",
        "    loss = np.sum(error)/m\n",
        "    loss_history.append(loss)\n",
        "    if i % 100 == 0:\n",
        "        print(f\"iteration: {i}, loss: {loss}\")\n",
        "\n",
        "\n",
        "    # compute the gradient on score\n",
        "    dZ = probs\n",
        "    dZ[range(m),y] -= 1\n",
        "    dZ = dZ/m\n",
        "    dW = np.dot(X.T, dZ)\n",
        "    db = np.sum(dZ, axis=0, keepdims=True)\n",
        "\n",
        "    # perform a parameter update using gradient descent\n",
        "    W += -lr * dW\n",
        "    b += -lr * db\n",
        "# history = pd.DataFrame({'step': list(range(max_iters)), 'loss': loss_history})\n",
        "# history.plot(x='step', y='loss',xlabel='step', ylabel='loss')"
      ]
    },
    {
      "cell_type": "code",
      "execution_count": null,
      "metadata": {
        "id": "WvL9xpSh7ht1",
        "colab": {
          "base_uri": "https://localhost:8080/"
        },
        "outputId": "1a9edc31-a9c6-4df7-b577-b01671c613f5"
      },
      "outputs": [
        {
          "output_type": "stream",
          "name": "stdout",
          "text": [
            "Training Accuracy 0.5266666666666666\n"
          ]
        }
      ],
      "source": [
        "def predict(X):\n",
        "    Z = np.dot(X, W) + b\n",
        "    Z_e = np.exp(Z)\n",
        "    probs = Z_e/np.sum(Z_e, axis=1, keepdims=True)\n",
        "    return np.argmax(probs, axis=1)\n",
        "\n",
        "print(f\"Training Accuracy {np.sum(predict(X) == y)/m}\")"
      ]
    },
    {
      "cell_type": "markdown",
      "metadata": {
        "id": "GFHx_NP87ht1"
      },
      "source": [
        "We have adapted the Logistic Regression model to work for mult-class setting.\n",
        "\n",
        "Let's plot the decision boundaries"
      ]
    },
    {
      "cell_type": "code",
      "source": [
        "import matplotlib.pyplot as plt"
      ],
      "metadata": {
        "id": "5lhJw1jyuhSC"
      },
      "execution_count": null,
      "outputs": []
    },
    {
      "cell_type": "code",
      "execution_count": null,
      "metadata": {
        "id": "P3kYQGsx7ht2",
        "colab": {
          "base_uri": "https://localhost:8080/",
          "height": 430
        },
        "outputId": "855ebda2-885e-4e09-a969-38a535cb3aa9"
      },
      "outputs": [
        {
          "output_type": "display_data",
          "data": {
            "text/plain": [
              "<Figure size 640x480 with 1 Axes>"
            ],
            "image/png": "[encoded data removed]"
          },
          "metadata": {}
        }
      ],
      "source": [
        "# create a 2D grid\n",
        "step = 0.02\n",
        "x_min, x_max = X[:, 0].min() - 1, X[:, 0].max() + 1\n",
        "y_min, y_max = X[:, 1].min() - 1, X[:, 1].max() + 1\n",
        "xx, yy = np.meshgrid(np.arange(x_min, x_max, step), np.arange(y_min, y_max, step))\n",
        "\n",
        "# predict for all the points in the grid\n",
        "y_hat = predict(np.c_[xx.ravel(), yy.ravel()]) # concatenates along second axis\n",
        "y_hat = y_hat.reshape(xx.shape)\n",
        "\n",
        "# plot\n",
        "fig = plt.figure()\n",
        "plt.contourf(xx, yy, y_hat, cmap=plt.cm.Spectral, alpha=0.8)\n",
        "plt.scatter(X[:, 0], X[:, 1], c=y, s=40, cmap=plt.cm.Spectral)\n",
        "plt.xlim(xx.min(), xx.max())\n",
        "plt.ylim(yy.min(), yy.max())\n",
        "plt.show()"
      ]
    },
    {
      "cell_type": "markdown",
      "metadata": {
        "id": "fc_TAEO_7ht2"
      },
      "source": [
        "- We can see that the model has learnt three decision boundaries\n",
        "- But since  haven't added any intermediate layer of neurons to create complex features, we don't expect the model to learn complex boundaries"
      ]
    },
    {
      "cell_type": "markdown",
      "metadata": {
        "id": "Bxgxh6xa7ht2"
      },
      "source": [
        "#### Softmax Classifier code wrapped in a Python class"
      ]
    },
    {
      "cell_type": "code",
      "execution_count": null,
      "metadata": {
        "id": "_KksJRrV7ht2"
      },
      "outputs": [],
      "source": [
        "class SoftmaxClassfier:\n",
        "    def __init__(self, n_features, n_outputs):\n",
        "        self.d = n_features\n",
        "        self.n = n_outputs\n",
        "        self.W = 0.01 * np.random.randn(self.d,self.n)\n",
        "        self.b = np.zeros((1,self.n))\n",
        "        self.loss = []\n",
        "\n",
        "    def fwdprop(self, X):\n",
        "        z = np.dot(X, self.W) + self.b\n",
        "        exp_z = np.exp(z)\n",
        "        probs = exp_z / np.sum(exp_z, axis=1, keepdims=True)\n",
        "        return probs\n",
        "\n",
        "    def cce_loss(self, probs, y):\n",
        "        m = y.shape[0]\n",
        "        error = -np.log(probs[range(m), y])\n",
        "        return np.sum(error)/m\n",
        "\n",
        "    def backprop(self, probs, y):\n",
        "        m = y.shape[0]\n",
        "        dz = probs\n",
        "        dz[range(m),y] -= 1\n",
        "        dz = dz/m\n",
        "        dW = np.dot(X.T, dz)\n",
        "        db = np.sum(dz, axis=0, keepdims=True)\n",
        "        return dW, db\n",
        "\n",
        "    def fit(self, X, y, lr=0.1, max_iters=50):\n",
        "\n",
        "        for i in range(max_iters):\n",
        "            # evaluate the class probs\n",
        "            probs = self.fwdprop(X)\n",
        "\n",
        "            # compute the loss: average cross-entropy loss and regularization\n",
        "            loss = self.cce_loss(probs, y)\n",
        "\n",
        "            # compute the gradient on score\n",
        "            dW, db = self.backprop(probs, y)\n",
        "\n",
        "            # perform a parameter update using gradient descent\n",
        "            self.W += -lr * dW\n",
        "            self.b += -lr * db\n",
        "            self.loss.append(loss)\n",
        "\n",
        "        self.history = pd.DataFrame({\n",
        "        'step': list(range(max_iters)),\n",
        "        'loss': self.loss})\n",
        "\n",
        "    def plot_loss(self):\n",
        "        return self.history.plot(x='step', y='loss',xlabel='step', ylabel='loss')\n",
        "\n",
        "    def predict(self, X):\n",
        "        probs = self.fwdprop(X)\n",
        "        return np.argmax(probs, axis=1)\n",
        "\n",
        "model = SoftmaxClassfier(n_features=2, n_outputs=3)\n",
        "model.fit(X, y, lr=1, max_iters=500)\n",
        "#model.plot_loss()\n",
        "#print('training accuracy:', np.sum(model.predict(X) == y)/X.shape[0])"
      ]
    },
    {
      "cell_type": "code",
      "execution_count": null,
      "metadata": {
        "id": "_ARqCbbzN6IC"
      },
      "outputs": [],
      "source": [
        "X = [[100, 129, 157, 133], [168, 150, 30, 19], [4, 148, 106, 74], [123, 195, 60, 93], [169, 40, 188, 179], [40, 59, 29, 94], [165, 126, 16, 99], [167, 157, 65, 23], [128, 87, 37, 111], [191, 154, 89, 134], [101, 41, 145, 112], [43, 110, 197, 118], [147, 22, 109, 139], [11, 161, 135, 119], [26, 48, 199, 182], [96, 100, 82, 87], [149, 2, 8, 10], [5, 38, 166, 100], [193, 117, 59, 164], [133, 5, 38, 163], [88, 177, 84, 114], [9, 132, 177, 24], [94, 130, 83, 131], [77, 11, 141, 81], [154, 198, 175, 98], [21, 148, 170, 122], [185, 145, 101, 183], [100, 196, 111, 11], [97, 147, 112, 11], [25, 97, 95, 45], [6, 89, 88, 38], [51, 16, 151, 3], [90, 174, 122, 157], [2, 133, 121, 199], [15, 78, 163, 180], [103, 118, 7, 179], [102, 179, 157, 183], [113, 139, 195, 122], [55, 88, 68, 117], [115, 185, 93, 102], [139, 82, 3, 165], [135, 29, 78, 11], [11, 16, 60, 123], [103, 191, 187, 129], [146, 181, 28, 192], [85, 73, 136, 139], [117, 179, 81, 183], [15, 131, 106, 28], [58, 78, 111, 65], [76, 11, 25, 103], [11, 90, 162, 129], [144, 1, 16, 33], [33, 172, 40, 72], [106, 83, 160, 151], [68, 159, 150, 64], [31, 79, 83, 15], [51, 140, 173, 10], [105, 80, 70, 21], [195, 80, 64, 129], [50, 96, 107, 82], [185, 150, 15, 143], [28, 71, 27, 57], [58, 13, 146, 78], [20, 71, 183, 44], [91, 44, 15, 87], [77, 157, 95, 110], [132, 28, 193, 49], [177, 87, 57, 41], [194, 175, 17, 20], [166, 64, 134, 150], [79, 74, 162, 168], [166, 149, 34, 117], [160, 170, 127, 44], [99, 41, 103, 155], [48, 127, 138, 68], [17, 3, 101, 94], [29, 102, 123, 158], [194, 60, 135, 179], [73, 192, 145, 168], [21, 94, 154, 143], [17, 10, 145, 131], [73, 29, 195, 199], [132, 189, 90, 100], [134, 32, 81, 119], [118, 37, 119, 27], [51, 78, 187, 86], [95, 8, 56, 29], [156, 162, 186, 127], [126, 111, 144, 59], [7, 140, 32, 75], [40, 0, 109, 92], [165, 175, 61, 103], [178, 68, 185, 119], [132, 105, 36, 80], [165, 117, 35, 176], [128, 49, 185, 9], [50, 176, 12, 198], [124, 164, 99, 102], [36, 30, 114, 147], [166, 172, 35, 14]]\n",
        "y = [1, 1, 0, 0, 1, 1, 1, 1, 1, 1, 1, 1, 0, 1, 0, 0, 1, 1, 0, 0, 1, 1, 1, 1, 0, 0, 0, 0, 0, 0, 0, 1, 1, 1, 1, 0, 0, 1, 0, 0, 0, 0, 1, 1, 1, 1, 0, 1, 0, 1, 0, 1, 0, 0, 0, 0, 0, 0, 0, 0, 0, 1, 1, 1, 1, 1, 0, 1, 1, 0, 1, 1, 0, 1, 1, 0, 0, 0, 0, 1, 1, 1, 0, 1, 0, 1, 0, 1, 1, 0, 0, 0, 1, 1, 0, 0, 0, 0, 1, 0]"
      ]
    },
    {
      "cell_type": "code",
      "execution_count": null,
      "metadata": {
        "id": "CHxK-m-uN6mN"
      },
      "outputs": [],
      "source": [
        "import numpy as np\n",
        "X = np.array(X)\n",
        "#dependent variable\n",
        "y = np.array(y)"
      ]
    },
    {
      "cell_type": "code",
      "execution_count": null,
      "metadata": {
        "id": "IIFJOKsLODTc",
        "colab": {
          "base_uri": "https://localhost:8080/"
        },
        "outputId": "8981c137-4648-4cfe-a010-86445bbb85cc"
      },
      "outputs": [
        {
          "output_type": "execute_result",
          "data": {
            "text/plain": [
              "(100, 4)"
            ]
          },
          "metadata": {},
          "execution_count": 25
        }
      ],
      "source": [
        "X.shape"
      ]
    },
    {
      "cell_type": "code",
      "execution_count": null,
      "metadata": {
        "id": "2gv1JnJoOD64",
        "colab": {
          "base_uri": "https://localhost:8080/"
        },
        "outputId": "8faac0c7-601f-4e5e-af22-f08ffa8bc678"
      },
      "outputs": [
        {
          "output_type": "execute_result",
          "data": {
            "text/plain": [
              "(100,)"
            ]
          },
          "metadata": {},
          "execution_count": 26
        }
      ],
      "source": [
        "y.shape"
      ]
    },
    {
      "cell_type": "code",
      "execution_count": null,
      "metadata": {
        "id": "rFqZ6IStOFiB"
      },
      "outputs": [],
      "source": [
        "m = X.shape[0]  #no. of samples\n",
        "n = X.shape[1]  #no. of features\n",
        "c = 1  #no. of classes in the data and therefore no. of neurons in the layer\n",
        "# example of a function for calculating softmax for a list of numbers\n",
        "from numpy import exp\n",
        "\n",
        "# calculate the softmax of a vector\n",
        "def softmax(vector):\n",
        " e = exp(vector)\n",
        " return e / e.sum()\n",
        "#weight vector of dimension (number of features, number of neurons in the layer)\n",
        "for i in range(m):\n",
        "  w = np.random.randn(n,c)\n",
        "  b = np.zeros((1, c))\n",
        "  z = np.dot(X,w) + b\n",
        "  # a = np.exp(z)\n",
        "  result = softmax(z)\n",
        "  print(result)\n",
        "\n",
        "\n"
      ]
    },
    {
      "cell_type": "code",
      "execution_count": null,
      "metadata": {
        "id": "0sr6urOyOXMi"
      },
      "outputs": [],
      "source": []
    }
  ]
}