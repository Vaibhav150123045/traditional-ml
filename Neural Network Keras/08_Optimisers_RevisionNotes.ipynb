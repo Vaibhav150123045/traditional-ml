{
  "nbformat": 4,
  "nbformat_minor": 0,
  "metadata": {
    "colab": {
      "provenance": []
    },
    "kernelspec": {
      "name": "python3",
      "display_name": "Python 3"
    },
    "language_info": {
      "name": "python"
    }
  },
  "cells": [
    {
      "cell_type": "markdown",
      "metadata": {
        "id": "US6qhQXLXQo8"
      },
      "source": [
        "## **Content**\n",
        "\n",
        "- 24Seven Business Case\n",
        "\n",
        "- Random weight init\n",
        "\n",
        "- Exploding Gradients\n",
        "\n",
        "- Weight Intialization\n",
        "\n",
        "- Exponentially Moving Avg\n",
        "\n",
        "- GD with momentum\n",
        "\n",
        "- RMSprop\n",
        "- Adam\n",
        "- Learning Rate Decay\n",
        " - Simulation for Adam,RMSprop, GD with momentum"
      ]
    },
    {
      "cell_type": "markdown",
      "metadata": {
        "id": "_NmiI_FT6Lwa"
      },
      "source": [
        "#**Business Case**"
      ]
    },
    {
      "cell_type": "markdown",
      "metadata": {
        "id": "pxeKxkkN6Phj"
      },
      "source": [
        "You are working at **24Seven**, which has different stores buying various products. Based on the purchase history :\n",
        "- you want to divide the stores into classes for better inventory management and customer handling.\n",
        "\n",
        "\n",
        "\n",
        "Lets now load the data\n"
      ]
    },
    {
      "cell_type": "code",
      "execution_count": null,
      "metadata": {
        "colab": {
          "background_save": true,
          "base_uri": "https://localhost:8080/"
        },
        "id": "ckgq4GL46PIV",
        "outputId": "1f0182b0-8041-4969-c513-415d93952a2b"
      },
      "outputs": [
        {
          "name": "stdout",
          "output_type": "stream",
          "text": [
            "Downloading...\n",
            "From: https://drive.google.com/uc?id=1ZdhRqYv-JizWV6DxO6C4R_k1kxPhmlF2\n",
            "To: /content/multiclass.csv\n",
            "\r  0% 0.00/14.6k [00:00<?, ?B/s]\r100% 14.6k/14.6k [00:00<00:00, 45.1MB/s]\n"
          ]
        }
      ],
      "source": [
        "!gdown 1ZdhRqYv-JizWV6DxO6C4R_k1kxPhmlF2\n",
        "#https://drive.google.com/file/d/1ZdhRqYv-JizWV6DxO6C4R_k1kxPhmlF2/view?usp=sharing"
      ]
    },
    {
      "cell_type": "code",
      "execution_count": null,
      "metadata": {
        "colab": {
          "background_save": true
        },
        "id": "s5nl9wOY69nB"
      },
      "outputs": [],
      "source": [
        "import pandas as pd\n",
        "import numpy as np\n",
        "import matplotlib.pyplot as plt\n",
        "import seaborn as sns"
      ]
    },
    {
      "cell_type": "markdown",
      "metadata": {
        "id": "d5OD0gOC73iT"
      },
      "source": [
        "**Data Description:**\n",
        "\n",
        "\n",
        "| Id | Features | Description |\n",
        "| :-- | :--| :--|\n",
        "|01| **Region** | Region of the store (1: Less purchase 2: frequent purchase 3: high purchase|\n",
        "|02| **Fresh** | How many fresh items are brought |\n",
        "|03|**Milk**| How many units of Milk is purchased |\n",
        "|04|**Grocery**|Units of Grocery bought for the store |\n",
        "|05|**Frozen**|Frozen items purchased |\n",
        "|06|**Detergents_Paper**|Unit of Detergents and paper bought |\n",
        "|07|**Delicassen**|Food related items |\n",
        "|08|**class**| Type/Category of the Store (1 ,2 , 3)|\n"
      ]
    },
    {
      "cell_type": "code",
      "execution_count": null,
      "metadata": {
        "colab": {
          "background_save": true,
          "base_uri": "https://localhost:8080/"
        },
        "id": "Cmq1fLAt7FuM",
        "outputId": "e84f2f61-1ed3-4413-b52f-5ef5cfbaff3c"
      },
      "outputs": [
        {
          "data": {
            "text/html": [
              "\n",
              "\n",
              "  <div id=\"df-c1681b49-4c35-479b-bf1e-47230d4575b8\">\n",
              "    <div class=\"colab-df-container\">\n",
              "      <div>\n",
              "<style scoped>\n",
              "    .dataframe tbody tr th:only-of-type {\n",
              "        vertical-align: middle;\n",
              "    }\n",
              "\n",
              "    .dataframe tbody tr th {\n",
              "        vertical-align: top;\n",
              "    }\n",
              "\n",
              "    .dataframe thead th {\n",
              "        text-align: right;\n",
              "    }\n",
              "</style>\n",
              "<table border=\"1\" class=\"dataframe\">\n",
              "  <thead>\n",
              "    <tr style=\"text-align: right;\">\n",
              "      <th></th>\n",
              "      <th>Region</th>\n",
              "      <th>Fresh</th>\n",
              "      <th>Milk</th>\n",
              "      <th>Grocery</th>\n",
              "      <th>Frozen</th>\n",
              "      <th>Detergents_Paper</th>\n",
              "      <th>Delicassen</th>\n",
              "      <th>class</th>\n",
              "    </tr>\n",
              "  </thead>\n",
              "  <tbody>\n",
              "    <tr>\n",
              "      <th>0</th>\n",
              "      <td>3</td>\n",
              "      <td>12669</td>\n",
              "      <td>9656</td>\n",
              "      <td>7561</td>\n",
              "      <td>214</td>\n",
              "      <td>2674</td>\n",
              "      <td>1338</td>\n",
              "      <td>2</td>\n",
              "    </tr>\n",
              "    <tr>\n",
              "      <th>1</th>\n",
              "      <td>3</td>\n",
              "      <td>7057</td>\n",
              "      <td>9810</td>\n",
              "      <td>9568</td>\n",
              "      <td>1762</td>\n",
              "      <td>3293</td>\n",
              "      <td>1776</td>\n",
              "      <td>2</td>\n",
              "    </tr>\n",
              "    <tr>\n",
              "      <th>2</th>\n",
              "      <td>3</td>\n",
              "      <td>6353</td>\n",
              "      <td>8808</td>\n",
              "      <td>7684</td>\n",
              "      <td>2405</td>\n",
              "      <td>3516</td>\n",
              "      <td>7844</td>\n",
              "      <td>2</td>\n",
              "    </tr>\n",
              "    <tr>\n",
              "      <th>3</th>\n",
              "      <td>3</td>\n",
              "      <td>13265</td>\n",
              "      <td>1196</td>\n",
              "      <td>4221</td>\n",
              "      <td>6404</td>\n",
              "      <td>507</td>\n",
              "      <td>1788</td>\n",
              "      <td>1</td>\n",
              "    </tr>\n",
              "    <tr>\n",
              "      <th>4</th>\n",
              "      <td>3</td>\n",
              "      <td>22615</td>\n",
              "      <td>5410</td>\n",
              "      <td>7198</td>\n",
              "      <td>3915</td>\n",
              "      <td>1777</td>\n",
              "      <td>5185</td>\n",
              "      <td>1</td>\n",
              "    </tr>\n",
              "  </tbody>\n",
              "</table>\n",
              "</div>\n",
              "      <button class=\"colab-df-convert\" onclick=\"convertToInteractive('df-c1681b49-4c35-479b-bf1e-47230d4575b8')\"\n",
              "              title=\"Convert this dataframe to an interactive table.\"\n",
              "              style=\"display:none;\">\n",
              "\n",
              "  <svg xmlns=\"http://www.w3.org/2000/svg\" height=\"24px\"viewBox=\"0 0 24 24\"\n",
              "       width=\"24px\">\n",
              "    <path d=\"M0 0h24v24H0V0z\" fill=\"none\"/>\n",
              "    <path d=\"M18.56 5.44l.94 2.06.94-2.06 2.06-.94-2.06-.94-.94-2.06-.94 2.06-2.06.94zm-11 1L8.5 8.5l.94-2.06 2.06-.94-2.06-.94L8.5 2.5l-.94 2.06-2.06.94zm10 10l.94 2.06.94-2.06 2.06-.94-2.06-.94-.94-2.06-.94 2.06-2.06.94z\"/><path d=\"M17.41 7.96l-1.37-1.37c-.4-.4-.92-.59-1.43-.59-.52 0-1.04.2-1.43.59L10.3 9.45l-7.72 7.72c-.78.78-.78 2.05 0 2.83L4 21.41c.39.39.9.59 1.41.59.51 0 1.02-.2 1.41-.59l7.78-7.78 2.81-2.81c.8-.78.8-2.07 0-2.86zM5.41 20L4 18.59l7.72-7.72 1.47 1.35L5.41 20z\"/>\n",
              "  </svg>\n",
              "      </button>\n",
              "\n",
              "\n",
              "\n",
              "    <div id=\"df-18fdfaa7-c170-462b-b611-08e8e708c924\">\n",
              "      <button class=\"colab-df-quickchart\" onclick=\"quickchart('df-18fdfaa7-c170-462b-b611-08e8e708c924')\"\n",
              "              title=\"Suggest charts.\"\n",
              "              style=\"display:none;\">\n",
              "\n",
              "<svg xmlns=\"http://www.w3.org/2000/svg\" height=\"24px\"viewBox=\"0 0 24 24\"\n",
              "     width=\"24px\">\n",
              "    <g>\n",
              "        <path d=\"M19 3H5c-1.1 0-2 .9-2 2v14c0 1.1.9 2 2 2h14c1.1 0 2-.9 2-2V5c0-1.1-.9-2-2-2zM9 17H7v-7h2v7zm4 0h-2V7h2v10zm4 0h-2v-4h2v4z\"/>\n",
              "    </g>\n",
              "</svg>\n",
              "      </button>\n",
              "    </div>\n",
              "\n",
              "<style>\n",
              "  .colab-df-quickchart {\n",
              "    background-color: #E8F0FE;\n",
              "    border: none;\n",
              "    border-radius: 50%;\n",
              "    cursor: pointer;\n",
              "    display: none;\n",
              "    fill: #1967D2;\n",
              "    height: 32px;\n",
              "    padding: 0 0 0 0;\n",
              "    width: 32px;\n",
              "  }\n",
              "\n",
              "  .colab-df-quickchart:hover {\n",
              "    background-color: #E2EBFA;\n",
              "    box-shadow: 0px 1px 2px rgba(60, 64, 67, 0.3), 0px 1px 3px 1px rgba(60, 64, 67, 0.15);\n",
              "    fill: #174EA6;\n",
              "  }\n",
              "\n",
              "  [theme=dark] .colab-df-quickchart {\n",
              "    background-color: #3B4455;\n",
              "    fill: #D2E3FC;\n",
              "  }\n",
              "\n",
              "  [theme=dark] .colab-df-quickchart:hover {\n",
              "    background-color: #434B5C;\n",
              "    box-shadow: 0px 1px 3px 1px rgba(0, 0, 0, 0.15);\n",
              "    filter: drop-shadow(0px 1px 2px rgba(0, 0, 0, 0.3));\n",
              "    fill: #FFFFFF;\n",
              "  }\n",
              "</style>\n",
              "\n",
              "    <script>\n",
              "      async function quickchart(key) {\n",
              "        const containerElement = document.querySelector('#' + key);\n",
              "        const charts = await google.colab.kernel.invokeFunction(\n",
              "            'suggestCharts', [key], {});\n",
              "      }\n",
              "    </script>\n",
              "\n",
              "      <script>\n",
              "\n",
              "function displayQuickchartButton(domScope) {\n",
              "  let quickchartButtonEl =\n",
              "    domScope.querySelector('#df-18fdfaa7-c170-462b-b611-08e8e708c924 button.colab-df-quickchart');\n",
              "  quickchartButtonEl.style.display =\n",
              "    google.colab.kernel.accessAllowed ? 'block' : 'none';\n",
              "}\n",
              "\n",
              "        displayQuickchartButton(document);\n",
              "      </script>\n",
              "      <style>\n",
              "    .colab-df-container {\n",
              "      display:flex;\n",
              "      flex-wrap:wrap;\n",
              "      gap: 12px;\n",
              "    }\n",
              "\n",
              "    .colab-df-convert {\n",
              "      background-color: #E8F0FE;\n",
              "      border: none;\n",
              "      border-radius: 50%;\n",
              "      cursor: pointer;\n",
              "      display: none;\n",
              "      fill: #1967D2;\n",
              "      height: 32px;\n",
              "      padding: 0 0 0 0;\n",
              "      width: 32px;\n",
              "    }\n",
              "\n",
              "    .colab-df-convert:hover {\n",
              "      background-color: #E2EBFA;\n",
              "      box-shadow: 0px 1px 2px rgba(60, 64, 67, 0.3), 0px 1px 3px 1px rgba(60, 64, 67, 0.15);\n",
              "      fill: #174EA6;\n",
              "    }\n",
              "\n",
              "    [theme=dark] .colab-df-convert {\n",
              "      background-color: #3B4455;\n",
              "      fill: #D2E3FC;\n",
              "    }\n",
              "\n",
              "    [theme=dark] .colab-df-convert:hover {\n",
              "      background-color: #434B5C;\n",
              "      box-shadow: 0px 1px 3px 1px rgba(0, 0, 0, 0.15);\n",
              "      filter: drop-shadow(0px 1px 2px rgba(0, 0, 0, 0.3));\n",
              "      fill: #FFFFFF;\n",
              "    }\n",
              "  </style>\n",
              "\n",
              "      <script>\n",
              "        const buttonEl =\n",
              "          document.querySelector('#df-c1681b49-4c35-479b-bf1e-47230d4575b8 button.colab-df-convert');\n",
              "        buttonEl.style.display =\n",
              "          google.colab.kernel.accessAllowed ? 'block' : 'none';\n",
              "\n",
              "        async function convertToInteractive(key) {\n",
              "          const element = document.querySelector('#df-c1681b49-4c35-479b-bf1e-47230d4575b8');\n",
              "          const dataTable =\n",
              "            await google.colab.kernel.invokeFunction('convertToInteractive',\n",
              "                                                     [key], {});\n",
              "          if (!dataTable) return;\n",
              "\n",
              "          const docLinkHtml = 'Like what you see? Visit the ' +\n",
              "            '<a target=\"_blank\" href=https://colab.research.google.com/notebooks/data_table.ipynb>data table notebook</a>'\n",
              "            + ' to learn more about interactive tables.';\n",
              "          element.innerHTML = '';\n",
              "          dataTable['output_type'] = 'display_data';\n",
              "          await google.colab.output.renderOutput(dataTable, element);\n",
              "          const docLink = document.createElement('div');\n",
              "          docLink.innerHTML = docLinkHtml;\n",
              "          element.appendChild(docLink);\n",
              "        }\n",
              "      </script>\n",
              "    </div>\n",
              "  </div>\n"
            ],
            "text/plain": [
              "   Region  Fresh  Milk  Grocery  Frozen  Detergents_Paper  Delicassen  class\n",
              "0       3  12669  9656     7561     214              2674        1338      2\n",
              "1       3   7057  9810     9568    1762              3293        1776      2\n",
              "2       3   6353  8808     7684    2405              3516        7844      2\n",
              "3       3  13265  1196     4221    6404               507        1788      1\n",
              "4       3  22615  5410     7198    3915              1777        5185      1"
            ]
          },
          "execution_count": 3,
          "metadata": {},
          "output_type": "execute_result"
        }
      ],
      "source": [
        "df = pd.read_csv('multiclass.csv')\n",
        "\n",
        "df.head()"
      ]
    },
    {
      "cell_type": "markdown",
      "metadata": {
        "id": "_B46zHfJ9TwY"
      },
      "source": [
        "Total Number of samples and features of the data:\n",
        "<center>\n",
        "\n",
        "| Records | Features |\n",
        "| :-- | :-- |\n",
        "| 440 | 8 |"
      ]
    },
    {
      "cell_type": "code",
      "execution_count": null,
      "metadata": {
        "colab": {
          "background_save": true,
          "base_uri": "https://localhost:8080/"
        },
        "id": "uDEckLdn7FUx",
        "outputId": "235e6259-12c5-43cb-e260-71a24f6f2fe0"
      },
      "outputs": [
        {
          "data": {
            "text/plain": [
              "(440, 8)"
            ]
          },
          "execution_count": 4,
          "metadata": {},
          "output_type": "execute_result"
        }
      ],
      "source": [
        "df.shape"
      ]
    },
    {
      "cell_type": "markdown",
      "metadata": {
        "id": "x8c4BnZfAh0M"
      },
      "source": [
        "#EDA\n"
      ]
    },
    {
      "cell_type": "markdown",
      "metadata": {
        "id": "FWvftjnEAigb"
      },
      "source": [
        "Converting ```Region``` a **Categorical data** to  ```One Hot Encoding``` matrix\n",
        "\n"
      ]
    },
    {
      "cell_type": "code",
      "execution_count": null,
      "metadata": {
        "colab": {
          "background_save": true,
          "base_uri": "https://localhost:8080/"
        },
        "id": "OG4ibX6DAnPU",
        "outputId": "771c8532-ce8b-4622-a535-8dd1729aecb0"
      },
      "outputs": [
        {
          "data": {
            "text/html": [
              "\n",
              "\n",
              "  <div id=\"df-1063ab5d-747e-4280-af6f-99500f705da6\">\n",
              "    <div class=\"colab-df-container\">\n",
              "      <div>\n",
              "<style scoped>\n",
              "    .dataframe tbody tr th:only-of-type {\n",
              "        vertical-align: middle;\n",
              "    }\n",
              "\n",
              "    .dataframe tbody tr th {\n",
              "        vertical-align: top;\n",
              "    }\n",
              "\n",
              "    .dataframe thead th {\n",
              "        text-align: right;\n",
              "    }\n",
              "</style>\n",
              "<table border=\"1\" class=\"dataframe\">\n",
              "  <thead>\n",
              "    <tr style=\"text-align: right;\">\n",
              "      <th></th>\n",
              "      <th>Fresh</th>\n",
              "      <th>Milk</th>\n",
              "      <th>Grocery</th>\n",
              "      <th>Frozen</th>\n",
              "      <th>Detergents_Paper</th>\n",
              "      <th>Delicassen</th>\n",
              "      <th>Region_1</th>\n",
              "      <th>Region_2</th>\n",
              "      <th>Region_3</th>\n",
              "      <th>class_1</th>\n",
              "      <th>class_2</th>\n",
              "      <th>class_3</th>\n",
              "    </tr>\n",
              "  </thead>\n",
              "  <tbody>\n",
              "    <tr>\n",
              "      <th>0</th>\n",
              "      <td>12669</td>\n",
              "      <td>9656</td>\n",
              "      <td>7561</td>\n",
              "      <td>214</td>\n",
              "      <td>2674</td>\n",
              "      <td>1338</td>\n",
              "      <td>0</td>\n",
              "      <td>0</td>\n",
              "      <td>1</td>\n",
              "      <td>0</td>\n",
              "      <td>1</td>\n",
              "      <td>0</td>\n",
              "    </tr>\n",
              "    <tr>\n",
              "      <th>1</th>\n",
              "      <td>7057</td>\n",
              "      <td>9810</td>\n",
              "      <td>9568</td>\n",
              "      <td>1762</td>\n",
              "      <td>3293</td>\n",
              "      <td>1776</td>\n",
              "      <td>0</td>\n",
              "      <td>0</td>\n",
              "      <td>1</td>\n",
              "      <td>0</td>\n",
              "      <td>1</td>\n",
              "      <td>0</td>\n",
              "    </tr>\n",
              "    <tr>\n",
              "      <th>2</th>\n",
              "      <td>6353</td>\n",
              "      <td>8808</td>\n",
              "      <td>7684</td>\n",
              "      <td>2405</td>\n",
              "      <td>3516</td>\n",
              "      <td>7844</td>\n",
              "      <td>0</td>\n",
              "      <td>0</td>\n",
              "      <td>1</td>\n",
              "      <td>0</td>\n",
              "      <td>1</td>\n",
              "      <td>0</td>\n",
              "    </tr>\n",
              "    <tr>\n",
              "      <th>3</th>\n",
              "      <td>13265</td>\n",
              "      <td>1196</td>\n",
              "      <td>4221</td>\n",
              "      <td>6404</td>\n",
              "      <td>507</td>\n",
              "      <td>1788</td>\n",
              "      <td>0</td>\n",
              "      <td>0</td>\n",
              "      <td>1</td>\n",
              "      <td>1</td>\n",
              "      <td>0</td>\n",
              "      <td>0</td>\n",
              "    </tr>\n",
              "    <tr>\n",
              "      <th>4</th>\n",
              "      <td>22615</td>\n",
              "      <td>5410</td>\n",
              "      <td>7198</td>\n",
              "      <td>3915</td>\n",
              "      <td>1777</td>\n",
              "      <td>5185</td>\n",
              "      <td>0</td>\n",
              "      <td>0</td>\n",
              "      <td>1</td>\n",
              "      <td>1</td>\n",
              "      <td>0</td>\n",
              "      <td>0</td>\n",
              "    </tr>\n",
              "  </tbody>\n",
              "</table>\n",
              "</div>\n",
              "      <button class=\"colab-df-convert\" onclick=\"convertToInteractive('df-1063ab5d-747e-4280-af6f-99500f705da6')\"\n",
              "              title=\"Convert this dataframe to an interactive table.\"\n",
              "              style=\"display:none;\">\n",
              "\n",
              "  <svg xmlns=\"http://www.w3.org/2000/svg\" height=\"24px\"viewBox=\"0 0 24 24\"\n",
              "       width=\"24px\">\n",
              "    <path d=\"M0 0h24v24H0V0z\" fill=\"none\"/>\n",
              "    <path d=\"M18.56 5.44l.94 2.06.94-2.06 2.06-.94-2.06-.94-.94-2.06-.94 2.06-2.06.94zm-11 1L8.5 8.5l.94-2.06 2.06-.94-2.06-.94L8.5 2.5l-.94 2.06-2.06.94zm10 10l.94 2.06.94-2.06 2.06-.94-2.06-.94-.94-2.06-.94 2.06-2.06.94z\"/><path d=\"M17.41 7.96l-1.37-1.37c-.4-.4-.92-.59-1.43-.59-.52 0-1.04.2-1.43.59L10.3 9.45l-7.72 7.72c-.78.78-.78 2.05 0 2.83L4 21.41c.39.39.9.59 1.41.59.51 0 1.02-.2 1.41-.59l7.78-7.78 2.81-2.81c.8-.78.8-2.07 0-2.86zM5.41 20L4 18.59l7.72-7.72 1.47 1.35L5.41 20z\"/>\n",
              "  </svg>\n",
              "      </button>\n",
              "\n",
              "\n",
              "\n",
              "    <div id=\"df-706fcacc-f71b-460a-98ae-548f4f548067\">\n",
              "      <button class=\"colab-df-quickchart\" onclick=\"quickchart('df-706fcacc-f71b-460a-98ae-548f4f548067')\"\n",
              "              title=\"Suggest charts.\"\n",
              "              style=\"display:none;\">\n",
              "\n",
              "<svg xmlns=\"http://www.w3.org/2000/svg\" height=\"24px\"viewBox=\"0 0 24 24\"\n",
              "     width=\"24px\">\n",
              "    <g>\n",
              "        <path d=\"M19 3H5c-1.1 0-2 .9-2 2v14c0 1.1.9 2 2 2h14c1.1 0 2-.9 2-2V5c0-1.1-.9-2-2-2zM9 17H7v-7h2v7zm4 0h-2V7h2v10zm4 0h-2v-4h2v4z\"/>\n",
              "    </g>\n",
              "</svg>\n",
              "      </button>\n",
              "    </div>\n",
              "\n",
              "<style>\n",
              "  .colab-df-quickchart {\n",
              "    background-color: #E8F0FE;\n",
              "    border: none;\n",
              "    border-radius: 50%;\n",
              "    cursor: pointer;\n",
              "    display: none;\n",
              "    fill: #1967D2;\n",
              "    height: 32px;\n",
              "    padding: 0 0 0 0;\n",
              "    width: 32px;\n",
              "  }\n",
              "\n",
              "  .colab-df-quickchart:hover {\n",
              "    background-color: #E2EBFA;\n",
              "    box-shadow: 0px 1px 2px rgba(60, 64, 67, 0.3), 0px 1px 3px 1px rgba(60, 64, 67, 0.15);\n",
              "    fill: #174EA6;\n",
              "  }\n",
              "\n",
              "  [theme=dark] .colab-df-quickchart {\n",
              "    background-color: #3B4455;\n",
              "    fill: #D2E3FC;\n",
              "  }\n",
              "\n",
              "  [theme=dark] .colab-df-quickchart:hover {\n",
              "    background-color: #434B5C;\n",
              "    box-shadow: 0px 1px 3px 1px rgba(0, 0, 0, 0.15);\n",
              "    filter: drop-shadow(0px 1px 2px rgba(0, 0, 0, 0.3));\n",
              "    fill: #FFFFFF;\n",
              "  }\n",
              "</style>\n",
              "\n",
              "    <script>\n",
              "      async function quickchart(key) {\n",
              "        const containerElement = document.querySelector('#' + key);\n",
              "        const charts = await google.colab.kernel.invokeFunction(\n",
              "            'suggestCharts', [key], {});\n",
              "      }\n",
              "    </script>\n",
              "\n",
              "      <script>\n",
              "\n",
              "function displayQuickchartButton(domScope) {\n",
              "  let quickchartButtonEl =\n",
              "    domScope.querySelector('#df-706fcacc-f71b-460a-98ae-548f4f548067 button.colab-df-quickchart');\n",
              "  quickchartButtonEl.style.display =\n",
              "    google.colab.kernel.accessAllowed ? 'block' : 'none';\n",
              "}\n",
              "\n",
              "        displayQuickchartButton(document);\n",
              "      </script>\n",
              "      <style>\n",
              "    .colab-df-container {\n",
              "      display:flex;\n",
              "      flex-wrap:wrap;\n",
              "      gap: 12px;\n",
              "    }\n",
              "\n",
              "    .colab-df-convert {\n",
              "      background-color: #E8F0FE;\n",
              "      border: none;\n",
              "      border-radius: 50%;\n",
              "      cursor: pointer;\n",
              "      display: none;\n",
              "      fill: #1967D2;\n",
              "      height: 32px;\n",
              "      padding: 0 0 0 0;\n",
              "      width: 32px;\n",
              "    }\n",
              "\n",
              "    .colab-df-convert:hover {\n",
              "      background-color: #E2EBFA;\n",
              "      box-shadow: 0px 1px 2px rgba(60, 64, 67, 0.3), 0px 1px 3px 1px rgba(60, 64, 67, 0.15);\n",
              "      fill: #174EA6;\n",
              "    }\n",
              "\n",
              "    [theme=dark] .colab-df-convert {\n",
              "      background-color: #3B4455;\n",
              "      fill: #D2E3FC;\n",
              "    }\n",
              "\n",
              "    [theme=dark] .colab-df-convert:hover {\n",
              "      background-color: #434B5C;\n",
              "      box-shadow: 0px 1px 3px 1px rgba(0, 0, 0, 0.15);\n",
              "      filter: drop-shadow(0px 1px 2px rgba(0, 0, 0, 0.3));\n",
              "      fill: #FFFFFF;\n",
              "    }\n",
              "  </style>\n",
              "\n",
              "      <script>\n",
              "        const buttonEl =\n",
              "          document.querySelector('#df-1063ab5d-747e-4280-af6f-99500f705da6 button.colab-df-convert');\n",
              "        buttonEl.style.display =\n",
              "          google.colab.kernel.accessAllowed ? 'block' : 'none';\n",
              "\n",
              "        async function convertToInteractive(key) {\n",
              "          const element = document.querySelector('#df-1063ab5d-747e-4280-af6f-99500f705da6');\n",
              "          const dataTable =\n",
              "            await google.colab.kernel.invokeFunction('convertToInteractive',\n",
              "                                                     [key], {});\n",
              "          if (!dataTable) return;\n",
              "\n",
              "          const docLinkHtml = 'Like what you see? Visit the ' +\n",
              "            '<a target=\"_blank\" href=https://colab.research.google.com/notebooks/data_table.ipynb>data table notebook</a>'\n",
              "            + ' to learn more about interactive tables.';\n",
              "          element.innerHTML = '';\n",
              "          dataTable['output_type'] = 'display_data';\n",
              "          await google.colab.output.renderOutput(dataTable, element);\n",
              "          const docLink = document.createElement('div');\n",
              "          docLink.innerHTML = docLinkHtml;\n",
              "          element.appendChild(docLink);\n",
              "        }\n",
              "      </script>\n",
              "    </div>\n",
              "  </div>\n"
            ],
            "text/plain": [
              "   Fresh  Milk  Grocery  Frozen  Detergents_Paper  Delicassen  Region_1  \\\n",
              "0  12669  9656     7561     214              2674        1338         0   \n",
              "1   7057  9810     9568    1762              3293        1776         0   \n",
              "2   6353  8808     7684    2405              3516        7844         0   \n",
              "3  13265  1196     4221    6404               507        1788         0   \n",
              "4  22615  5410     7198    3915              1777        5185         0   \n",
              "\n",
              "   Region_2  Region_3  class_1  class_2  class_3  \n",
              "0         0         1        0        1        0  \n",
              "1         0         1        0        1        0  \n",
              "2         0         1        0        1        0  \n",
              "3         0         1        1        0        0  \n",
              "4         0         1        1        0        0  "
            ]
          },
          "execution_count": 5,
          "metadata": {},
          "output_type": "execute_result"
        }
      ],
      "source": [
        "df = pd.get_dummies(df, columns = ['Region'])\n",
        "\n",
        "#storing class label\n",
        "Y = df['class']\n",
        "df = pd.get_dummies(df, columns = ['class'])\n",
        "\n",
        "df.head()"
      ]
    },
    {
      "cell_type": "code",
      "execution_count": null,
      "metadata": {
        "colab": {
          "background_save": true
        },
        "id": "YeKu2ESN9YYp"
      },
      "outputs": [],
      "source": [
        "X = df.drop(columns=['class_1','class_2','class_3'])\n",
        "y = df[['class_1','class_2','class_3']]"
      ]
    },
    {
      "cell_type": "markdown",
      "metadata": {
        "id": "CAxYXM-PHAoK"
      },
      "source": [
        "Visualizing the data using PCA"
      ]
    },
    {
      "cell_type": "code",
      "execution_count": null,
      "metadata": {
        "colab": {
          "background_save": true,
          "base_uri": "https://localhost:8080/"
        },
        "id": "NTZ1VuwbG63f",
        "outputId": "2fa4bcac-46e4-46e8-9870-cce31474bdb0"
      },
      "outputs": [
        {
          "data": {
            "text/plain": [
              "(440, 2)"
            ]
          },
          "execution_count": 7,
          "metadata": {},
          "output_type": "execute_result"
        }
      ],
      "source": [
        "from sklearn.decomposition import PCA\n",
        "import matplotlib.pyplot as plt\n",
        "\n",
        "# reducing features to just 2 features\n",
        "pca = PCA(n_components=2)\n",
        "visual_1 = pca.fit_transform(X)\n",
        "visual_1.shape"
      ]
    },
    {
      "cell_type": "code",
      "execution_count": null,
      "metadata": {
        "colab": {
          "background_save": true,
          "base_uri": "https://localhost:8080/"
        },
        "id": "sYFduuY4G-pZ",
        "outputId": "cc4e92af-e9c4-49c9-b368-d7282ff7a54d"
      },
      "outputs": [
        {
          "name": "stdout",
          "output_type": "stream",
          "text": [
            "[0.45961362 0.40517227]\n"
          ]
        },
        {
          "data": {
            "image/png": "[encoded data removed]",
            "text/plain": [
              "<Figure size 640x480 with 1 Axes>"
            ]
          },
          "metadata": {},
          "output_type": "display_data"
        }
      ],
      "source": [
        "df2 = pd.DataFrame(visual_1, columns=['f1', 'f2'])\n",
        "df2['y'] = Y\n",
        "print(pca.explained_variance_ratio_)\n",
        "sns.scatterplot(data= df2, x= 'f1',y = 'f2' , hue = 'y')\n",
        "plt.show()"
      ]
    },
    {
      "cell_type": "markdown",
      "metadata": {
        "id": "2GEwlKyk_fVA"
      },
      "source": [
        "**Observe**\n",
        "\n",
        "The data is non-linear, hence to correctly classify the data:\n",
        "- We will require a deep Neural Network\n"
      ]
    },
    {
      "cell_type": "markdown",
      "metadata": {
        "id": "V_NkRuRz6MG1"
      },
      "source": [
        "Splitting Data into Train, Validation and Test Data"
      ]
    },
    {
      "cell_type": "code",
      "execution_count": null,
      "metadata": {
        "colab": {
          "background_save": true,
          "base_uri": "https://localhost:8080/"
        },
        "id": "2x7XrFKW9dtV",
        "outputId": "27ed42f4-ba56-4ba0-818e-29f490317afd"
      },
      "outputs": [
        {
          "name": "stdout",
          "output_type": "stream",
          "text": [
            "Train :  (356, 9) (356, 3)\n",
            "Validation: (40, 9) (40, 3)\n",
            "Test  :  (44, 9) (44, 3)\n"
          ]
        }
      ],
      "source": [
        "from sklearn.model_selection import train_test_split\n",
        "\n",
        "X_train_val, X_test, y_train_val, y_test = train_test_split(X, y, test_size=0.1, random_state=42)\n",
        "X_train, X_val, y_train, y_val = train_test_split(X_train_val, y_train_val, test_size=0.1, random_state=42)\n",
        "\n",
        "print('Train : ', X_train.shape, y_train.shape)\n",
        "print('Validation:', X_val.shape, y_val.shape)\n",
        "print('Test  : ', X_test.shape, y_test.shape)"
      ]
    },
    {
      "cell_type": "markdown",
      "metadata": {
        "id": "gwoCc2fgBVdX"
      },
      "source": [
        "Standardizing the data"
      ]
    },
    {
      "cell_type": "code",
      "execution_count": null,
      "metadata": {
        "colab": {
          "background_save": true
        },
        "id": "TPnIixZy9dOI"
      },
      "outputs": [],
      "source": [
        "from sklearn.preprocessing import StandardScaler\n",
        "\n",
        "scaler = StandardScaler()\n",
        "X_train = scaler.fit_transform(X_train)\n",
        "\n",
        "X_val = scaler.transform(X_val)\n",
        "X_test = scaler.transform(X_test)\n"
      ]
    },
    {
      "cell_type": "markdown",
      "metadata": {
        "id": "ORLiGLVRQdl-"
      },
      "source": [
        "<img src=\"https://d2beiqkhq929f0.cloudfront.net/public_assets/assets/000/045/550/original/0.png?1693575670\" width=\"800\">"
      ]
    },
    {
      "cell_type": "markdown",
      "metadata": {
        "id": "q1w9qnrV8JNx"
      },
      "source": [
        "Now that the data is ready, we can implement\n",
        "- A NN model using [tensorflow keras](https://keras.io/api/)\n",
        "- By creating 7 layered NN such that:\n",
        "\n",
        "|Layer| |Descrption|\n",
        "|:--| |:--|\n",
        "|**L1**| |Is the Input Layer |\n",
        "|**L2**| |Contains 32 Neurons|\n",
        "|**L3**| |Contains 64 Neurons|\n",
        "|**L4**| |Contains 128 Neurons|\n",
        "|**L5**| |Contains 64 Neurons |\n",
        "|**L6**| |Contains 32 Neurons|\n",
        "|**L7**| |Is the Output Layer |\n",
        "<br>\n",
        "\n",
        "**Note:** In Between the layers, we will use:\n",
        "- ReLU as the Activation function\n"
      ]
    },
    {
      "cell_type": "code",
      "execution_count": null,
      "metadata": {
        "colab": {
          "background_save": true
        },
        "id": "oDOgqVAIhBeW"
      },
      "outputs": [],
      "source": [
        "import tensorflow as tf\n",
        "from tensorflow.keras import Sequential\n",
        "from tensorflow.keras.layers import Dense\n",
        "\n",
        "\n",
        "# For Reproducibility\n",
        "np.random.seed(42)\n",
        "tf.random.set_seed(42)"
      ]
    },
    {
      "cell_type": "code",
      "execution_count": null,
      "metadata": {
        "colab": {
          "background_save": true
        },
        "id": "eEMztXLD8Gea"
      },
      "outputs": [],
      "source": [
        "def create_baseline():\n",
        "\n",
        "  model = Sequential([\n",
        "                    Dense(32, activation=\"relu\",kernel_initializer='glorot_uniform'),\n",
        "                    Dense(64, activation=\"relu\",kernel_initializer='glorot_uniform'),\n",
        "                    Dense(128, activation=\"relu\",kernel_initializer='glorot_uniform'),\n",
        "                    Dense(64, activation=\"relu\",kernel_initializer='glorot_uniform'),\n",
        "                    Dense(32, activation=\"relu\",kernel_initializer='glorot_uniform'),\n",
        "                    Dense(3,activation='softmax')])\n",
        "  return model"
      ]
    },
    {
      "cell_type": "code",
      "execution_count": null,
      "metadata": {
        "colab": {
          "background_save": true
        },
        "id": "CRnXrCb9NR5Z"
      },
      "outputs": [],
      "source": [
        "model = create_baseline()"
      ]
    },
    {
      "cell_type": "markdown",
      "metadata": {
        "id": "8eP6Ok6Qz-l3"
      },
      "source": [
        "Using ```MiniBatch GD``` as Optimizer"
      ]
    },
    {
      "cell_type": "code",
      "execution_count": null,
      "metadata": {
        "colab": {
          "background_save": true
        },
        "id": "BmExTrH-NR2y"
      },
      "outputs": [],
      "source": [
        "model.compile(optimizer = tf.keras.optimizers.SGD(),\n",
        "                loss = tf.keras.losses.CategoricalCrossentropy() )\n"
      ]
    },
    {
      "cell_type": "markdown",
      "metadata": {
        "id": "EJKbcaEE0kFF"
      },
      "source": [
        "Training the model with epoch=10 and batch size = 128"
      ]
    },
    {
      "cell_type": "code",
      "execution_count": null,
      "metadata": {
        "colab": {
          "background_save": true
        },
        "id": "SijurKbd0hkK",
        "outputId": "59c281c5-c4db-4954-e01b-5f1c17c315fe"
      },
      "outputs": [
        {
          "name": "stdout",
          "output_type": "stream",
          "text": [
            "Epoch 1/10\n",
            "3/3 [==============================] - 5s 102ms/step - loss: 1.0882 - val_loss: 1.0698\n",
            "Epoch 2/10\n",
            "3/3 [==============================] - 0s 15ms/step - loss: 1.0830 - val_loss: 1.0639\n",
            "Epoch 3/10\n",
            "3/3 [==============================] - 0s 16ms/step - loss: 1.0778 - val_loss: 1.0578\n",
            "Epoch 4/10\n",
            "3/3 [==============================] - 0s 16ms/step - loss: 1.0727 - val_loss: 1.0516\n",
            "Epoch 5/10\n",
            "3/3 [==============================] - 0s 16ms/step - loss: 1.0676 - val_loss: 1.0457\n",
            "Epoch 6/10\n",
            "3/3 [==============================] - 0s 18ms/step - loss: 1.0628 - val_loss: 1.0400\n",
            "Epoch 7/10\n",
            "3/3 [==============================] - 0s 16ms/step - loss: 1.0580 - val_loss: 1.0338\n",
            "Epoch 8/10\n",
            "3/3 [==============================] - 0s 16ms/step - loss: 1.0532 - val_loss: 1.0277\n",
            "Epoch 9/10\n",
            "3/3 [==============================] - 0s 16ms/step - loss: 1.0480 - val_loss: 1.0213\n",
            "Epoch 10/10\n",
            "3/3 [==============================] - 0s 16ms/step - loss: 1.0426 - val_loss: 1.0145\n"
          ]
        }
      ],
      "source": [
        "\n",
        "history = model.fit(X_train, y_train, validation_data = (X_val, y_val),  epochs=10, batch_size=128)\n"
      ]
    },
    {
      "cell_type": "code",
      "execution_count": null,
      "metadata": {
        "colab": {
          "background_save": true
        },
        "id": "lH9NrCp-4BVJ",
        "outputId": "9058e97a-96f0-4142-9dc1-77b3baffea45"
      },
      "outputs": [
        {
          "data": {
            "image/png": "[encoded data removed]",
            "text/plain": [
              "<Figure size 640x480 with 1 Axes>"
            ]
          },
          "metadata": {},
          "output_type": "display_data"
        }
      ],
      "source": [
        "epochs = history.epoch\n",
        "loss = history.history[\"loss\"]\n",
        "val_loss = history.history[\"val_loss\"]\n",
        "\n",
        "\n",
        "plt.plot(epochs, loss, label=\"train\")\n",
        "plt.plot(epochs, val_loss, label=\"validation\")\n",
        "\n",
        "plt.legend()\n",
        "plt.title(\"Loss VS Epochs\")\n",
        "\n",
        "plt.show()\n",
        "\n"
      ]
    },
    {
      "cell_type": "markdown",
      "metadata": {
        "id": "p9lv20xs3WeO"
      },
      "source": [
        "**Observe**\n",
        "\n",
        "After 10 epochs the model still has a very high loss\n",
        "\n",
        "<br>\n",
        "\n",
        "#### What should be done to make the model perform better ?\n",
        "\n",
        "Ans: increase the training epochs of the model\n",
        "\n",
        "Lets now increase the epoch of model to 200"
      ]
    },
    {
      "cell_type": "code",
      "execution_count": null,
      "metadata": {
        "colab": {
          "background_save": true
        },
        "id": "HgYjJRh00hhy"
      },
      "outputs": [],
      "source": [
        "history = model.fit(X_train, y_train, validation_data = (X_val, y_val),  epochs=200, batch_size=128, verbose = 0)\n"
      ]
    },
    {
      "cell_type": "code",
      "execution_count": null,
      "metadata": {
        "colab": {
          "background_save": true
        },
        "id": "heRO58bG0hfL",
        "outputId": "5a2ec4dd-ad12-4f3f-b3c0-e600478af88b"
      },
      "outputs": [
        {
          "data": {
            "image/png": "[encoded data removed]",
            "text/plain": [
              "<Figure size 640x480 with 1 Axes>"
            ]
          },
          "metadata": {},
          "output_type": "display_data"
        }
      ],
      "source": [
        "epochs = history.epoch\n",
        "loss = history.history[\"loss\"]\n",
        "val_loss = history.history[\"val_loss\"]\n",
        "\n",
        "\n",
        "plt.plot(epochs, loss, label=\"train\")\n",
        "plt.plot(epochs, val_loss, label=\"validation\")\n",
        "\n",
        "plt.legend()\n",
        "plt.title(\"Loss VS Epochs\")\n",
        "\n",
        "plt.show()\n",
        "\n"
      ]
    },
    {
      "cell_type": "markdown",
      "metadata": {
        "id": "Rj30ENc9XLBN"
      },
      "source": [
        "**observe**\n",
        "\n",
        "The model requires 210 epochs:\n",
        "- For it to have such a low loss\n",
        "\n",
        "Now imagine if the dataset has 5 million samples:\n",
        "- The model will require a very high training epoch\n",
        "- in order for it to reach global minima\n",
        "\n",
        "This surely will be a huge drawback:\n",
        "- While deploying the model"
      ]
    },
    {
      "cell_type": "markdown",
      "metadata": {
        "id": "I9K0HMEravpY"
      },
      "source": [
        "# Exponential Moving Average"
      ]
    },
    {
      "cell_type": "markdown",
      "metadata": {
        "id": "olfnxZTuVNsF"
      },
      "source": [
        "<img src=\"https://d2beiqkhq929f0.cloudfront.net/public_assets/assets/000/045/560/original/0.png?1693577361\" width=\"800\">"
      ]
    },
    {
      "cell_type": "markdown",
      "metadata": {
        "id": "7ynr5u28VXkY"
      },
      "source": [
        "#### Why Mini-Batch GD takes so many epochs ?\n",
        "Ans: Mini-batch GD takes some steps ($V$) before reaching global minima\n",
        "\n",
        "In many of these steps, the optimizer\n",
        "- Tends to move in direction where it will never reach minima\n",
        "- Hence due to all these noisy steps, the GD takes so many epochs"
      ]
    },
    {
      "cell_type": "markdown",
      "metadata": {
        "id": "dJFE9ZMmV7Qi"
      },
      "source": [
        "<img src=\"https://d2beiqkhq929f0.cloudfront.net/public_assets/assets/000/045/561/original/0.png?1693577419\" width=\"800\">"
      ]
    },
    {
      "cell_type": "markdown",
      "metadata": {
        "id": "EIuv-WBkV7n-"
      },
      "source": [
        "#### Why does mini-Batch GD have noisy steps ?\n",
        "Ans: Because, training data is divided into batches\n",
        "- And for some batch the model has very small loss\n",
        "- while for a few batch, the loss is quite high\n",
        "- Making the gradients of weights have high, low values\n",
        "- Thus effecting the step of Mini-Batch GD optimizer"
      ]
    },
    {
      "cell_type": "markdown",
      "metadata": {
        "id": "Y98MJr3iWjU_"
      },
      "source": [
        "<img src=\"https://d2beiqkhq929f0.cloudfront.net/public_assets/assets/000/045/562/original/0.png?1693577474\" width=\"800\">"
      ]
    },
    {
      "cell_type": "markdown",
      "metadata": {
        "id": "w43aid253sDS"
      },
      "source": [
        "\n",
        "\n",
        "#### How to reduce the number of epochs during training of the model ?\n",
        "\n",
        "Ans: By decreasing the number of steps ($V$) optimization algorithm takes to reach global minima.\n",
        "\n",
        "<br>\n",
        "\n",
        "#### How to reduce the steps $V$ required for the algorithm to reach global minima ?\n",
        "\n",
        "If we combine these past steps taken by the optimizer:\n",
        "-  for it to update the direction of step\n",
        "- such that it moves towards global minima  \n",
        "\n",
        "\n",
        "\n"
      ]
    },
    {
      "cell_type": "markdown",
      "metadata": {
        "id": "-4fxd5eyW48M"
      },
      "source": [
        "<img src=\"https://d2beiqkhq929f0.cloudfront.net/public_assets/assets/000/045/563/original/0.png?1693577560\" width=\"800\">"
      ]
    },
    {
      "cell_type": "markdown",
      "metadata": {
        "id": "V4ec7J-cW4P-"
      },
      "source": [
        "#### Will combining the past steps taken by the optimizer help ?\n",
        "Ans: Yes, to better understand this lets assume model trained for 3 iterations\n",
        "\n",
        "Note: 1 iteration = ForwardProp + BackProp\n",
        "\n",
        "#### What will be the value of $V_1$ ?\n",
        "Ans: $V_1 = \\beta V_0 + (1-\\beta) Δ w_1$\n",
        "\n",
        "\n",
        "\n",
        "#### What will be the value of $V_2$ ?\n",
        "Ans: $V_2 = \\beta V_1 + (1-\\beta) Δ w_2$\n",
        "\n",
        "- $V_2 =\\beta^2 V_0 + \\beta(1-\\beta)Δ w_1+ (1-\\beta) Δ w_2 $\n",
        "\n",
        "\n",
        "#### What will be value of $V_3$ ?\n",
        "\n",
        "Ans: $V_3 = \\beta V_2 + (1-\\beta) Δ w_3$\n",
        "\n",
        "- $V_3 =\\beta^3 V_0 + \\beta^2(1-\\beta)Δ w_1+ \\beta(1-\\beta) Δ w_2 + (1-\\beta) Δ w_3  $\n",
        "\n",
        "\n"
      ]
    },
    {
      "cell_type": "markdown",
      "metadata": {
        "id": "n31Yb6ukX7it"
      },
      "source": [
        "<img src=\"https://d2beiqkhq929f0.cloudfront.net/public_assets/assets/000/045/564/original/0.png?1693577611\" width=\"800\">"
      ]
    },
    {
      "cell_type": "markdown",
      "metadata": {
        "id": "sUxAC6c9AGhX"
      },
      "source": [
        "\n",
        "Thus using **Exponential Moving Average**, the optimizer\n",
        "- updates its direction according to its previous step taken.\n",
        "- And smoothes out its current direction\n",
        "- in order to reach global minima faster"
      ]
    },
    {
      "cell_type": "markdown",
      "metadata": {
        "id": "h_O7G7xoazC8"
      },
      "source": [
        "#Graident Descent with Momentum"
      ]
    },
    {
      "cell_type": "markdown",
      "metadata": {
        "id": "W0Nu_fJmYN2l"
      },
      "source": [
        "<img src=\"https://d2beiqkhq929f0.cloudfront.net/public_assets/assets/000/045/570/original/0.png?1693577894\" width=\"800\">"
      ]
    },
    {
      "cell_type": "markdown",
      "metadata": {
        "id": "N2AAsXEHYOIl"
      },
      "source": [
        "<img src=\"https://d2beiqkhq929f0.cloudfront.net/public_assets/assets/000/045/571/original/0.png?1693577940\" width=\"800\">"
      ]
    },
    {
      "cell_type": "markdown",
      "metadata": {
        "id": "WLWX7XxkXDZ_"
      },
      "source": [
        "#### How does Gradient Descent implement Exponential Moving Average ?\n",
        "\n",
        "Ans: for some iteration t and layer $k$ of the NN :\n",
        "- after finding $dw^k$ and $db^k$,\n",
        "\n",
        "the exopnential moving average is introduced:\n",
        "- $V_{dw^k} = β \\times V_{dw^k} + (1-β) \\times dw^k $\n",
        "\n",
        "Similarly:\n",
        "\n",
        "- $V_{db^k} = β \\times V_{db^k} + (1-β) \\times db^k $\n",
        "\n",
        "Hence Weight updation with learning rate $α$ becomes:\n",
        "- $w^k = w^k -\\alpha \\times V_{dw^k}$\n",
        "\n",
        "- $b^k = b^k -\\alpha \\times V_{db^k}$\n",
        "\n",
        "<br>\n",
        "\n",
        "**Note:** This approach can be analogous to a ball moving down a hill where:\n",
        "\n",
        "- the gradients $dw^k $ and $db^k$ acts as acceleration\n",
        "- the $V_{dw}$ and $V_{db}$ acts as velocity with which the ball is moving\n",
        "- And the term $β$ acts as friction and helps prevent the ball from speeding up without limit\n",
        "\n",
        "Hence we can say, as the ball rolls down, it gains **momentum**\n",
        "- therefore this approach is called **Gradient Descent with Momentum**\n",
        "\n",
        "\n",
        "\n",
        "\n",
        "\n",
        "\n",
        "\n",
        "\n",
        "\n",
        "\n"
      ]
    },
    {
      "cell_type": "markdown",
      "metadata": {
        "id": "xMS2xTKU3sAr"
      },
      "source": [
        "Lets now implement Gradient Descent with momentum on our model"
      ]
    },
    {
      "cell_type": "code",
      "execution_count": null,
      "metadata": {
        "colab": {
          "background_save": true
        },
        "id": "TYbmBHlFwIW4"
      },
      "outputs": [],
      "source": [
        "model_gdm = create_baseline()"
      ]
    },
    {
      "cell_type": "code",
      "execution_count": null,
      "metadata": {
        "colab": {
          "background_save": true
        },
        "id": "QAtTgM3bzgmu"
      },
      "outputs": [],
      "source": []
    },
    {
      "cell_type": "markdown",
      "metadata": {
        "id": "IWvLw1tNwIXA"
      },
      "source": [
        "Using ```MiniBatch GD``` as Optimizer"
      ]
    },
    {
      "cell_type": "code",
      "execution_count": null,
      "metadata": {
        "colab": {
          "background_save": true
        },
        "id": "dlwee437wIXA"
      },
      "outputs": [],
      "source": [
        "model_gdm.compile(optimizer = tf.keras.optimizers.SGD(momentum=0.9),\n",
        "                loss = tf.keras.losses.CategoricalCrossentropy() )\n"
      ]
    },
    {
      "cell_type": "markdown",
      "metadata": {
        "id": "n76OWgJpwIXA"
      },
      "source": [
        "Training the model with epoch = 50 and batch size = 128"
      ]
    },
    {
      "cell_type": "code",
      "execution_count": null,
      "metadata": {
        "colab": {
          "background_save": true
        },
        "id": "hwFLAeHDwIXA"
      },
      "outputs": [],
      "source": [
        "history = model_gdm.fit(X_train, y_train, validation_data = (X_val, y_val),  epochs=50, batch_size=128, verbose = 0)\n"
      ]
    },
    {
      "cell_type": "code",
      "execution_count": null,
      "metadata": {
        "colab": {
          "background_save": true
        },
        "id": "ZuqgeHy6wIXB",
        "outputId": "6acf6a60-c7d7-4782-d2b8-22b1f652d991"
      },
      "outputs": [
        {
          "data": {
            "image/png": "[encoded data removed]",
            "text/plain": [
              "<Figure size 640x480 with 1 Axes>"
            ]
          },
          "metadata": {},
          "output_type": "display_data"
        }
      ],
      "source": [
        "epochs = history.epoch\n",
        "loss = history.history[\"loss\"]\n",
        "val_loss = history.history[\"val_loss\"]\n",
        "\n",
        "\n",
        "plt.plot(epochs, loss, label=\"train\")\n",
        "plt.plot(epochs, val_loss, label=\"validation\")\n",
        "\n",
        "plt.legend()\n",
        "plt.title(\"Loss VS Epochs\")\n",
        "\n",
        "plt.show()\n",
        "\n"
      ]
    },
    {
      "cell_type": "markdown",
      "metadata": {
        "id": "uCkY2wg4wwAn"
      },
      "source": [
        "**Observe**\n",
        "\n",
        "Just by using Momentum with Gradient Descent:\n",
        "- The model was able to perform so much better in just 25 epochs\n",
        "\n"
      ]
    },
    {
      "cell_type": "markdown",
      "metadata": {
        "id": "PWoYs1v__4Rx"
      },
      "source": [
        "# RMSprop"
      ]
    },
    {
      "cell_type": "markdown",
      "metadata": {
        "id": "imCNZJwAAUz4"
      },
      "source": [
        "<img src=\"https://d2beiqkhq929f0.cloudfront.net/public_assets/assets/000/045/575/original/0.png?1693578356\" width=\"800\">"
      ]
    },
    {
      "cell_type": "markdown",
      "metadata": {
        "id": "grGOwJ983r-k"
      },
      "source": [
        "This 25 epochs is still quite high for a real world training data\n",
        "\n",
        "#### Is there a way to furthur reduce the training epoch for the model ?\n",
        "\n",
        "Ans: Yes, as we know :\n",
        "- optimizer tends to move in direction (osciallations) when gradient of weight is greater than the other\n",
        "- Meaning $ Δb >>> Δw $\n",
        "\n",
        "Hence to reduce this moving direction, lets say:\n",
        "\n",
        "On some iteration t, we calculate $V_{dw} $ by squaring the gradients as:\n",
        "- $V_{dw^k} = \\beta V_{dw^k} + (1-β) (dw^k)^2 $\n",
        "- $V_{db^k} = \\beta V_{db^k} + (1-β) (db^k)^2 $\n",
        "\n",
        "\n",
        "#### How is squaring useful ?\n",
        "Ans: as gradients in which the optimizer moves is higher then:\n",
        "- the square of the gradient will be much high\n",
        "- thus making $V_{db^k} > V_{dw^k}$\n",
        "\n",
        "<br>\n",
        "\n",
        "Now during weight updation:\n",
        "\n",
        "- $w^k = w^k - α \\times \\frac{dw^k}{\\sqrt{V_{dw^k}+ ϵ} } $; where $ϵ$ is a very small value  $ = 10^{-8}$\n",
        "- $b^k = b^k - α \\times \\frac{db^k}{\\sqrt{V_{db^k}+ ϵ} } $\n",
        "\n",
        "<br>\n",
        "\n",
        "Since $V_{db^k} > V_{dw^k}$,\n",
        "- meaning $\\frac{1}{V_{dw^k}} > \\frac{1}{V_{db^k}} $\n",
        "\n",
        "Thus making the  optimizer to move more in the direction of $dw^k$:\n",
        "- hence decreasing  osciallations of the optimizer\n",
        "\n",
        "<br>\n",
        "\n",
        "#### Why is epilson $ϵ$ added ?\n",
        "Ans: To prevent the denominator to become 0:\n",
        "- When $V_{dw}$ or $V_{db}$ is 0\n",
        "\n",
        "<br>\n",
        "\n",
        "**Note:** This approach is known as **RMSprop**\n",
        "\n",
        "\n",
        "\n"
      ]
    },
    {
      "cell_type": "markdown",
      "metadata": {
        "id": "26DHDTpE1Hwh"
      },
      "source": [
        "Implementing RMSProp"
      ]
    },
    {
      "cell_type": "code",
      "execution_count": null,
      "metadata": {
        "colab": {
          "background_save": true
        },
        "id": "MLDzxfSz1Di1"
      },
      "outputs": [],
      "source": [
        "model_rms = create_baseline()"
      ]
    },
    {
      "cell_type": "markdown",
      "metadata": {
        "id": "x78gX5el1Di2"
      },
      "source": [
        "Using ```RMSprop``` as Optimizer"
      ]
    },
    {
      "cell_type": "code",
      "execution_count": null,
      "metadata": {
        "colab": {
          "background_save": true
        },
        "id": "12kZ7ryC1Di2"
      },
      "outputs": [],
      "source": [
        "model_rms.compile(optimizer = tf.keras.optimizers.RMSprop(rho=0.9),\n",
        "                loss = tf.keras.losses.CategoricalCrossentropy() )\n"
      ]
    },
    {
      "cell_type": "markdown",
      "metadata": {
        "id": "yaVoVC4a1Di2"
      },
      "source": [
        "Training the model with epoch = 50 and batch size = 128"
      ]
    },
    {
      "cell_type": "code",
      "execution_count": null,
      "metadata": {
        "colab": {
          "background_save": true
        },
        "id": "2vW5PbVC1Di2"
      },
      "outputs": [],
      "source": [
        "history = model_rms.fit(X_train, y_train, validation_data = (X_val, y_val),  epochs=50, batch_size=128, verbose = 0)\n"
      ]
    },
    {
      "cell_type": "code",
      "execution_count": null,
      "metadata": {
        "colab": {
          "background_save": true
        },
        "id": "YOEvgIQP1Di2",
        "outputId": "4e8e1f76-4fae-4bc0-9d99-2e9942a5de91"
      },
      "outputs": [
        {
          "data": {
            "image/png": "[encoded data removed]",
            "text/plain": [
              "<Figure size 640x480 with 1 Axes>"
            ]
          },
          "metadata": {},
          "output_type": "display_data"
        }
      ],
      "source": [
        "epochs = history.epoch\n",
        "loss = history.history[\"loss\"]\n",
        "val_loss = history.history[\"val_loss\"]\n",
        "\n",
        "\n",
        "plt.plot(epochs, loss, label=\"train\")\n",
        "plt.plot(epochs, val_loss, label=\"validation\")\n",
        "\n",
        "plt.legend()\n",
        "plt.title(\"Loss VS Epochs\")\n",
        "\n",
        "plt.show()\n",
        "\n"
      ]
    },
    {
      "cell_type": "markdown",
      "metadata": {
        "id": "mdv5qAWEABCN"
      },
      "source": [
        "**Observe**\n",
        "\n",
        "Though RMSProp reaches minima within 10 training epochs:\n",
        "- we see a lot of oscillations than Gradient Descent with momentum\n",
        "- meaning the optimizer still takes steps in the direction not to the global minima\n"
      ]
    },
    {
      "cell_type": "markdown",
      "metadata": {
        "id": "2DXB6BPBGPKR"
      },
      "source": [
        "#Adam"
      ]
    },
    {
      "cell_type": "markdown",
      "metadata": {
        "id": "Pv6mbimtI83J"
      },
      "source": [
        "<img src=\"https://d2beiqkhq929f0.cloudfront.net/public_assets/assets/000/045/584/original/0.png?1693581139\" width=\"800\">"
      ]
    },
    {
      "cell_type": "markdown",
      "metadata": {
        "id": "6SgR8Cj6GQS6"
      },
      "source": [
        "#### is there a way to reduce these oscillations while still keeping the training epochs low ?\n",
        "\n",
        "Ans: if we combine both RMSprop and momentum, this is done by an alogrithm called **Adam**\n",
        "\n",
        "<br>\n",
        "\n",
        "#### How does Adam work ?\n",
        "Ans: Now for simplicity:\n",
        "- Lets call RMSprop $V_{dw}, V_{db}$ as $S_{dw}, S_{db}$\n",
        "\n",
        "Therefore now for some iteration t:\n",
        "- We compute $dW$, $db$\n",
        "\n",
        "then for Momentum we can say:\n",
        "\n",
        "- $V_{dw^k} = \\beta_1 V_{dw^k} + (1-\\beta_1) dw^k $\n",
        "\n",
        "Similarly,\n",
        "- $V_{db^k} = \\beta_1 V_{db^k} + (1-\\beta_1) db^k $\n",
        "\n",
        "<br>\n",
        "\n",
        "\n",
        "After performing momentum ,RMSprop is calculated as:\n",
        "- $S_{dw^k} = \\beta_2 S_{dw^k} + (1-\\beta_2) (dw^k)^2 $\n",
        "\n",
        "Similarly\n",
        "- $S_{db^k} = \\beta_2 S_{db^k} + (1-\\beta_2) (db^k)^2 $\n",
        "\n",
        "<br>\n",
        "\n",
        "\n"
      ]
    },
    {
      "cell_type": "markdown",
      "metadata": {
        "id": "aZsXVeATYrVG"
      },
      "source": [
        "<img src=\"https://d2beiqkhq929f0.cloudfront.net/public_assets/assets/000/045/567/original/0.png?1693577845\" width=\"800\">"
      ]
    },
    {
      "cell_type": "markdown",
      "metadata": {
        "id": "T-SlNL_5YzL6"
      },
      "source": [
        "As momentum and RMSprop both averages out,  the steps taken by Optimizer,\n",
        "- then for step:$V_3$, the average out value is more influenced by $V_0, V_1, V_2$\n",
        "- which makes the average value of $V_3$ biased and far away from the actual $V_3$\n",
        "\n",
        "<br>"
      ]
    },
    {
      "cell_type": "markdown",
      "metadata": {
        "id": "_5cQ16nXYz0z"
      },
      "source": [
        "<img src=\"https://d2beiqkhq929f0.cloudfront.net/public_assets/assets/000/045/585/original/0.png?1693581217\" width=\"800\">"
      ]
    },
    {
      "cell_type": "markdown",
      "metadata": {
        "id": "HPDdmXVcCJun"
      },
      "source": [
        "\n",
        "\n",
        "\n",
        "#### How to prevent this biasness ?\n",
        "Ans: it is done by dividing $V_{dw^k}$, $V_{db^k}$ by:\n",
        "- $V^{corrected}_{dw^k} = \\frac{V_{dw^k}}{1-β_1^t}$\n",
        "\n",
        "Similarly:\n",
        "- $V^{corrected}_{db^k} = \\frac{V_{db^k}}{1-β_1^t}$\n",
        "\n",
        "and for RMSprop:\n",
        "\n",
        "- $S^{corrected}_{dw^k} = \\frac{S_{dw^k}}{1-β_2^t}$\n",
        "\n",
        "Similarly:\n",
        "- $S^{corrected}_{db^k} = \\frac{S_{db^k}}{1-β_2^t}$\n",
        "\n",
        "**Note:** this process is called as **Bias Correction**\n",
        "\n",
        "\n",
        "<br>\n",
        "\n",
        "Now finally, weights updation is performed:\n",
        "\n",
        "- $w^k = w^k - α \\times  \\frac{1}{\\sqrt{S^{corrected}_{dw}+ ϵ}} \\times V^{corrected}_{dw}$\n",
        "\n",
        "- $b^k = b^k - α \\times  \\frac{1}{\\sqrt{S^{corrected}_{db}+ ϵ}} \\times V^{corrected}_{db}$\n",
        "\n",
        "\n",
        "\n",
        "\n",
        "\n",
        "\n"
      ]
    },
    {
      "cell_type": "markdown",
      "metadata": {
        "id": "ZBmMXn861Mhs"
      },
      "source": [
        "Implementing Adam"
      ]
    },
    {
      "cell_type": "code",
      "execution_count": null,
      "metadata": {
        "colab": {
          "background_save": true
        },
        "id": "JGvy8eIf1EOL"
      },
      "outputs": [],
      "source": [
        "model_adam = create_baseline()"
      ]
    },
    {
      "cell_type": "markdown",
      "metadata": {
        "id": "QMnTioh01EOM"
      },
      "source": [
        "Using ```Adam``` as Optimizer"
      ]
    },
    {
      "cell_type": "code",
      "execution_count": null,
      "metadata": {
        "colab": {
          "background_save": true
        },
        "id": "1iycbaFk1EOM"
      },
      "outputs": [],
      "source": [
        "model_adam.compile(optimizer = tf.keras.optimizers.Adam(beta_1 = 0.9, beta_2 = 0.999 ),\n",
        "                loss = tf.keras.losses.CategoricalCrossentropy() )\n"
      ]
    },
    {
      "cell_type": "markdown",
      "metadata": {
        "id": "V9ik-eM61EOM"
      },
      "source": [
        "Training the model with epoch = 50 and batch size = 128"
      ]
    },
    {
      "cell_type": "code",
      "execution_count": null,
      "metadata": {
        "colab": {
          "background_save": true
        },
        "id": "S8Lc4ehj1EOM"
      },
      "outputs": [],
      "source": [
        "history = model_adam.fit(X_train, y_train, validation_data = (X_val, y_val),  epochs=50, batch_size=128, verbose = 0)\n"
      ]
    },
    {
      "cell_type": "code",
      "execution_count": null,
      "metadata": {
        "colab": {
          "background_save": true
        },
        "id": "1CKT00HJ1EOM",
        "outputId": "b594e33e-ad8f-410c-e1d7-7ed9594eb85c"
      },
      "outputs": [
        {
          "data": {
            "image/png": "[encoded data removed]",
            "text/plain": [
              "<Figure size 432x288 with 1 Axes>"
            ]
          },
          "metadata": {},
          "output_type": "display_data"
        }
      ],
      "source": [
        "epochs = history.epoch\n",
        "loss = history.history[\"loss\"]\n",
        "val_loss = history.history[\"val_loss\"]\n",
        "\n",
        "\n",
        "plt.plot(epochs, loss, label=\"train\")\n",
        "plt.plot(epochs, val_loss, label=\"validation\")\n",
        "\n",
        "plt.legend()\n",
        "plt.title(\"Loss VS Epochs\")\n",
        "\n",
        "plt.show()\n",
        "\n"
      ]
    },
    {
      "cell_type": "markdown",
      "metadata": {
        "id": "Tslkt2oCNy8K"
      },
      "source": [
        "#### Learning Rate Decay\n",
        "\n",
        "**Observe**\n",
        "\n",
        "How using Adam algorithm,\n",
        "- the oscillations are reduced drastically\n",
        "- also the model takes almost 12 epochs for it to show accruate results\n",
        "- But the model performance on the validation is still high\n",
        "\n",
        "<br>\n",
        "\n",
        "#### Is there a way to improve model performance  ?\n",
        "\n",
        "Ans: recall how optimizer tends on moving around the global minima:\n",
        "- if the learning rate is high\n",
        "\n",
        "#### Will a learning rate of 0.01 high for our problem ?\n",
        "Ans: As using different Optimizers,\n",
        "- The validation loss moves around 0.4\n",
        "- it means the optimizer is stuck around the global minima\n",
        "\n",
        "\n",
        "#### But what happens if learning rate is smaller ?\n",
        "Ans: The number of steps increases\n",
        "- And the model will require more epochs to reach global minima\n",
        "\n",
        "<br>\n",
        "\n",
        "#### How to make optimizer take small number of steps and still reach global minima ?\n",
        "\n",
        "Ans: what if we keep a high learning rate intially ($\\alpha_0$)\n",
        "- and Learning rate decreases with each epoch($e$) by a rate $r_0$\n",
        "\n",
        "This is called as Learning rate decay, defined as:\n",
        "- for epoch in epochs:\n",
        "- $\\alpha = \\frac{1}{1 + r_0 \\times epoch } \\times \\alpha_0 $\n",
        "- $\\alpha_0 = \\alpha $\n",
        "\n",
        "<br>\n",
        "\n",
        "#### When to implement Learning rate decay, should it be done before or after an epoch ?\n",
        "Ans: After an epoch by using:\n",
        "- Tensorflow callback\n",
        "\n",
        "<br>\n",
        "\n",
        "Lets now implement Learning Rate decay using [LearningRateScheduler](https://keras.io/api/callbacks/learning_rate_scheduler/)\n",
        "\n"
      ]
    },
    {
      "cell_type": "code",
      "execution_count": null,
      "metadata": {
        "colab": {
          "background_save": true
        },
        "id": "DVMR-KEKSyuf"
      },
      "outputs": [],
      "source": [
        "from tensorflow.keras.callbacks import LearningRateScheduler"
      ]
    },
    {
      "cell_type": "markdown",
      "metadata": {
        "id": "ZMNGw39fTqxz"
      },
      "source": [
        "defining the Learning Rate decay"
      ]
    },
    {
      "cell_type": "code",
      "execution_count": null,
      "metadata": {
        "colab": {
          "background_save": true
        },
        "id": "pVjVV6AFToqB"
      },
      "outputs": [],
      "source": [
        "def scheduler(epoch, lr):\n",
        "  r_0 = 0.01\n",
        "  lr = (1/(1+r_0*epoch))*lr\n",
        "\n",
        "  return lr"
      ]
    },
    {
      "cell_type": "code",
      "execution_count": null,
      "metadata": {
        "colab": {
          "background_save": true
        },
        "id": "XwPkylw5UOGm"
      },
      "outputs": [],
      "source": [
        "LRdecay = LearningRateScheduler(scheduler)"
      ]
    },
    {
      "cell_type": "code",
      "execution_count": null,
      "metadata": {
        "colab": {
          "background_save": true
        },
        "id": "kRJe-WFDSu_r"
      },
      "outputs": [],
      "source": [
        "model_adam = create_baseline()"
      ]
    },
    {
      "cell_type": "markdown",
      "metadata": {
        "id": "pY3HH2wvSu_r"
      },
      "source": [
        "Using ```Adam``` as Optimizer"
      ]
    },
    {
      "cell_type": "code",
      "execution_count": null,
      "metadata": {
        "colab": {
          "background_save": true
        },
        "id": "PYSa8_NVSu_r"
      },
      "outputs": [],
      "source": [
        "model_adam.compile(optimizer = tf.keras.optimizers.Adam(beta_1 = 0.9, beta_2 = 0.999 ),\n",
        "                loss = tf.keras.losses.CategoricalCrossentropy() )\n"
      ]
    },
    {
      "cell_type": "markdown",
      "metadata": {
        "id": "wfUDz1hbSu_r"
      },
      "source": [
        "Training the model with epoch = 50 and batch size = 128"
      ]
    },
    {
      "cell_type": "code",
      "execution_count": null,
      "metadata": {
        "colab": {
          "background_save": true
        },
        "id": "rqWx-4UMSu_r"
      },
      "outputs": [],
      "source": [
        "history = model_adam.fit(X_train, y_train, validation_data = (X_val, y_val),  epochs=50, batch_size=128,callbacks=[LRdecay], verbose = 0)\n"
      ]
    },
    {
      "cell_type": "code",
      "execution_count": null,
      "metadata": {
        "colab": {
          "background_save": true
        },
        "id": "6KOXSmlCSu_s",
        "outputId": "db4f414d-9e34-4e52-f448-5e681aaa5b40"
      },
      "outputs": [
        {
          "data": {
            "image/png": "[encoded data removed]",
            "text/plain": [
              "<Figure size 432x288 with 1 Axes>"
            ]
          },
          "metadata": {},
          "output_type": "display_data"
        }
      ],
      "source": [
        "epochs = history.epoch\n",
        "loss = history.history[\"loss\"]\n",
        "val_loss = history.history[\"val_loss\"]\n",
        "\n",
        "\n",
        "plt.plot(epochs, loss, label=\"train\")\n",
        "plt.plot(epochs, val_loss, label=\"validation\")\n",
        "\n",
        "plt.legend()\n",
        "plt.title(\"Loss VS Epochs\")\n",
        "\n",
        "plt.show()\n",
        "\n"
      ]
    },
    {
      "cell_type": "markdown",
      "metadata": {
        "id": "O8F_LrGTUtFY"
      },
      "source": [
        "**observe**\n",
        "\n",
        "How by using Learning Rate decay,\n",
        "- the model reaches a loss of around 0.3 now\n",
        "- Showing that reducing the Learning Rate did help improve model performance\n",
        "\n",
        "\n"
      ]
    },
    {
      "cell_type": "markdown",
      "source": [
        "### Simulation for Momentum, RMSprop and Adam"
      ],
      "metadata": {
        "id": "k-MnONs-iorT"
      }
    },
    {
      "cell_type": "markdown",
      "source": [
        "\n",
        "\n",
        "\n",
        "\n",
        "<img src=\"https://d2beiqkhq929f0.cloudfront.net/public_assets/assets/000/045/662/original/demo-surface_%281%29.gif?1693662781\" width=\"800\">\n",
        "\n",
        "\n",
        "\n",
        "\n",
        "[Visualization software](https://github.com/lilipads/gradient_descent_viz) for simulation purpose\n",
        "- **Works locally**\n",
        "\n",
        "**observe**\n",
        "\n",
        "- How momentum quickly reaches minima due to the exponential moving average\n",
        "\n",
        "\n",
        "Also Adam takes a few iteration before reaching minima\n",
        "\n",
        "- Showing how it uses both the RMSprop and Momentum in order to find the global minima"
      ],
      "metadata": {
        "id": "q9AGfQBuinO_"
      }
    },
    {
      "cell_type": "code",
      "source": [
        "|"
      ],
      "metadata": {
        "id": "PzkgRqAeip3Q"
      },
      "execution_count": null,
      "outputs": []
    }
  ]
}