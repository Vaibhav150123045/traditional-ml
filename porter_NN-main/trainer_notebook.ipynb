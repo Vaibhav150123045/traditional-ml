{
  "cells": [
    {
      "cell_type": "markdown",
      "id": "ea438c00",
      "metadata": {
        "id": "ea438c00",
        "papermill": {
          "duration": 0.067694,
          "end_time": "2022-04-26T08:35:51.179869",
          "exception": false,
          "start_time": "2022-04-26T08:35:51.112175",
          "status": "completed"
        },
        "tags": []
      },
      "source": [
        "# **Porter Delivery time estimation**"
      ]
    },
    {
      "cell_type": "markdown",
      "id": "526acc15",
      "metadata": {
        "id": "526acc15",
        "papermill": {
          "duration": 0.06955,
          "end_time": "2022-04-26T08:35:51.314929",
          "exception": false,
          "start_time": "2022-04-26T08:35:51.245379",
          "status": "completed"
        },
        "tags": []
      },
      "source": [
        "Porter is India's Largest Marketplace for Intra-City Logistics. Leader in the country's $40 billion intra-city logistics market, Porter strives to improve the lives of 1,50,000+ driver-partners by providing them with consistent earning & independence. Currently, the company has serviced 5+ million customers\n",
        "\n",
        "Porter works with a wide range of restaurants for delivering their items directly to the people.\n"
      ]
    },
    {
      "cell_type": "markdown",
      "id": "8121e3d5",
      "metadata": {
        "id": "8121e3d5",
        "papermill": {
          "duration": 0.062902,
          "end_time": "2022-04-26T08:35:51.441581",
          "exception": false,
          "start_time": "2022-04-26T08:35:51.378679",
          "status": "completed"
        },
        "tags": []
      },
      "source": [
        "**Problem statement**\n",
        "\n",
        "\n",
        "Porter has a number of delivery partners available for delivering the food, from various restaurants and wants to get an estimated delivery time that it can provide the customers on the basis of what they are ordering, from where and also the delivery partners.\n",
        "\n",
        "This dataset has the required data to train a regression model that will do the delivery time esimation, based on all those features"
      ]
    },
    {
      "cell_type": "markdown",
      "id": "9a279a2d",
      "metadata": {
        "id": "9a279a2d",
        "papermill": {
          "duration": 0.061488,
          "end_time": "2022-04-26T08:35:51.568121",
          "exception": false,
          "start_time": "2022-04-26T08:35:51.506633",
          "status": "completed"
        },
        "tags": []
      },
      "source": [
        "**Data Dictionary**"
      ]
    },
    {
      "cell_type": "markdown",
      "id": "9772c95f",
      "metadata": {
        "id": "9772c95f",
        "papermill": {
          "duration": 0.063922,
          "end_time": "2022-04-26T08:35:51.694474",
          "exception": false,
          "start_time": "2022-04-26T08:35:51.630552",
          "status": "completed"
        },
        "tags": []
      },
      "source": [
        "market_id : integer id for the market where the restaurant lies\n",
        "\n",
        "created_at : the timestamp at which the order was placed\n",
        "\n",
        "actual_delivery_time : the timestamp when the order was delivered\n",
        "\n",
        "store_id\t: encoded id for different stores\n",
        "\n",
        "order_protocol\t: integer code value for order protocol(how the order was placed ie: through porter, call to restaurant, prebooked, third part etc)\n",
        "\n",
        "total_items\tsubtotal\t: final price of the order\n",
        "\n",
        "num_distinct_items\t: the number of distinct items in the order\n",
        "\n",
        "min_item_price\t: price of the cheapest item in the order\n",
        "\n",
        "max_item_price\t: price of the costliest item in order\n",
        "\n",
        "total_onshift_partners\t: number of delivery partners on duty at the time order was placed\n",
        "\n",
        "total_busy_partners\t: number of delivery partners attending to other tasks\n",
        "\n",
        "total_outstanding_orders\t: total number of orders to be fulfilled at the moment\n",
        "\n",
        "estimated_store_to_consumer_driving_duration : approximate travel time from restaurant to customer\n",
        "\n",
        "\n"
      ]
    },
    {
      "cell_type": "markdown",
      "id": "24dcc295",
      "metadata": {
        "id": "24dcc295",
        "papermill": {
          "duration": 0.064155,
          "end_time": "2022-04-26T08:35:51.820667",
          "exception": false,
          "start_time": "2022-04-26T08:35:51.756512",
          "status": "completed"
        },
        "tags": []
      },
      "source": [
        "**broad steps in the notebook**\n",
        "\n",
        "*   load the data and understand the features\n",
        "*   feature engineering creating target variable(time taken for each order)\n",
        "*   cleaning the data and visualization\n",
        "*   preparing the data for training\n",
        "*   random forest regression\n",
        "*   neural network regression\n",
        "*   comarision of both ways\n",
        "\n",
        "\n",
        "\n"
      ]
    },
    {
      "cell_type": "code",
      "execution_count": null,
      "id": "fda549cf",
      "metadata": {
        "id": "fda549cf",
        "papermill": {
          "duration": 0.065331,
          "end_time": "2022-04-26T08:35:51.948147",
          "exception": false,
          "start_time": "2022-04-26T08:35:51.882816",
          "status": "completed"
        },
        "tags": []
      },
      "outputs": [],
      "source": []
    },
    {
      "cell_type": "code",
      "execution_count": null,
      "id": "c2fb47d8",
      "metadata": {
        "execution": {
          "iopub.execute_input": "2022-04-26T08:35:52.080107Z",
          "iopub.status.busy": "2022-04-26T08:35:52.078845Z",
          "iopub.status.idle": "2022-04-26T08:36:01.265085Z",
          "shell.execute_reply": "2022-04-26T08:36:01.265656Z",
          "shell.execute_reply.started": "2022-04-22T22:31:00.418658Z"
        },
        "id": "c2fb47d8",
        "papermill": {
          "duration": 9.25514,
          "end_time": "2022-04-26T08:36:01.265962",
          "exception": false,
          "start_time": "2022-04-26T08:35:52.010822",
          "status": "completed"
        },
        "tags": []
      },
      "outputs": [],
      "source": [
        "#for reding and handling the data\n",
        "import pandas as pd\n",
        "import numpy as np\n",
        "import os\n",
        "\n",
        "#for visualizing and analyzing it\n",
        "import matplotlib.pyplot as plt\n",
        "import seaborn as sns\n",
        "\n",
        "#data preprocessing\n",
        "from sklearn.preprocessing import StandardScaler\n",
        "from sklearn.model_selection import train_test_split\n",
        "\n",
        "#random forest model training\n",
        "from sklearn.metrics import mean_squared_error\n",
        "from sklearn.metrics import r2_score\n",
        "from sklearn.metrics import mean_absolute_error\n",
        "from sklearn.ensemble import RandomForestRegressor\n",
        "\n",
        "#Ann training\n",
        "from tensorflow.keras import Model\n",
        "from tensorflow.keras import Sequential\n",
        "from tensorflow.keras.optimizers import Adam\n",
        "from tensorflow.keras.layers import Dense, Dropout, BatchNormalization, LeakyReLU\n",
        "from sklearn.model_selection import train_test_split\n",
        "from tensorflow.keras.losses import MeanSquaredLogarithmicError\n",
        "from tensorflow.keras.losses import MeanSquaredError\n",
        "from tensorflow.keras.losses import MeanAbsolutePercentageError\n",
        "\n",
        "\n",
        "from tensorflow.keras.metrics import  mean_absolute_percentage_error\n",
        "from tensorflow.keras.metrics import RootMeanSquaredError\n",
        "from tensorflow.keras.metrics import MeanAbsoluteError\n",
        "from tensorflow.keras.optimizers import SGD, Adam"
      ]
    },
    {
      "cell_type": "code",
      "execution_count": null,
      "id": "Omgz8kL5GnmU",
      "metadata": {
        "colab": {
          "base_uri": "https://localhost:8080/"
        },
        "id": "Omgz8kL5GnmU",
        "outputId": "0fcca80f-b2a9-475d-b26a-b8d001f70aff"
      },
      "outputs": [
        {
          "name": "stdout",
          "output_type": "stream",
          "text": [
            "Looking in indexes: https://pypi.org/simple, https://us-python.pkg.dev/colab-wheels/public/simple/\n",
            "Requirement already satisfied: gdown in /usr/local/lib/python3.8/dist-packages (4.6.4)\n",
            "Requirement already satisfied: tqdm in /usr/local/lib/python3.8/dist-packages (from gdown) (4.64.1)\n",
            "Requirement already satisfied: beautifulsoup4 in /usr/local/lib/python3.8/dist-packages (from gdown) (4.6.3)\n",
            "Requirement already satisfied: filelock in /usr/local/lib/python3.8/dist-packages (from gdown) (3.9.0)\n",
            "Requirement already satisfied: six in /usr/local/lib/python3.8/dist-packages (from gdown) (1.15.0)\n",
            "Requirement already satisfied: requests[socks] in /usr/local/lib/python3.8/dist-packages (from gdown) (2.25.1)\n",
            "Requirement already satisfied: certifi>=2017.4.17 in /usr/local/lib/python3.8/dist-packages (from requests[socks]->gdown) (2022.12.7)\n",
            "Requirement already satisfied: chardet<5,>=3.0.2 in /usr/local/lib/python3.8/dist-packages (from requests[socks]->gdown) (4.0.0)\n",
            "Requirement already satisfied: urllib3<1.27,>=1.21.1 in /usr/local/lib/python3.8/dist-packages (from requests[socks]->gdown) (1.24.3)\n",
            "Requirement already satisfied: idna<3,>=2.5 in /usr/local/lib/python3.8/dist-packages (from requests[socks]->gdown) (2.10)\n",
            "Requirement already satisfied: PySocks!=1.5.7,>=1.5.6 in /usr/local/lib/python3.8/dist-packages (from requests[socks]->gdown) (1.7.1)\n"
          ]
        }
      ],
      "source": [
        "!pip install --upgrade --no-cache-dir gdown"
      ]
    },
    {
      "cell_type": "code",
      "execution_count": null,
      "id": "hPx2_cQvi_ZW",
      "metadata": {
        "id": "hPx2_cQvi_ZW"
      },
      "outputs": [],
      "source": [
        "import gdown"
      ]
    },
    {
      "cell_type": "code",
      "execution_count": null,
      "id": "OAs7JQ7U3MGU",
      "metadata": {
        "id": "OAs7JQ7U3MGU"
      },
      "outputs": [],
      "source": [
        "sns.set(rc={'figure.figsize':(11.7,8.27)})\n"
      ]
    },
    {
      "cell_type": "code",
      "execution_count": null,
      "id": "XTHxUrpjGEyD",
      "metadata": {
        "colab": {
          "base_uri": "https://localhost:8080/"
        },
        "id": "XTHxUrpjGEyD",
        "outputId": "c8e3bae1-145f-4154-a3d5-b07cadbdd108"
      },
      "outputs": [
        {
          "name": "stdout",
          "output_type": "stream",
          "text": [
            "Downloading...\n",
            "From: https://drive.google.com/uc?id=1kkgBGldeswHBgVKEJiqqG7VZvqZNMc-5\n",
            "To: /content/data_2.csv\n",
            "\r  0% 0.00/15.7M [00:00<?, ?B/s]\r100% 15.7M/15.7M [00:00<00:00, 166MB/s]\n"
          ]
        }
      ],
      "source": [
        "!gdown 1kkgBGldeswHBgVKEJiqqG7VZvqZNMc-5"
      ]
    },
    {
      "cell_type": "markdown",
      "id": "e31fce2d",
      "metadata": {
        "id": "e31fce2d",
        "papermill": {
          "duration": 0.061571,
          "end_time": "2022-04-26T08:36:01.526465",
          "exception": false,
          "start_time": "2022-04-26T08:36:01.464894",
          "status": "completed"
        },
        "tags": []
      },
      "source": [
        "LOading the data from google drive"
      ]
    },
    {
      "cell_type": "code",
      "execution_count": null,
      "id": "7ab1e6d0",
      "metadata": {
        "colab": {
          "base_uri": "https://localhost:8080/",
          "height": 357
        },
        "execution": {
          "iopub.execute_input": "2022-04-26T08:36:01.655387Z",
          "iopub.status.busy": "2022-04-26T08:36:01.654731Z",
          "iopub.status.idle": "2022-04-26T08:36:02.393982Z",
          "shell.execute_reply": "2022-04-26T08:36:02.394538Z",
          "shell.execute_reply.started": "2022-04-22T22:31:08.092187Z"
        },
        "id": "7ab1e6d0",
        "outputId": "5b3a0189-6eb4-4942-f303-4d697f477e4a",
        "papermill": {
          "duration": 0.805672,
          "end_time": "2022-04-26T08:36:02.394723",
          "exception": false,
          "start_time": "2022-04-26T08:36:01.589051",
          "status": "completed"
        },
        "tags": []
      },
      "outputs": [
        {
          "data": {
            "text/html": [
              "\n",
              "  <div id=\"df-d089ed48-ddb4-42df-b4a3-76bc886c4b4e\">\n",
              "    <div class=\"colab-df-container\">\n",
              "      <div>\n",
              "<style scoped>\n",
              "    .dataframe tbody tr th:only-of-type {\n",
              "        vertical-align: middle;\n",
              "    }\n",
              "\n",
              "    .dataframe tbody tr th {\n",
              "        vertical-align: top;\n",
              "    }\n",
              "\n",
              "    .dataframe thead th {\n",
              "        text-align: right;\n",
              "    }\n",
              "</style>\n",
              "<table border=\"1\" class=\"dataframe\">\n",
              "  <thead>\n",
              "    <tr style=\"text-align: right;\">\n",
              "      <th></th>\n",
              "      <th>market_id</th>\n",
              "      <th>created_at</th>\n",
              "      <th>actual_delivery_time</th>\n",
              "      <th>store_primary_category</th>\n",
              "      <th>order_protocol</th>\n",
              "      <th>total_items</th>\n",
              "      <th>subtotal</th>\n",
              "      <th>num_distinct_items</th>\n",
              "      <th>min_item_price</th>\n",
              "      <th>max_item_price</th>\n",
              "      <th>total_onshift_dashers</th>\n",
              "      <th>total_busy_dashers</th>\n",
              "      <th>total_outstanding_orders</th>\n",
              "      <th>estimated_store_to_consumer_driving_duration</th>\n",
              "    </tr>\n",
              "  </thead>\n",
              "  <tbody>\n",
              "    <tr>\n",
              "      <th>0</th>\n",
              "      <td>1.0</td>\n",
              "      <td>2015-02-06 22:24:17</td>\n",
              "      <td>2015-02-06 23:11:17</td>\n",
              "      <td>4</td>\n",
              "      <td>1.0</td>\n",
              "      <td>4</td>\n",
              "      <td>3441</td>\n",
              "      <td>4</td>\n",
              "      <td>557</td>\n",
              "      <td>1239</td>\n",
              "      <td>33.0</td>\n",
              "      <td>14.0</td>\n",
              "      <td>21.0</td>\n",
              "      <td>861.0</td>\n",
              "    </tr>\n",
              "    <tr>\n",
              "      <th>1</th>\n",
              "      <td>2.0</td>\n",
              "      <td>2015-02-10 21:49:25</td>\n",
              "      <td>2015-02-10 22:33:25</td>\n",
              "      <td>46</td>\n",
              "      <td>2.0</td>\n",
              "      <td>1</td>\n",
              "      <td>1900</td>\n",
              "      <td>1</td>\n",
              "      <td>1400</td>\n",
              "      <td>1400</td>\n",
              "      <td>1.0</td>\n",
              "      <td>2.0</td>\n",
              "      <td>2.0</td>\n",
              "      <td>690.0</td>\n",
              "    </tr>\n",
              "    <tr>\n",
              "      <th>2</th>\n",
              "      <td>2.0</td>\n",
              "      <td>2015-02-16 00:11:35</td>\n",
              "      <td>2015-02-16 01:06:35</td>\n",
              "      <td>36</td>\n",
              "      <td>3.0</td>\n",
              "      <td>4</td>\n",
              "      <td>4771</td>\n",
              "      <td>3</td>\n",
              "      <td>820</td>\n",
              "      <td>1604</td>\n",
              "      <td>8.0</td>\n",
              "      <td>6.0</td>\n",
              "      <td>18.0</td>\n",
              "      <td>289.0</td>\n",
              "    </tr>\n",
              "    <tr>\n",
              "      <th>3</th>\n",
              "      <td>1.0</td>\n",
              "      <td>2015-02-12 03:36:46</td>\n",
              "      <td>2015-02-12 04:35:46</td>\n",
              "      <td>38</td>\n",
              "      <td>1.0</td>\n",
              "      <td>1</td>\n",
              "      <td>1525</td>\n",
              "      <td>1</td>\n",
              "      <td>1525</td>\n",
              "      <td>1525</td>\n",
              "      <td>5.0</td>\n",
              "      <td>6.0</td>\n",
              "      <td>8.0</td>\n",
              "      <td>795.0</td>\n",
              "    </tr>\n",
              "    <tr>\n",
              "      <th>4</th>\n",
              "      <td>1.0</td>\n",
              "      <td>2015-01-27 02:12:36</td>\n",
              "      <td>2015-01-27 02:58:36</td>\n",
              "      <td>38</td>\n",
              "      <td>1.0</td>\n",
              "      <td>2</td>\n",
              "      <td>3620</td>\n",
              "      <td>2</td>\n",
              "      <td>1425</td>\n",
              "      <td>2195</td>\n",
              "      <td>5.0</td>\n",
              "      <td>5.0</td>\n",
              "      <td>7.0</td>\n",
              "      <td>205.0</td>\n",
              "    </tr>\n",
              "  </tbody>\n",
              "</table>\n",
              "</div>\n",
              "      <button class=\"colab-df-convert\" onclick=\"convertToInteractive('df-d089ed48-ddb4-42df-b4a3-76bc886c4b4e')\"\n",
              "              title=\"Convert this dataframe to an interactive table.\"\n",
              "              style=\"display:none;\">\n",
              "        \n",
              "  <svg xmlns=\"http://www.w3.org/2000/svg\" height=\"24px\"viewBox=\"0 0 24 24\"\n",
              "       width=\"24px\">\n",
              "    <path d=\"M0 0h24v24H0V0z\" fill=\"none\"/>\n",
              "    <path d=\"M18.56 5.44l.94 2.06.94-2.06 2.06-.94-2.06-.94-.94-2.06-.94 2.06-2.06.94zm-11 1L8.5 8.5l.94-2.06 2.06-.94-2.06-.94L8.5 2.5l-.94 2.06-2.06.94zm10 10l.94 2.06.94-2.06 2.06-.94-2.06-.94-.94-2.06-.94 2.06-2.06.94z\"/><path d=\"M17.41 7.96l-1.37-1.37c-.4-.4-.92-.59-1.43-.59-.52 0-1.04.2-1.43.59L10.3 9.45l-7.72 7.72c-.78.78-.78 2.05 0 2.83L4 21.41c.39.39.9.59 1.41.59.51 0 1.02-.2 1.41-.59l7.78-7.78 2.81-2.81c.8-.78.8-2.07 0-2.86zM5.41 20L4 18.59l7.72-7.72 1.47 1.35L5.41 20z\"/>\n",
              "  </svg>\n",
              "      </button>\n",
              "      \n",
              "  <style>\n",
              "    .colab-df-container {\n",
              "      display:flex;\n",
              "      flex-wrap:wrap;\n",
              "      gap: 12px;\n",
              "    }\n",
              "\n",
              "    .colab-df-convert {\n",
              "      background-color: #E8F0FE;\n",
              "      border: none;\n",
              "      border-radius: 50%;\n",
              "      cursor: pointer;\n",
              "      display: none;\n",
              "      fill: #1967D2;\n",
              "      height: 32px;\n",
              "      padding: 0 0 0 0;\n",
              "      width: 32px;\n",
              "    }\n",
              "\n",
              "    .colab-df-convert:hover {\n",
              "      background-color: #E2EBFA;\n",
              "      box-shadow: 0px 1px 2px rgba(60, 64, 67, 0.3), 0px 1px 3px 1px rgba(60, 64, 67, 0.15);\n",
              "      fill: #174EA6;\n",
              "    }\n",
              "\n",
              "    [theme=dark] .colab-df-convert {\n",
              "      background-color: #3B4455;\n",
              "      fill: #D2E3FC;\n",
              "    }\n",
              "\n",
              "    [theme=dark] .colab-df-convert:hover {\n",
              "      background-color: #434B5C;\n",
              "      box-shadow: 0px 1px 3px 1px rgba(0, 0, 0, 0.15);\n",
              "      filter: drop-shadow(0px 1px 2px rgba(0, 0, 0, 0.3));\n",
              "      fill: #FFFFFF;\n",
              "    }\n",
              "  </style>\n",
              "\n",
              "      <script>\n",
              "        const buttonEl =\n",
              "          document.querySelector('#df-d089ed48-ddb4-42df-b4a3-76bc886c4b4e button.colab-df-convert');\n",
              "        buttonEl.style.display =\n",
              "          google.colab.kernel.accessAllowed ? 'block' : 'none';\n",
              "\n",
              "        async function convertToInteractive(key) {\n",
              "          const element = document.querySelector('#df-d089ed48-ddb4-42df-b4a3-76bc886c4b4e');\n",
              "          const dataTable =\n",
              "            await google.colab.kernel.invokeFunction('convertToInteractive',\n",
              "                                                     [key], {});\n",
              "          if (!dataTable) return;\n",
              "\n",
              "          const docLinkHtml = 'Like what you see? Visit the ' +\n",
              "            '<a target=\"_blank\" href=https://colab.research.google.com/notebooks/data_table.ipynb>data table notebook</a>'\n",
              "            + ' to learn more about interactive tables.';\n",
              "          element.innerHTML = '';\n",
              "          dataTable['output_type'] = 'display_data';\n",
              "          await google.colab.output.renderOutput(dataTable, element);\n",
              "          const docLink = document.createElement('div');\n",
              "          docLink.innerHTML = docLinkHtml;\n",
              "          element.appendChild(docLink);\n",
              "        }\n",
              "      </script>\n",
              "    </div>\n",
              "  </div>\n",
              "  "
            ],
            "text/plain": [
              "   market_id           created_at actual_delivery_time  \\\n",
              "0        1.0  2015-02-06 22:24:17  2015-02-06 23:11:17   \n",
              "1        2.0  2015-02-10 21:49:25  2015-02-10 22:33:25   \n",
              "2        2.0  2015-02-16 00:11:35  2015-02-16 01:06:35   \n",
              "3        1.0  2015-02-12 03:36:46  2015-02-12 04:35:46   \n",
              "4        1.0  2015-01-27 02:12:36  2015-01-27 02:58:36   \n",
              "\n",
              "   store_primary_category  order_protocol  total_items  subtotal  \\\n",
              "0                       4             1.0            4      3441   \n",
              "1                      46             2.0            1      1900   \n",
              "2                      36             3.0            4      4771   \n",
              "3                      38             1.0            1      1525   \n",
              "4                      38             1.0            2      3620   \n",
              "\n",
              "   num_distinct_items  min_item_price  max_item_price  total_onshift_dashers  \\\n",
              "0                   4             557            1239                   33.0   \n",
              "1                   1            1400            1400                    1.0   \n",
              "2                   3             820            1604                    8.0   \n",
              "3                   1            1525            1525                    5.0   \n",
              "4                   2            1425            2195                    5.0   \n",
              "\n",
              "   total_busy_dashers  total_outstanding_orders  \\\n",
              "0                14.0                      21.0   \n",
              "1                 2.0                       2.0   \n",
              "2                 6.0                      18.0   \n",
              "3                 6.0                       8.0   \n",
              "4                 5.0                       7.0   \n",
              "\n",
              "   estimated_store_to_consumer_driving_duration  \n",
              "0                                         861.0  \n",
              "1                                         690.0  \n",
              "2                                         289.0  \n",
              "3                                         795.0  \n",
              "4                                         205.0  "
            ]
          },
          "execution_count": 14,
          "metadata": {},
          "output_type": "execute_result"
        }
      ],
      "source": [
        "df=pd.read_csv('data_2.csv')\n",
        "df.head()"
      ]
    },
    {
      "cell_type": "markdown",
      "id": "9a22d023",
      "metadata": {
        "id": "9a22d023",
        "papermill": {
          "duration": 0.062131,
          "end_time": "2022-04-26T08:36:02.519962",
          "exception": false,
          "start_time": "2022-04-26T08:36:02.457831",
          "status": "completed"
        },
        "tags": []
      },
      "source": [
        "Printing the information and head of the data to get an understanding of it"
      ]
    },
    {
      "cell_type": "code",
      "execution_count": null,
      "id": "e4c49008",
      "metadata": {
        "colab": {
          "base_uri": "https://localhost:8080/"
        },
        "execution": {
          "iopub.execute_input": "2022-04-26T08:36:02.648537Z",
          "iopub.status.busy": "2022-04-26T08:36:02.647832Z",
          "iopub.status.idle": "2022-04-26T08:36:02.714861Z",
          "shell.execute_reply": "2022-04-26T08:36:02.715390Z",
          "shell.execute_reply.started": "2022-04-22T22:31:08.815208Z"
        },
        "id": "e4c49008",
        "outputId": "dcf1e544-8e90-4da0-eeab-7dacd3153314",
        "papermill": {
          "duration": 0.133104,
          "end_time": "2022-04-26T08:36:02.715565",
          "exception": false,
          "start_time": "2022-04-26T08:36:02.582461",
          "status": "completed"
        },
        "tags": []
      },
      "outputs": [
        {
          "name": "stdout",
          "output_type": "stream",
          "text": [
            "<class 'pandas.core.frame.DataFrame'>\n",
            "RangeIndex: 175777 entries, 0 to 175776\n",
            "Data columns (total 14 columns):\n",
            " #   Column                                        Non-Null Count   Dtype  \n",
            "---  ------                                        --------------   -----  \n",
            " 0   market_id                                     175777 non-null  float64\n",
            " 1   created_at                                    175777 non-null  object \n",
            " 2   actual_delivery_time                          175777 non-null  object \n",
            " 3   store_primary_category                        175777 non-null  int64  \n",
            " 4   order_protocol                                175777 non-null  float64\n",
            " 5   total_items                                   175777 non-null  int64  \n",
            " 6   subtotal                                      175777 non-null  int64  \n",
            " 7   num_distinct_items                            175777 non-null  int64  \n",
            " 8   min_item_price                                175777 non-null  int64  \n",
            " 9   max_item_price                                175777 non-null  int64  \n",
            " 10  total_onshift_dashers                         175777 non-null  float64\n",
            " 11  total_busy_dashers                            175777 non-null  float64\n",
            " 12  total_outstanding_orders                      175777 non-null  float64\n",
            " 13  estimated_store_to_consumer_driving_duration  175777 non-null  float64\n",
            "dtypes: float64(6), int64(6), object(2)\n",
            "memory usage: 18.8+ MB\n"
          ]
        }
      ],
      "source": [
        "df.info()"
      ]
    },
    {
      "cell_type": "markdown",
      "id": "ea3b28ae",
      "metadata": {
        "id": "ea3b28ae",
        "papermill": {
          "duration": 0.06314,
          "end_time": "2022-04-26T08:36:02.844006",
          "exception": false,
          "start_time": "2022-04-26T08:36:02.780866",
          "status": "completed"
        },
        "tags": []
      },
      "source": [
        "# Data preprocessing"
      ]
    },
    {
      "cell_type": "markdown",
      "id": "e4ec83b2",
      "metadata": {
        "id": "e4ec83b2",
        "papermill": {
          "duration": 0.067109,
          "end_time": "2022-04-26T08:36:02.977879",
          "exception": false,
          "start_time": "2022-04-26T08:36:02.910770",
          "status": "completed"
        },
        "tags": []
      },
      "source": [
        "## Feature engineering\n",
        "we have the time at which the order was placed and time at which it was delivired, so we will create a new column for time taken in delivery and that will be our target column\n",
        "\n",
        "calculating time taken in delivery by subtracting the order timestamp from delivery timestamp\n"
      ]
    },
    {
      "cell_type": "markdown",
      "id": "690593c6",
      "metadata": {
        "id": "690593c6",
        "papermill": {
          "duration": 0.075766,
          "end_time": "2022-04-26T08:36:03.122598",
          "exception": false,
          "start_time": "2022-04-26T08:36:03.046832",
          "status": "completed"
        },
        "tags": []
      },
      "source": [
        "the time stamos that we have now are in object format and need to be convertd to datetime format for easily working with them as intended.\n",
        "the pandas datetime function checks if the data is in correct format for it and also understands the order of the data and converts accordingly"
      ]
    },
    {
      "cell_type": "code",
      "execution_count": null,
      "id": "3606fcbc",
      "metadata": {
        "colab": {
          "base_uri": "https://localhost:8080/"
        },
        "execution": {
          "iopub.execute_input": "2022-04-26T08:36:03.262389Z",
          "iopub.status.busy": "2022-04-26T08:36:03.261352Z",
          "iopub.status.idle": "2022-04-26T08:36:03.411038Z",
          "shell.execute_reply": "2022-04-26T08:36:03.410257Z",
          "shell.execute_reply.started": "2022-04-22T22:31:08.890905Z"
        },
        "id": "3606fcbc",
        "outputId": "23bd118a-c619-4b4f-8f21-e6337cf0bb2b",
        "papermill": {
          "duration": 0.218779,
          "end_time": "2022-04-26T08:36:03.411191",
          "exception": false,
          "start_time": "2022-04-26T08:36:03.192412",
          "status": "completed"
        },
        "tags": []
      },
      "outputs": [
        {
          "name": "stdout",
          "output_type": "stream",
          "text": [
            "<class 'pandas.core.frame.DataFrame'>\n",
            "RangeIndex: 175777 entries, 0 to 175776\n",
            "Data columns (total 14 columns):\n",
            " #   Column                                        Non-Null Count   Dtype         \n",
            "---  ------                                        --------------   -----         \n",
            " 0   market_id                                     175777 non-null  float64       \n",
            " 1   created_at                                    175777 non-null  datetime64[ns]\n",
            " 2   actual_delivery_time                          175777 non-null  datetime64[ns]\n",
            " 3   store_primary_category                        175777 non-null  int64         \n",
            " 4   order_protocol                                175777 non-null  float64       \n",
            " 5   total_items                                   175777 non-null  int64         \n",
            " 6   subtotal                                      175777 non-null  int64         \n",
            " 7   num_distinct_items                            175777 non-null  int64         \n",
            " 8   min_item_price                                175777 non-null  int64         \n",
            " 9   max_item_price                                175777 non-null  int64         \n",
            " 10  total_onshift_dashers                         175777 non-null  float64       \n",
            " 11  total_busy_dashers                            175777 non-null  float64       \n",
            " 12  total_outstanding_orders                      175777 non-null  float64       \n",
            " 13  estimated_store_to_consumer_driving_duration  175777 non-null  float64       \n",
            "dtypes: datetime64[ns](2), float64(6), int64(6)\n",
            "memory usage: 18.8 MB\n"
          ]
        }
      ],
      "source": [
        "df['created_at']= pd.to_datetime(df['created_at'])\n",
        "df['actual_delivery_time']= pd.to_datetime(df['actual_delivery_time'])\n",
        "\n",
        "df.info()"
      ]
    },
    {
      "cell_type": "code",
      "execution_count": null,
      "id": "95c6da83",
      "metadata": {
        "colab": {
          "base_uri": "https://localhost:8080/",
          "height": 357
        },
        "execution": {
          "iopub.execute_input": "2022-04-26T08:36:03.544897Z",
          "iopub.status.busy": "2022-04-26T08:36:03.544158Z",
          "iopub.status.idle": "2022-04-26T08:36:03.567304Z",
          "shell.execute_reply": "2022-04-26T08:36:03.566586Z",
          "shell.execute_reply.started": "2022-04-22T22:31:09.042678Z"
        },
        "id": "95c6da83",
        "outputId": "9c8276bd-1ddb-469c-9f8e-6a708e307cdf",
        "papermill": {
          "duration": 0.091621,
          "end_time": "2022-04-26T08:36:03.567453",
          "exception": false,
          "start_time": "2022-04-26T08:36:03.475832",
          "status": "completed"
        },
        "tags": []
      },
      "outputs": [
        {
          "data": {
            "text/html": [
              "\n",
              "  <div id=\"df-ef79e1b1-9564-4e08-931d-ab133d93d651\">\n",
              "    <div class=\"colab-df-container\">\n",
              "      <div>\n",
              "<style scoped>\n",
              "    .dataframe tbody tr th:only-of-type {\n",
              "        vertical-align: middle;\n",
              "    }\n",
              "\n",
              "    .dataframe tbody tr th {\n",
              "        vertical-align: top;\n",
              "    }\n",
              "\n",
              "    .dataframe thead th {\n",
              "        text-align: right;\n",
              "    }\n",
              "</style>\n",
              "<table border=\"1\" class=\"dataframe\">\n",
              "  <thead>\n",
              "    <tr style=\"text-align: right;\">\n",
              "      <th></th>\n",
              "      <th>market_id</th>\n",
              "      <th>created_at</th>\n",
              "      <th>actual_delivery_time</th>\n",
              "      <th>store_primary_category</th>\n",
              "      <th>order_protocol</th>\n",
              "      <th>total_items</th>\n",
              "      <th>subtotal</th>\n",
              "      <th>num_distinct_items</th>\n",
              "      <th>min_item_price</th>\n",
              "      <th>max_item_price</th>\n",
              "      <th>total_onshift_dashers</th>\n",
              "      <th>total_busy_dashers</th>\n",
              "      <th>total_outstanding_orders</th>\n",
              "      <th>estimated_store_to_consumer_driving_duration</th>\n",
              "      <th>time_taken</th>\n",
              "    </tr>\n",
              "  </thead>\n",
              "  <tbody>\n",
              "    <tr>\n",
              "      <th>0</th>\n",
              "      <td>1.0</td>\n",
              "      <td>2015-02-06 22:24:17</td>\n",
              "      <td>2015-02-06 23:11:17</td>\n",
              "      <td>4</td>\n",
              "      <td>1.0</td>\n",
              "      <td>4</td>\n",
              "      <td>3441</td>\n",
              "      <td>4</td>\n",
              "      <td>557</td>\n",
              "      <td>1239</td>\n",
              "      <td>33.0</td>\n",
              "      <td>14.0</td>\n",
              "      <td>21.0</td>\n",
              "      <td>861.0</td>\n",
              "      <td>0 days 00:47:00</td>\n",
              "    </tr>\n",
              "    <tr>\n",
              "      <th>1</th>\n",
              "      <td>2.0</td>\n",
              "      <td>2015-02-10 21:49:25</td>\n",
              "      <td>2015-02-10 22:33:25</td>\n",
              "      <td>46</td>\n",
              "      <td>2.0</td>\n",
              "      <td>1</td>\n",
              "      <td>1900</td>\n",
              "      <td>1</td>\n",
              "      <td>1400</td>\n",
              "      <td>1400</td>\n",
              "      <td>1.0</td>\n",
              "      <td>2.0</td>\n",
              "      <td>2.0</td>\n",
              "      <td>690.0</td>\n",
              "      <td>0 days 00:44:00</td>\n",
              "    </tr>\n",
              "    <tr>\n",
              "      <th>2</th>\n",
              "      <td>2.0</td>\n",
              "      <td>2015-02-16 00:11:35</td>\n",
              "      <td>2015-02-16 01:06:35</td>\n",
              "      <td>36</td>\n",
              "      <td>3.0</td>\n",
              "      <td>4</td>\n",
              "      <td>4771</td>\n",
              "      <td>3</td>\n",
              "      <td>820</td>\n",
              "      <td>1604</td>\n",
              "      <td>8.0</td>\n",
              "      <td>6.0</td>\n",
              "      <td>18.0</td>\n",
              "      <td>289.0</td>\n",
              "      <td>0 days 00:55:00</td>\n",
              "    </tr>\n",
              "    <tr>\n",
              "      <th>3</th>\n",
              "      <td>1.0</td>\n",
              "      <td>2015-02-12 03:36:46</td>\n",
              "      <td>2015-02-12 04:35:46</td>\n",
              "      <td>38</td>\n",
              "      <td>1.0</td>\n",
              "      <td>1</td>\n",
              "      <td>1525</td>\n",
              "      <td>1</td>\n",
              "      <td>1525</td>\n",
              "      <td>1525</td>\n",
              "      <td>5.0</td>\n",
              "      <td>6.0</td>\n",
              "      <td>8.0</td>\n",
              "      <td>795.0</td>\n",
              "      <td>0 days 00:59:00</td>\n",
              "    </tr>\n",
              "    <tr>\n",
              "      <th>4</th>\n",
              "      <td>1.0</td>\n",
              "      <td>2015-01-27 02:12:36</td>\n",
              "      <td>2015-01-27 02:58:36</td>\n",
              "      <td>38</td>\n",
              "      <td>1.0</td>\n",
              "      <td>2</td>\n",
              "      <td>3620</td>\n",
              "      <td>2</td>\n",
              "      <td>1425</td>\n",
              "      <td>2195</td>\n",
              "      <td>5.0</td>\n",
              "      <td>5.0</td>\n",
              "      <td>7.0</td>\n",
              "      <td>205.0</td>\n",
              "      <td>0 days 00:46:00</td>\n",
              "    </tr>\n",
              "  </tbody>\n",
              "</table>\n",
              "</div>\n",
              "      <button class=\"colab-df-convert\" onclick=\"convertToInteractive('df-ef79e1b1-9564-4e08-931d-ab133d93d651')\"\n",
              "              title=\"Convert this dataframe to an interactive table.\"\n",
              "              style=\"display:none;\">\n",
              "        \n",
              "  <svg xmlns=\"http://www.w3.org/2000/svg\" height=\"24px\"viewBox=\"0 0 24 24\"\n",
              "       width=\"24px\">\n",
              "    <path d=\"M0 0h24v24H0V0z\" fill=\"none\"/>\n",
              "    <path d=\"M18.56 5.44l.94 2.06.94-2.06 2.06-.94-2.06-.94-.94-2.06-.94 2.06-2.06.94zm-11 1L8.5 8.5l.94-2.06 2.06-.94-2.06-.94L8.5 2.5l-.94 2.06-2.06.94zm10 10l.94 2.06.94-2.06 2.06-.94-2.06-.94-.94-2.06-.94 2.06-2.06.94z\"/><path d=\"M17.41 7.96l-1.37-1.37c-.4-.4-.92-.59-1.43-.59-.52 0-1.04.2-1.43.59L10.3 9.45l-7.72 7.72c-.78.78-.78 2.05 0 2.83L4 21.41c.39.39.9.59 1.41.59.51 0 1.02-.2 1.41-.59l7.78-7.78 2.81-2.81c.8-.78.8-2.07 0-2.86zM5.41 20L4 18.59l7.72-7.72 1.47 1.35L5.41 20z\"/>\n",
              "  </svg>\n",
              "      </button>\n",
              "      \n",
              "  <style>\n",
              "    .colab-df-container {\n",
              "      display:flex;\n",
              "      flex-wrap:wrap;\n",
              "      gap: 12px;\n",
              "    }\n",
              "\n",
              "    .colab-df-convert {\n",
              "      background-color: #E8F0FE;\n",
              "      border: none;\n",
              "      border-radius: 50%;\n",
              "      cursor: pointer;\n",
              "      display: none;\n",
              "      fill: #1967D2;\n",
              "      height: 32px;\n",
              "      padding: 0 0 0 0;\n",
              "      width: 32px;\n",
              "    }\n",
              "\n",
              "    .colab-df-convert:hover {\n",
              "      background-color: #E2EBFA;\n",
              "      box-shadow: 0px 1px 2px rgba(60, 64, 67, 0.3), 0px 1px 3px 1px rgba(60, 64, 67, 0.15);\n",
              "      fill: #174EA6;\n",
              "    }\n",
              "\n",
              "    [theme=dark] .colab-df-convert {\n",
              "      background-color: #3B4455;\n",
              "      fill: #D2E3FC;\n",
              "    }\n",
              "\n",
              "    [theme=dark] .colab-df-convert:hover {\n",
              "      background-color: #434B5C;\n",
              "      box-shadow: 0px 1px 3px 1px rgba(0, 0, 0, 0.15);\n",
              "      filter: drop-shadow(0px 1px 2px rgba(0, 0, 0, 0.3));\n",
              "      fill: #FFFFFF;\n",
              "    }\n",
              "  </style>\n",
              "\n",
              "      <script>\n",
              "        const buttonEl =\n",
              "          document.querySelector('#df-ef79e1b1-9564-4e08-931d-ab133d93d651 button.colab-df-convert');\n",
              "        buttonEl.style.display =\n",
              "          google.colab.kernel.accessAllowed ? 'block' : 'none';\n",
              "\n",
              "        async function convertToInteractive(key) {\n",
              "          const element = document.querySelector('#df-ef79e1b1-9564-4e08-931d-ab133d93d651');\n",
              "          const dataTable =\n",
              "            await google.colab.kernel.invokeFunction('convertToInteractive',\n",
              "                                                     [key], {});\n",
              "          if (!dataTable) return;\n",
              "\n",
              "          const docLinkHtml = 'Like what you see? Visit the ' +\n",
              "            '<a target=\"_blank\" href=https://colab.research.google.com/notebooks/data_table.ipynb>data table notebook</a>'\n",
              "            + ' to learn more about interactive tables.';\n",
              "          element.innerHTML = '';\n",
              "          dataTable['output_type'] = 'display_data';\n",
              "          await google.colab.output.renderOutput(dataTable, element);\n",
              "          const docLink = document.createElement('div');\n",
              "          docLink.innerHTML = docLinkHtml;\n",
              "          element.appendChild(docLink);\n",
              "        }\n",
              "      </script>\n",
              "    </div>\n",
              "  </div>\n",
              "  "
            ],
            "text/plain": [
              "   market_id          created_at actual_delivery_time  store_primary_category  \\\n",
              "0        1.0 2015-02-06 22:24:17  2015-02-06 23:11:17                       4   \n",
              "1        2.0 2015-02-10 21:49:25  2015-02-10 22:33:25                      46   \n",
              "2        2.0 2015-02-16 00:11:35  2015-02-16 01:06:35                      36   \n",
              "3        1.0 2015-02-12 03:36:46  2015-02-12 04:35:46                      38   \n",
              "4        1.0 2015-01-27 02:12:36  2015-01-27 02:58:36                      38   \n",
              "\n",
              "   order_protocol  total_items  subtotal  num_distinct_items  min_item_price  \\\n",
              "0             1.0            4      3441                   4             557   \n",
              "1             2.0            1      1900                   1            1400   \n",
              "2             3.0            4      4771                   3             820   \n",
              "3             1.0            1      1525                   1            1525   \n",
              "4             1.0            2      3620                   2            1425   \n",
              "\n",
              "   max_item_price  total_onshift_dashers  total_busy_dashers  \\\n",
              "0            1239                   33.0                14.0   \n",
              "1            1400                    1.0                 2.0   \n",
              "2            1604                    8.0                 6.0   \n",
              "3            1525                    5.0                 6.0   \n",
              "4            2195                    5.0                 5.0   \n",
              "\n",
              "   total_outstanding_orders  estimated_store_to_consumer_driving_duration  \\\n",
              "0                      21.0                                         861.0   \n",
              "1                       2.0                                         690.0   \n",
              "2                      18.0                                         289.0   \n",
              "3                       8.0                                         795.0   \n",
              "4                       7.0                                         205.0   \n",
              "\n",
              "       time_taken  \n",
              "0 0 days 00:47:00  \n",
              "1 0 days 00:44:00  \n",
              "2 0 days 00:55:00  \n",
              "3 0 days 00:59:00  \n",
              "4 0 days 00:46:00  "
            ]
          },
          "execution_count": 17,
          "metadata": {},
          "output_type": "execute_result"
        }
      ],
      "source": [
        "df['time_taken']=df['actual_delivery_time']-df['created_at']\n",
        "df.head()"
      ]
    },
    {
      "cell_type": "code",
      "execution_count": null,
      "id": "31e900c6",
      "metadata": {
        "colab": {
          "base_uri": "https://localhost:8080/"
        },
        "execution": {
          "iopub.execute_input": "2022-04-26T08:36:03.703200Z",
          "iopub.status.busy": "2022-04-26T08:36:03.702500Z",
          "iopub.status.idle": "2022-04-26T08:36:03.718146Z",
          "shell.execute_reply": "2022-04-26T08:36:03.717211Z",
          "shell.execute_reply.started": "2022-04-22T22:31:09.071994Z"
        },
        "id": "31e900c6",
        "outputId": "38210cff-d29f-48af-a4d1-12f62189853d",
        "papermill": {
          "duration": 0.085218,
          "end_time": "2022-04-26T08:36:03.718371",
          "exception": false,
          "start_time": "2022-04-26T08:36:03.633153",
          "status": "completed"
        },
        "tags": []
      },
      "outputs": [
        {
          "name": "stdout",
          "output_type": "stream",
          "text": [
            "<class 'pandas.core.frame.DataFrame'>\n",
            "RangeIndex: 175777 entries, 0 to 175776\n",
            "Data columns (total 15 columns):\n",
            " #   Column                                        Non-Null Count   Dtype          \n",
            "---  ------                                        --------------   -----          \n",
            " 0   market_id                                     175777 non-null  float64        \n",
            " 1   created_at                                    175777 non-null  datetime64[ns] \n",
            " 2   actual_delivery_time                          175777 non-null  datetime64[ns] \n",
            " 3   store_primary_category                        175777 non-null  int64          \n",
            " 4   order_protocol                                175777 non-null  float64        \n",
            " 5   total_items                                   175777 non-null  int64          \n",
            " 6   subtotal                                      175777 non-null  int64          \n",
            " 7   num_distinct_items                            175777 non-null  int64          \n",
            " 8   min_item_price                                175777 non-null  int64          \n",
            " 9   max_item_price                                175777 non-null  int64          \n",
            " 10  total_onshift_dashers                         175777 non-null  float64        \n",
            " 11  total_busy_dashers                            175777 non-null  float64        \n",
            " 12  total_outstanding_orders                      175777 non-null  float64        \n",
            " 13  estimated_store_to_consumer_driving_duration  175777 non-null  float64        \n",
            " 14  time_taken                                    175777 non-null  timedelta64[ns]\n",
            "dtypes: datetime64[ns](2), float64(6), int64(6), timedelta64[ns](1)\n",
            "memory usage: 20.1 MB\n"
          ]
        }
      ],
      "source": [
        "df.info()"
      ]
    },
    {
      "cell_type": "markdown",
      "id": "a9cc0d42",
      "metadata": {
        "id": "a9cc0d42",
        "papermill": {
          "duration": 0.064109,
          "end_time": "2022-04-26T08:36:03.848173",
          "exception": false,
          "start_time": "2022-04-26T08:36:03.784064",
          "status": "completed"
        },
        "tags": []
      },
      "source": [
        "now that we have our time taken for the delivery we can convert it to minutes and that will be our target variable to train the models"
      ]
    },
    {
      "cell_type": "markdown",
      "id": "a084cf60",
      "metadata": {
        "id": "a084cf60",
        "papermill": {
          "duration": 0.065487,
          "end_time": "2022-04-26T08:36:03.978143",
          "exception": false,
          "start_time": "2022-04-26T08:36:03.912656",
          "status": "completed"
        },
        "tags": []
      },
      "source": [
        "the timedelta is a datatype that stores the time difference and it is better we convert it to float and converting to minute does that as well"
      ]
    },
    {
      "cell_type": "code",
      "execution_count": null,
      "id": "c31e1bbd",
      "metadata": {
        "colab": {
          "base_uri": "https://localhost:8080/",
          "height": 357
        },
        "execution": {
          "iopub.execute_input": "2022-04-26T08:36:04.113458Z",
          "iopub.status.busy": "2022-04-26T08:36:04.112804Z",
          "iopub.status.idle": "2022-04-26T08:36:04.137749Z",
          "shell.execute_reply": "2022-04-26T08:36:04.137171Z",
          "shell.execute_reply.started": "2022-04-22T22:31:09.091183Z"
        },
        "id": "c31e1bbd",
        "outputId": "a7cbb5f0-75d3-4c86-e172-d99a9699db4f",
        "papermill": {
          "duration": 0.092458,
          "end_time": "2022-04-26T08:36:04.137908",
          "exception": false,
          "start_time": "2022-04-26T08:36:04.045450",
          "status": "completed"
        },
        "tags": []
      },
      "outputs": [
        {
          "data": {
            "text/html": [
              "\n",
              "  <div id=\"df-cd5d0614-bba5-4a08-8bd4-68fc0a89690e\">\n",
              "    <div class=\"colab-df-container\">\n",
              "      <div>\n",
              "<style scoped>\n",
              "    .dataframe tbody tr th:only-of-type {\n",
              "        vertical-align: middle;\n",
              "    }\n",
              "\n",
              "    .dataframe tbody tr th {\n",
              "        vertical-align: top;\n",
              "    }\n",
              "\n",
              "    .dataframe thead th {\n",
              "        text-align: right;\n",
              "    }\n",
              "</style>\n",
              "<table border=\"1\" class=\"dataframe\">\n",
              "  <thead>\n",
              "    <tr style=\"text-align: right;\">\n",
              "      <th></th>\n",
              "      <th>market_id</th>\n",
              "      <th>created_at</th>\n",
              "      <th>actual_delivery_time</th>\n",
              "      <th>store_primary_category</th>\n",
              "      <th>order_protocol</th>\n",
              "      <th>total_items</th>\n",
              "      <th>subtotal</th>\n",
              "      <th>num_distinct_items</th>\n",
              "      <th>min_item_price</th>\n",
              "      <th>max_item_price</th>\n",
              "      <th>total_onshift_dashers</th>\n",
              "      <th>total_busy_dashers</th>\n",
              "      <th>total_outstanding_orders</th>\n",
              "      <th>estimated_store_to_consumer_driving_duration</th>\n",
              "      <th>time_taken</th>\n",
              "      <th>time_taken_mins</th>\n",
              "    </tr>\n",
              "  </thead>\n",
              "  <tbody>\n",
              "    <tr>\n",
              "      <th>0</th>\n",
              "      <td>1.0</td>\n",
              "      <td>2015-02-06 22:24:17</td>\n",
              "      <td>2015-02-06 23:11:17</td>\n",
              "      <td>4</td>\n",
              "      <td>1.0</td>\n",
              "      <td>4</td>\n",
              "      <td>3441</td>\n",
              "      <td>4</td>\n",
              "      <td>557</td>\n",
              "      <td>1239</td>\n",
              "      <td>33.0</td>\n",
              "      <td>14.0</td>\n",
              "      <td>21.0</td>\n",
              "      <td>861.0</td>\n",
              "      <td>0 days 00:47:00</td>\n",
              "      <td>47.0</td>\n",
              "    </tr>\n",
              "    <tr>\n",
              "      <th>1</th>\n",
              "      <td>2.0</td>\n",
              "      <td>2015-02-10 21:49:25</td>\n",
              "      <td>2015-02-10 22:33:25</td>\n",
              "      <td>46</td>\n",
              "      <td>2.0</td>\n",
              "      <td>1</td>\n",
              "      <td>1900</td>\n",
              "      <td>1</td>\n",
              "      <td>1400</td>\n",
              "      <td>1400</td>\n",
              "      <td>1.0</td>\n",
              "      <td>2.0</td>\n",
              "      <td>2.0</td>\n",
              "      <td>690.0</td>\n",
              "      <td>0 days 00:44:00</td>\n",
              "      <td>44.0</td>\n",
              "    </tr>\n",
              "    <tr>\n",
              "      <th>2</th>\n",
              "      <td>2.0</td>\n",
              "      <td>2015-02-16 00:11:35</td>\n",
              "      <td>2015-02-16 01:06:35</td>\n",
              "      <td>36</td>\n",
              "      <td>3.0</td>\n",
              "      <td>4</td>\n",
              "      <td>4771</td>\n",
              "      <td>3</td>\n",
              "      <td>820</td>\n",
              "      <td>1604</td>\n",
              "      <td>8.0</td>\n",
              "      <td>6.0</td>\n",
              "      <td>18.0</td>\n",
              "      <td>289.0</td>\n",
              "      <td>0 days 00:55:00</td>\n",
              "      <td>55.0</td>\n",
              "    </tr>\n",
              "    <tr>\n",
              "      <th>3</th>\n",
              "      <td>1.0</td>\n",
              "      <td>2015-02-12 03:36:46</td>\n",
              "      <td>2015-02-12 04:35:46</td>\n",
              "      <td>38</td>\n",
              "      <td>1.0</td>\n",
              "      <td>1</td>\n",
              "      <td>1525</td>\n",
              "      <td>1</td>\n",
              "      <td>1525</td>\n",
              "      <td>1525</td>\n",
              "      <td>5.0</td>\n",
              "      <td>6.0</td>\n",
              "      <td>8.0</td>\n",
              "      <td>795.0</td>\n",
              "      <td>0 days 00:59:00</td>\n",
              "      <td>59.0</td>\n",
              "    </tr>\n",
              "    <tr>\n",
              "      <th>4</th>\n",
              "      <td>1.0</td>\n",
              "      <td>2015-01-27 02:12:36</td>\n",
              "      <td>2015-01-27 02:58:36</td>\n",
              "      <td>38</td>\n",
              "      <td>1.0</td>\n",
              "      <td>2</td>\n",
              "      <td>3620</td>\n",
              "      <td>2</td>\n",
              "      <td>1425</td>\n",
              "      <td>2195</td>\n",
              "      <td>5.0</td>\n",
              "      <td>5.0</td>\n",
              "      <td>7.0</td>\n",
              "      <td>205.0</td>\n",
              "      <td>0 days 00:46:00</td>\n",
              "      <td>46.0</td>\n",
              "    </tr>\n",
              "  </tbody>\n",
              "</table>\n",
              "</div>\n",
              "      <button class=\"colab-df-convert\" onclick=\"convertToInteractive('df-cd5d0614-bba5-4a08-8bd4-68fc0a89690e')\"\n",
              "              title=\"Convert this dataframe to an interactive table.\"\n",
              "              style=\"display:none;\">\n",
              "        \n",
              "  <svg xmlns=\"http://www.w3.org/2000/svg\" height=\"24px\"viewBox=\"0 0 24 24\"\n",
              "       width=\"24px\">\n",
              "    <path d=\"M0 0h24v24H0V0z\" fill=\"none\"/>\n",
              "    <path d=\"M18.56 5.44l.94 2.06.94-2.06 2.06-.94-2.06-.94-.94-2.06-.94 2.06-2.06.94zm-11 1L8.5 8.5l.94-2.06 2.06-.94-2.06-.94L8.5 2.5l-.94 2.06-2.06.94zm10 10l.94 2.06.94-2.06 2.06-.94-2.06-.94-.94-2.06-.94 2.06-2.06.94z\"/><path d=\"M17.41 7.96l-1.37-1.37c-.4-.4-.92-.59-1.43-.59-.52 0-1.04.2-1.43.59L10.3 9.45l-7.72 7.72c-.78.78-.78 2.05 0 2.83L4 21.41c.39.39.9.59 1.41.59.51 0 1.02-.2 1.41-.59l7.78-7.78 2.81-2.81c.8-.78.8-2.07 0-2.86zM5.41 20L4 18.59l7.72-7.72 1.47 1.35L5.41 20z\"/>\n",
              "  </svg>\n",
              "      </button>\n",
              "      \n",
              "  <style>\n",
              "    .colab-df-container {\n",
              "      display:flex;\n",
              "      flex-wrap:wrap;\n",
              "      gap: 12px;\n",
              "    }\n",
              "\n",
              "    .colab-df-convert {\n",
              "      background-color: #E8F0FE;\n",
              "      border: none;\n",
              "      border-radius: 50%;\n",
              "      cursor: pointer;\n",
              "      display: none;\n",
              "      fill: #1967D2;\n",
              "      height: 32px;\n",
              "      padding: 0 0 0 0;\n",
              "      width: 32px;\n",
              "    }\n",
              "\n",
              "    .colab-df-convert:hover {\n",
              "      background-color: #E2EBFA;\n",
              "      box-shadow: 0px 1px 2px rgba(60, 64, 67, 0.3), 0px 1px 3px 1px rgba(60, 64, 67, 0.15);\n",
              "      fill: #174EA6;\n",
              "    }\n",
              "\n",
              "    [theme=dark] .colab-df-convert {\n",
              "      background-color: #3B4455;\n",
              "      fill: #D2E3FC;\n",
              "    }\n",
              "\n",
              "    [theme=dark] .colab-df-convert:hover {\n",
              "      background-color: #434B5C;\n",
              "      box-shadow: 0px 1px 3px 1px rgba(0, 0, 0, 0.15);\n",
              "      filter: drop-shadow(0px 1px 2px rgba(0, 0, 0, 0.3));\n",
              "      fill: #FFFFFF;\n",
              "    }\n",
              "  </style>\n",
              "\n",
              "      <script>\n",
              "        const buttonEl =\n",
              "          document.querySelector('#df-cd5d0614-bba5-4a08-8bd4-68fc0a89690e button.colab-df-convert');\n",
              "        buttonEl.style.display =\n",
              "          google.colab.kernel.accessAllowed ? 'block' : 'none';\n",
              "\n",
              "        async function convertToInteractive(key) {\n",
              "          const element = document.querySelector('#df-cd5d0614-bba5-4a08-8bd4-68fc0a89690e');\n",
              "          const dataTable =\n",
              "            await google.colab.kernel.invokeFunction('convertToInteractive',\n",
              "                                                     [key], {});\n",
              "          if (!dataTable) return;\n",
              "\n",
              "          const docLinkHtml = 'Like what you see? Visit the ' +\n",
              "            '<a target=\"_blank\" href=https://colab.research.google.com/notebooks/data_table.ipynb>data table notebook</a>'\n",
              "            + ' to learn more about interactive tables.';\n",
              "          element.innerHTML = '';\n",
              "          dataTable['output_type'] = 'display_data';\n",
              "          await google.colab.output.renderOutput(dataTable, element);\n",
              "          const docLink = document.createElement('div');\n",
              "          docLink.innerHTML = docLinkHtml;\n",
              "          element.appendChild(docLink);\n",
              "        }\n",
              "      </script>\n",
              "    </div>\n",
              "  </div>\n",
              "  "
            ],
            "text/plain": [
              "   market_id          created_at actual_delivery_time  store_primary_category  \\\n",
              "0        1.0 2015-02-06 22:24:17  2015-02-06 23:11:17                       4   \n",
              "1        2.0 2015-02-10 21:49:25  2015-02-10 22:33:25                      46   \n",
              "2        2.0 2015-02-16 00:11:35  2015-02-16 01:06:35                      36   \n",
              "3        1.0 2015-02-12 03:36:46  2015-02-12 04:35:46                      38   \n",
              "4        1.0 2015-01-27 02:12:36  2015-01-27 02:58:36                      38   \n",
              "\n",
              "   order_protocol  total_items  subtotal  num_distinct_items  min_item_price  \\\n",
              "0             1.0            4      3441                   4             557   \n",
              "1             2.0            1      1900                   1            1400   \n",
              "2             3.0            4      4771                   3             820   \n",
              "3             1.0            1      1525                   1            1525   \n",
              "4             1.0            2      3620                   2            1425   \n",
              "\n",
              "   max_item_price  total_onshift_dashers  total_busy_dashers  \\\n",
              "0            1239                   33.0                14.0   \n",
              "1            1400                    1.0                 2.0   \n",
              "2            1604                    8.0                 6.0   \n",
              "3            1525                    5.0                 6.0   \n",
              "4            2195                    5.0                 5.0   \n",
              "\n",
              "   total_outstanding_orders  estimated_store_to_consumer_driving_duration  \\\n",
              "0                      21.0                                         861.0   \n",
              "1                       2.0                                         690.0   \n",
              "2                      18.0                                         289.0   \n",
              "3                       8.0                                         795.0   \n",
              "4                       7.0                                         205.0   \n",
              "\n",
              "       time_taken  time_taken_mins  \n",
              "0 0 days 00:47:00             47.0  \n",
              "1 0 days 00:44:00             44.0  \n",
              "2 0 days 00:55:00             55.0  \n",
              "3 0 days 00:59:00             59.0  \n",
              "4 0 days 00:46:00             46.0  "
            ]
          },
          "execution_count": 19,
          "metadata": {},
          "output_type": "execute_result"
        }
      ],
      "source": [
        "df['time_taken_mins']=pd.to_timedelta(df['time_taken'])/pd.Timedelta('60s')\n",
        "df.head()"
      ]
    },
    {
      "cell_type": "markdown",
      "id": "940790e7",
      "metadata": {
        "id": "940790e7",
        "papermill": {
          "duration": 0.065712,
          "end_time": "2022-04-26T08:36:04.270645",
          "exception": false,
          "start_time": "2022-04-26T08:36:04.204933",
          "status": "completed"
        },
        "tags": []
      },
      "source": [
        "we can also extract the hour at which the order was places and which day of week it was"
      ]
    },
    {
      "cell_type": "code",
      "execution_count": null,
      "id": "e8f15eb0",
      "metadata": {
        "colab": {
          "base_uri": "https://localhost:8080/",
          "height": 357
        },
        "execution": {
          "iopub.execute_input": "2022-04-26T08:36:04.407794Z",
          "iopub.status.busy": "2022-04-26T08:36:04.407130Z",
          "iopub.status.idle": "2022-04-26T08:36:04.467439Z",
          "shell.execute_reply": "2022-04-26T08:36:04.466778Z",
          "shell.execute_reply.started": "2022-04-22T22:31:09.115632Z"
        },
        "id": "e8f15eb0",
        "outputId": "1ea441d5-ea87-4782-94d3-02819508dd61",
        "papermill": {
          "duration": 0.130798,
          "end_time": "2022-04-26T08:36:04.467581",
          "exception": false,
          "start_time": "2022-04-26T08:36:04.336783",
          "status": "completed"
        },
        "tags": []
      },
      "outputs": [
        {
          "data": {
            "text/html": [
              "\n",
              "  <div id=\"df-83ad21a8-072a-456c-9606-fc1b837caf88\">\n",
              "    <div class=\"colab-df-container\">\n",
              "      <div>\n",
              "<style scoped>\n",
              "    .dataframe tbody tr th:only-of-type {\n",
              "        vertical-align: middle;\n",
              "    }\n",
              "\n",
              "    .dataframe tbody tr th {\n",
              "        vertical-align: top;\n",
              "    }\n",
              "\n",
              "    .dataframe thead th {\n",
              "        text-align: right;\n",
              "    }\n",
              "</style>\n",
              "<table border=\"1\" class=\"dataframe\">\n",
              "  <thead>\n",
              "    <tr style=\"text-align: right;\">\n",
              "      <th></th>\n",
              "      <th>market_id</th>\n",
              "      <th>created_at</th>\n",
              "      <th>actual_delivery_time</th>\n",
              "      <th>store_primary_category</th>\n",
              "      <th>order_protocol</th>\n",
              "      <th>total_items</th>\n",
              "      <th>subtotal</th>\n",
              "      <th>num_distinct_items</th>\n",
              "      <th>min_item_price</th>\n",
              "      <th>max_item_price</th>\n",
              "      <th>total_onshift_dashers</th>\n",
              "      <th>total_busy_dashers</th>\n",
              "      <th>total_outstanding_orders</th>\n",
              "      <th>estimated_store_to_consumer_driving_duration</th>\n",
              "      <th>time_taken</th>\n",
              "      <th>time_taken_mins</th>\n",
              "      <th>hour</th>\n",
              "      <th>day</th>\n",
              "    </tr>\n",
              "  </thead>\n",
              "  <tbody>\n",
              "    <tr>\n",
              "      <th>0</th>\n",
              "      <td>1.0</td>\n",
              "      <td>2015-02-06 22:24:17</td>\n",
              "      <td>2015-02-06 23:11:17</td>\n",
              "      <td>4</td>\n",
              "      <td>1.0</td>\n",
              "      <td>4</td>\n",
              "      <td>3441</td>\n",
              "      <td>4</td>\n",
              "      <td>557</td>\n",
              "      <td>1239</td>\n",
              "      <td>33.0</td>\n",
              "      <td>14.0</td>\n",
              "      <td>21.0</td>\n",
              "      <td>861.0</td>\n",
              "      <td>0 days 00:47:00</td>\n",
              "      <td>47.0</td>\n",
              "      <td>22</td>\n",
              "      <td>4</td>\n",
              "    </tr>\n",
              "    <tr>\n",
              "      <th>1</th>\n",
              "      <td>2.0</td>\n",
              "      <td>2015-02-10 21:49:25</td>\n",
              "      <td>2015-02-10 22:33:25</td>\n",
              "      <td>46</td>\n",
              "      <td>2.0</td>\n",
              "      <td>1</td>\n",
              "      <td>1900</td>\n",
              "      <td>1</td>\n",
              "      <td>1400</td>\n",
              "      <td>1400</td>\n",
              "      <td>1.0</td>\n",
              "      <td>2.0</td>\n",
              "      <td>2.0</td>\n",
              "      <td>690.0</td>\n",
              "      <td>0 days 00:44:00</td>\n",
              "      <td>44.0</td>\n",
              "      <td>21</td>\n",
              "      <td>1</td>\n",
              "    </tr>\n",
              "    <tr>\n",
              "      <th>2</th>\n",
              "      <td>2.0</td>\n",
              "      <td>2015-02-16 00:11:35</td>\n",
              "      <td>2015-02-16 01:06:35</td>\n",
              "      <td>36</td>\n",
              "      <td>3.0</td>\n",
              "      <td>4</td>\n",
              "      <td>4771</td>\n",
              "      <td>3</td>\n",
              "      <td>820</td>\n",
              "      <td>1604</td>\n",
              "      <td>8.0</td>\n",
              "      <td>6.0</td>\n",
              "      <td>18.0</td>\n",
              "      <td>289.0</td>\n",
              "      <td>0 days 00:55:00</td>\n",
              "      <td>55.0</td>\n",
              "      <td>0</td>\n",
              "      <td>0</td>\n",
              "    </tr>\n",
              "    <tr>\n",
              "      <th>3</th>\n",
              "      <td>1.0</td>\n",
              "      <td>2015-02-12 03:36:46</td>\n",
              "      <td>2015-02-12 04:35:46</td>\n",
              "      <td>38</td>\n",
              "      <td>1.0</td>\n",
              "      <td>1</td>\n",
              "      <td>1525</td>\n",
              "      <td>1</td>\n",
              "      <td>1525</td>\n",
              "      <td>1525</td>\n",
              "      <td>5.0</td>\n",
              "      <td>6.0</td>\n",
              "      <td>8.0</td>\n",
              "      <td>795.0</td>\n",
              "      <td>0 days 00:59:00</td>\n",
              "      <td>59.0</td>\n",
              "      <td>3</td>\n",
              "      <td>3</td>\n",
              "    </tr>\n",
              "    <tr>\n",
              "      <th>4</th>\n",
              "      <td>1.0</td>\n",
              "      <td>2015-01-27 02:12:36</td>\n",
              "      <td>2015-01-27 02:58:36</td>\n",
              "      <td>38</td>\n",
              "      <td>1.0</td>\n",
              "      <td>2</td>\n",
              "      <td>3620</td>\n",
              "      <td>2</td>\n",
              "      <td>1425</td>\n",
              "      <td>2195</td>\n",
              "      <td>5.0</td>\n",
              "      <td>5.0</td>\n",
              "      <td>7.0</td>\n",
              "      <td>205.0</td>\n",
              "      <td>0 days 00:46:00</td>\n",
              "      <td>46.0</td>\n",
              "      <td>2</td>\n",
              "      <td>1</td>\n",
              "    </tr>\n",
              "  </tbody>\n",
              "</table>\n",
              "</div>\n",
              "      <button class=\"colab-df-convert\" onclick=\"convertToInteractive('df-83ad21a8-072a-456c-9606-fc1b837caf88')\"\n",
              "              title=\"Convert this dataframe to an interactive table.\"\n",
              "              style=\"display:none;\">\n",
              "        \n",
              "  <svg xmlns=\"http://www.w3.org/2000/svg\" height=\"24px\"viewBox=\"0 0 24 24\"\n",
              "       width=\"24px\">\n",
              "    <path d=\"M0 0h24v24H0V0z\" fill=\"none\"/>\n",
              "    <path d=\"M18.56 5.44l.94 2.06.94-2.06 2.06-.94-2.06-.94-.94-2.06-.94 2.06-2.06.94zm-11 1L8.5 8.5l.94-2.06 2.06-.94-2.06-.94L8.5 2.5l-.94 2.06-2.06.94zm10 10l.94 2.06.94-2.06 2.06-.94-2.06-.94-.94-2.06-.94 2.06-2.06.94z\"/><path d=\"M17.41 7.96l-1.37-1.37c-.4-.4-.92-.59-1.43-.59-.52 0-1.04.2-1.43.59L10.3 9.45l-7.72 7.72c-.78.78-.78 2.05 0 2.83L4 21.41c.39.39.9.59 1.41.59.51 0 1.02-.2 1.41-.59l7.78-7.78 2.81-2.81c.8-.78.8-2.07 0-2.86zM5.41 20L4 18.59l7.72-7.72 1.47 1.35L5.41 20z\"/>\n",
              "  </svg>\n",
              "      </button>\n",
              "      \n",
              "  <style>\n",
              "    .colab-df-container {\n",
              "      display:flex;\n",
              "      flex-wrap:wrap;\n",
              "      gap: 12px;\n",
              "    }\n",
              "\n",
              "    .colab-df-convert {\n",
              "      background-color: #E8F0FE;\n",
              "      border: none;\n",
              "      border-radius: 50%;\n",
              "      cursor: pointer;\n",
              "      display: none;\n",
              "      fill: #1967D2;\n",
              "      height: 32px;\n",
              "      padding: 0 0 0 0;\n",
              "      width: 32px;\n",
              "    }\n",
              "\n",
              "    .colab-df-convert:hover {\n",
              "      background-color: #E2EBFA;\n",
              "      box-shadow: 0px 1px 2px rgba(60, 64, 67, 0.3), 0px 1px 3px 1px rgba(60, 64, 67, 0.15);\n",
              "      fill: #174EA6;\n",
              "    }\n",
              "\n",
              "    [theme=dark] .colab-df-convert {\n",
              "      background-color: #3B4455;\n",
              "      fill: #D2E3FC;\n",
              "    }\n",
              "\n",
              "    [theme=dark] .colab-df-convert:hover {\n",
              "      background-color: #434B5C;\n",
              "      box-shadow: 0px 1px 3px 1px rgba(0, 0, 0, 0.15);\n",
              "      filter: drop-shadow(0px 1px 2px rgba(0, 0, 0, 0.3));\n",
              "      fill: #FFFFFF;\n",
              "    }\n",
              "  </style>\n",
              "\n",
              "      <script>\n",
              "        const buttonEl =\n",
              "          document.querySelector('#df-83ad21a8-072a-456c-9606-fc1b837caf88 button.colab-df-convert');\n",
              "        buttonEl.style.display =\n",
              "          google.colab.kernel.accessAllowed ? 'block' : 'none';\n",
              "\n",
              "        async function convertToInteractive(key) {\n",
              "          const element = document.querySelector('#df-83ad21a8-072a-456c-9606-fc1b837caf88');\n",
              "          const dataTable =\n",
              "            await google.colab.kernel.invokeFunction('convertToInteractive',\n",
              "                                                     [key], {});\n",
              "          if (!dataTable) return;\n",
              "\n",
              "          const docLinkHtml = 'Like what you see? Visit the ' +\n",
              "            '<a target=\"_blank\" href=https://colab.research.google.com/notebooks/data_table.ipynb>data table notebook</a>'\n",
              "            + ' to learn more about interactive tables.';\n",
              "          element.innerHTML = '';\n",
              "          dataTable['output_type'] = 'display_data';\n",
              "          await google.colab.output.renderOutput(dataTable, element);\n",
              "          const docLink = document.createElement('div');\n",
              "          docLink.innerHTML = docLinkHtml;\n",
              "          element.appendChild(docLink);\n",
              "        }\n",
              "      </script>\n",
              "    </div>\n",
              "  </div>\n",
              "  "
            ],
            "text/plain": [
              "   market_id          created_at actual_delivery_time  store_primary_category  \\\n",
              "0        1.0 2015-02-06 22:24:17  2015-02-06 23:11:17                       4   \n",
              "1        2.0 2015-02-10 21:49:25  2015-02-10 22:33:25                      46   \n",
              "2        2.0 2015-02-16 00:11:35  2015-02-16 01:06:35                      36   \n",
              "3        1.0 2015-02-12 03:36:46  2015-02-12 04:35:46                      38   \n",
              "4        1.0 2015-01-27 02:12:36  2015-01-27 02:58:36                      38   \n",
              "\n",
              "   order_protocol  total_items  subtotal  num_distinct_items  min_item_price  \\\n",
              "0             1.0            4      3441                   4             557   \n",
              "1             2.0            1      1900                   1            1400   \n",
              "2             3.0            4      4771                   3             820   \n",
              "3             1.0            1      1525                   1            1525   \n",
              "4             1.0            2      3620                   2            1425   \n",
              "\n",
              "   max_item_price  total_onshift_dashers  total_busy_dashers  \\\n",
              "0            1239                   33.0                14.0   \n",
              "1            1400                    1.0                 2.0   \n",
              "2            1604                    8.0                 6.0   \n",
              "3            1525                    5.0                 6.0   \n",
              "4            2195                    5.0                 5.0   \n",
              "\n",
              "   total_outstanding_orders  estimated_store_to_consumer_driving_duration  \\\n",
              "0                      21.0                                         861.0   \n",
              "1                       2.0                                         690.0   \n",
              "2                      18.0                                         289.0   \n",
              "3                       8.0                                         795.0   \n",
              "4                       7.0                                         205.0   \n",
              "\n",
              "       time_taken  time_taken_mins  hour  day  \n",
              "0 0 days 00:47:00             47.0    22    4  \n",
              "1 0 days 00:44:00             44.0    21    1  \n",
              "2 0 days 00:55:00             55.0     0    0  \n",
              "3 0 days 00:59:00             59.0     3    3  \n",
              "4 0 days 00:46:00             46.0     2    1  "
            ]
          },
          "execution_count": 20,
          "metadata": {},
          "output_type": "execute_result"
        }
      ],
      "source": [
        "df['hour']=df['created_at'].dt.hour\n",
        "\n",
        "df['day']=df['created_at'].dt.dayofweek\n",
        "\n",
        "df.head()"
      ]
    },
    {
      "cell_type": "markdown",
      "id": "459d4b0e",
      "metadata": {
        "id": "459d4b0e",
        "papermill": {
          "duration": 0.067076,
          "end_time": "2022-04-26T08:36:04.602594",
          "exception": false,
          "start_time": "2022-04-26T08:36:04.535518",
          "status": "completed"
        },
        "tags": []
      },
      "source": [
        "Dropping the columns that are no longer required"
      ]
    },
    {
      "cell_type": "code",
      "execution_count": null,
      "id": "3db59182",
      "metadata": {
        "colab": {
          "base_uri": "https://localhost:8080/"
        },
        "execution": {
          "iopub.execute_input": "2022-04-26T08:36:04.743852Z",
          "iopub.status.busy": "2022-04-26T08:36:04.743132Z",
          "iopub.status.idle": "2022-04-26T08:36:04.786030Z",
          "shell.execute_reply": "2022-04-26T08:36:04.786637Z",
          "shell.execute_reply.started": "2022-04-22T22:31:09.179989Z"
        },
        "id": "3db59182",
        "outputId": "10476057-3aab-43ae-a874-043178d0c578",
        "papermill": {
          "duration": 0.118031,
          "end_time": "2022-04-26T08:36:04.786844",
          "exception": false,
          "start_time": "2022-04-26T08:36:04.668813",
          "status": "completed"
        },
        "tags": []
      },
      "outputs": [
        {
          "name": "stdout",
          "output_type": "stream",
          "text": [
            "<class 'pandas.core.frame.DataFrame'>\n",
            "RangeIndex: 175777 entries, 0 to 175776\n",
            "Data columns (total 15 columns):\n",
            " #   Column                                        Non-Null Count   Dtype  \n",
            "---  ------                                        --------------   -----  \n",
            " 0   market_id                                     175777 non-null  float64\n",
            " 1   store_primary_category                        175777 non-null  int64  \n",
            " 2   order_protocol                                175777 non-null  float64\n",
            " 3   total_items                                   175777 non-null  int64  \n",
            " 4   subtotal                                      175777 non-null  int64  \n",
            " 5   num_distinct_items                            175777 non-null  int64  \n",
            " 6   min_item_price                                175777 non-null  int64  \n",
            " 7   max_item_price                                175777 non-null  int64  \n",
            " 8   total_onshift_dashers                         175777 non-null  float64\n",
            " 9   total_busy_dashers                            175777 non-null  float64\n",
            " 10  total_outstanding_orders                      175777 non-null  float64\n",
            " 11  estimated_store_to_consumer_driving_duration  175777 non-null  float64\n",
            " 12  time_taken_mins                               175777 non-null  float64\n",
            " 13  hour                                          175777 non-null  int64  \n",
            " 14  day                                           175777 non-null  int64  \n",
            "dtypes: float64(7), int64(8)\n",
            "memory usage: 20.1 MB\n"
          ]
        }
      ],
      "source": [
        "df.drop(['time_taken','created_at','actual_delivery_time'],axis=1,inplace=True)\n",
        "df.info()"
      ]
    },
    {
      "cell_type": "markdown",
      "id": "97c95cc2",
      "metadata": {
        "id": "97c95cc2",
        "papermill": {
          "duration": 0.066859,
          "end_time": "2022-04-26T08:36:04.923024",
          "exception": false,
          "start_time": "2022-04-26T08:36:04.856165",
          "status": "completed"
        },
        "tags": []
      },
      "source": [
        "Checking null values in the data"
      ]
    },
    {
      "cell_type": "code",
      "execution_count": null,
      "id": "3ca347ee",
      "metadata": {
        "colab": {
          "base_uri": "https://localhost:8080/"
        },
        "execution": {
          "iopub.execute_input": "2022-04-26T08:36:05.065146Z",
          "iopub.status.busy": "2022-04-26T08:36:05.064502Z",
          "iopub.status.idle": "2022-04-26T08:36:05.075964Z",
          "shell.execute_reply": "2022-04-26T08:36:05.075321Z",
          "shell.execute_reply.started": "2022-04-22T22:31:09.222874Z"
        },
        "id": "3ca347ee",
        "outputId": "691d285d-0ea7-4273-dcf9-956b3198557e",
        "papermill": {
          "duration": 0.083911,
          "end_time": "2022-04-26T08:36:05.076106",
          "exception": false,
          "start_time": "2022-04-26T08:36:04.992195",
          "status": "completed"
        },
        "tags": []
      },
      "outputs": [
        {
          "data": {
            "text/plain": [
              "market_id                                       0\n",
              "store_primary_category                          0\n",
              "order_protocol                                  0\n",
              "total_items                                     0\n",
              "subtotal                                        0\n",
              "num_distinct_items                              0\n",
              "min_item_price                                  0\n",
              "max_item_price                                  0\n",
              "total_onshift_dashers                           0\n",
              "total_busy_dashers                              0\n",
              "total_outstanding_orders                        0\n",
              "estimated_store_to_consumer_driving_duration    0\n",
              "time_taken_mins                                 0\n",
              "hour                                            0\n",
              "day                                             0\n",
              "dtype: int64"
            ]
          },
          "execution_count": 22,
          "metadata": {},
          "output_type": "execute_result"
        }
      ],
      "source": [
        "df.isna().sum()"
      ]
    },
    {
      "cell_type": "markdown",
      "id": "7d11cb2b",
      "metadata": {
        "id": "7d11cb2b",
        "papermill": {
          "duration": 0.067011,
          "end_time": "2022-04-26T08:36:05.211826",
          "exception": false,
          "start_time": "2022-04-26T08:36:05.144815",
          "status": "completed"
        },
        "tags": []
      },
      "source": [
        "dropping null values from the data"
      ]
    },
    {
      "cell_type": "markdown",
      "id": "a1cfff62",
      "metadata": {
        "id": "a1cfff62",
        "papermill": {
          "duration": 0.06684,
          "end_time": "2022-04-26T08:36:05.345690",
          "exception": false,
          "start_time": "2022-04-26T08:36:05.278850",
          "status": "completed"
        },
        "tags": []
      },
      "source": [
        "Plotting correlation to get an idea of the data"
      ]
    },
    {
      "cell_type": "code",
      "execution_count": null,
      "id": "3bd9d378",
      "metadata": {
        "colab": {
          "base_uri": "https://localhost:8080/",
          "height": 773
        },
        "execution": {
          "iopub.execute_input": "2022-04-26T08:36:05.488532Z",
          "iopub.status.busy": "2022-04-26T08:36:05.486966Z",
          "iopub.status.idle": "2022-04-26T08:36:06.194710Z",
          "shell.execute_reply": "2022-04-26T08:36:06.195225Z",
          "shell.execute_reply.started": "2022-04-22T22:31:09.236078Z"
        },
        "id": "3bd9d378",
        "outputId": "858dc277-13ad-4d93-d19d-ee5ebc64fc9d",
        "papermill": {
          "duration": 0.782549,
          "end_time": "2022-04-26T08:36:06.195443",
          "exception": false,
          "start_time": "2022-04-26T08:36:05.412894",
          "status": "completed"
        },
        "tags": []
      },
      "outputs": [
        {
          "data": {
            "text/plain": [
              "<AxesSubplot:>"
            ]
          },
          "execution_count": 23,
          "metadata": {},
          "output_type": "execute_result"
        },
        {
          "data": {
            "image/png": "[encoded data removed]",
            "text/plain": [
              "<Figure size 842.4x595.44 with 2 Axes>"
            ]
          },
          "metadata": {},
          "output_type": "display_data"
        }
      ],
      "source": [
        "sns.heatmap(df.corr())"
      ]
    },
    {
      "cell_type": "markdown",
      "id": "211f3aa9",
      "metadata": {
        "id": "211f3aa9",
        "papermill": {
          "duration": 0.069716,
          "end_time": "2022-04-26T08:36:06.335326",
          "exception": false,
          "start_time": "2022-04-26T08:36:06.265610",
          "status": "completed"
        },
        "tags": []
      },
      "source": [
        "we have one categoriacal column which we will change to integer for model"
      ]
    },
    {
      "cell_type": "code",
      "execution_count": null,
      "id": "cec98425",
      "metadata": {
        "colab": {
          "base_uri": "https://localhost:8080/"
        },
        "execution": {
          "iopub.execute_input": "2022-04-26T08:36:06.481094Z",
          "iopub.status.busy": "2022-04-26T08:36:06.480004Z",
          "iopub.status.idle": "2022-04-26T08:36:06.505816Z",
          "shell.execute_reply": "2022-04-26T08:36:06.506564Z",
          "shell.execute_reply.started": "2022-04-22T22:31:09.964647Z"
        },
        "id": "cec98425",
        "outputId": "ec9d92f7-d2b0-4d76-9fb0-fafa0d7af7e3",
        "papermill": {
          "duration": 0.101341,
          "end_time": "2022-04-26T08:36:06.506808",
          "exception": false,
          "start_time": "2022-04-26T08:36:06.405467",
          "status": "completed"
        },
        "tags": []
      },
      "outputs": [
        {
          "name": "stdout",
          "output_type": "stream",
          "text": [
            "<class 'pandas.core.frame.DataFrame'>\n",
            "RangeIndex: 175777 entries, 0 to 175776\n",
            "Data columns (total 15 columns):\n",
            " #   Column                                        Non-Null Count   Dtype  \n",
            "---  ------                                        --------------   -----  \n",
            " 0   market_id                                     175777 non-null  float64\n",
            " 1   store_primary_category                        175777 non-null  int8   \n",
            " 2   order_protocol                                175777 non-null  float64\n",
            " 3   total_items                                   175777 non-null  int64  \n",
            " 4   subtotal                                      175777 non-null  int64  \n",
            " 5   num_distinct_items                            175777 non-null  int64  \n",
            " 6   min_item_price                                175777 non-null  int64  \n",
            " 7   max_item_price                                175777 non-null  int64  \n",
            " 8   total_onshift_dashers                         175777 non-null  float64\n",
            " 9   total_busy_dashers                            175777 non-null  float64\n",
            " 10  total_outstanding_orders                      175777 non-null  float64\n",
            " 11  estimated_store_to_consumer_driving_duration  175777 non-null  float64\n",
            " 12  time_taken_mins                               175777 non-null  float64\n",
            " 13  hour                                          175777 non-null  int64  \n",
            " 14  day                                           175777 non-null  int64  \n",
            "dtypes: float64(7), int64(7), int8(1)\n",
            "memory usage: 18.9 MB\n"
          ]
        }
      ],
      "source": [
        "df['store_primary_category'] = df['store_primary_category'].astype('category').cat.codes\n",
        "df.info()"
      ]
    },
    {
      "cell_type": "markdown",
      "id": "9f763952",
      "metadata": {
        "id": "9f763952",
        "papermill": {
          "duration": 0.074815,
          "end_time": "2022-04-26T08:36:06.652501",
          "exception": false,
          "start_time": "2022-04-26T08:36:06.577686",
          "status": "completed"
        },
        "tags": []
      },
      "source": [
        "## Data visualization and cleaning"
      ]
    },
    {
      "cell_type": "code",
      "execution_count": null,
      "id": "54252bc9",
      "metadata": {
        "colab": {
          "base_uri": "https://localhost:8080/",
          "height": 534
        },
        "execution": {
          "iopub.execute_input": "2022-04-26T08:36:06.798705Z",
          "iopub.status.busy": "2022-04-26T08:36:06.798028Z",
          "iopub.status.idle": "2022-04-26T08:36:07.738673Z",
          "shell.execute_reply": "2022-04-26T08:36:07.739184Z",
          "shell.execute_reply.started": "2022-04-22T22:31:09.993085Z"
        },
        "id": "54252bc9",
        "outputId": "9cd96c49-b3fa-4418-f11b-c11447923f4e",
        "papermill": {
          "duration": 1.014679,
          "end_time": "2022-04-26T08:36:07.739385",
          "exception": false,
          "start_time": "2022-04-26T08:36:06.724706",
          "status": "completed"
        },
        "tags": []
      },
      "outputs": [
        {
          "data": {
            "text/plain": [
              "<AxesSubplot:xlabel='time_taken_mins', ylabel='subtotal'>"
            ]
          },
          "execution_count": 25,
          "metadata": {},
          "output_type": "execute_result"
        },
        {
          "data": {
            "image/png": "[encoded data removed]",
            "text/plain": [
              "<Figure size 842.4x595.44 with 1 Axes>"
            ]
          },
          "metadata": {},
          "output_type": "display_data"
        }
      ],
      "source": [
        "sns.scatterplot(x='time_taken_mins', y='subtotal', data=df)"
      ]
    },
    {
      "cell_type": "code",
      "execution_count": null,
      "id": "a5b26b0c",
      "metadata": {
        "colab": {
          "base_uri": "https://localhost:8080/",
          "height": 534
        },
        "execution": {
          "iopub.execute_input": "2022-04-26T08:36:08.049716Z",
          "iopub.status.busy": "2022-04-26T08:36:08.048947Z",
          "iopub.status.idle": "2022-04-26T08:36:17.124437Z",
          "shell.execute_reply": "2022-04-26T08:36:17.124938Z",
          "shell.execute_reply.started": "2022-04-22T22:31:10.94362Z"
        },
        "id": "a5b26b0c",
        "outputId": "2193b4e1-38d4-4372-9903-d69702146be6",
        "papermill": {
          "duration": 9.154357,
          "end_time": "2022-04-26T08:36:17.125108",
          "exception": false,
          "start_time": "2022-04-26T08:36:07.970751",
          "status": "completed"
        },
        "tags": []
      },
      "outputs": [
        {
          "data": {
            "text/plain": [
              "<AxesSubplot:xlabel='total_items', ylabel='subtotal'>"
            ]
          },
          "execution_count": 26,
          "metadata": {},
          "output_type": "execute_result"
        },
        {
          "data": {
            "image/png": "[encoded data removed]",
            "text/plain": [
              "<Figure size 842.4x595.44 with 1 Axes>"
            ]
          },
          "metadata": {},
          "output_type": "display_data"
        }
      ],
      "source": [
        "sns.scatterplot(x='total_items', y='subtotal', hue='num_distinct_items',palette='colorblind', data=df)"
      ]
    },
    {
      "cell_type": "code",
      "execution_count": null,
      "id": "e97d449f",
      "metadata": {
        "id": "e97d449f",
        "papermill": {
          "duration": 0.077366,
          "end_time": "2022-04-26T08:36:17.279986",
          "exception": false,
          "start_time": "2022-04-26T08:36:17.202620",
          "status": "completed"
        },
        "tags": []
      },
      "outputs": [],
      "source": []
    },
    {
      "cell_type": "code",
      "execution_count": null,
      "id": "d818dc21",
      "metadata": {
        "execution": {
          "iopub.execute_input": "2022-04-26T08:36:17.444165Z",
          "iopub.status.busy": "2022-04-26T08:36:17.443242Z",
          "iopub.status.idle": "2022-04-26T08:36:33.041029Z",
          "shell.execute_reply": "2022-04-26T08:36:33.040254Z",
          "shell.execute_reply.started": "2022-04-22T22:31:19.946986Z"
        },
        "id": "d818dc21",
        "papermill": {
          "duration": 15.684043,
          "end_time": "2022-04-26T08:36:33.041187",
          "exception": false,
          "start_time": "2022-04-26T08:36:17.357144",
          "status": "completed"
        },
        "tags": []
      },
      "outputs": [],
      "source": [
        "from sklearn.neighbors import LocalOutlierFactor\n",
        "import matplotlib.pyplot as plt\n",
        "model1 = LocalOutlierFactor()\n",
        "#model1.fit(df)\n",
        "df['lof_anomaly_score'] = model1.fit_predict(df)\n"
      ]
    },
    {
      "cell_type": "code",
      "execution_count": null,
      "id": "4fc1c5f6",
      "metadata": {
        "colab": {
          "base_uri": "https://localhost:8080/"
        },
        "execution": {
          "iopub.execute_input": "2022-04-26T08:36:33.216292Z",
          "iopub.status.busy": "2022-04-26T08:36:33.215536Z",
          "iopub.status.idle": "2022-04-26T08:36:33.235504Z",
          "shell.execute_reply": "2022-04-26T08:36:33.236208Z",
          "shell.execute_reply.started": "2022-04-22T22:31:33.391329Z"
        },
        "id": "4fc1c5f6",
        "outputId": "c6dc3cde-e3ef-47d2-8a16-adaabe3d69ae",
        "papermill": {
          "duration": 0.111774,
          "end_time": "2022-04-26T08:36:33.236405",
          "exception": false,
          "start_time": "2022-04-26T08:36:33.124631",
          "status": "completed"
        },
        "tags": []
      },
      "outputs": [
        {
          "name": "stdout",
          "output_type": "stream",
          "text": [
            "number of outliers :  831\n"
          ]
        }
      ],
      "source": [
        "print(\"number of outliers : \",(len(df.loc[(df['lof_anomaly_score'] == -1)])))\n",
        "df=df.loc[(df['lof_anomaly_score'] == 1)]\n"
      ]
    },
    {
      "cell_type": "code",
      "execution_count": null,
      "id": "b6c364e2",
      "metadata": {
        "colab": {
          "base_uri": "https://localhost:8080/"
        },
        "execution": {
          "iopub.execute_input": "2022-04-26T08:36:33.397633Z",
          "iopub.status.busy": "2022-04-26T08:36:33.396890Z",
          "iopub.status.idle": "2022-04-26T08:36:33.421779Z",
          "shell.execute_reply": "2022-04-26T08:36:33.422845Z",
          "shell.execute_reply.started": "2022-04-22T22:31:33.412765Z"
        },
        "id": "b6c364e2",
        "outputId": "6527ca03-fa5e-472a-9f70-b1b74b083753",
        "papermill": {
          "duration": 0.106467,
          "end_time": "2022-04-26T08:36:33.423178",
          "exception": false,
          "start_time": "2022-04-26T08:36:33.316711",
          "status": "completed"
        },
        "tags": []
      },
      "outputs": [
        {
          "name": "stdout",
          "output_type": "stream",
          "text": [
            "<class 'pandas.core.frame.DataFrame'>\n",
            "Int64Index: 174946 entries, 0 to 175776\n",
            "Data columns (total 15 columns):\n",
            " #   Column                                        Non-Null Count   Dtype  \n",
            "---  ------                                        --------------   -----  \n",
            " 0   market_id                                     174946 non-null  float64\n",
            " 1   store_primary_category                        174946 non-null  int8   \n",
            " 2   order_protocol                                174946 non-null  float64\n",
            " 3   total_items                                   174946 non-null  int64  \n",
            " 4   subtotal                                      174946 non-null  int64  \n",
            " 5   num_distinct_items                            174946 non-null  int64  \n",
            " 6   min_item_price                                174946 non-null  int64  \n",
            " 7   max_item_price                                174946 non-null  int64  \n",
            " 8   total_onshift_dashers                         174946 non-null  float64\n",
            " 9   total_busy_dashers                            174946 non-null  float64\n",
            " 10  total_outstanding_orders                      174946 non-null  float64\n",
            " 11  estimated_store_to_consumer_driving_duration  174946 non-null  float64\n",
            " 12  time_taken_mins                               174946 non-null  float64\n",
            " 13  hour                                          174946 non-null  int64  \n",
            " 14  day                                           174946 non-null  int64  \n",
            "dtypes: float64(7), int64(7), int8(1)\n",
            "memory usage: 20.2 MB\n"
          ]
        },
        {
          "name": "stderr",
          "output_type": "stream",
          "text": [
            "/usr/local/lib/python3.8/dist-packages/pandas/core/frame.py:4906: SettingWithCopyWarning: \n",
            "A value is trying to be set on a copy of a slice from a DataFrame\n",
            "\n",
            "See the caveats in the documentation: https://pandas.pydata.org/pandas-docs/stable/user_guide/indexing.html#returning-a-view-versus-a-copy\n",
            "  return super().drop(\n"
          ]
        }
      ],
      "source": [
        "df.drop(['lof_anomaly_score'],axis=1,inplace=True)\n",
        "\n",
        "df.info()"
      ]
    },
    {
      "cell_type": "code",
      "execution_count": null,
      "id": "Az9x6n513HdQ",
      "metadata": {
        "colab": {
          "base_uri": "https://localhost:8080/"
        },
        "id": "Az9x6n513HdQ",
        "outputId": "6f9766eb-25b4-4a6d-f4fb-c6fcb66edfbe"
      },
      "outputs": [
        {
          "data": {
            "text/plain": [
              "46.194385696157674"
            ]
          },
          "execution_count": 30,
          "metadata": {},
          "output_type": "execute_result"
        }
      ],
      "source": [
        "df['time_taken_mins'].mean()"
      ]
    },
    {
      "cell_type": "code",
      "execution_count": null,
      "id": "d5a2dc3d",
      "metadata": {
        "colab": {
          "base_uri": "https://localhost:8080/",
          "height": 534
        },
        "execution": {
          "iopub.execute_input": "2022-04-26T08:36:33.587519Z",
          "iopub.status.busy": "2022-04-26T08:36:33.586810Z",
          "iopub.status.idle": "2022-04-26T08:36:34.539772Z",
          "shell.execute_reply": "2022-04-26T08:36:34.540295Z",
          "shell.execute_reply.started": "2022-04-22T22:31:33.436954Z"
        },
        "id": "d5a2dc3d",
        "outputId": "8e9fa121-a954-4d7a-e4eb-861027476c23",
        "papermill": {
          "duration": 1.037228,
          "end_time": "2022-04-26T08:36:34.540471",
          "exception": false,
          "start_time": "2022-04-26T08:36:33.503243",
          "status": "completed"
        },
        "tags": []
      },
      "outputs": [
        {
          "data": {
            "text/plain": [
              "<AxesSubplot:xlabel='time_taken_mins', ylabel='subtotal'>"
            ]
          },
          "execution_count": 31,
          "metadata": {},
          "output_type": "execute_result"
        },
        {
          "data": {
            "image/png": "[encoded data removed]",
            "text/plain": [
              "<Figure size 842.4x595.44 with 1 Axes>"
            ]
          },
          "metadata": {},
          "output_type": "display_data"
        }
      ],
      "source": [
        "sns.scatterplot(x='time_taken_mins', y='subtotal', data=df)"
      ]
    },
    {
      "cell_type": "markdown",
      "id": "c775db2f",
      "metadata": {
        "id": "c775db2f",
        "papermill": {
          "duration": 0.082232,
          "end_time": "2022-04-26T08:36:34.707696",
          "exception": false,
          "start_time": "2022-04-26T08:36:34.625464",
          "status": "completed"
        },
        "tags": []
      },
      "source": [
        "We can see that after removing outliers our data is looking better"
      ]
    },
    {
      "cell_type": "code",
      "execution_count": null,
      "id": "dd06cf0f",
      "metadata": {
        "colab": {
          "base_uri": "https://localhost:8080/",
          "height": 589
        },
        "execution": {
          "iopub.execute_input": "2022-04-26T08:36:34.880624Z",
          "iopub.status.busy": "2022-04-26T08:36:34.879545Z",
          "iopub.status.idle": "2022-04-26T08:36:35.121155Z",
          "shell.execute_reply": "2022-04-26T08:36:35.120594Z",
          "shell.execute_reply.started": "2022-04-22T22:31:34.395136Z"
        },
        "id": "dd06cf0f",
        "outputId": "27a81ee0-bd60-42f1-e7b9-af8cfb41ebcd",
        "papermill": {
          "duration": 0.330973,
          "end_time": "2022-04-26T08:36:35.121313",
          "exception": false,
          "start_time": "2022-04-26T08:36:34.790340",
          "status": "completed"
        },
        "tags": []
      },
      "outputs": [
        {
          "name": "stderr",
          "output_type": "stream",
          "text": [
            "/usr/local/lib/python3.8/dist-packages/seaborn/_decorators.py:36: FutureWarning: Pass the following variable as a keyword arg: x. From version 0.12, the only valid positional argument will be `data`, and passing other arguments without an explicit keyword will result in an error or misinterpretation.\n",
            "  warnings.warn(\n"
          ]
        },
        {
          "data": {
            "text/plain": [
              "<AxesSubplot:xlabel='day', ylabel='count'>"
            ]
          },
          "execution_count": 32,
          "metadata": {},
          "output_type": "execute_result"
        },
        {
          "data": {
            "image/png": "[encoded data removed]",
            "text/plain": [
              "<Figure size 842.4x595.44 with 1 Axes>"
            ]
          },
          "metadata": {},
          "output_type": "display_data"
        }
      ],
      "source": [
        "sns.countplot(df.day)"
      ]
    },
    {
      "cell_type": "markdown",
      "id": "c120389d",
      "metadata": {
        "id": "c120389d",
        "papermill": {
          "duration": 0.087089,
          "end_time": "2022-04-26T08:36:35.293716",
          "exception": false,
          "start_time": "2022-04-26T08:36:35.206627",
          "status": "completed"
        },
        "tags": []
      },
      "source": [
        "a little more orders on the weekends"
      ]
    },
    {
      "cell_type": "code",
      "execution_count": null,
      "id": "4b55c144",
      "metadata": {
        "colab": {
          "base_uri": "https://localhost:8080/",
          "height": 589
        },
        "execution": {
          "iopub.execute_input": "2022-04-26T08:36:35.474602Z",
          "iopub.status.busy": "2022-04-26T08:36:35.473888Z",
          "iopub.status.idle": "2022-04-26T08:36:35.833815Z",
          "shell.execute_reply": "2022-04-26T08:36:35.833195Z",
          "shell.execute_reply.started": "2022-04-22T22:31:34.671703Z"
        },
        "id": "4b55c144",
        "outputId": "c959b0df-5cd5-4510-9f2a-601c79f27493",
        "papermill": {
          "duration": 0.453091,
          "end_time": "2022-04-26T08:36:35.833955",
          "exception": false,
          "start_time": "2022-04-26T08:36:35.380864",
          "status": "completed"
        },
        "tags": []
      },
      "outputs": [
        {
          "name": "stderr",
          "output_type": "stream",
          "text": [
            "/usr/local/lib/python3.8/dist-packages/seaborn/_decorators.py:36: FutureWarning: Pass the following variable as a keyword arg: x. From version 0.12, the only valid positional argument will be `data`, and passing other arguments without an explicit keyword will result in an error or misinterpretation.\n",
            "  warnings.warn(\n"
          ]
        },
        {
          "data": {
            "text/plain": [
              "<AxesSubplot:xlabel='hour', ylabel='count'>"
            ]
          },
          "execution_count": 33,
          "metadata": {},
          "output_type": "execute_result"
        },
        {
          "data": {
            "image/png": "[encoded data removed]",
            "text/plain": [
              "<Figure size 842.4x595.44 with 1 Axes>"
            ]
          },
          "metadata": {},
          "output_type": "display_data"
        }
      ],
      "source": [
        "sns.countplot(df.hour)"
      ]
    },
    {
      "cell_type": "code",
      "execution_count": null,
      "id": "d9fefd34",
      "metadata": {
        "colab": {
          "base_uri": "https://localhost:8080/",
          "height": 534
        },
        "execution": {
          "iopub.execute_input": "2022-04-26T08:36:36.016827Z",
          "iopub.status.busy": "2022-04-26T08:36:36.015610Z",
          "iopub.status.idle": "2022-04-26T08:36:36.882654Z",
          "shell.execute_reply": "2022-04-26T08:36:36.883152Z",
          "shell.execute_reply.started": "2022-04-22T22:31:35.075902Z"
        },
        "id": "d9fefd34",
        "outputId": "1384c813-47fa-4cc0-c7f1-2506161cf0dc",
        "papermill": {
          "duration": 0.963474,
          "end_time": "2022-04-26T08:36:36.883368",
          "exception": false,
          "start_time": "2022-04-26T08:36:35.919894",
          "status": "completed"
        },
        "tags": []
      },
      "outputs": [
        {
          "data": {
            "text/plain": [
              "<AxesSubplot:xlabel='hour', ylabel='time_taken_mins'>"
            ]
          },
          "execution_count": 34,
          "metadata": {},
          "output_type": "execute_result"
        },
        {
          "data": {
            "image/png": "[encoded data removed]",
            "text/plain": [
              "<Figure size 842.4x595.44 with 1 Axes>"
            ]
          },
          "metadata": {},
          "output_type": "display_data"
        }
      ],
      "source": [
        "sns.scatterplot(x='hour',y='time_taken_mins', data=df)"
      ]
    },
    {
      "cell_type": "markdown",
      "id": "e7e07d28",
      "metadata": {
        "id": "e7e07d28",
        "papermill": {
          "duration": 0.090832,
          "end_time": "2022-04-26T08:36:37.066252",
          "exception": false,
          "start_time": "2022-04-26T08:36:36.975420",
          "status": "completed"
        },
        "tags": []
      },
      "source": [
        "## Data Spliting and modeling"
      ]
    },
    {
      "cell_type": "code",
      "execution_count": null,
      "id": "a708b23a",
      "metadata": {
        "execution": {
          "iopub.execute_input": "2022-04-26T08:36:37.260718Z",
          "iopub.status.busy": "2022-04-26T08:36:37.259674Z",
          "iopub.status.idle": "2022-04-26T08:36:37.292991Z",
          "shell.execute_reply": "2022-04-26T08:36:37.293630Z",
          "shell.execute_reply.started": "2022-04-22T22:31:35.980586Z"
        },
        "id": "a708b23a",
        "papermill": {
          "duration": 0.138861,
          "end_time": "2022-04-26T08:36:37.293820",
          "exception": false,
          "start_time": "2022-04-26T08:36:37.154959",
          "status": "completed"
        },
        "tags": []
      },
      "outputs": [],
      "source": [
        "y=df['time_taken_mins']\n",
        "x = df.drop(['time_taken_mins'], axis=1)\n",
        "df.drop(['time_taken_mins'], axis=1,inplace=True)\n",
        "X_train, X_test, y_train, y_test = train_test_split(x, y, test_size=0.2,  random_state=42)"
      ]
    },
    {
      "cell_type": "code",
      "execution_count": null,
      "id": "584f9d44",
      "metadata": {
        "execution": {
          "iopub.execute_input": "2022-04-26T08:36:37.480150Z",
          "iopub.status.busy": "2022-04-26T08:36:37.479503Z",
          "iopub.status.idle": "2022-04-26T08:36:37.496513Z",
          "shell.execute_reply": "2022-04-26T08:36:37.497070Z",
          "shell.execute_reply.started": "2022-04-22T22:31:36.026268Z"
        },
        "id": "584f9d44",
        "outputId": "ab62c8e6-3845-4e68-99b4-3de85da32663",
        "papermill": {
          "duration": 0.11076,
          "end_time": "2022-04-26T08:36:37.497249",
          "exception": false,
          "start_time": "2022-04-26T08:36:37.386489",
          "status": "completed"
        },
        "tags": []
      },
      "outputs": [
        {
          "data": {
            "text/html": [
              "<div>\n",
              "<style scoped>\n",
              "    .dataframe tbody tr th:only-of-type {\n",
              "        vertical-align: middle;\n",
              "    }\n",
              "\n",
              "    .dataframe tbody tr th {\n",
              "        vertical-align: top;\n",
              "    }\n",
              "\n",
              "    .dataframe thead th {\n",
              "        text-align: right;\n",
              "    }\n",
              "</style>\n",
              "<table border=\"1\" class=\"dataframe\">\n",
              "  <thead>\n",
              "    <tr style=\"text-align: right;\">\n",
              "      <th></th>\n",
              "      <th>market_id</th>\n",
              "      <th>store_primary_category</th>\n",
              "      <th>order_protocol</th>\n",
              "      <th>total_items</th>\n",
              "      <th>subtotal</th>\n",
              "      <th>num_distinct_items</th>\n",
              "      <th>min_item_price</th>\n",
              "      <th>max_item_price</th>\n",
              "      <th>total_onshift_dashers</th>\n",
              "      <th>total_busy_dashers</th>\n",
              "      <th>total_outstanding_orders</th>\n",
              "      <th>estimated_store_to_consumer_driving_duration</th>\n",
              "      <th>hour</th>\n",
              "      <th>day</th>\n",
              "    </tr>\n",
              "  </thead>\n",
              "  <tbody>\n",
              "    <tr>\n",
              "      <th>0</th>\n",
              "      <td>1.0</td>\n",
              "      <td>4</td>\n",
              "      <td>1.0</td>\n",
              "      <td>4</td>\n",
              "      <td>3441</td>\n",
              "      <td>4</td>\n",
              "      <td>557</td>\n",
              "      <td>1239</td>\n",
              "      <td>33.0</td>\n",
              "      <td>14.0</td>\n",
              "      <td>21.0</td>\n",
              "      <td>861.0</td>\n",
              "      <td>22</td>\n",
              "      <td>4</td>\n",
              "    </tr>\n",
              "    <tr>\n",
              "      <th>1</th>\n",
              "      <td>2.0</td>\n",
              "      <td>46</td>\n",
              "      <td>2.0</td>\n",
              "      <td>1</td>\n",
              "      <td>1900</td>\n",
              "      <td>1</td>\n",
              "      <td>1400</td>\n",
              "      <td>1400</td>\n",
              "      <td>1.0</td>\n",
              "      <td>2.0</td>\n",
              "      <td>2.0</td>\n",
              "      <td>690.0</td>\n",
              "      <td>21</td>\n",
              "      <td>1</td>\n",
              "    </tr>\n",
              "    <tr>\n",
              "      <th>2</th>\n",
              "      <td>2.0</td>\n",
              "      <td>36</td>\n",
              "      <td>3.0</td>\n",
              "      <td>4</td>\n",
              "      <td>4771</td>\n",
              "      <td>3</td>\n",
              "      <td>820</td>\n",
              "      <td>1604</td>\n",
              "      <td>8.0</td>\n",
              "      <td>6.0</td>\n",
              "      <td>18.0</td>\n",
              "      <td>289.0</td>\n",
              "      <td>0</td>\n",
              "      <td>0</td>\n",
              "    </tr>\n",
              "    <tr>\n",
              "      <th>3</th>\n",
              "      <td>1.0</td>\n",
              "      <td>38</td>\n",
              "      <td>1.0</td>\n",
              "      <td>1</td>\n",
              "      <td>1525</td>\n",
              "      <td>1</td>\n",
              "      <td>1525</td>\n",
              "      <td>1525</td>\n",
              "      <td>5.0</td>\n",
              "      <td>6.0</td>\n",
              "      <td>8.0</td>\n",
              "      <td>795.0</td>\n",
              "      <td>3</td>\n",
              "      <td>3</td>\n",
              "    </tr>\n",
              "    <tr>\n",
              "      <th>4</th>\n",
              "      <td>1.0</td>\n",
              "      <td>38</td>\n",
              "      <td>1.0</td>\n",
              "      <td>2</td>\n",
              "      <td>3620</td>\n",
              "      <td>2</td>\n",
              "      <td>1425</td>\n",
              "      <td>2195</td>\n",
              "      <td>5.0</td>\n",
              "      <td>5.0</td>\n",
              "      <td>7.0</td>\n",
              "      <td>205.0</td>\n",
              "      <td>2</td>\n",
              "      <td>1</td>\n",
              "    </tr>\n",
              "  </tbody>\n",
              "</table>\n",
              "</div>"
            ],
            "text/plain": [
              "   market_id  store_primary_category  order_protocol  total_items  subtotal  \\\n",
              "0        1.0                       4             1.0            4      3441   \n",
              "1        2.0                      46             2.0            1      1900   \n",
              "2        2.0                      36             3.0            4      4771   \n",
              "3        1.0                      38             1.0            1      1525   \n",
              "4        1.0                      38             1.0            2      3620   \n",
              "\n",
              "   num_distinct_items  min_item_price  max_item_price  total_onshift_dashers  \\\n",
              "0                   4             557            1239                   33.0   \n",
              "1                   1            1400            1400                    1.0   \n",
              "2                   3             820            1604                    8.0   \n",
              "3                   1            1525            1525                    5.0   \n",
              "4                   2            1425            2195                    5.0   \n",
              "\n",
              "   total_busy_dashers  total_outstanding_orders  \\\n",
              "0                14.0                      21.0   \n",
              "1                 2.0                       2.0   \n",
              "2                 6.0                      18.0   \n",
              "3                 6.0                       8.0   \n",
              "4                 5.0                       7.0   \n",
              "\n",
              "   estimated_store_to_consumer_driving_duration  hour  day  \n",
              "0                                         861.0    22    4  \n",
              "1                                         690.0    21    1  \n",
              "2                                         289.0     0    0  \n",
              "3                                         795.0     3    3  \n",
              "4                                         205.0     2    1  "
            ]
          },
          "execution_count": 24,
          "metadata": {},
          "output_type": "execute_result"
        }
      ],
      "source": [
        "x.head()"
      ]
    },
    {
      "cell_type": "markdown",
      "id": "4a07dbe8",
      "metadata": {
        "id": "4a07dbe8",
        "papermill": {
          "duration": 0.090391,
          "end_time": "2022-04-26T08:36:37.679556",
          "exception": false,
          "start_time": "2022-04-26T08:36:37.589165",
          "status": "completed"
        },
        "tags": []
      },
      "source": [
        "## **Random forest**"
      ]
    },
    {
      "cell_type": "code",
      "execution_count": null,
      "id": "60cab211",
      "metadata": {
        "execution": {
          "iopub.execute_input": "2022-04-26T08:36:37.864828Z",
          "iopub.status.busy": "2022-04-26T08:36:37.864167Z",
          "iopub.status.idle": "2022-04-26T08:38:27.499651Z",
          "shell.execute_reply": "2022-04-26T08:38:27.500295Z",
          "shell.execute_reply.started": "2022-04-22T22:31:36.048965Z"
        },
        "id": "60cab211",
        "outputId": "e0b7ecc5-2185-4fe7-e2e5-dd80555b2df0",
        "papermill": {
          "duration": 109.729648,
          "end_time": "2022-04-26T08:38:27.500499",
          "exception": false,
          "start_time": "2022-04-26T08:36:37.770851",
          "status": "completed"
        },
        "tags": []
      },
      "outputs": [
        {
          "data": {
            "text/plain": [
              "RandomForestRegressor()"
            ]
          },
          "execution_count": 25,
          "metadata": {},
          "output_type": "execute_result"
        }
      ],
      "source": [
        "\n",
        "regressor = RandomForestRegressor()\n",
        "\n",
        "regressor.fit(X_train, y_train)"
      ]
    },
    {
      "cell_type": "code",
      "execution_count": null,
      "id": "4181a611",
      "metadata": {
        "execution": {
          "iopub.execute_input": "2022-04-26T08:38:27.701412Z",
          "iopub.status.busy": "2022-04-26T08:38:27.700312Z",
          "iopub.status.idle": "2022-04-26T08:38:29.409149Z",
          "shell.execute_reply": "2022-04-26T08:38:29.409679Z",
          "shell.execute_reply.started": "2022-04-22T22:33:19.935702Z"
        },
        "id": "4181a611",
        "outputId": "e5c380e9-3058-4ca6-e314-57150c495574",
        "papermill": {
          "duration": 1.811998,
          "end_time": "2022-04-26T08:38:29.409850",
          "exception": false,
          "start_time": "2022-04-26T08:38:27.597852",
          "status": "completed"
        },
        "tags": []
      },
      "outputs": [
        {
          "name": "stdout",
          "output_type": "stream",
          "text": [
            "mse :  3.221846498999714\n",
            "rmse :  1.7949502775842328\n",
            "mae: 1.2833380965990284\n"
          ]
        }
      ],
      "source": [
        "prediction = regressor.predict(X_test)\n",
        "mse = mean_squared_error(y_test, prediction)\n",
        "rmse = mse**.5\n",
        "print(\"mse : \", mse)\n",
        "print(\"rmse : \",rmse)\n",
        "mae = mean_absolute_error(y_test, prediction)\n",
        "print('mae:' ,mae)"
      ]
    },
    {
      "cell_type": "code",
      "execution_count": null,
      "id": "a2d68dda",
      "metadata": {
        "execution": {
          "iopub.execute_input": "2022-04-26T08:38:29.599486Z",
          "iopub.status.busy": "2022-04-26T08:38:29.598695Z",
          "iopub.status.idle": "2022-04-26T08:38:29.604109Z",
          "shell.execute_reply": "2022-04-26T08:38:29.604718Z",
          "shell.execute_reply.started": "2022-04-22T22:33:21.375684Z"
        },
        "id": "a2d68dda",
        "outputId": "666474d7-1492-4785-cb59-50b0059b8237",
        "papermill": {
          "duration": 0.102269,
          "end_time": "2022-04-26T08:38:29.604885",
          "exception": false,
          "start_time": "2022-04-26T08:38:29.502616",
          "status": "completed"
        },
        "tags": []
      },
      "outputs": [
        {
          "data": {
            "text/plain": [
              "0.9625542577964333"
            ]
          },
          "execution_count": 27,
          "metadata": {},
          "output_type": "execute_result"
        }
      ],
      "source": [
        "r2_score(y_test, prediction)"
      ]
    },
    {
      "cell_type": "code",
      "execution_count": null,
      "id": "caae1fdf",
      "metadata": {
        "execution": {
          "iopub.execute_input": "2022-04-26T08:38:29.793352Z",
          "iopub.status.busy": "2022-04-26T08:38:29.792649Z",
          "iopub.status.idle": "2022-04-26T08:38:29.795066Z",
          "shell.execute_reply": "2022-04-26T08:38:29.795692Z",
          "shell.execute_reply.started": "2022-04-22T22:33:21.388748Z"
        },
        "id": "caae1fdf",
        "papermill": {
          "duration": 0.099958,
          "end_time": "2022-04-26T08:38:29.795889",
          "exception": false,
          "start_time": "2022-04-26T08:38:29.695931",
          "status": "completed"
        },
        "tags": []
      },
      "outputs": [],
      "source": [
        "def MAPE(Y_actual,Y_Predicted):\n",
        "    mape = np.mean(np.abs((Y_actual - Y_Predicted)/Y_actual))*100\n",
        "    return mape"
      ]
    },
    {
      "cell_type": "code",
      "execution_count": null,
      "id": "98a0b79e",
      "metadata": {
        "execution": {
          "iopub.execute_input": "2022-04-26T08:38:29.986115Z",
          "iopub.status.busy": "2022-04-26T08:38:29.985331Z",
          "iopub.status.idle": "2022-04-26T08:38:29.989708Z",
          "shell.execute_reply": "2022-04-26T08:38:29.990169Z",
          "shell.execute_reply.started": "2022-04-22T22:33:21.394332Z"
        },
        "id": "98a0b79e",
        "outputId": "e83a7357-63a9-4a72-ef24-0a60833cd60a",
        "papermill": {
          "duration": 0.104219,
          "end_time": "2022-04-26T08:38:29.990481",
          "exception": false,
          "start_time": "2022-04-26T08:38:29.886262",
          "status": "completed"
        },
        "tags": []
      },
      "outputs": [
        {
          "name": "stdout",
          "output_type": "stream",
          "text": [
            "mape :  2.764585767568075\n"
          ]
        }
      ],
      "source": [
        "print(\"mape : \",MAPE(y_test, prediction))"
      ]
    },
    {
      "cell_type": "markdown",
      "id": "c218c13f",
      "metadata": {
        "id": "c218c13f",
        "papermill": {
          "duration": 0.092694,
          "end_time": "2022-04-26T08:38:30.180806",
          "exception": false,
          "start_time": "2022-04-26T08:38:30.088112",
          "status": "completed"
        },
        "tags": []
      },
      "source": []
    },
    {
      "cell_type": "code",
      "execution_count": null,
      "id": "4ed5815a",
      "metadata": {
        "execution": {
          "iopub.execute_input": "2022-04-26T08:38:30.378217Z",
          "iopub.status.busy": "2022-04-26T08:38:30.377488Z",
          "iopub.status.idle": "2022-04-26T08:38:31.015392Z",
          "shell.execute_reply": "2022-04-26T08:38:31.015915Z",
          "shell.execute_reply.started": "2022-04-22T22:33:21.407253Z"
        },
        "id": "4ed5815a",
        "outputId": "234e2cf2-bcdc-4bb1-93f3-cc11fe142e68",
        "papermill": {
          "duration": 0.739089,
          "end_time": "2022-04-26T08:38:31.016082",
          "exception": false,
          "start_time": "2022-04-26T08:38:30.276993",
          "status": "completed"
        },
        "tags": []
      },
      "outputs": [
        {
          "data": {
            "text/plain": [
              "Text(0.5, 0, 'Random Forest Feature Importance')"
            ]
          },
          "execution_count": 30,
          "metadata": {},
          "output_type": "execute_result"
        },
        {
          "data": {
            "image/png": "[encoded data removed]",
            "text/plain": [
              "<Figure size 842.4x595.44 with 1 Axes>"
            ]
          },
          "metadata": {},
          "output_type": "display_data"
        }
      ],
      "source": [
        "sorted_idx = regressor.feature_importances_.argsort()\n",
        "plt.barh(df.columns[sorted_idx], regressor.feature_importances_[sorted_idx])\n",
        "plt.xlabel(\"Random Forest Feature Importance\")"
      ]
    },
    {
      "cell_type": "code",
      "execution_count": null,
      "id": "9b363bf7",
      "metadata": {
        "id": "9b363bf7",
        "papermill": {
          "duration": 0.09273,
          "end_time": "2022-04-26T08:38:31.203458",
          "exception": false,
          "start_time": "2022-04-26T08:38:31.110728",
          "status": "completed"
        },
        "tags": []
      },
      "outputs": [],
      "source": []
    },
    {
      "cell_type": "markdown",
      "id": "2b3bf497",
      "metadata": {
        "id": "2b3bf497",
        "papermill": {
          "duration": 0.092512,
          "end_time": "2022-04-26T08:38:31.388629",
          "exception": false,
          "start_time": "2022-04-26T08:38:31.296117",
          "status": "completed"
        },
        "tags": []
      },
      "source": [
        "## **Neural networks**"
      ]
    },
    {
      "cell_type": "markdown",
      "id": "32c2d90a",
      "metadata": {
        "id": "32c2d90a",
        "papermill": {
          "duration": 0.092384,
          "end_time": "2022-04-26T08:38:31.573140",
          "exception": false,
          "start_time": "2022-04-26T08:38:31.480756",
          "status": "completed"
        },
        "tags": []
      },
      "source": [
        "Scalling the data to feed before neural network"
      ]
    },
    {
      "cell_type": "code",
      "execution_count": null,
      "id": "7a149b51",
      "metadata": {
        "execution": {
          "iopub.execute_input": "2022-04-26T08:38:31.766107Z",
          "iopub.status.busy": "2022-04-26T08:38:31.765043Z",
          "iopub.status.idle": "2022-04-26T08:38:31.853508Z",
          "shell.execute_reply": "2022-04-26T08:38:31.853980Z",
          "shell.execute_reply.started": "2022-04-22T22:33:22.007107Z"
        },
        "id": "7a149b51",
        "papermill": {
          "duration": 0.188176,
          "end_time": "2022-04-26T08:38:31.854165",
          "exception": false,
          "start_time": "2022-04-26T08:38:31.665989",
          "status": "completed"
        },
        "tags": []
      },
      "outputs": [],
      "source": [
        "from sklearn import preprocessing\n",
        "scaler = preprocessing.MinMaxScaler()\n",
        "x_scaled = scaler.fit_transform(x)\n",
        "X_train, X_test, y_train, y_test = train_test_split(x_scaled, y, test_size=0.2,  random_state=42)"
      ]
    },
    {
      "cell_type": "markdown",
      "id": "aaaafd82",
      "metadata": {
        "id": "aaaafd82",
        "papermill": {
          "duration": 0.095938,
          "end_time": "2022-04-26T08:38:32.048257",
          "exception": false,
          "start_time": "2022-04-26T08:38:31.952319",
          "status": "completed"
        },
        "tags": []
      },
      "source": [
        "We will build a simple neural network to train our regression model\n",
        "it is a sequential model with three layers,\n",
        "\n",
        " we have kept the number of nodes in the first layers equal to the number of input columns, and for the subsequent layers 512,1024,256, which can we changed or experimented with\n",
        "\n",
        " the activation for the layers is kept as relu because it is a great non linear activation function that works for most cases, we could have used leaky relu if we see gradient vanishing.\n",
        "\n",
        " the last layer has one node because it will give the single result that is our delivery time and the activation function for that should be linear"
      ]
    },
    {
      "cell_type": "code",
      "execution_count": null,
      "id": "e1376034",
      "metadata": {
        "execution": {
          "iopub.execute_input": "2022-04-26T08:38:32.244672Z",
          "iopub.status.busy": "2022-04-26T08:38:32.243859Z",
          "iopub.status.idle": "2022-04-26T08:38:32.321110Z",
          "shell.execute_reply": "2022-04-26T08:38:32.320607Z",
          "shell.execute_reply.started": "2022-04-22T22:33:22.078775Z"
        },
        "id": "e1376034",
        "outputId": "5b64d5b5-ddaf-4486-fd30-a02655332cef",
        "papermill": {
          "duration": 0.178117,
          "end_time": "2022-04-26T08:38:32.321253",
          "exception": false,
          "start_time": "2022-04-26T08:38:32.143136",
          "status": "completed"
        },
        "tags": []
      },
      "outputs": [
        {
          "name": "stderr",
          "output_type": "stream",
          "text": [
            "2022-04-26 08:38:32.285440: I tensorflow/core/common_runtime/process_util.cc:146] Creating new thread pool with default inter op setting: 2. Tune using inter_op_parallelism_threads for best performance.\n"
          ]
        }
      ],
      "source": [
        "model = Sequential()\n",
        "model.add(Dense(14,  kernel_initializer='normal', activation='relu'))\n",
        "model.add(Dense(512, activation='relu'))\n",
        "model.add(Dense(1024, activation='relu'))\n",
        "model.add(Dense(256, activation='relu'))\n",
        "model.add(Dense(1, activation='linear'))\n"
      ]
    },
    {
      "cell_type": "markdown",
      "id": "e1bbc5cc",
      "metadata": {
        "id": "e1bbc5cc",
        "papermill": {
          "duration": 0.094698,
          "end_time": "2022-04-26T08:38:32.509246",
          "exception": false,
          "start_time": "2022-04-26T08:38:32.414548",
          "status": "completed"
        },
        "tags": []
      },
      "source": [
        "we use adam optimizer which is extention to classic schostic gradient descent(SGD) algorithm, but handles much of its drawbacks\n",
        "\n",
        "Stochastic gradient descent maintains a single learning rate (termed alpha) for all weight updates and the learning rate does not change during training.\n",
        "\n",
        "https://machinelearningmastery.com/adam-optimization-algorithm-for-deep-learning/"
      ]
    },
    {
      "cell_type": "code",
      "execution_count": null,
      "id": "10d02ec4",
      "metadata": {
        "execution": {
          "iopub.execute_input": "2022-04-26T08:38:32.708675Z",
          "iopub.status.busy": "2022-04-26T08:38:32.708003Z",
          "iopub.status.idle": "2022-04-26T08:42:09.455233Z",
          "shell.execute_reply": "2022-04-26T08:42:09.455815Z",
          "shell.execute_reply.started": "2022-04-22T22:33:22.151723Z"
        },
        "id": "10d02ec4",
        "outputId": "cdd452bf-85b8-492d-fc7e-a77768149e69",
        "papermill": {
          "duration": 216.8462,
          "end_time": "2022-04-26T08:42:09.456018",
          "exception": false,
          "start_time": "2022-04-26T08:38:32.609818",
          "status": "completed"
        },
        "tags": []
      },
      "outputs": [
        {
          "name": "stderr",
          "output_type": "stream",
          "text": [
            "2022-04-26 08:38:33.032796: I tensorflow/compiler/mlir/mlir_graph_optimization_pass.cc:185] None of the MLIR Optimization Passes are enabled (registered 2)\n"
          ]
        },
        {
          "name": "stdout",
          "output_type": "stream",
          "text": [
            "Epoch 1/30\n",
            "219/219 [==============================] - 8s 32ms/step - loss: 78.3290 - mse: 78.3290 - mae: 5.2771 - val_loss: 5.4703 - val_mse: 5.4703 - val_mae: 1.7596\n",
            "Epoch 2/30\n",
            "219/219 [==============================] - 7s 32ms/step - loss: 3.3243 - mse: 3.3243 - mae: 1.3805 - val_loss: 2.3348 - val_mse: 2.3348 - val_mae: 1.1464\n",
            "Epoch 3/30\n",
            "219/219 [==============================] - 7s 31ms/step - loss: 2.7112 - mse: 2.7112 - mae: 1.2510 - val_loss: 1.3724 - val_mse: 1.3724 - val_mae: 0.9072\n",
            "Epoch 4/30\n",
            "219/219 [==============================] - 8s 36ms/step - loss: 2.0263 - mse: 2.0263 - mae: 1.1052 - val_loss: 0.7248 - val_mse: 0.7248 - val_mae: 0.6700\n",
            "Epoch 5/30\n",
            "219/219 [==============================] - 7s 33ms/step - loss: 1.4684 - mse: 1.4684 - mae: 0.9459 - val_loss: 1.1060 - val_mse: 1.1060 - val_mae: 0.9037\n",
            "Epoch 6/30\n",
            "219/219 [==============================] - 7s 31ms/step - loss: 1.4843 - mse: 1.4843 - mae: 0.9234 - val_loss: 0.4178 - val_mse: 0.4178 - val_mae: 0.5017\n",
            "Epoch 7/30\n",
            "219/219 [==============================] - 7s 32ms/step - loss: 1.2175 - mse: 1.2175 - mae: 0.8685 - val_loss: 0.9597 - val_mse: 0.9597 - val_mae: 0.8352\n",
            "Epoch 8/30\n",
            "219/219 [==============================] - 8s 35ms/step - loss: 1.1277 - mse: 1.1277 - mae: 0.7911 - val_loss: 0.9896 - val_mse: 0.9896 - val_mae: 0.8540\n",
            "Epoch 9/30\n",
            "219/219 [==============================] - 7s 33ms/step - loss: 1.2375 - mse: 1.2375 - mae: 0.8855 - val_loss: 0.6946 - val_mse: 0.6946 - val_mae: 0.7071\n",
            "Epoch 10/30\n",
            "219/219 [==============================] - 7s 32ms/step - loss: 0.9310 - mse: 0.9310 - mae: 0.7610 - val_loss: 0.3888 - val_mse: 0.3888 - val_mae: 0.4939\n",
            "Epoch 11/30\n",
            "219/219 [==============================] - 7s 31ms/step - loss: 1.1761 - mse: 1.1761 - mae: 0.7542 - val_loss: 0.1572 - val_mse: 0.1572 - val_mae: 0.3182\n",
            "Epoch 12/30\n",
            "219/219 [==============================] - 7s 31ms/step - loss: 1.1775 - mse: 1.1775 - mae: 0.8766 - val_loss: 0.2274 - val_mse: 0.2274 - val_mae: 0.3755\n",
            "Epoch 13/30\n",
            "219/219 [==============================] - 8s 37ms/step - loss: 1.0758 - mse: 1.0758 - mae: 0.7947 - val_loss: 0.1661 - val_mse: 0.1661 - val_mae: 0.3260\n",
            "Epoch 14/30\n",
            "219/219 [==============================] - 7s 32ms/step - loss: 0.6796 - mse: 0.6796 - mae: 0.6481 - val_loss: 0.1815 - val_mse: 0.1815 - val_mae: 0.3433\n",
            "Epoch 15/30\n",
            "219/219 [==============================] - 7s 31ms/step - loss: 0.7676 - mse: 0.7676 - mae: 0.6359 - val_loss: 1.1005 - val_mse: 1.1005 - val_mae: 0.9334\n",
            "Epoch 16/30\n",
            "219/219 [==============================] - 7s 32ms/step - loss: 0.7352 - mse: 0.7352 - mae: 0.6470 - val_loss: 3.2237 - val_mse: 3.2237 - val_mae: 1.6709\n",
            "Epoch 17/30\n",
            "219/219 [==============================] - 7s 31ms/step - loss: 0.8914 - mse: 0.8914 - mae: 0.7241 - val_loss: 0.2491 - val_mse: 0.2491 - val_mae: 0.4091\n",
            "Epoch 18/30\n",
            "219/219 [==============================] - 8s 37ms/step - loss: 0.9544 - mse: 0.9544 - mae: 0.7096 - val_loss: 0.4737 - val_mse: 0.4737 - val_mae: 0.5724\n",
            "Epoch 19/30\n",
            "219/219 [==============================] - 7s 31ms/step - loss: 0.3992 - mse: 0.3992 - mae: 0.4944 - val_loss: 0.4465 - val_mse: 0.4465 - val_mae: 0.5661\n",
            "Epoch 20/30\n",
            "219/219 [==============================] - 7s 31ms/step - loss: 0.6678 - mse: 0.6678 - mae: 0.6070 - val_loss: 1.2596 - val_mse: 1.2596 - val_mae: 1.0051\n",
            "Epoch 21/30\n",
            "219/219 [==============================] - 7s 32ms/step - loss: 0.5250 - mse: 0.5250 - mae: 0.5644 - val_loss: 1.3479 - val_mse: 1.3479 - val_mae: 1.0789\n",
            "Epoch 22/30\n",
            "219/219 [==============================] - 8s 37ms/step - loss: 1.0315 - mse: 1.0315 - mae: 0.7316 - val_loss: 0.1198 - val_mse: 0.1198 - val_mae: 0.2845\n",
            "Epoch 23/30\n",
            "219/219 [==============================] - 7s 33ms/step - loss: 0.3227 - mse: 0.3227 - mae: 0.4472 - val_loss: 0.1376 - val_mse: 0.1376 - val_mae: 0.3023\n",
            "Epoch 24/30\n",
            "219/219 [==============================] - 7s 33ms/step - loss: 0.5718 - mse: 0.5718 - mae: 0.5966 - val_loss: 1.1389 - val_mse: 1.1389 - val_mae: 0.9754\n",
            "Epoch 25/30\n",
            "219/219 [==============================] - 7s 32ms/step - loss: 0.6584 - mse: 0.6584 - mae: 0.6255 - val_loss: 1.0968 - val_mse: 1.0968 - val_mae: 0.9465\n",
            "Epoch 26/30\n",
            "219/219 [==============================] - 7s 31ms/step - loss: 0.5222 - mse: 0.5222 - mae: 0.5716 - val_loss: 0.1214 - val_mse: 0.1214 - val_mae: 0.2870\n",
            "Epoch 27/30\n",
            "219/219 [==============================] - 8s 37ms/step - loss: 0.7869 - mse: 0.7869 - mae: 0.6628 - val_loss: 0.1680 - val_mse: 0.1680 - val_mae: 0.3233\n",
            "Epoch 28/30\n",
            "219/219 [==============================] - 7s 32ms/step - loss: 0.3293 - mse: 0.3293 - mae: 0.4539 - val_loss: 0.3447 - val_mse: 0.3447 - val_mae: 0.4922\n",
            "Epoch 29/30\n",
            "219/219 [==============================] - 7s 31ms/step - loss: 0.4361 - mse: 0.4361 - mae: 0.5263 - val_loss: 0.5442 - val_mse: 0.5442 - val_mae: 0.6512\n",
            "Epoch 30/30\n",
            "219/219 [==============================] - 7s 32ms/step - loss: 0.6271 - mse: 0.6271 - mae: 0.6166 - val_loss: 0.1606 - val_mse: 0.1606 - val_mae: 0.3241\n"
          ]
        }
      ],
      "source": [
        "from tensorflow.keras.optimizers import Adam\n",
        "adam=Adam(learning_rate=0.01)\n",
        "model.compile(loss='mse', optimizer=adam, metrics=['mse','mae'])\n",
        "history=model.fit(X_train, y_train, epochs=30, batch_size=512, verbose=1, validation_split=0.2)\n"
      ]
    },
    {
      "cell_type": "code",
      "execution_count": null,
      "id": "f0500743",
      "metadata": {
        "id": "f0500743",
        "papermill": {
          "duration": 1.343328,
          "end_time": "2022-04-26T08:42:12.129107",
          "exception": false,
          "start_time": "2022-04-26T08:42:10.785779",
          "status": "completed"
        },
        "tags": []
      },
      "outputs": [],
      "source": []
    },
    {
      "cell_type": "markdown",
      "id": "c89afce5",
      "metadata": {
        "id": "c89afce5",
        "papermill": {
          "duration": 1.343531,
          "end_time": "2022-04-26T08:42:14.875076",
          "exception": false,
          "start_time": "2022-04-26T08:42:13.531545",
          "status": "completed"
        },
        "tags": []
      },
      "source": [
        "we plot train and validation loss throughout training"
      ]
    },
    {
      "cell_type": "code",
      "execution_count": null,
      "id": "ba4d92af",
      "metadata": {
        "execution": {
          "iopub.execute_input": "2022-04-26T08:42:17.711200Z",
          "iopub.status.busy": "2022-04-26T08:42:17.710002Z",
          "iopub.status.idle": "2022-04-26T08:42:17.942636Z",
          "shell.execute_reply": "2022-04-26T08:42:17.943122Z",
          "shell.execute_reply.started": "2022-04-22T22:36:40.570388Z"
        },
        "id": "ba4d92af",
        "outputId": "d939d844-844a-43e9-a6e9-a6e914bee1a3",
        "papermill": {
          "duration": 1.611225,
          "end_time": "2022-04-26T08:42:17.943332",
          "exception": false,
          "start_time": "2022-04-26T08:42:16.332107",
          "status": "completed"
        },
        "tags": []
      },
      "outputs": [
        {
          "data": {
            "image/png": "[encoded data removed]",
            "text/plain": [
              "<Figure size 842.4x595.44 with 1 Axes>"
            ]
          },
          "metadata": {},
          "output_type": "display_data"
        }
      ],
      "source": [
        "def plot_history(history, key):\n",
        "  plt.plot(history.history[key])\n",
        "  plt.plot(history.history['val_'+key])\n",
        "  plt.xlabel(\"Epochs\")\n",
        "  plt.ylabel(key)\n",
        "  plt.legend([key, 'val_'+key])\n",
        "  plt.show()\n",
        "# Plot the history\n",
        "plot_history(history, 'loss')"
      ]
    },
    {
      "cell_type": "markdown",
      "id": "656b9fd0",
      "metadata": {
        "id": "656b9fd0",
        "papermill": {
          "duration": 1.355009,
          "end_time": "2022-04-26T08:42:20.652797",
          "exception": false,
          "start_time": "2022-04-26T08:42:19.297788",
          "status": "completed"
        },
        "tags": []
      },
      "source": [
        "val loss is below training loss so our model is not overfitting"
      ]
    },
    {
      "cell_type": "code",
      "execution_count": null,
      "id": "59c3101a",
      "metadata": {
        "id": "59c3101a",
        "papermill": {
          "duration": 1.347619,
          "end_time": "2022-04-26T08:42:23.408848",
          "exception": false,
          "start_time": "2022-04-26T08:42:22.061229",
          "status": "completed"
        },
        "tags": []
      },
      "outputs": [],
      "source": []
    },
    {
      "cell_type": "code",
      "execution_count": null,
      "id": "b657df96",
      "metadata": {
        "execution": {
          "iopub.execute_input": "2022-04-26T08:42:26.085574Z",
          "iopub.status.busy": "2022-04-26T08:42:26.084896Z",
          "iopub.status.idle": "2022-04-26T08:42:28.661306Z",
          "shell.execute_reply": "2022-04-26T08:42:28.660168Z",
          "shell.execute_reply.started": "2022-04-22T22:37:07.421118Z"
        },
        "id": "b657df96",
        "papermill": {
          "duration": 3.920042,
          "end_time": "2022-04-26T08:42:28.661486",
          "exception": false,
          "start_time": "2022-04-26T08:42:24.741444",
          "status": "completed"
        },
        "tags": []
      },
      "outputs": [],
      "source": [
        "z= model.predict(X_test)\n"
      ]
    },
    {
      "cell_type": "code",
      "execution_count": null,
      "id": "39f53f4d",
      "metadata": {
        "execution": {
          "iopub.execute_input": "2022-04-26T08:42:31.339221Z",
          "iopub.status.busy": "2022-04-26T08:42:31.338013Z",
          "iopub.status.idle": "2022-04-26T08:42:31.343287Z",
          "shell.execute_reply": "2022-04-26T08:42:31.344028Z",
          "shell.execute_reply.started": "2022-04-22T22:37:22.935816Z"
        },
        "id": "39f53f4d",
        "outputId": "961bd63b-1bc0-44b8-f0b1-c6f0323d517f",
        "papermill": {
          "duration": 1.350803,
          "end_time": "2022-04-26T08:42:31.344208",
          "exception": false,
          "start_time": "2022-04-26T08:42:29.993405",
          "status": "completed"
        },
        "tags": []
      },
      "outputs": [
        {
          "data": {
            "text/plain": [
              "0.9981075972128796"
            ]
          },
          "execution_count": 36,
          "metadata": {},
          "output_type": "execute_result"
        }
      ],
      "source": [
        "r2_score(y_test, z)"
      ]
    },
    {
      "cell_type": "code",
      "execution_count": null,
      "id": "713475a0",
      "metadata": {
        "execution": {
          "iopub.execute_input": "2022-04-26T08:42:34.071588Z",
          "iopub.status.busy": "2022-04-26T08:42:34.070745Z",
          "iopub.status.idle": "2022-04-26T08:42:34.078532Z",
          "shell.execute_reply": "2022-04-26T08:42:34.079116Z",
          "shell.execute_reply.started": "2022-04-22T22:37:27.380277Z"
        },
        "id": "713475a0",
        "outputId": "0daf87cf-d6b0-43a5-cb32-8c4bb4f6319f",
        "papermill": {
          "duration": 1.39379,
          "end_time": "2022-04-26T08:42:34.079321",
          "exception": false,
          "start_time": "2022-04-26T08:42:32.685531",
          "status": "completed"
        },
        "tags": []
      },
      "outputs": [
        {
          "name": "stdout",
          "output_type": "stream",
          "text": [
            "mse :  0.16282308576595514\n",
            "rmse :  0.4035134269958747\n",
            "errors for neural net\n",
            "mae :  0.32696932078293645\n"
          ]
        }
      ],
      "source": [
        "mse = mean_squared_error(y_test, z)\n",
        "rmse = mse**.5\n",
        "print(\"mse : \",mse)\n",
        "print(\"rmse : \",rmse)\n",
        "print(\"errors for neural net\")\n",
        "mae = mean_absolute_error(y_test, z)\n",
        "print(\"mae : \",mae)\n"
      ]
    },
    {
      "cell_type": "code",
      "execution_count": null,
      "id": "3b0bc5ed",
      "metadata": {
        "execution": {
          "iopub.execute_input": "2022-04-26T08:42:36.811841Z",
          "iopub.status.busy": "2022-04-26T08:42:36.810984Z",
          "iopub.status.idle": "2022-04-26T08:42:36.814201Z",
          "shell.execute_reply": "2022-04-26T08:42:36.814735Z",
          "shell.execute_reply.started": "2022-04-22T22:39:08.659945Z"
        },
        "id": "3b0bc5ed",
        "outputId": "668db39f-854a-4bf3-e6dd-ea9eda76f119",
        "papermill": {
          "duration": 1.34535,
          "end_time": "2022-04-26T08:42:36.814907",
          "exception": false,
          "start_time": "2022-04-26T08:42:35.469557",
          "status": "completed"
        },
        "tags": []
      },
      "outputs": [
        {
          "data": {
            "text/plain": [
              "0.007297585288481399"
            ]
          },
          "execution_count": 38,
          "metadata": {},
          "output_type": "execute_result"
        }
      ],
      "source": [
        "from sklearn.metrics import mean_absolute_percentage_error\n",
        "mean_absolute_percentage_error(y_test, z)"
      ]
    },
    {
      "cell_type": "markdown",
      "id": "82b68f8a",
      "metadata": {
        "id": "82b68f8a",
        "papermill": {
          "duration": 1.337512,
          "end_time": "2022-04-26T08:42:39.507919",
          "exception": false,
          "start_time": "2022-04-26T08:42:38.170407",
          "status": "completed"
        },
        "tags": []
      },
      "source": [
        "By comparing the results of our neural network model with the random forest model we can see that without any tuning or creating pretty complex architectures for training our model we have achieved high accuracy"
      ]
    },
    {
      "cell_type": "code",
      "execution_count": null,
      "id": "e22a4387",
      "metadata": {
        "id": "e22a4387",
        "papermill": {
          "duration": 1.349931,
          "end_time": "2022-04-26T08:42:42.196716",
          "exception": false,
          "start_time": "2022-04-26T08:42:40.846785",
          "status": "completed"
        },
        "tags": []
      },
      "outputs": [],
      "source": []
    }
  ],
  "metadata": {
    "colab": {
      "provenance": []
    },
    "kernelspec": {
      "display_name": "mlops",
      "language": "python",
      "name": "python3"
    },
    "language_info": {
      "codemirror_mode": {
        "name": "ipython",
        "version": 3
      },
      "file_extension": ".py",
      "mimetype": "text/x-python",
      "name": "python",
      "nbconvert_exporter": "python",
      "pygments_lexer": "ipython3",
      "version": "3.9.18 (main, Sep 11 2023, 14:09:26) [MSC v.1916 64 bit (AMD64)]"
    },
    "papermill": {
      "default_parameters": {},
      "duration": 426.486498,
      "end_time": "2022-04-26T08:42:46.678722",
      "environment_variables": {},
      "exception": null,
      "input_path": "__notebook__.ipynb",
      "output_path": "__notebook__.ipynb",
      "parameters": {},
      "start_time": "2022-04-26T08:35:40.192224",
      "version": "2.3.3"
    },
    "vscode": {
      "interpreter": {
        "hash": "1b8cc2443dac255f5863d925b738cfe3a24d8333c04bb14f72dfd9c643c8ae38"
      }
    }
  },
  "nbformat": 4,
  "nbformat_minor": 5
}
