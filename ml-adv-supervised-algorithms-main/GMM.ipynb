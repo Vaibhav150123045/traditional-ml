{
  "nbformat": 4,
  "nbformat_minor": 0,
  "metadata": {
    "colab": {
      "provenance": []
    },
    "kernelspec": {
      "name": "python3",
      "display_name": "Python 3"
    },
    "language_info": {
      "name": "python"
    }
  },
  "cells": [
    {
      "cell_type": "markdown",
      "source": [
        "## **Introduction to Gaussian Mixture Models(GMM)**"
      ],
      "metadata": {
        "id": "FGbtPpJTD0Z2"
      }
    },
    {
      "cell_type": "markdown",
      "source": [
        "Let's start with very basic concepts of Gaussian.\n",
        "\n",
        "Imagine that we have a feature $f_{1}$, and we're having dense datapoints in the center, and sparse data at the start and at the end. What type of distribution feature $f_{1}$ might have?\n",
        "\n",
        "Normal Distribution!! This is known as 1-Dimensional Gaussian Distribution\n",
        "\n",
        "<img src='https://drive.google.com/uc?id=1JEmGc-AGBxcHnpyVPUf7veaQTg00NH4-'>"
      ],
      "metadata": {
        "id": "axOqrmDeC2d7"
      }
    },
    {
      "cell_type": "markdown",
      "source": [
        "> **Now, what if the pattern of the spread repeats two times?**\n",
        "\n",
        "- In that case, there will be two **Gaussian Distributions** with mean $\\mu_{1}$ and $\\mu_{1}$.\n",
        "\n",
        "- If there is only a single **mount(peak)** in the distribution of a data, then the data is known as **uni-modal data**\n",
        "\n",
        "- If there are more than one **mount(peak)** in the distribution of a data, then\n",
        "the data is known as **multi-modal data**\n",
        "\n",
        "<img src='https://drive.google.com/uc?id=1n3A12t_drmaV0WLfd6pt5eywHvT8l0Zp'>"
      ],
      "metadata": {
        "id": "uniH6NG7C2bO"
      }
    },
    {
      "cell_type": "markdown",
      "source": [
        "If we combine both the gaussians, the point at which both distributions intersects will have more height than the start and the end of the distribution.\n",
        "\n",
        "This is known as **Mixture of Gaussians**\n",
        "\n",
        "> Q. What does the intersection represents?\n",
        "- It says that the point at intersection can either belong to distribution $G_{1}$ or distribution $G_{2}$\n",
        "\n",
        "<img src='https://drive.google.com/uc?id=1xJFXohtMvNVCXpdLpzqoyC4_9vTADtDL'>"
      ],
      "metadata": {
        "id": "hqsyp8IJC2Yf"
      }
    },
    {
      "cell_type": "markdown",
      "source": [
        "Now, for a feature $f_{1}$, suppose there are two gaussian distribution $G_{1}$ and $G_{2}$, with mean values as $\\mu_{1}$ and $\\mu_{2}$, and standard deviations as $\\sigma_{1}$ and $\\sigma_{2}$ respectively.\n",
        "\n",
        "If we consider a point $x_{i}$, it could belong to either $G_{1}$ and $G_{2}$, but the probability of that point will be higher for either one of them, based on its coordinate\n",
        "\n",
        "<img src='https://drive.google.com/uc?id=1ua_TltOf1JIHmW9yxzZdp_8Ggwr1Qq4D'>"
      ],
      "metadata": {
        "id": "Zu6AqACDC2Vn"
      }
    },
    {
      "cell_type": "markdown",
      "source": [
        "So, in **Gaussian Mixture Models**, we are trying to represent any data as a combination of Gaussian distributions and it is called a mixture model, because each point could belong to any of the gaussian with some probabilities, such that sum of probabilities sum up to 1"
      ],
      "metadata": {
        "id": "wP5m51YXC2R-"
      }
    },
    {
      "cell_type": "markdown",
      "source": [
        "#### **Intuition behind Gaussian Mixture Model**\n",
        "\n",
        "- The basic intuition behind Gaussian Mixture Model is that **we can model any data, that we have, as a mixture of Gaussians**.\n",
        "\n",
        "Let's take 1-Dimensional data again, i.e., data points having only 1 feature\n",
        "\n",
        "- This time let's say that data points are distributed among **'k' Gaussians**, where each Gaussian has a different Mean ($\\mu_k$) and Standard Deviation ($\\sigma_k$), as shown below:\n",
        "\n",
        "<img src='https://drive.google.com/uc?id=1_edDX751PQTqQgAEI7Krk44Su7dM7E_B'>\n",
        "\n",
        "- Every data point $x_i$ will have a probabilty of belonging to each of the Gaussians, i.e.,\n",
        "  \n",
        "  $P(y_i = 1), P(y_i = 2), P(y_i = 3), ...$\n",
        "\n",
        "  where, 1, 2, 3 ... are the indices of Clusters (Gaussians)\n",
        "\n",
        "- The sum of these probabilities will be 1, i.e,\n",
        "\n",
        "  $P(y_i = 1) + P(y_i = 2) + P(y_i = 3) + ... = 1$\n",
        "\n",
        "- So, we are representing data as a combination of Gaussian distributions. Each data point belongs to each of the Gaussians with a non-zero probability, no matter how small that probability is.\n",
        "\n",
        "- This is a 1-Dimensional Gaussian Mixture Model (GMM).\n",
        "\n",
        "\n"
      ],
      "metadata": {
        "id": "l0mlvHkJO3bY"
      }
    },
    {
      "cell_type": "markdown",
      "source": [
        "#### **Let's take the example of an E-Commerce Website**\n",
        "\n",
        "- As we saw earlier, E-Commerce Websites do **Customer Segmentation** to increase their sales/revenue.\n",
        "\n",
        "- Customers are clustered into different groups based on similar traits.\n",
        "\n",
        "- It is possible that not all customers will solely belong to a single cluster.\n",
        "\n",
        "<img src='https://drive.google.com/uc?id=1O8rdhmD19XWYmi0s7EAJb3JdA0ssptUg'>\n",
        "\n",
        "- For example, a customer can be both wealthy and still be price-conscious. Let's say, he/she can fall in the \"wealthy\" cluster with a probability of 40%, but in the \"price-concsious\" cluster with a probability of 60%.\n",
        "\n",
        "- So, we can create a Gaussian Mixture Model with such customers belonging to different clusters with different probabilities.\n",
        "\n",
        "#### **An important thing to note is that each Gaussian Distribution in the mixture can have different spreads**\n",
        "\n",
        "- That is, each Gaussian Distribution in the GMM can have different Mean and Standard Deviation.\n",
        "\n",
        "- It is not necessary that all distributions in the Mixture Model will have to look same.\n",
        "\n",
        "<img src='https://drive.google.com/uc?id=1H5vTItuesp33aa8Fsko_XpCo3yEJGewS'>\n",
        "\n",
        "***\n",
        "\n",
        "\n",
        "\n",
        "\n"
      ],
      "metadata": {
        "id": "yZsgN3RfOXfM"
      }
    },
    {
      "cell_type": "markdown",
      "source": [
        "## **Extending GMMs to multi-dimension**"
      ],
      "metadata": {
        "id": "DOSk2wZIOXcc"
      }
    },
    {
      "cell_type": "markdown",
      "source": [
        "- So far we have seen GMMs with only 1 feature - **1-D Gaussian Mixture Models**\n",
        "\n",
        "\n",
        "Q. **What if our data has more than 1 features?**\n",
        "\n",
        "- 2 features having continuous values can be thought of being on a plane with each data point as a point on the plane.\n",
        "\n",
        "- The probability of a point belonging to each combination of those 2 continuous variables will come on the 3rd axis (z-axis).\n",
        "\n",
        "<img src='https://drive.google.com/uc?id=1EauVjKF65LESE5U6nvbCEtGE9awdPyi3'>\n",
        "\n",
        "- The Gaussian Distribution would look like a hill."
      ],
      "metadata": {
        "id": "u0-yV98sOXZ0"
      }
    },
    {
      "cell_type": "markdown",
      "source": [
        "\n",
        "- Use this visualizer tool for making them familiar with normal distribution with 2 features\n",
        "- http://socr.ucla.edu/htmls/HTML5/BivariateNormal/"
      ],
      "metadata": {
        "id": "gEtgkIRg8lTL"
      }
    },
    {
      "cell_type": "markdown",
      "source": [
        "#### **Example Gaussian Distribution with 2 Features**\n",
        "\n",
        "- Let's take the below Gaussian Distribution with 2 Features as an example:\n",
        "\n",
        "<img src='https://drive.google.com/uc?id=1qtVESt1ZZSz58aywu-ExWJRN38J__acC'>\n",
        "\n",
        "- As we can see, the data points are more dense in the centre and as we move away from the centre, the density of points decreases. This is to simulate a Gaussian (Normal) Distribution.\n",
        "\n",
        "- If we consider only 1 feature at a time, we can see its Gaussian Distribution:\n",
        "  - Red curve represents the Gaussian Distribution for Feature 1 alone.\n",
        "  - Blue curve represents the Gaussian Distribution for Feature 2 alone.\n",
        "\n",
        "- The Gaussian Distribution of the 2 features combined would look something like shown below:\n",
        "\n",
        "  <img src='https://drive.google.com/uc?id=1DuCAoKI5tVjXgqLz3M9EN8Tvp5CoWEtX'>\n",
        "\n",
        "- This is a 2-D Gaussian where the peak is in 3-D.\n",
        "\n",
        "**For a D-dimensional or Multivariate data, the Gaussian Distribution will be in D+1 dimensions**."
      ],
      "metadata": {
        "id": "OWrGhRcp8gRW"
      }
    },
    {
      "cell_type": "markdown",
      "source": [
        "#### **1D GMM vs multi-dimensional GMM**\n",
        "\n",
        "- A **1-D (having only 1 feature) Gaussian Distribution** can be represented as:\n",
        "\n",
        "  $N(\\mu, \\sigma)$\n",
        "\n",
        "  where, $\\mu$ is the mean and $\\sigma$ is the Standard Deviation of the Gaussian Distribution\n",
        "\n",
        "- A **2-D (having 2 features) Gaussian Distribution** can be represented as:\n",
        "\n",
        "  $N_2(\\mu^{(2)}, \\sum^{(2 \\times 2)})$\n",
        "\n",
        "  Now here,\n",
        "  \n",
        "  $\\mu^{(2)}$ is not just a mean, it is a **vector of means $[\\mu_1, \\mu_2]$**, where $\\mu_1$ and $\\mu_2$ are the means of features $f_1$ and $f_2$\n",
        "\n",
        "  And, $\\sum^{(2 \\times 2)}$ is the **$2 \\times 2$ Covariance Matrix** of the whole data.\n",
        "\n",
        "<img src='https://drive.google.com/uc?id=1lB7ZfcOw-bMsUF1GNCigjh0cJYZSa7XN'>\n",
        "\n",
        "- Mean ($\\mu$) and Standard Deviation ($\\sigma$) of 1-D Gaussian Distribution are scaler values, whereas for 2-D Gaussian Distribution, we have a vector of Means (**$\\mu^{(2)}$**) and a $2 \\times 2$ Covariance Matrix ($\\sum^{(2 \\times 2)}$).\n",
        "\n",
        "#### **Now, What about a d-Dimensional Gaussian Distribution?**\n",
        "\n",
        "- A **d-Dimensional Gaussian Distribution** can be represented as:\n",
        "\n",
        "  $N_d(\\mu^{(d)}, \\sum^{(d \\times d)})$\n",
        "\n",
        "  Here, $\\mu^{(d)}$ is a d-Dimensional vector of means of all d-features, i.e., $[\\mu_1, \\mu_2, \\mu_3, ... \\mu_d]$\n",
        "  And $\\sum^{(d \\times d)}$ here is a $d \\times d$ Covariance Matrix of the data.\n",
        "\n",
        "- So, a high dimensional Gaussian Distribution can be mathematically represented in terms of Vector of Means and Covariance Matrix of the data.\n",
        "\n",
        "\n",
        "**Q. How determine these values of $\\mu$ and $Σ$ in higher dimensions?\n",
        "\n",
        "- For 1D data(with only one feature), it fairly simple. We calculate mean and standard deviation of the distribution.\n",
        "\n",
        "- In 2D, for feature $f1$ and $f2$, we calculate per feature mean ($\\mu_1$, $\\mu_2$), and we compute covariance matrix for the whole dataset which will be of dimension $(2 * 2)$\n",
        "\n",
        "- Same idea can be extended to the d-dimensions as well.\n",
        "\n",
        "\n",
        "\n",
        "\n",
        "\n",
        "\n",
        "\n",
        "\n",
        "\n"
      ],
      "metadata": {
        "id": "yr8AL_qrOXWn"
      }
    },
    {
      "cell_type": "markdown",
      "source": [
        "#####**Q. How do we form clusters with some means and covariance matrix?**\n",
        "\n",
        "- Consider that we have a 2-D feature set, which will return a $(2*2)$ covariance matrix. The covariance matrix will look something like:\n",
        "\n",
        "\\begin{bmatrix}\n",
        "σ^2 & 0\\\\\n",
        "0 & σ^2\n",
        "\\end{bmatrix}\n",
        "\n",
        "- The diagonal term represents the variance of Gaussian Distribution in each direction of the axis. If both the diagonal elements are equal, the clusters shape would result into a circle. This also means that the covariance between  both features will be close to zero.(non-diagonal elements)\n",
        "\n",
        "- So, the covariance matrix is capturing the per feature standard deviation and how each of the feature are correlated.\n",
        "\n",
        "<img src=\"https://d2beiqkhq929f0.cloudfront.net/public_assets/assets/000/015/096/original/Screenshot_2022-09-23_at_8.30.20_AM.png?1663902372\">\n",
        "\n",
        "- If the dimension of the variance is changed, the circular shape will be converted into an ellipse.\n",
        "\n",
        "<img src=\"https://d2beiqkhq929f0.cloudfront.net/public_assets/assets/000/015/097/original/Screenshot_2022-09-23_at_8.33.13_AM.png?1663902416\">\n",
        "\n",
        "- The above shown clusters were aligned in a regular X-Y coordinate system. To change the orientation from regular axis alignment, we add the correlation terms in the off-diagonal positions.\n",
        "\n",
        "<img src=\"https://d2beiqkhq929f0.cloudfront.net/public_assets/assets/000/015/098/original/IMG_4E843DB8B180-1.jpeg?1663902819\">\n",
        "\n",
        "- Now finally, how is the positions of clusters varied across the multiple dimensions?\n",
        "\n",
        "- For that we make use of mean vector ($μ$)\n",
        "\n",
        "<img src=\"https://d2beiqkhq929f0.cloudfront.net/public_assets/assets/000/015/099/original/IMG_D03AF45DEB91-1.jpeg?1663903013\">\n",
        "\n",
        "\n"
      ],
      "metadata": {
        "id": "sY6i5AWxQia6"
      }
    },
    {
      "cell_type": "markdown",
      "source": [
        "#### **Multi-Modal Gaussian Distributions in Multiple Dimension (Mixture Models)**\n",
        "\n",
        "- So far, we studied only Multi-Dimensional Data with a single Gaussian Distribution, i.e., there was only 1 peak (hill) in the data.\n",
        "\n",
        "- Now, Let's extend this concept to a **Mixture of Gaussian Distributions in Multi-Dimensional Data**.\n",
        "\n",
        "- Here's an example of a **Three 2-Dimensional Gaussian Distributions**:\n",
        "\n",
        "<img src='https://drive.google.com/uc?id=1aisHCDizRBId_4dcp5XvVXuYJBpXE4oc'>\n",
        "\n",
        "- If we look at it, the data points are concentrated at 3 different locations in the 2-D plane. Therefore, the data will have 3 peaks with different distributions → 3 Gaussian Distributions.\n",
        "\n",
        "**What if we want to model a d-Dimensional 3-Gaussian Mixture Model?**\n",
        "\n",
        "- In order to represent a d-Dimensional data, i.e., data having d-features, as a 3-Gaussian Mixture Model, we'll need to find all 3 Gaussian Distributions.\n",
        "\n",
        "- And to find all 3 Gaussian Distributions, for each Gaussian Distribution, we'll need to find:\n",
        "\n",
        "  - The d-Dimensional vector of means $\\mu^{(d)}$\n",
        "\n",
        "  - The $d \\times d$ Covariance Matrix $\\sum^{(d \\times d)}$\n",
        "\n",
        "- Each of the 3 Gaussians will have these as its parameters.\n",
        "\n",
        "<img src='https://drive.google.com/uc?id=1PAYppAqIm_VCAdVvmieVWFoyuFaDFPuE'>\n",
        "\n",
        "\n",
        "\n",
        "\n",
        "\n",
        "\n"
      ],
      "metadata": {
        "id": "hiTwKCWMOXTV"
      }
    },
    {
      "cell_type": "markdown",
      "source": [
        "**For three 1-D Gaussian Mixture Model**, we'll need:\n",
        "- Mean ($\\mu$) of all 3 Gaussian Distributions.\n",
        "\n",
        "- Standard Deviation ($\\sigma$) of all 3 Gaussian Distributions.\n",
        "\n",
        "<img src='https://drive.google.com/uc?id=1FoeOShoSMupvGRGYbXNDdIIY_rZqX3Cj'>\n",
        "\n",
        "- Given this information, we can find the probability of any data point $x_i$ belonging to all the 3 Gaussians\n",
        "\n",
        "- That is, $P(x_i | G_1), P(x_i | G_2), P(x_i | G_3)$\n",
        "\n",
        "- We can just plug the data point $x_i$ in **Probability Density Function (PDF)** and compute the probability of the data point belonging to each Gaussian.\n",
        "\n",
        "- The Probability Density Function gives the distribution of probabilities of data points belonging to each of the Gaussians.\n",
        "\n",
        "<img src='https://drive.google.com/uc?id=1Ybo14NBY37gVcjjPRSNrK8psHknat8PS'>\n",
        "\n",
        "Now similarly, **For a d-Dimensional Gaussian Mixture Model**, we'll need:\n",
        "\n",
        "- The d-dimensional vector of means $\\mu^{(d)}$ and the $d \\times d$ Covariance Matrix $\\sum^{(d \\times d)}$, i.e., the Normal Distribution $N_d$.\n",
        "\n",
        "- If we have this Normal Distribution $N_d$, we can compute the probability of a data point belonging to a Gaussian (Cluster) using a slightly more complex density function:\n",
        "\n",
        "<img src='https://drive.google.com/uc?id=1KptkC_3UwxZDA3OLS0bEgMgbO81IiyEf'>\n",
        "\n",
        "- This is the **Probability Density of the d-Dimensional vector**.\n",
        "\n",
        "(The mathematical derivation of this formula is beyond the scope of this lecture)\n",
        "\n",
        "\n",
        "- If you see, calculating this expression is very compuatationally expensive because of the terms $Σ^{-1}$ and $|Σ|$.\n",
        "\n",
        "- Also, this will have a lots of local minima, which is why Gradient Descent Fails here.\n",
        "\n",
        "- So, to solve this, the **Expectation-Maximization** comes into play.\n",
        "\n",
        "***\n",
        "\n",
        "\n",
        "\n",
        "\n",
        "\n",
        "\n",
        "\n",
        "\n",
        "\n",
        "\n"
      ],
      "metadata": {
        "id": "FhcPA6MiOXQl"
      }
    },
    {
      "cell_type": "markdown",
      "source": [
        "##**Expectation-Maximization Algorithm**\n",
        "\n",
        "- Let θ denote the parameters:\n",
        "  - Probability of point $P$ belonging to $j^{th}$ cluster\n",
        "  - Mean Vector $\\large(μ_{d*d}^j)$\n",
        "  - Covariance Matrix $\\large(Σ_{d*d}^j)$\n",
        "\n",
        "- So, $\\largeθ$ = $[P_j, (μ_{d*d}^j), (Σ_{d*d}^j); ∀_j = 1 → k]$\n",
        "\n",
        "- So, there are two steps here:\n",
        "  1. Expectation\n",
        "  2. Maximization.\n",
        "\n",
        "- The high-level idea here is that:\n",
        "  - In Expectation Step, we'll fix the mean vector and covariance matrix, and update probabilities.\n",
        "\n",
        "  - In Maximization Step, we fix the probabilities and update the mean vector and covariance matrix.\n",
        "\n",
        "To make this more clear, we'll compare EM with a concept called **Coordinate Ascent** approach."
      ],
      "metadata": {
        "id": "H-jYm9k0wgsk"
      }
    },
    {
      "cell_type": "markdown",
      "source": [
        "####**Coordinate Ascent**\n",
        "\n",
        "- EM algorithm is a special type of   **coordinate ascent** based approach.\n",
        "\n",
        "This is the core idea of **Coordinate Ascent** approach:\n",
        "\n",
        "- Suppose there are two parameters $θ_1$ and $θ_2$ that we are trying to optimize and there is some optimal point.\n",
        "\n",
        "- To reach that point, we maximize $θ_1$ and $θ_2$ for some function $f(θ_1,  θ_2)$\n",
        "\n",
        "<img src=\"https://d2beiqkhq929f0.cloudfront.net/public_assets/assets/000/015/103/original/IMG_BA8F1F5A941B-1.jpeg?1663910817\">\n"
      ],
      "metadata": {
        "id": "zxE1hmoD-Fmx"
      }
    },
    {
      "cell_type": "markdown",
      "source": [
        "Suppose you're starting optimizing at some random values of $θ_1$ and $θ_2$.\n",
        "\n",
        "- What coordinate ascent will do is it will fix one of the parameters (say $θ_1$) and will try to move to the optimal point by updating another parameter ($θ_2$).\n",
        "\n",
        "- In the next step it will fix $θ_2$ and will update $θ_1$ for moving closer to the optimal point.\n",
        "\n",
        "<img src=\"https://d2beiqkhq929f0.cloudfront.net/public_assets/assets/000/015/104/original/IMG_E35D36F5D119-1.jpeg?1663913541\">\n",
        "\n",
        "- In EM algorithm also, for $K$ Gaussians what we're doing is we're fixing all the $K$ mean vectors and covariance matrix(of shape $$) in first step, and updating all the $K$ probabilities.\n",
        "\n",
        "- And, in the second step, we're fixing probabilities and updating mean and standard deviations.\n",
        "\n",
        "Now, let's just see how EM algorithm updates these parameters"
      ],
      "metadata": {
        "id": "-LVvcLr30LUe"
      }
    },
    {
      "cell_type": "markdown",
      "source": [
        "## **GMM Algorithm & Implementation**"
      ],
      "metadata": {
        "id": "In3pktqxhyu4"
      }
    },
    {
      "cell_type": "markdown",
      "source": [
        "There are two steps involved in GMM Algorithm:\n",
        "1. Expectation\n",
        "2. Maximization\n",
        "\n",
        "\n",
        "Lets see what both these steps do.\n",
        "\n",
        "Given a datapoint $x_{i}$ where $i = 1$ to $n$, and $x_{i} \\in D$, we want to find parameters $θ$ that best generated the data.\n",
        "\n",
        "##### **Step-1. Expectation:**\n",
        "\n",
        "  - This is basically an assignment step.\n",
        "\n",
        "  - In this step, for each point $x_{i}$,  we compute the probability of point $x_{i}$ belonging to a $j^{th}$ cluster\n",
        "  \n",
        "  - So, initially we start by randomly assigning a probability such that it belings to $j^{th}$ gaussian ($j^{th}$ cluster).\n",
        "  \n",
        "  - We then compute the probabilities of a point belonging to k different clusters using Probability Density Function\n",
        "\n",
        "\n",
        "<img src='https://drive.google.com/uc?id=15ajXLa4lXrFf2ppt3J1zEXn8E1xP0AHd'>\n",
        "\n",
        "- There might be the case when probabilities of a point belonging to $k$ clusters wont sum up to 1.\n",
        "\n",
        "> **Q. How we will solve that?**\n",
        "- We normalize the probabilties. If there are two clusters, then;\n",
        "  $P_{1} = \\frac{P_{1}}{P_{1} + P_{2}}$, and $P_{2} = \\frac{P_{2}}{P_{1} + P_{2}}$\n",
        "\n",
        "- So, at the  end of this step, for each point, we get a vector of normalized probabilities of that point belonging to each cluster, and they all sum up to 1\n",
        "\n",
        "<img src=\"https://d2beiqkhq929f0.cloudfront.net/public_assets/assets/000/015/101/original/IMG_403D38359C21-1.jpeg?1663908417\">\n",
        "\n",
        "- So, if you notice, on a very high level, GMM works in a similar to K-Means.\n",
        "\n",
        "  - The first step of the GMM (expectation) assigns a point to the cluster based on the probability.\n",
        "\n",
        "  - This is what we do in the K-Means too. We initialize random cluster centroids at the start.\n",
        "\n",
        "- Here in GMMs, we can relate these cluster centroids with the means of the mean vector(μ)\n",
        "\n",
        "<img src='https://d2beiqkhq929f0.cloudfront.net/public_assets/assets/000/015/102/original/IMG_0F016F1D9DF3-1.jpeg?1663908626'>"
      ],
      "metadata": {
        "id": "OXhbsQvWhyoo"
      }
    },
    {
      "cell_type": "markdown",
      "source": [
        "##### **Step-2. Maximization:**\n",
        "\n",
        "- In GMMs, we compute normalized probabilities of each and every point belonging to a cluster.\n",
        "\n",
        "- This is kind of like a soft assignment, whereas in KMeans we did the Hard Assignment by randomly picking centroids.\n",
        "\n",
        "- In the Maximization step, we re-estimate gaussian parameters, for all $K$ gaussians.\n",
        "\n",
        "> **Q. How do we do that?**\n",
        "- We update mean vectore ($\\mu^j$) and covariance vectors ($\\sum^j$) using weighted scheme\n",
        "\n",
        "> Q. **What is weighted scheme?**\n",
        "- Suppose we've to update mean vector($\\mu^j$)\n",
        "- Instead of taking simple average as we do in K-Means, we compute weighted average of each $x_{i}$, where the weightage is based on the probabilities that the point $x_{i} \\in$ cluster $j$\n",
        "\n",
        "- We also compute covariance vector in the same fashion\n",
        "\n",
        "\n",
        "- In the seond step of K-means, we update the points based on the updated centroids of the cluster\n",
        "\n",
        "- Whereas in GMM, we update a point based on the mean (which is same as centroid in K-Means) and covariance. The only difference is that we use weighting scheme in GMM Models\n",
        "\n",
        "<img src='https://drive.google.com/uc?id=1-ny2xnPQ5SeT-9gnsYard8ohNi-hJTEQ'>\n",
        "\n",
        "<img src=\"https://d2beiqkhq929f0.cloudfront.net/public_assets/assets/000/015/106/original/IMG_BAC34D208026-1.jpeg?1663915280\">"
      ],
      "metadata": {
        "id": "9I8gspuyHANc"
      }
    },
    {
      "cell_type": "markdown",
      "source": [
        "#### **Putting it all Together:**\n",
        "\n",
        "- Expectation step computes the probabilities of a point belonging to certain cluster $j$. These probabilities would be normalized.\n",
        "\n",
        "- What it does is it assigns each and every point to a cluster with maximum probability but this is a soft assignment because the point still has a probability(low) of belonging to another cluster..\n",
        "\n",
        "- In K-Means, we make clusters based on the distance we just assign the point to the closest centroid which is hard assignment.\n",
        "\n",
        "- Now, in the second step, recall what we did in KMeans. We update the centroid(mean of cluster) and reassign the points to the closest cluster. This is again hard assignment.\n",
        "\n",
        "- But, In maximization step, we update our parameters (mean vector and covariance matrix) based on the weighted average scheme.\n",
        "\n",
        "- We do this because of the reason that each and every point do not belong to the cluster $j$. It partially belongs to cluster because of the weighted probability.\n",
        "\n",
        "- This is somewhat like Fuzzy Clustering.\n",
        "\n"
      ],
      "metadata": {
        "id": "LB-FSvgrE1Tk"
      }
    },
    {
      "cell_type": "markdown",
      "source": [
        "##### **GMM Implementation**"
      ],
      "metadata": {
        "id": "cXo0lBu5X113"
      }
    },
    {
      "cell_type": "markdown",
      "source": [
        "Let us now implement GMM with help of sklearn's GaussianMixture() class.\n",
        "\n",
        "We'll also compare GMM with K-Means, and you'll get to see how GMM performs relatively similar to the K-Means\n",
        "\n",
        "We'll use the previous dataset that we used in our customer segementation usecase for DBSCAN"
      ],
      "metadata": {
        "id": "d8V1PhwEX4HB"
      }
    },
    {
      "cell_type": "code",
      "source": [
        "from sklearn.mixture import GaussianMixture\n",
        "gmm = GaussianMixture(n_components=2).fit(std_df)\n",
        "labels = gmm.predict(std_df)\n",
        "plt.scatter(std_df[:, 0], std_df[:, 1], c=labels, s=40, cmap='viridis');"
      ],
      "metadata": {
        "colab": {
          "base_uri": "https://localhost:8080/",
          "height": 700
        },
        "id": "7hd1TyS8WTrK",
        "outputId": "30cef8f5-b9c0-42d2-fc7a-d64caf8a9f22"
      },
      "execution_count": null,
      "outputs": [
        {
          "output_type": "display_data",
          "data": {
            "text/plain": [
              "<Figure size 1152x864 with 1 Axes>"
            ],
            "image/png": "[encoded data removed]"
          },
          "metadata": {
            "needs_background": "light"
          }
        }
      ]
    },
    {
      "cell_type": "markdown",
      "source": [
        "##### **Comparing with K-Means**"
      ],
      "metadata": {
        "id": "mW9VglplYQjL"
      }
    },
    {
      "cell_type": "code",
      "source": [
        "from sklearn.cluster import KMeans\n",
        "\n",
        "k = 2 ## arbitrary value\n",
        "kmeans = KMeans(n_clusters=k)\n",
        "y_pred = kmeans.fit_predict(std_df)"
      ],
      "metadata": {
        "id": "qFvkihdRXrDT"
      },
      "execution_count": null,
      "outputs": []
    },
    {
      "cell_type": "code",
      "source": [
        "clusters = df.copy()\n",
        "clusters['label'] = kmeans.labels_"
      ],
      "metadata": {
        "id": "OJ4EyrFiXvHt"
      },
      "execution_count": null,
      "outputs": []
    },
    {
      "cell_type": "code",
      "source": [
        "plt.scatter(clusters['Grocery'], clusters['Milk'], c=clusters['label'])"
      ],
      "metadata": {
        "colab": {
          "base_uri": "https://localhost:8080/",
          "height": 717
        },
        "id": "ksCSpnVWXy0Y",
        "outputId": "b18f9bf4-1097-4a0d-da27-f3b9fc4baae4"
      },
      "execution_count": null,
      "outputs": [
        {
          "output_type": "execute_result",
          "data": {
            "text/plain": [
              "<matplotlib.collections.PathCollection at 0x7fc2d28799d0>"
            ]
          },
          "metadata": {},
          "execution_count": 46
        },
        {
          "output_type": "display_data",
          "data": {
            "text/plain": [
              "<Figure size 1152x864 with 1 Axes>"
            ],
            "image/png": "[encoded data removed]"
          },
          "metadata": {
            "needs_background": "light"
          }
        }
      ]
    },
    {
      "cell_type": "markdown",
      "source": [
        "#### **Takeaways from GMMs:**\n",
        "\n",
        "- One thing to note is that, while GMM may sound tempting, it performs quite similar to K-Means, and people end up using K-Means instead.\n",
        "\n",
        "- It is less used because Hard GMM is same as K-Means.\n",
        "\n",
        "- They also make a strong assumption that the data is generated with Mixture of Gaussian Distributions, which may not be True always."
      ],
      "metadata": {
        "id": "H3HdOzdkC2N_"
      }
    }
  ]
}